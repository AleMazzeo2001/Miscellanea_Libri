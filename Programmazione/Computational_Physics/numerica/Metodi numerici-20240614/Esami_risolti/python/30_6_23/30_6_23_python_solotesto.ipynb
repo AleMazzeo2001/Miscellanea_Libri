{
 "cells": [
  {
   "cell_type": "markdown",
   "metadata": {
    "id": "pLrL-zV62eo0"
   },
   "source": [
    "# **Esame del 30 Giugno 2023**\n",
    "\n",
    "- Non si possono consultare libri, note, ed ogni altro materiale o persone durante\n",
    "l’esame ad eccezione delle funzioni Python fornite.\n",
    "\n",
    "- Risolvere i seguenti esercizi con l’ausilio di Python.\n",
    "\n",
    "- La durata del compito è di 90 minuti.\n",
    "\n",
    "- Questo esame ha 3 domande, per un totale di 30/30 punti.\n",
    "\n",
    "- Svolgere gli esercizi marcati con [T] su fogli protocollo, indicando: nome, cognome, codice persona\n",
    "e data"
   ]
  },
  {
   "cell_type": "markdown",
   "metadata": {
    "id": "5gUDdF9P3VXS"
   },
   "source": [
    "# **Esercizio 1 (punti 10)**\n",
    "\n",
    "Si consideri la seguente funzione\n",
    "\n",
    "$$f(x) = x\\sin(x)$$\n",
    "\n",
    "per $x \\in [-1,1]$.\n",
    "\n",
    "**(a) (1 punto) [P]** Si rappresenti $f$ in Python e si identifichi il valore $\\alpha$ tale che $f(\\alpha)=0$.\n",
    "\n",
    "\n"
   ]
  },
  {
   "cell_type": "code",
   "execution_count": 3,
   "metadata": {
    "colab": {
     "base_uri": "https://localhost:8080/",
     "height": 430
    },
    "id": "p8OjwcSV2YZp",
    "outputId": "34bea318-dd3e-44b7-e605-9a7a53d13ff3"
   },
   "outputs": [],
   "source": [
    "import functions # prendiamo tutte le funzioni dalla libreria fornita\n",
    "import numpy as np\n",
    "import matplotlib.pyplot as plt\n",
    "\n"
   ]
  },
  {
   "cell_type": "markdown",
   "metadata": {
    "id": "MKYXfeKL4_72"
   },
   "source": [
    "**(b) (3 punti) [T]** Derivare il Metodo di Newton per la ricerca degli zeri di una funzione, riportando anche le sue proprietà di convergenza."
   ]
  },
  {
   "cell_type": "markdown",
   "metadata": {
    "id": "SndzqUWR8mXb"
   },
   "source": [
    "**(c) (2 punti) [P]** Applicare il metodo di Newton per il calcolo di $\\alpha$, partendo da una guess iniziale pari a $x^0 = 0.5$ e impostare una tolleranza pari a $tol=1e-8$. Rappresentare in scala semilogaritmica l'errore ottenuto e commentare alla luce della teoria."
   ]
  },
  {
   "cell_type": "code",
   "execution_count": null,
   "metadata": {
    "colab": {
     "base_uri": "https://localhost:8080/",
     "height": 430
    },
    "id": "EXiOV-SL9ATC",
    "outputId": "178b54ad-d226-4bf8-b123-ea513101accf"
   },
   "outputs": [],
   "source": []
  },
  {
   "cell_type": "markdown",
   "metadata": {
    "id": "8psuOb4cBo0-"
   },
   "source": [
    "**(d) (2 punti) [T]** Si proponga una modifica al metodo di Newton per il calcolo degli zeri di molteplicità algebrica superiore a 1."
   ]
  },
  {
   "cell_type": "markdown",
   "metadata": {
    "id": "Md5wJuJqRjGe"
   },
   "source": [
    "**(e) (2 punti) [P]** Si estenda opportunamente la function del metodo di Newton in modo da implementare quanto proposto al punto precedente. Utilizzando questa nuova funzione, ripetere quanto fatto al punto (c), sovrapponendo gli errori sullo stesso grafico. Commentare i risultati ottenuti."
   ]
  },
  {
   "cell_type": "code",
   "execution_count": 29,
   "metadata": {
    "id": "SxOWNTE7-htc"
   },
   "outputs": [],
   "source": [
    "# Creiamo qui la function di newton modificato\n"
   ]
  },
  {
   "cell_type": "code",
   "execution_count": 2,
   "metadata": {
    "colab": {
     "base_uri": "https://localhost:8080/",
     "height": 430
    },
    "id": "61vzZQCmSEPo",
    "outputId": "c3e2707e-1714-4fef-e7c0-1d9fd1fb799e"
   },
   "outputs": [],
   "source": [
    "# Applichiamo i due metodi separatamente e confrontiamo i risultati\n"
   ]
  },
  {
   "cell_type": "markdown",
   "metadata": {
    "id": "EJdjehKXTdWL"
   },
   "source": [
    "# **Esercizio 2 (10 punti)**\n",
    "\n",
    "Si consideri la seguente matrice\n",
    "\n",
    "$$A=\\begin{bmatrix} 1&1&1&1&1\\\\\n",
    "1 & 2& 3&4&5\\\\\n",
    "1&3&6&10&15\\\\\n",
    "1&4&10&20&35\\\\\n",
    "1&5&15&35&70 \\end{bmatrix} $$\n",
    "\n",
    "che si può ottenere su Python tramite la libreria **scipy.linalg**, con comando **pascal(n)**, dove $n$ è la dimensione della matrice."
   ]
  },
  {
   "cell_type": "markdown",
   "metadata": {
    "id": "GaJdY5BwU0c-"
   },
   "source": [
    "**(a) (3 punti) [P+T]** Enunciare la condizione necessaria e sufficiente per l'esistenza e unicità della fattorizzazione $LU$ e verificare (con opportuni comandi) che è soddisfatta per la matrice $A$ di dimensione $n=5$."
   ]
  },
  {
   "cell_type": "code",
   "execution_count": 4,
   "metadata": {
    "colab": {
     "base_uri": "https://localhost:8080/"
    },
    "id": "oy1S-dEeVgkM",
    "outputId": "c78ba820-2086-42a0-ca63-04710f8125a3"
   },
   "outputs": [],
   "source": [
    "import numpy as np\n",
    "import scipy.linalg as sl\n",
    "import matplotlib.pyplot as plt\n",
    "import functions\n",
    "\n"
   ]
  },
  {
   "cell_type": "markdown",
   "metadata": {
    "id": "yBtiuaVOW-yg"
   },
   "source": [
    "**(b) (3 punti) [P]** Data la soluzione esatta $x = [1,1,...,1]^T$ costruire il termine noto $b$ e risolvere il sistema lineare $Ax = b$ utilizzando:\n",
    "\n",
    "i) la fattorizzazione $LU$,\n",
    "\n",
    "ii) i metodi di sostituzione in avanti e all'indietro disponibili nella libreria **functions.py** fornita.\n",
    "\n",
    "Verificare se è stato effettuato il pivoting."
   ]
  },
  {
   "cell_type": "code",
   "execution_count": 5,
   "metadata": {
    "colab": {
     "base_uri": "https://localhost:8080/"
    },
    "id": "3HVUPAcQXvjL",
    "outputId": "b3112e67-3451-4c7c-c798-88ce7216db16"
   },
   "outputs": [],
   "source": [
    "import numpy as np\n"
   ]
  },
  {
   "cell_type": "markdown",
   "metadata": {
    "id": "TRJX5ULR2cxg"
   },
   "source": [
    "**(c) (4 punti) [P+T]** Ripetere i passaggi al punto precedente per matrici di dimensione $n = 10$, $15$ e $20$. Per ognuno dei casi calcolare la norma dell’errore relativo e il condizionamento della matrice e rappresentarli su due grafici in scala logaritmica. Commentare i risultati alla luce della teoria."
   ]
  },
  {
   "cell_type": "code",
   "execution_count": null,
   "metadata": {
    "colab": {
     "base_uri": "https://localhost:8080/",
     "height": 1000
    },
    "id": "8IdmPTdu6nvn",
    "outputId": "655e4115-552d-4ec3-c2d9-622c7ea0b925"
   },
   "outputs": [],
   "source": []
  },
  {
   "cell_type": "markdown",
   "metadata": {
    "id": "NZelABde7vAg"
   },
   "source": [
    "# **Esercizio 3 (10 punti)**\n",
    "\n",
    "Si consideri il seguente problema già affrontato nella parte 1 dell'esame.\n",
    "\n",
    "$$\\begin{cases}\n",
    "\\partial_t u - \\partial_{xx} u = 1 & \\text{se } x \\in (0,\\pi),\\,\\, t>0\\\\\n",
    "u(t,0) = u(t,\\pi) = 0 & \\text{se } t>0\\\\\n",
    "u(0,x) = 0 & \\text{se } x\\in (0,\\pi)\n",
    "\\end{cases}\n",
    "$$"
   ]
  },
  {
   "cell_type": "markdown",
   "metadata": {
    "id": "0GNWvdMG8gl7"
   },
   "source": [
    "**(a) (5 punti) [T]** Introdurre brevemente l'approssimazione del problema con il metodo degli elementi finiti in spazio e un generico $\\theta-$metodo in tempo. Derivare l'espressione matriciale (senza dettagliare i singoli elementi delle matrici)."
   ]
  },
  {
   "cell_type": "markdown",
   "metadata": {
    "id": "k55ei8KPueSR"
   },
   "source": [
    "**(b) (3 punti) [P]** Si consideri una griglia di ampiezza uniforme $h = \\pi/20$. Si risolva il problema con il metodo di Eulero Esplicito, usando un passo temporale $\\Delta t=0.25$, quindi si ripeta il calcolo con $\\Delta t=0.0025$. Utilizzare la function $\\texttt{heatsolve}$ fornita di seguito. Si rappresentino le soluzioni e si commentino alla luce della teoria."
   ]
  },
  {
   "cell_type": "code",
   "execution_count": 7,
   "metadata": {},
   "outputs": [],
   "source": [
    "import matplotlib.pyplot as plt\n",
    "import numpy as np\n",
    "from fem import install\n",
    "\n",
    "install()\n",
    "from fem import Line, generate_mesh, FEspace, assemble, interpolate, deriv, dx, ds, DirichletBC, applyBCs, dof2fun, fun2dof, dofs, plot\n",
    "\n",
    "def heatSolve(D,f,u0,L,h,T,dt,theta):\n",
    "  \"\"\"\"\n",
    "  Input:\n",
    "     D      (float)                  Coefficiente di diffusione (positivo).\n",
    "     f      (lambda function)        Forzante. Si assume f = f(x,t).\n",
    "     u0     (lambda function)        Condizione iniziale.\n",
    "     L      (float)                  Lunghezza dell'intervallo spaziale.\n",
    "     h      (float)                  Passo della griglia spaziale.\n",
    "     T      (float)                  Tempo finale\n",
    "     dt     (float)                  Passo temporale.\n",
    "     theta  (float)                  Parametro del theta-metodo.\n",
    "\n",
    "  Output:\n",
    "    V                               spazio elementi finiti\n",
    "    u     (numpy.ndarray)-> matrix  Matrice contenente la soluzione\n",
    "                                    approssimata del problema. Uij\n",
    "                                    approssima u(dof_i, tj): ogni colonna è un\n",
    "                                    tempo fissato.\n",
    "    t      (numpy.ndarray)-> vector Griglia temporale.\n",
    "  \"\"\"\"\"\n",
    "  # costruisco il dominio\n",
    "  domain = Line(0, L)\n",
    "  # costruisco la mesh\n",
    "  mesh = generate_mesh(domain, stepsize = h)\n",
    "  # costruisco lo spazio FEM di grado 1\n",
    "  V = FEspace(mesh, 1)\n",
    "\n",
    "  # costruisco la griglia temporale\n",
    "  nt = np.ceil(T/dt)+1\n",
    "  t = np.zeros(int(nt))\n",
    "\n",
    "  # initializzo la soluzione\n",
    "  u = np.zeros((dofs(V).size, int(nt)))\n",
    "\n",
    "  # definisco la condizione iniziale\n",
    "  u0h = fun2dof(interpolate(u0,V))\n",
    "  u[:, 0] = u0h\n",
    "\n",
    "  # matrice di massa\n",
    "  def m(u, v):\n",
    "    return u*v*dx\n",
    "  # assemblaggio matrice di massa\n",
    "  M = assemble(m, V)\n",
    "\n",
    "  # matrice di diffusione\n",
    "  def a(u,v):\n",
    "    return deriv(u)*deriv(v)*dx\n",
    "  # assemblaggio matrice di diffusione\n",
    "  A = D*assemble(a,V)\n",
    "\n",
    "  # ciclo temporale\n",
    "  for n in range(int(nt)-1):\n",
    "    # costruzioni termini noti al tempo dt e dt+1\n",
    "    t_old = n*dt\n",
    "    t_new = (n+1)*dt\n",
    "\n",
    "    fold = lambda x: f(x,t_old)\n",
    "    fnew = lambda x: f(x,t_new)\n",
    "\n",
    "    fold_h = interpolate(fold, V)\n",
    "    def lold(v):\n",
    "      return fold_h*v*dx\n",
    "    Fold = assemble(lold, V)\n",
    "\n",
    "    fnew_h = interpolate(fnew, V)\n",
    "    def lnew(v):\n",
    "      return fnew_h*v*dx\n",
    "    Fnew = assemble(lnew, V)\n",
    "\n",
    "    # condizioni al bordo omogenee di tipo dirichlet\n",
    "    def isLeftNode(x):\n",
    "      return x < 1e-12\n",
    "\n",
    "    def isRightNode(x):\n",
    "      return x > L - 1e-12\n",
    "\n",
    "    dbc1 = DirichletBC(isLeftNode,  0.0)\n",
    "    dbc2 = DirichletBC(isRightNode, 0.0)\n",
    "\n",
    "    A = applyBCs(A, V, dbc1, dbc2)\n",
    "    M = applyBCs(M, V, dbc1, dbc2)\n",
    "    Fold = applyBCs(Fold, V, dbc1, dbc2)\n",
    "    Fnew = applyBCs(Fnew, V, dbc1, dbc2)\n",
    "\n",
    "    # Costruzione del sistema lineare e sua risoluzione\n",
    "    B = (M/dt+theta*A)\n",
    "    b = (M/dt-(1-theta)*A)@u[:,n] + theta*Fnew +(1-theta)*Fold\n",
    "\n",
    "    from scipy.sparse.linalg import spsolve\n",
    "\n",
    "    u[:,n+1] = spsolve(B, b)\n",
    "    t[n+1] = t_new\n",
    "\n",
    "  return V,u,t"
   ]
  },
  {
   "cell_type": "code",
   "execution_count": 8,
   "metadata": {
    "id": "ubYvoheKvN4N"
   },
   "outputs": [],
   "source": [
    "import numpy as np\n",
    "from fem import xtplot\n",
    "\n"
   ]
  },
  {
   "cell_type": "markdown",
   "metadata": {},
   "source": [
    "**(c) (2 punti) [P]** Si risolva ora il problema con il metodo di Eulero Implicito, scegliendo\n",
    "$\\Delta t = 0.25$. Si rappresenti il valore della soluzione numerica al centro del dominio,\n",
    "in tempo: $u_h (t, \\frac{\\pi}{2} )$ (da estrarre con un metodo a scelta). Cosa si osserva?"
   ]
  },
  {
   "cell_type": "code",
   "execution_count": null,
   "metadata": {},
   "outputs": [],
   "source": []
  },
  {
   "cell_type": "code",
   "execution_count": null,
   "metadata": {},
   "outputs": [],
   "source": []
  }
 ],
 "metadata": {
  "colab": {
   "provenance": []
  },
  "kernelspec": {
   "display_name": "Python 3 (ipykernel)",
   "language": "python",
   "name": "python3"
  },
  "language_info": {
   "codemirror_mode": {
    "name": "ipython",
    "version": 3
   },
   "file_extension": ".py",
   "mimetype": "text/x-python",
   "name": "python",
   "nbconvert_exporter": "python",
   "pygments_lexer": "ipython3",
   "version": "3.10.12"
  }
 },
 "nbformat": 4,
 "nbformat_minor": 1
}
