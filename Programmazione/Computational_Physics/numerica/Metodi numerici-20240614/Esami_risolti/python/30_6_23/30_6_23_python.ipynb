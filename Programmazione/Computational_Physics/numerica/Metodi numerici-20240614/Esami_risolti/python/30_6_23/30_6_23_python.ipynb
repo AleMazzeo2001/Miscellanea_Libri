{
 "cells": [
  {
   "cell_type": "markdown",
   "metadata": {
    "id": "pLrL-zV62eo0"
   },
   "source": [
    "# **Esame del 30 Giugno 2023**\n",
    "\n",
    "- Non si possono consultare libri, note, ed ogni altro materiale o persone durante\n",
    "l’esame ad eccezione delle funzioni Python fornite.\n",
    "\n",
    "- Risolvere i seguenti esercizi con l’ausilio di Python.\n",
    "\n",
    "- La durata del compito è di 90 minuti.\n",
    "\n",
    "- Questo esame ha 3 domande, per un totale di 30/30 punti.\n",
    "\n",
    "- Svolgere gli esercizi marcati con [T] su fogli protocollo, indicando: nome, cognome, codice persona\n",
    "e data"
   ]
  },
  {
   "cell_type": "markdown",
   "metadata": {
    "id": "5gUDdF9P3VXS"
   },
   "source": [
    "# **Esercizio 1 (punti 10)**\n",
    "\n",
    "Si consideri la seguente funzione\n",
    "\n",
    "$$f(x) = x\\sin(x)$$\n",
    "\n",
    "per $x \\in [-1,1]$.\n",
    "\n",
    "**(a) (1 punto) [P]** Si rappresenti $f$ in Python e si identifichi il valore $\\alpha$ tale che $f(\\alpha)=0$.\n",
    "\n",
    "\n"
   ]
  },
  {
   "cell_type": "code",
   "execution_count": 27,
   "metadata": {
    "colab": {
     "base_uri": "https://localhost:8080/",
     "height": 430
    },
    "id": "p8OjwcSV2YZp",
    "outputId": "34bea318-dd3e-44b7-e605-9a7a53d13ff3"
   },
   "outputs": [
    {
     "data": {
      "image/png": "[encoded data removed]",
      "text/plain": [
       "<Figure size 432x288 with 1 Axes>"
      ]
     },
     "metadata": {
      "needs_background": "light"
     },
     "output_type": "display_data"
    }
   ],
   "source": [
    "# Ecco una possibile soluzione:\n",
    "\n",
    "import functions # prendiamo tutte le funzioni dalla libreria fornita\n",
    "import numpy as np\n",
    "import matplotlib.pyplot as plt\n",
    "\n",
    "f = lambda x: x * np.sin(x)\n",
    "\n",
    "# estremi dell'intervallo\n",
    "a = -1\n",
    "b = 1\n",
    "x_val = np.linspace(a,b,1000)\n",
    "\n",
    "plt.figure()\n",
    "plt.plot(x_val,f(x_val),'g-')\n",
    "plt.plot(x_val, 0.0 * x_val, 'r-')\n",
    "plt.legend([\"f(x)\"])\n",
    "plt.grid()\n"
   ]
  },
  {
   "cell_type": "markdown",
   "metadata": {
    "id": "sqvwtGZq4zYI"
   },
   "source": [
    "Notiamo che il valore di $\\alpha$ tale per cui $f(\\alpha)=0 $ è proprio $\\alpha = 0$."
   ]
  },
  {
   "cell_type": "markdown",
   "metadata": {
    "id": "MKYXfeKL4_72"
   },
   "source": [
    "**(b) (3 punti) [T]** Derivare il Metodo di Newton per la ricerca degli zeri di una funzione, riportando anche le sue proprietà di convergenza."
   ]
  },
  {
   "cell_type": "markdown",
   "metadata": {
    "id": "55AOm4aO5Le-"
   },
   "source": [
    "**Soluzione.** Fissata l'iterazione $k$-esima e dato un valore di tentativo per lo zero esatto $x^k$, la retta tangente a $f$ in $x^k$ è data da\n",
    "\n",
    "$$\\frac{f(x)-f(x^k)}{x-x^k}=f'(x^k)\\quad \\iff \\quad f(x)=f(x^k)+f'(x^k)(x-x^k).$$\n",
    "\n",
    "Ne segue che, dato $x^k$, il punto $x^{k+1}$ è calcolato come punto di intersezione della retta tangente con l'asse $x$. In altre parole ciascuna iterata $x^k$ rappresenta il punto di intersezione tra la retta tangente approssimante $f$ e l'asse delle $x$. Al passo $k+1$ si ha dunque che\n",
    "\n",
    "$$f(x^{k+1})=f(x^k)+f'(x^k)(x^{k+1}-x^k) \\quad \\iff \\quad x^{k+1} = x^k - \\frac{f(x^k)}{f'(x^k)}.$$\n",
    "\n",
    "La convergenza del metodo è assicurata dal seguente\n",
    "\n",
    "**Teorema 1.** *Sia $f:[a,b]⟶\\mathbb{R}$ una funzione di classe $C^2([a,b])$. Sia $\\alpha$ tale che $f'(\\alpha)\\neq 0$ e $f(\\alpha)=0$. Allora esiste $\\eta >0$ tale che $|x^0-\\alpha|<\\eta$, per qualche $x^0$, segue che*\n",
    "\n",
    "$$|x^k-\\alpha|<\\eta,\\,\\, \\forall k \\in \\mathbb{N}.$$\n",
    "\n",
    "*In particolare il metodo converge con ordine 2 e vale che*\n",
    "\n",
    "$$\\lim_{k→\\infty}\\frac{x^{k+1}-\\alpha}{(x^k-\\alpha)^2}=\\frac{f''(\\alpha}{2f'(\\alpha}=c \\in \\mathbb{R}.$$"
   ]
  },
  {
   "cell_type": "markdown",
   "metadata": {
    "id": "SndzqUWR8mXb"
   },
   "source": [
    "**(c) (2 punti) [P]** Applicare il metodo di Newton per il calcolo di $\\alpha$, partendo da una guess iniziale pari a $x^0 = 0.5$ e impostare una tolleranza pari a $tol=1e-8$. Rappresentare in scala semilogaritmica l'errore ottenuto e commentare alla luce della teoria."
   ]
  },
  {
   "cell_type": "code",
   "execution_count": 28,
   "metadata": {
    "colab": {
     "base_uri": "https://localhost:8080/",
     "height": 430
    },
    "id": "EXiOV-SL9ATC",
    "outputId": "178b54ad-d226-4bf8-b123-ea513101accf"
   },
   "outputs": [
    {
     "name": "stdout",
     "output_type": "stream",
     "text": [
      "\n",
      " Numero di iterazioni: 26 \n",
      "\n",
      " Zero calcolato: 7.030241e-09\n",
      "\n"
     ]
    },
    {
     "data": {
      "image/png": "[encoded data removed]",
      "text/plain": [
       "<Figure size 432x288 with 1 Axes>"
      ]
     },
     "metadata": {
      "needs_background": "light"
     },
     "output_type": "display_data"
    }
   ],
   "source": [
    "# Ecco una possibile implementazione:\n",
    "\n",
    "x0 = 0.5\n",
    "tol = 1e-8\n",
    "nmax = 100\n",
    "\n",
    "df = lambda x: np.sin(x) + x * np.cos(x)\n",
    "\n",
    "xvect,it = functions.newton(x0,nmax,tol,f,df) \n",
    "\n",
    "plt.figure()\n",
    "plt.semilogy(np.abs(xvect))\n",
    "plt.grid()"
   ]
  },
  {
   "cell_type": "markdown",
   "metadata": {
    "id": "ofdYYiFjBjlN"
   },
   "source": [
    "Notiamo la convergenza lineare del metodo con un numero di iterate pari a 26."
   ]
  },
  {
   "cell_type": "markdown",
   "metadata": {
    "id": "8psuOb4cBo0-"
   },
   "source": [
    "**(d) (2 punti) [T]** Si proponga una modifica al metodo di Newton per il calcolo degli zeri di molteplicità algebrica superiore a 1."
   ]
  },
  {
   "cell_type": "markdown",
   "metadata": {
    "id": "PWggMqffB2bd"
   },
   "source": [
    "**Soluzione.** Introducendo $m$ come molteplicità algebrica dello zero $\\alpha$, possiamo modificare il metodo di Newton ponendo\n",
    "\n",
    "$$x^{k+1} = x^k - m\\frac{f(x^k)}{f'(x^k)}.$$\n",
    "\n",
    "Se tale metodo converge, allora converge quadraticamente. Notiamo che, come nel caso del metodo di Newton classico, anche questo metodo è a convergenza locale, per una guess $x^0$ sufficientemente vicina al valore di $\\alpha$."
   ]
  },
  {
   "cell_type": "markdown",
   "metadata": {
    "id": "Md5wJuJqRjGe"
   },
   "source": [
    "**(e) (2 punti) [P]** Si estenda opportunamente la function del metodo di Newton in modo da implementare quanto proposto al punto precedente. Utilizzando questa nuova funzione, ripetere quanto fatto al punto (c), sovrapponendo gli errori sullo stesso grafico. Commentare i risultati ottenuti."
   ]
  },
  {
   "cell_type": "code",
   "execution_count": 29,
   "metadata": {
    "id": "SxOWNTE7-htc"
   },
   "outputs": [],
   "source": [
    "# Creiamo qui la function di newton modificato\n",
    "\n",
    "def newton_modificato (x0,nmax,toll,f,df,m):\n",
    "    x = x0\n",
    "    it = 0\n",
    "    dif = tol+1\n",
    "    err = []\n",
    "    xvect = [x]\n",
    "    while (it<nmax and dif>tol):\n",
    "        if df(x) == 0:\n",
    "            raise RuntimeError(\"Azzeramento della derivata\")\n",
    "        else:\n",
    "            xn = x - m * f(x)/df(x)\n",
    "            dif = abs(xn-x)\n",
    "            err.append(dif)\n",
    "            x = xn\n",
    "            xvect.append(x)\n",
    "            it += 1\n",
    "    return xvect,it,err\n"
   ]
  },
  {
   "cell_type": "code",
   "execution_count": 30,
   "metadata": {
    "colab": {
     "base_uri": "https://localhost:8080/",
     "height": 430
    },
    "id": "61vzZQCmSEPo",
    "outputId": "c3e2707e-1714-4fef-e7c0-1d9fd1fb799e"
   },
   "outputs": [
    {
     "data": {
      "image/png": "[encoded data removed]",
      "text/plain": [
       "<Figure size 432x288 with 1 Axes>"
      ]
     },
     "metadata": {
      "needs_background": "light"
     },
     "output_type": "display_data"
    }
   ],
   "source": [
    "# Applichiamo i due metodi separatamente e confrontiamo i risultati\n",
    "\n",
    "m = 2 # molteplicità\n",
    "xvect_mod, it_mod, err_mod = newton_modificato (x0,nmax,tol,f,df,m)\n",
    "\n",
    "plt.figure()\n",
    "plt.semilogy(np.abs(xvect))\n",
    "plt.semilogy(np.abs(xvect_mod))\n",
    "plt.legend([\"Newton classico\",\"Newton modificato\"])\n",
    "plt.grid()"
   ]
  },
  {
   "cell_type": "markdown",
   "metadata": {
    "id": "pPbGY8fOTKFg"
   },
   "source": [
    "Come si vede dal grafico, il metodo di Newton modificato si arresta dopo 4 iterazioni, contro le 26 del metodo classico, mostrando una convergenza molto più rapida."
   ]
  },
  {
   "cell_type": "markdown",
   "metadata": {
    "id": "EJdjehKXTdWL"
   },
   "source": [
    "# **Esercizio 2 (10 punti)**\n",
    "\n",
    "Si consideri la seguente matrice\n",
    "\n",
    "$$A=\\begin{bmatrix} 1&1&1&1&1\\\\\n",
    "1 & 2& 3&4&5\\\\\n",
    "1&3&6&10&15\\\\\n",
    "1&4&10&20&35\\\\\n",
    "1&5&15&35&70 \\end{bmatrix} $$\n",
    "\n",
    "che si può ottenere su Python tramite la libreria **scipy.linalg**, con comando **pascal(n)**, dove $n$ è la dimensione della matrice."
   ]
  },
  {
   "cell_type": "markdown",
   "metadata": {
    "id": "GaJdY5BwU0c-"
   },
   "source": [
    "**(a) (3 punti) [P+T]** Enunciare la condizione necessaria e sufficiente per l'esistenza e unicità della fattorizzazione $LU$ e verificare (con opportuni comandi) che è soddisfatta per la matrice $A$ di dimensione $n=5$."
   ]
  },
  {
   "cell_type": "markdown",
   "metadata": {
    "id": "WNRZ6p5AVH4p"
   },
   "source": [
    "**Soluzione.** Sia $A$ una matrice di ordine $n$ non singolare. Allora esiste ed è unica la fattorizzazione $LU$ se e solo se tutte le sottomatrici principali di $A$ sono non singolari."
   ]
  },
  {
   "cell_type": "code",
   "execution_count": 1,
   "metadata": {
    "colab": {
     "base_uri": "https://localhost:8080/"
    },
    "id": "oy1S-dEeVgkM",
    "outputId": "c78ba820-2086-42a0-ca63-04710f8125a3"
   },
   "outputs": [
    {
     "name": "stdout",
     "output_type": "stream",
     "text": [
      "La fattorizzazione esiste ed è unica\n"
     ]
    }
   ],
   "source": [
    "# Ecco una possibile soluzione\n",
    "\n",
    "import numpy as np\n",
    "import scipy.linalg as sl\n",
    "import matplotlib.pyplot as plt\n",
    "import functions\n",
    "\n",
    "n = 5\n",
    "A = sl.pascal(n)\n",
    "\n",
    "singolare = False\n",
    "\n",
    "for i in range(1,n+1):\n",
    "  if (sl.det(A[0:i,0:i])==0): # calcolo il det di ogni sottomatrice\n",
    "    singolare = True # se ne trovo uno nullo, il flag \"singolare\" diventa vero\n",
    "if singolare:\n",
    "  print(\"La matrice non ammette fattorizzazione LU\")\n",
    "else:\n",
    "    print(\"La fattorizzazione esiste ed è unica\")"
   ]
  },
  {
   "cell_type": "markdown",
   "metadata": {
    "id": "yBtiuaVOW-yg"
   },
   "source": [
    "**(b) (3 punti) [P]** Data la soluzione esatta $x = [1,1,...,1]^T$ costruire il termine noto $b$ e risolvere il sistema lineare $Ax = b$ utilizzando:\n",
    "\n",
    "i) la fattorizzazione $LU$,\n",
    "\n",
    "ii) i metodi di sostituzione in avanti e all'indietro disponibili nella libreria **functions.py** fornita.\n",
    "\n",
    "Verificare se è stato effettuato il pivoting."
   ]
  },
  {
   "cell_type": "code",
   "execution_count": 4,
   "metadata": {
    "colab": {
     "base_uri": "https://localhost:8080/"
    },
    "id": "3HVUPAcQXvjL",
    "outputId": "b3112e67-3451-4c7c-c798-88ce7216db16"
   },
   "outputs": [
    {
     "name": "stdout",
     "output_type": "stream",
     "text": [
      "Pivoting effettuato\n",
      "[1. 1. 1. 1. 1.]\n"
     ]
    }
   ],
   "source": [
    "# Vediamo una possibile soluzione\n",
    "\n",
    "import numpy as np\n",
    "\n",
    "x_esatta = np.ones(n)\n",
    "b = A @ x_esatta\n",
    "\n",
    "P,L,U = sl.lu(A)\n",
    "\n",
    "if (np.all(np.abs(P-np.eye(n))==0)):\n",
    "  print(\"Pivoting non effettuato\")\n",
    "else:\n",
    "  print(\"Pivoting effettuato\")\n",
    "\n",
    "y = functions.fwsub(L,P.T@b)\n",
    "x = functions.bksub(U,y)\n",
    "\n",
    "print(x)"
   ]
  },
  {
   "cell_type": "markdown",
   "metadata": {
    "id": "TRJX5ULR2cxg"
   },
   "source": [
    "**(c) (4 punti) [P+T]** Ripetere i passaggi al punto precedente per matrici di dimensione $n = 10$, $15$ e $20$. Per ognuno dei casi calcolare la norma dell’errore relativo e il condizionamento della matrice e rappresentarli su due grafici in scala logaritmica. Commentare i risultati alla luce della teoria."
   ]
  },
  {
   "cell_type": "code",
   "execution_count": 6,
   "metadata": {
    "colab": {
     "base_uri": "https://localhost:8080/",
     "height": 1000
    },
    "id": "8IdmPTdu6nvn",
    "outputId": "655e4115-552d-4ec3-c2d9-622c7ea0b925"
   },
   "outputs": [
    {
     "name": "stdout",
     "output_type": "stream",
     "text": [
      "Pivoting effettuato\n",
      "Pivoting effettuato\n",
      "Pivoting effettuato\n"
     ]
    },
    {
     "data": {
      "text/plain": [
       "Text(0.5, 1.0, 'numero di condizionamento')"
      ]
     },
     "execution_count": 6,
     "metadata": {},
     "output_type": "execute_result"
    },
    {
     "data": {
      "image/png": "[encoded data removed]",
      "text/plain": [
       "<Figure size 432x288 with 1 Axes>"
      ]
     },
     "metadata": {
      "needs_background": "light"
     },
     "output_type": "display_data"
    },
    {
     "data": {
      "image/png": "[encoded data removed]",
      "text/plain": [
       "<Figure size 432x288 with 1 Axes>"
      ]
     },
     "metadata": {
      "needs_background": "light"
     },
     "output_type": "display_data"
    }
   ],
   "source": [
    "err = []\n",
    "cond = []\n",
    "for n in [10, 15, 20]:\n",
    "    A = sl.pascal(n)\n",
    "    x_ex = np.ones(n)\n",
    "    b = A @ x_ex\n",
    "    P, L, U = sl.lu(A)\n",
    "    if (np.all(np.abs(P-np.eye(n))==0)):\n",
    "        print(\"Pivoting non effettuato\")\n",
    "    else:\n",
    "        print(\"Pivoting effettuato\")\n",
    "    y = functions.fwsub(L, P.T@b)\n",
    "    x = functions.bksub(U, y)\n",
    "    err.append(np.linalg.norm(x-x_ex)/np.linalg.norm(x_ex))\n",
    "    cond.append(np.linalg.cond(A))\n",
    "\n",
    "plt.figure()\n",
    "plt.loglog([10, 15, 20], err)\n",
    "plt.xlabel(\"n\")\n",
    "plt.grid()\n",
    "plt.title(\"errore\")\n",
    "plt.figure()\n",
    "plt.loglog([10, 15, 20],cond ,'g-o')\n",
    "plt.grid()\n",
    "plt.xlabel(\"n\")\n",
    "plt.title(\"numero di condizionamento\")"
   ]
  },
  {
   "cell_type": "markdown",
   "metadata": {
    "id": "IbWpWJ_17A8Y"
   },
   "source": [
    "Notiamo una crescita notevole dell'errore, all'aumentare della dimensione della matrice in input. Questo fenomeno è dovuto all'incremento dell'indice di condizionamento $K(A)$, che determina una possibile amplificazione degli errori in output e dunque una peggiore approssimazione numerica."
   ]
  },
  {
   "cell_type": "markdown",
   "metadata": {
    "id": "NZelABde7vAg"
   },
   "source": [
    "# **Esercizio 3 (10 punti)**\n",
    "\n",
    "Si consideri il seguente problema già affrontato nella parte 1 dell'esame.\n",
    "\n",
    "$$\\begin{cases}\n",
    "\\partial_t u - \\partial_{xx} u = 1 & \\text{se } x \\in (0,\\pi),\\,\\, t>0\\\\\n",
    "u(t,0) = u(t,\\pi) = 0 & \\text{se } t>0\\\\\n",
    "u(0,x) = 0 & \\text{se } x\\in (0,\\pi)\n",
    "\\end{cases}\n",
    "$$"
   ]
  },
  {
   "cell_type": "markdown",
   "metadata": {
    "id": "0GNWvdMG8gl7"
   },
   "source": [
    "**(a) (5 punti) [T]** Introdurre brevemente l'approssimazione del problema con il metodo degli elementi finiti in spazio e un generico $\\theta-$metodo in tempo. Derivare l'espressione matriciale (senza dettagliare i singoli elementi delle matrici)."
   ]
  },
  {
   "cell_type": "markdown",
   "metadata": {
    "id": "MyPNIcQd8z3Z"
   },
   "source": [
    "**Soluzione.** Sia $V=H^1_0(\\Omega)$ e siano $v\\in V$ funzioni test dipendenti da $t$. Scriviamo la formulazione debole del problema differenziale:\n",
    "\n",
    "Trovare, per ogni $t\\in (0,T)$, $u(x,t)\\in V$ di modo che\n",
    "\n",
    "$$\\int_a^b \\partial_t u\\,v\\,dx + \\int_a^b \\partial_x u\\,\\partial_x v\\,dx = \\int_a^b v\\,dx, \\quad \\forall v \\in V$$,\n",
    "dove $a=0$ e $b=\\pi$.\n",
    "\n",
    "Deriviamo la formulazione discreta del problema, fissando il tempo e operando in spazio. Sia $V_h \\subset V$ un sottospazio finito dimensionale. Allora il problema diventa quello di:\n",
    "\n",
    "Trovare, per ogni $t\\in (0,T)$, $u_h(t) \\in V_h$ tale che\n",
    "\n",
    "$$\\int_a^b \\partial_t u_h\\,v_h\\,dx + \\int_a^b \\partial_x u_h\\,\\partial_x v_h\\,dx = \\int_a^b v_h\\,dx, \\quad \\forall v_h \\in V_h$$.\n",
    "\n",
    "Introducendo le forme bilineari\n",
    "\n",
    "$$a(u_h,v_h) =\\int_a^b \\partial_x u_h\\,\\partial_x v_h\\,dx \\qquad\n",
    "m(u_h,v_h) =  \\int_a^b  u_h v_h\\,dx\n",
    "$$\n",
    "\n",
    "e il termine di carico $F$ come\n",
    "\n",
    "$$F(v_h) = \\int_a^b v_h\\,dx,$$\n",
    "\n",
    "il problema può essere riscritto come\n",
    "\n",
    "$$m(\\partial_t u_h(t),v_h)+a(u_h,v_h)=F(v_h),\\qquad \\forall v_h \\in V_h.$$\n",
    "\n",
    "Se consideriamo una base $\\lbrace\\phi_j\\rbrace$ per $V_h$ di generatori linearmente indipendenti, allora le funzioni $u_h$ e $v_h$ si possono scrivere come\n",
    "\n",
    "$$u_h(x,t) = \\sum_{j=1}^{N_h} u_j(t)\\phi_j(x)\\quad \\text{e} \\quad v_h(x,t) = \\sum_{i=1}^{N_h} \\alpha_i(t)\\phi_i(x). $$\n",
    "\n",
    "Da qui, si può sfruttare la bilinearità della forma $a(\\cdot,\\cdot)$, la linearità di $F$ e l'indipendenza del dominio dal tempo per ottenere\n",
    "\n",
    "$$\\partial_t m \\left(\\sum_{j=1}^{N_h} u_j(t)\\phi_j(x),\\phi_i\\right)+a\\left(\\sum_{j=1}^{N_h} u_j(t)\\phi_j(x),\\phi_i\\right)=F(\\phi_i),\\quad \\forall i =1,...,N_h$$\n",
    "\n",
    "da cui finalmente\n",
    "\n",
    "$$\\sum_{j=1}^{N_h}\\partial_t u_j(t) m \\left( \\phi_j,\\phi_i\\right)+\\sum_{j=1}^{N_h} u_j(t) a\\left(\\phi_j,\\phi_i\\right)=F(\\phi_i),\\quad \\forall i =1,...,N_h$$\n",
    "\n",
    "Introducendo ora la matrice di stiffness $A$ e di massa $M$, definite rispettivamente da\n",
    "\n",
    "$$A \\in \\mathbb{R}^{N_h\\times N_h}: \\quad a_{ij}=a(\\phi_k,\\phi_i)$$\n",
    "$$M \\in \\mathbb{R}^{N_h\\times N_h}: \\quad m_{ij}=m(\\phi_k,\\phi_i)$$\n",
    "\n",
    "il problema semi discreto diventa quello di determinare il vettore tempo dipendente $\\mathbf{u}(t)$ tale che\n",
    "\n",
    "$$Md_t \\mathbf{u}(t)+A\\mathbf{u}(t) = \\mathbf{f}.$$"
   ]
  },
  {
   "cell_type": "markdown",
   "metadata": {
    "id": "k55ei8KPueSR"
   },
   "source": [
    "**(b) (3 punti) [P]** Si consideri una griglia di ampiezza uniforme $h = \\pi/20$. Si risolva il problema con il metodo di Eulero Esplicito, usando un passo temporale $\\Delta t=0.25$, quindi si ripeta il calcolo con $\\Delta t=0.0025$. Utilizzare la function $\\texttt{heatsolve}$ fornita di seguito. Si rappresentino le soluzioni e si commentino alla luce della teoria."
   ]
  },
  {
   "cell_type": "code",
   "execution_count": 7,
   "metadata": {},
   "outputs": [],
   "source": [
    "import matplotlib.pyplot as plt\n",
    "import numpy as np\n",
    "from fem import install\n",
    "\n",
    "install()\n",
    "from fem import Line, generate_mesh, FEspace, assemble, interpolate, deriv, dx, ds, DirichletBC, applyBCs, dof2fun, fun2dof, dofs, plot\n",
    "\n",
    "def heatSolve(D,f,u0,L,h,T,dt,theta):\n",
    "  \"\"\"\"\n",
    "  Input:\n",
    "     D      (float)                  Coefficiente di diffusione (positivo).\n",
    "     f      (lambda function)        Forzante. Si assume f = f(x,t).\n",
    "     u0     (lambda function)        Condizione iniziale.\n",
    "     L      (float)                  Lunghezza dell'intervallo spaziale.\n",
    "     h      (float)                  Passo della griglia spaziale.\n",
    "     T      (float)                  Tempo finale\n",
    "     dt     (float)                  Passo temporale.\n",
    "     theta  (float)                  Parametro del theta-metodo.\n",
    "\n",
    "  Output:\n",
    "    V                               spazio elementi finiti\n",
    "    u     (numpy.ndarray)-> matrix  Matrice contenente la soluzione\n",
    "                                    approssimata del problema. Uij\n",
    "                                    approssima u(dof_i, tj): ogni colonna è un\n",
    "                                    tempo fissato.\n",
    "    t      (numpy.ndarray)-> vector Griglia temporale.\n",
    "  \"\"\"\"\"\n",
    "  # costruisco il dominio\n",
    "  domain = Line(0, L)\n",
    "  # costruisco la mesh\n",
    "  mesh = generate_mesh(domain, stepsize = h)\n",
    "  # costruisco lo spazio FEM di grado 1\n",
    "  V = FEspace(mesh, 1)\n",
    "\n",
    "  # costruisco la griglia temporale\n",
    "  nt = np.ceil(T/dt)+1\n",
    "  t = np.zeros(int(nt))\n",
    "\n",
    "  # initializzo la soluzione\n",
    "  u = np.zeros((dofs(V).size, int(nt)))\n",
    "\n",
    "  # definisco la condizione iniziale\n",
    "  u0h = fun2dof(interpolate(u0,V))\n",
    "  u[:, 0] = u0h\n",
    "\n",
    "  # matrice di massa\n",
    "  def m(u, v):\n",
    "    return u*v*dx\n",
    "  # assemblaggio matrice di massa\n",
    "  M = assemble(m, V)\n",
    "\n",
    "  # matrice di diffusione\n",
    "  def a(u,v):\n",
    "    return deriv(u)*deriv(v)*dx\n",
    "  # assemblaggio matrice di diffusione\n",
    "  A = D*assemble(a,V)\n",
    "\n",
    "  # ciclo temporale\n",
    "  for n in range(int(nt)-1):\n",
    "    # costruzioni termini noti al tempo dt e dt+1\n",
    "    t_old = n*dt\n",
    "    t_new = (n+1)*dt\n",
    "\n",
    "    fold = lambda x: f(x,t_old)\n",
    "    fnew = lambda x: f(x,t_new)\n",
    "\n",
    "    fold_h = interpolate(fold, V)\n",
    "    def lold(v):\n",
    "      return fold_h*v*dx\n",
    "    Fold = assemble(lold, V)\n",
    "\n",
    "    fnew_h = interpolate(fnew, V)\n",
    "    def lnew(v):\n",
    "      return fnew_h*v*dx\n",
    "    Fnew = assemble(lnew, V)\n",
    "\n",
    "    # condizioni al bordo omogenee di tipo dirichlet\n",
    "    def isLeftNode(x):\n",
    "      return x < 1e-12\n",
    "\n",
    "    def isRightNode(x):\n",
    "      return x > L - 1e-12\n",
    "\n",
    "    dbc1 = DirichletBC(isLeftNode,  0.0)\n",
    "    dbc2 = DirichletBC(isRightNode, 0.0)\n",
    "\n",
    "    A = applyBCs(A, V, dbc1, dbc2)\n",
    "    M = applyBCs(M, V, dbc1, dbc2)\n",
    "    Fold = applyBCs(Fold, V, dbc1, dbc2)\n",
    "    Fnew = applyBCs(Fnew, V, dbc1, dbc2)\n",
    "\n",
    "    # Costruzione del sistema lineare e sua risoluzione\n",
    "    B = (M/dt+theta*A)\n",
    "    b = (M/dt-(1-theta)*A)@u[:,n] + theta*Fnew +(1-theta)*Fold\n",
    "\n",
    "    from scipy.sparse.linalg import spsolve\n",
    "\n",
    "    u[:,n+1] = spsolve(B, b)\n",
    "    t[n+1] = t_new\n",
    "\n",
    "  return V,u,t"
   ]
  },
  {
   "cell_type": "code",
   "execution_count": 8,
   "metadata": {
    "id": "ubYvoheKvN4N"
   },
   "outputs": [],
   "source": [
    "import numpy as np\n",
    "from fem import xtplot\n",
    "\n",
    "\n",
    "f = lambda x,t : 1 + 0 * x\n",
    "u0 = lambda x : 0 * x\n",
    "L = np.pi\n",
    "T = 10\n",
    "D = 1\n",
    "N = 20\n",
    "h = L/N\n",
    "\n",
    "theta = 0 #Eulero Esplicito \n"
   ]
  },
  {
   "cell_type": "code",
   "execution_count": 9,
   "metadata": {},
   "outputs": [
    {
     "data": {
      "image/png": "[encoded data removed]",
      "text/plain": [
       "<Figure size 432x288 with 1 Axes>"
      ]
     },
     "metadata": {
      "needs_background": "light"
     },
     "output_type": "display_data"
    }
   ],
   "source": [
    "dt=0.25\n",
    "V,u,t = heatSolve(D,f,u0,L,h,T,dt,theta)\n",
    "\n",
    "xtplot(V,u,t,'fade')\n",
    "plt.show()"
   ]
  },
  {
   "cell_type": "code",
   "execution_count": 10,
   "metadata": {},
   "outputs": [
    {
     "data": {
      "image/png": "[encoded data removed]",
      "text/plain": [
       "<Figure size 432x288 with 1 Axes>"
      ]
     },
     "metadata": {
      "needs_background": "light"
     },
     "output_type": "display_data"
    }
   ],
   "source": [
    "dt=0.0025\n",
    "V,u,t = heatSolve(D,f,u0,L,h,T,dt,theta)\n",
    "\n",
    "xtplot(V,u,t,'fade')\n",
    "plt.show()"
   ]
  },
  {
   "cell_type": "markdown",
   "metadata": {},
   "source": [
    "Notiamo che per $\\Delta t = 0.25$ la soluzione risulta instabile e presenta oscillazioni,\n",
    "mentre riducendolo a $\\Delta t = 0.0025$ tale fenomeno non accade. Per il metodo di Eulero Esplicito infatti dobbiamo garantire che $\\Delta t < \\frac{2}{\\lambda}$ dove $\\lambda = \\max |\\lambda(M^{-1}A)|$."
   ]
  },
  {
   "cell_type": "markdown",
   "metadata": {},
   "source": [
    "**(c) (2 punti) [P]** Si risolva ora il problema con il metodo di Eulero Implicito, scegliendo\n",
    "$\\Delta t = 0.25$. Si rappresenti il valore della soluzione numerica al centro del dominio,\n",
    "in tempo: $u_h (t, \\frac{\\pi}{2} )$ (da estrarre con un metodo a scelta). Cosa si osserva?"
   ]
  },
  {
   "cell_type": "code",
   "execution_count": 7,
   "metadata": {},
   "outputs": [
    {
     "data": {
      "image/png": "[encoded data removed]",
      "text/plain": [
       "<Figure size 432x288 with 1 Axes>"
      ]
     },
     "metadata": {
      "needs_background": "light"
     },
     "output_type": "display_data"
    }
   ],
   "source": [
    "theta = 1 #Eulero implicito\n",
    "\n",
    "dt=0.25\n",
    "V,u,t = heatSolve(D,f,u0,L,h,T,dt,theta)\n",
    "\n",
    "xtplot(V,u,t,'fade')\n",
    "plt.show()"
   ]
  },
  {
   "cell_type": "markdown",
   "metadata": {},
   "source": [
    "Notiamo che in questo caso, dato che utilizziamo un metodo implicito, la soluzione è stabile anche con un passo temporale grande. "
   ]
  },
  {
   "cell_type": "markdown",
   "metadata": {},
   "source": [
    "Un modo per estrarre il valore della soluzione è osservare che il punto richiesto è al centro del dominio, quindi corrisponde al grado di libertà $i=N/2+1 = 11$."
   ]
  },
  {
   "cell_type": "code",
   "execution_count": 18,
   "metadata": {},
   "outputs": [
    {
     "name": "stdout",
     "output_type": "stream",
     "text": [
      "[0.         0.22764414 0.42094547 0.57944839 0.70746939 0.81024139\n",
      " 0.89254744 0.95840254 1.01107632 1.05320146 1.08688876 1.11382784\n",
      " 1.13537033 1.15259726 1.16637315 1.17738932 1.18619864 1.1932432\n",
      " 1.19887652 1.20338133 1.20698369 1.20986439 1.21216801 1.21401014\n",
      " 1.21548324 1.21666124 1.21760325 1.21835654 1.21895893 1.21944065\n",
      " 1.21982586 1.2201339  1.22038024 1.22057722 1.22073474 1.22086071\n",
      " 1.22096144 1.221042   1.22110641 1.22115792 1.22119911]\n"
     ]
    },
    {
     "data": {
      "text/plain": [
       "[<matplotlib.lines.Line2D at 0x709fd5bd3490>]"
      ]
     },
     "execution_count": 18,
     "metadata": {},
     "output_type": "execute_result"
    },
    {
     "data": {
      "image/png": "[encoded data removed]",
      "text/plain": [
       "<Figure size 432x288 with 1 Axes>"
      ]
     },
     "metadata": {
      "needs_background": "light"
     },
     "output_type": "display_data"
    }
   ],
   "source": [
    "plt.plot(t, u[11,:])"
   ]
  },
  {
   "cell_type": "markdown",
   "metadata": {},
   "source": [
    "Possiamo notare che la soluzione tende ad uno stato stazionario con l’avanzare del tempo. La soluzione analitica stazionaria è infatti data da $u(x) = \\frac{1}{2}x(\\pi − x)$."
   ]
  },
  {
   "cell_type": "code",
   "execution_count": null,
   "metadata": {},
   "outputs": [],
   "source": []
  }
 ],
 "metadata": {
  "colab": {
   "provenance": []
  },
  "kernelspec": {
   "display_name": "Python 3 (ipykernel)",
   "language": "python",
   "name": "python3"
  },
  "language_info": {
   "codemirror_mode": {
    "name": "ipython",
    "version": 3
   },
   "file_extension": ".py",
   "mimetype": "text/x-python",
   "name": "python",
   "nbconvert_exporter": "python",
   "pygments_lexer": "ipython3",
   "version": "3.10.12"
  }
 },
 "nbformat": 4,
 "nbformat_minor": 1
}
