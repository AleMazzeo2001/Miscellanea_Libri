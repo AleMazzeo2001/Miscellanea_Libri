{
 "cells": [
  {
   "cell_type": "markdown",
   "metadata": {
    "id": "Wnu0mZTeO32B"
   },
   "source": [
    "# **Esame del 25 gennaio 2024**\n",
    "\n",
    "- Non si possono consultare libri, note, ed ogni altro materiale o persone durante\n",
    "l’esame ad eccezione delle funzioni Python fornite.\n",
    "\n",
    "- Risolvere i seguenti esercizi con l’ausilio di Python.\n",
    "\n",
    "- La durata del compito è di 90 minuti.\n",
    "\n",
    "- Questo esame ha 3 domande, per un totale di 30/30 punti.\n",
    "\n",
    "- Svolgere gli esercizi marcati con [T] su fogli protocollo, indicando: nome, cognome, codice persona\n",
    "e data"
   ]
  },
  {
   "cell_type": "markdown",
   "metadata": {
    "id": "5JqA9sZ7PcXS"
   },
   "source": [
    "#Esercizio 1 (10 punti)\n",
    "\n",
    "Consideriamo la seguente funzione definita sull'intervallo $(-1,1)$.\n",
    "\n",
    "$$\n",
    "f(x) = \\dfrac{1}{1+25x^2}\n",
    "$$"
   ]
  },
  {
   "cell_type": "markdown",
   "metadata": {
    "id": "z0etMOHYP3PL"
   },
   "source": [
    "a) (3 punti) [P] Approssimare $f$ mediante interpolazione polinomiale Lagrangiana su nodi equispaziati di grado $n = [5,10,15]$. Riportare graficamente i polinomi interpolanti ottenuti sovrapposti alla funzione $f$ e l'errore in spazio; stampare a schermo il massimo dell'errore nei tre casi,\n",
    "\n",
    "$$\n",
    "\\text{err}_n = \\max_{x\\in(-1,1)} |f(x)-\\Pi_n f(x)|\n",
    "$$\n",
    "\n",
    "Cosa osserviamo?"
   ]
  },
  {
   "cell_type": "markdown",
   "metadata": {
    "id": "YxqcsYKtYf5c"
   },
   "source": [
    "b) (4 punti) [T] Si discuta la stabilità e la convergenza dell'interpolazione polinomiale Lagrangiana du nodi equispaziati e su nodi di Chebychev-Gauss-Lobatto."
   ]
  },
  {
   "cell_type": "markdown",
   "metadata": {
    "id": "92Ke1Wr0bJlG"
   },
   "source": [
    "c) (3 punti) [P] Ripetere quanto fatto al punto (a) per nodi di Chebyschev-Gauss-Lobatto."
   ]
  },
  {
   "cell_type": "markdown",
   "metadata": {
    "id": "6j0lrXSbdQ-_"
   },
   "source": [
    "# Esercizio 2 (10 punti)\n",
    "\n",
    "Si consideri la seguente funzione\n",
    "\n",
    "$$\n",
    "f(x) = x^3 \\sin(x-1) \\quad \\text{per}\\ x\\in(-1,1)\n",
    "$$"
   ]
  },
  {
   "cell_type": "markdown",
   "metadata": {
    "id": "-Dm3y3qkdja3"
   },
   "source": [
    "a) (1 punto) [P] Si rappresenti $f$ in Python e si identifichi il valore $\\alpha$ tale per cui $f(\\alpha) = 0$."
   ]
  },
  {
   "cell_type": "markdown",
   "metadata": {
    "id": "c01BPtebel3k"
   },
   "source": [
    "b) (3 punti) [T] Derivare il metodo di Newton per la ricerca degli zeri di una funzione, riportando anche le sue proprietà di convergenza."
   ]
  },
  {
   "cell_type": "markdown",
   "metadata": {
    "id": "MkuZIFafmHuN"
   },
   "source": [
    "c) (2 punti) [P] Applicare il metodo di Newton per il calcolo di $\\alpha$, partire da un valore iniziale pari a $x_0 = 0.5$ e impostare una tolleranza pari a $10^{-8}$. Rappresentare in sacala semilogy l'errore ottenuto e commentare alla luce della teoria.\n",
    "\n",
    "Per il metodo di Newton si utilizzi la function $\\texttt{newton}$ presente nello script $\\texttt{functions2023.py}$"
   ]
  },
  {
   "cell_type": "code",
   "execution_count": 1,
   "metadata": {
    "colab": {
     "base_uri": "https://localhost:8080/"
    },
    "id": "uoEV0VGVm0Ow",
    "outputId": "cb226e23-273c-4568-9d7b-a05b92468453"
   },
   "outputs": [],
   "source": [
    "#Punto (c)\n",
    "from functions import newton\n",
    "\n"
   ]
  },
  {
   "cell_type": "markdown",
   "metadata": {
    "id": "SMiSSaVWklml"
   },
   "source": [
    "d) (2 punti) [T] Si proponga una modifica al metodo di Newton per il calcolo degli zeri di molteplicità algebrica maggiore di 1."
   ]
  },
  {
   "cell_type": "markdown",
   "metadata": {
    "id": "nVmYKrtflM3l"
   },
   "source": [
    "e) (2 punti) [P] Si estenda opportunamente la function $\\texttt{newton}$ in modo da implementare quanto proposto al punto precedente. Utilizzando questa nuova funzione ripetere quanto fatto al punto c, sovrapponendo gli errori sullo stesso grafico. Commentare i risultati ottenuti."
   ]
  },
  {
   "cell_type": "markdown",
   "metadata": {
    "id": "iOvaKfyFooXG"
   },
   "source": [
    "Dal grafico sull'andamento dell'errore notiamo che la nuova versione converge molto più rapidamente."
   ]
  },
  {
   "cell_type": "markdown",
   "metadata": {
    "id": "c6iKmrr6o682"
   },
   "source": [
    "# *Esercizio 3* (10 punti)\n",
    "\n",
    "Assumendo $c>0$, si consideri la seguente equazione di conservazione\n",
    "\n",
    "$$\n",
    "\\begin{cases}\n",
    "  \\partial_t c +\\partial_x (0.5c^2) = 0, & x\\in (0,5),\\ t\\in(0,T], \\\\\n",
    "  c(0,x) =\n",
    "    \\begin{cases}\n",
    "      3, & x\\leq 2.5, \\\\\n",
    "      5.5 - x, & x>3.5,\n",
    "    \\end{cases}\n",
    "    & x\\in (0,5), \\\\\n",
    "  c(t,0) = 0, & t\\in (0,T]\n",
    "\\end{cases}\n",
    "$$\n",
    "\n",
    "dove il tempo finale è pari a $T=1$."
   ]
  },
  {
   "cell_type": "markdown",
   "metadata": {
    "id": "sXWQXeDlp7E3"
   },
   "source": [
    "a) (3 punti) [T] Verificare se il flusso numerico Upwind è applicabile per la discretizzazione proposta con il metodo dei volumi finiti. Scegliere il valore $h = 0.125$ costante per l'ampiezza delle celle. Calcolare quindi il massimo $\\Delta t$ ammeso e chiamare $\\Delta t_{max}$ tale valore."
   ]
  },
  {
   "cell_type": "markdown",
   "metadata": {
    "id": "HlgCFeY_rMap"
   },
   "source": [
    "b) (3 punti) [P] Sia $N = \\dfrac{T}{\\Delta t_{max}}$, risolvere il problema utilizzando la function $\\texttt{fvsolve}$ contenuta nel file $\\texttt{funzioni.py}$, utilizzando il metodo Upwind per $N,\\ N-2$ e $2N$ passi temporali (attenzione: calcolare i $\\Delta t$ corrispondenti!) e rappresentare le soluzioni ottenute usando la function $\\texttt{xtplot}$ contenuta nel file $\\texttt{utilis}\\_\\texttt{plot}\\_\\texttt{cl.py}$.\n",
    "\n",
    "Commentare cosa si osserva."
   ]
  },
  {
   "cell_type": "markdown",
   "metadata": {
    "id": "zewQ0bgGfmas"
   },
   "source": [
    "c) (2 punti) [T] Si descriva il flusso numerico di Godunov e se ne discutano le proprità."
   ]
  },
  {
   "cell_type": "markdown",
   "metadata": {
    "id": "r-z5RisqiReH"
   },
   "source": [
    "d) (2 punti) [P] Si calcoli la soluzione del problema proposto utlizzando ora il flusso numerico di Godunov e un opportuno passo temporale."
   ]
  }
 ],
 "metadata": {
  "colab": {
   "provenance": []
  },
  "kernelspec": {
   "display_name": "Python 3 (ipykernel)",
   "language": "python",
   "name": "python3"
  },
  "language_info": {
   "codemirror_mode": {
    "name": "ipython",
    "version": 3
   },
   "file_extension": ".py",
   "mimetype": "text/x-python",
   "name": "python",
   "nbconvert_exporter": "python",
   "pygments_lexer": "ipython3",
   "version": "3.10.12"
  }
 },
 "nbformat": 4,
 "nbformat_minor": 1
}
