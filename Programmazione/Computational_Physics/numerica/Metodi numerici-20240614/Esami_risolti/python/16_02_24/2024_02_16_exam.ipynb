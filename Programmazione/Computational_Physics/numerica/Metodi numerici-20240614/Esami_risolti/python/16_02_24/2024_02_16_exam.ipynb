{
 "cells": [
  {
   "cell_type": "markdown",
   "metadata": {
    "id": "Wnu0mZTeO32B"
   },
   "source": [
    "# **Esame del 16 febbraio 2024**\n",
    "\n",
    "- Non si possono consultare libri, note, ed ogni altro materiale o persone durante\n",
    "l'esame ad eccezione delle funzioni Python fornite.\n",
    "\n",
    "- Risolvere gli esercizi marcati con **[P]** all'interno dell'IPython notebook.\n",
    "\n",
    "- Svolgere gli esercizi marcati con **[T]** su fogli protocollo, indicando: nome, cognome, codice persona e data\n",
    "\n",
    "- La durata del compito è di 90 minuti.\n",
    "\n",
    "- Questo esame è composto da 3 esercizi, per un totale di 30/30 punti.\n",
    "\n",
    "- All'interno degli script **functions2024.py** e **fem.py** trovate le funzioni necessarie per gli esercizi (che potete quindi importare ed utilizzare liberamente).\n"
   ]
  },
  {
   "cell_type": "code",
   "execution_count": null,
   "metadata": {
    "id": "8_LV3hbLKLU5"
   },
   "outputs": [],
   "source": [
    "# Cella di inizializzazione. Eseguirla prima di iniziare lo svolgimento dell'esame (ed, eventualmente, ad ogni riavvio).\n",
    "import matplotlib.pyplot as plt\n",
    "import numpy as np\n",
    "from fem import install\n",
    "\n",
    "install()"
   ]
  },
  {
   "cell_type": "markdown",
   "metadata": {
    "id": "5JqA9sZ7PcXS"
   },
   "source": [
    "## **Esercizio 1** &nbsp; &nbsp; <small>(10 punti)</small>\n",
    "\n",
    "Si consideri la seguente matrice\n",
    "\n",
    "$$A=\\left[\\begin{array}{ccccc}1&1&1&1&1\\\\ 1&2&3&4&5\\\\ 1& 3&6&10&15 \\\\ 1&4&10&20&35\\\\ 1&5&15&35&70\\end{array}\\right]$$\n",
    "\n",
    "che si può costruire con il comando scipy.linalg.pascal(n), dove n è la dimensione della matrice."
   ]
  },
  {
   "cell_type": "markdown",
   "metadata": {
    "id": "z0etMOHYP3PL"
   },
   "source": [
    "##### **a) [P+T]** &nbsp; &nbsp; (3 punti)\n",
    "\n",
    "Enunciare la condizione necessaria e sufficiente per l'esistenza e unicità della fattorizzazione LU e verificare (con opportuni comandi) che è soddisfatta per la matrice $A$ di dimensione $n = 5$."
   ]
  },
  {
   "cell_type": "code",
   "execution_count": null,
   "metadata": {
    "id": "Erk9tdpaQisE"
   },
   "outputs": [],
   "source": [
    "from scipy.linalg import pascal\n",
    "\n",
    "\n"
   ]
  },
  {
   "cell_type": "markdown",
   "metadata": {
    "id": "60GyFDVGXwMI"
   },
   "source": [
    "##### **b) [P]** &nbsp; &nbsp; (3 punti)\n",
    "\n",
    " Data la soluzione esatta $\\mathbf{x} = [1, 1 . . . , 1]^T$ costruire il termine noto $\\mathbf{b}$\n",
    "e risolvere il sistema lineare $A\\mathbf{x} = \\mathbf{b}$ utilizzando\n",
    "la fattorizzazione LU seguita dai metodi di sostituzione in avanti e all'indietro (si sfruttino le funzioni fornite). Verificare se è stato effettuato il pivoting."
   ]
  },
  {
   "cell_type": "code",
   "execution_count": null,
   "metadata": {
    "id": "w8y1YColugDR"
   },
   "outputs": [],
   "source": [
    "from functions2024 import fwsub, bksub\n",
    "from scipy.linalg import lu\n",
    "\n",
    "\n"
   ]
  },
  {
   "cell_type": "markdown",
   "metadata": {
    "id": "z3ONCM6xvmuM"
   },
   "source": [
    "##### **c) [P]** &nbsp; &nbsp; (4 punti)\n",
    "\n",
    "Ripetere i passaggi al punto precedente per matrici di dimensione $n = 10$, $15$ e $20$. Per ognuno dei casi calcolare la norma dell'errore relativo e il condizionamento della matrice e rappresentarli su due grafici in scala logaritmica. Commentare i risultati alla luce della teoria."
   ]
  },
  {
   "cell_type": "code",
   "execution_count": null,
   "metadata": {
    "id": "rUyHi-RbvxRj"
   },
   "outputs": [],
   "source": [
    "\n",
    "\n",
    "\n"
   ]
  },
  {
   "cell_type": "markdown",
   "metadata": {
    "id": "c5HxqoezCkJg"
   },
   "source": [
    "## **Esercizio 2** &nbsp; &nbsp; <small>(10 punti)</small>\n",
    "\n",
    "Si consideri il seguente integrale\n",
    "\n",
    "$$I=\\displaystyle \\int_a^b f(x) dx$$\n",
    "\n",
    "con $f(x)=\\dfrac{1}{\\sqrt{x^2-1}}$, sapendo che la primitiva dell'integranda è data da\n",
    "$$F(x) = |x+\\sqrt{x^2-1}|+c.$$"
   ]
  },
  {
   "cell_type": "markdown",
   "metadata": {
    "id": "BDaTS8h4GPF6"
   },
   "source": [
    "##### **a) [T]** &nbsp; &nbsp; (4 punti)\n",
    "\n",
    "Introdurre il metodo di quadratura del punto medio e di Simpson e la loro versione composita. Qual è l'ordine di accuratezza per tali metodi? E il loro grado di esattezza?"
   ]
  },
  {
   "cell_type": "markdown",
   "metadata": {
    "id": "s5Vmj7wGycNP"
   },
   "source": [
    "##### **b) [P+T]** &nbsp; &nbsp; (4 punti)\n",
    "\n",
    "Usando le funzioni pmedcomp e simpcomp calcolare un'approssimazione di $I$ considerando l'intervallo di integrazione compreso fra $a = 1.02$ e $b = 2$, e suddividendolo in $N = [10, 20, 40, 80]$ sotto-intervalli. Calcolare l'errore ottenuto e rappresentarlo in scala logaritmica. Commentare i risultati ottenuti alla luce della teoria."
   ]
  },
  {
   "cell_type": "code",
   "execution_count": null,
   "metadata": {
    "id": "3mdeGSQpysif"
   },
   "outputs": [],
   "source": [
    "from functions2024 import pmedcomp, simpcomp\n",
    "\n",
    "\n",
    "\n"
   ]
  },
  {
   "cell_type": "markdown",
   "metadata": {
    "id": "bMzYEwhAzKFE"
   },
   "source": [
    "##### **c) [P+T]** &nbsp; &nbsp; (2 punti)\n",
    "\n",
    "Rappresentare graficamente l'integranda $f(x)$ nell'intervallo indicato, e proporre una strategia per la scomposizione dell'intervallo di integrazione in modo da aumentare l'accuratezza mantenendo lo stesso numero di divisioni."
   ]
  },
  {
   "cell_type": "code",
   "execution_count": null,
   "metadata": {
    "id": "MVGIfhewzJeH"
   },
   "outputs": [],
   "source": [
    "\n",
    "\n",
    "\n"
   ]
  },
  {
   "cell_type": "markdown",
   "metadata": {
    "id": "ciXsIJuOzvv_"
   },
   "source": [
    "## **Esercizio 3** &nbsp; &nbsp; <small>(10 punti)</small>\n",
    "\n",
    "Si consideri il seguente problema\n",
    "\n",
    "\\begin{gather*}\n",
    "    \\begin{cases}\n",
    "        -u^{\\prime\\prime} = f(x) & 0< x< 1, \\\\\n",
    "        u(0)=0                              \\\\\n",
    "        u^\\prime(1)= 4e^2\n",
    "    \\end{cases}\n",
    "\\end{gather*}"
   ]
  },
  {
   "cell_type": "markdown",
   "metadata": {
    "id": "238r15Xqz6t1"
   },
   "source": [
    "##### **a) [T]** &nbsp; &nbsp; (1 punto)\n",
    "\n",
    "Determinare $f$ tale per cui $u(x) = e^{2x}x^2$ è soluzione esatta del problema e verificare che tale soluzione effettivamente rispetta le condizioni al bordo."
   ]
  },
  {
   "cell_type": "markdown",
   "metadata": {
    "id": "-X4E6ISw0T4B"
   },
   "source": [
    "##### **b) [T]** &nbsp; &nbsp; (4 punti)\n",
    "\n",
    "Introdurre brevemente l'approssimazione del problema con il metodo\n",
    "degli elementi finiti in spazio e derivarne l'espressione matriciale considerando le condizioni al contorno del problema in esame."
   ]
  },
  {
   "cell_type": "markdown",
   "metadata": {
    "id": "3uID1svB1NG5"
   },
   "source": [
    "##### **c) [P]** &nbsp; &nbsp; (2 punti)\n",
    "\n",
    "Si consideri una griglia di ampiezza uniforme $h = 0.1$. Si risolva il\n",
    "problema con il metodo degli elementi finiti lineari, utilizzando la function dirNeusolve fornita. Si rappresenti in un grafico la soluzione numerica sovrapposta alla soluzione esatta."
   ]
  },
  {
   "cell_type": "code",
   "execution_count": null,
   "metadata": {
    "id": "u1_xYNOY0HPg"
   },
   "outputs": [],
   "source": [
    "from fem import Line, generate_mesh, FEspace, plot\n",
    "from fem import dx, ds, deriv, assemble, interpolate, DirichletBC, applyBCs, dof2fun\n",
    "from scipy.sparse.linalg import spsolve\n",
    "\n",
    "# Dati del problema\n",
    "domain = Line(0, 1)\n",
    "f = lambda x:  -2*np.exp(2*x)*(2*x**2 + 4*x + 1)\n",
    "\n",
    "def dirNeusolve(alpha, gamma, h):\n",
    "  \"\"\"\n",
    "  Risolve il problema -u'' = f per 0 < x < 1 con condizioni miste Dirichlet-Neumann\n",
    "  implementando il metodo agli elementi finiti (P1).\n",
    "\n",
    "  Input:\n",
    "    alpha    (float)     condizione di Dirichlet sul bordo sinistro, u(0) = alpha.\n",
    "    gamma    (float)     condizione di Neumann sul bordo destro, u(1) = gamma.\n",
    "    h        (float)     passo della mesh\n",
    "\n",
    "  Output:\n",
    "    u (function di FEniCS).\n",
    "  \"\"\"\n",
    "\n",
    "  mesh = generate_mesh(domain, stepsize = h)\n",
    "  V = FEspace(mesh, 1)\n",
    "\n",
    "  fh = interpolate(f, V)\n",
    "  phi = lambda x: gamma\n",
    "  phih = interpolate(phi, V)\n",
    "\n",
    "  def l(v):\n",
    "    return fh*v*dx + phih*v*ds\n",
    "\n",
    "  def a(u, v):\n",
    "    return deriv(u)*deriv(v)*dx\n",
    "\n",
    "  A = assemble(a, V)\n",
    "  F = assemble(l, V)\n",
    "\n",
    "  def isLeftNode(x):\n",
    "    return x < 1e-12\n",
    "\n",
    "  dbc = DirichletBC(isLeftNode, alpha)\n",
    "  A = applyBCs(A, V, dbc)\n",
    "  F = applyBCs(F, V, dbc)\n",
    "\n",
    "  u = spsolve(A, F)\n",
    "  u = dof2fun(u, V)\n",
    "  return u"
   ]
  },
  {
   "cell_type": "code",
   "execution_count": null,
   "metadata": {
    "id": "ZGnAyj9O3EPo"
   },
   "outputs": [],
   "source": [
    "\n",
    "\n",
    "\n",
    "\n"
   ]
  },
  {
   "cell_type": "markdown",
   "metadata": {
    "id": "yAGkG3b_27tU"
   },
   "source": [
    "##### **d) [P]** &nbsp; &nbsp; (3 punti)\n",
    "\n",
    "Si ripeta il calcolo della soluzione numerica al variare\n",
    "di $h$ con $h =1/N$ , $N = 80, 160, 320$. Calcolare l'errore e rappresentarne l'andamento in scala logaritmica. Commentare il risultato alla luce della teoria."
   ]
  },
  {
   "cell_type": "code",
   "execution_count": null,
   "metadata": {
    "id": "_yXct3gg26hT"
   },
   "outputs": [],
   "source": [
    "from fem import L2error\n",
    "\n",
    "\n",
    "\n"
   ]
  }
 ],
 "metadata": {
  "colab": {
   "collapsed_sections": [
    "5JqA9sZ7PcXS",
    "c5HxqoezCkJg",
    "ciXsIJuOzvv_"
   ],
   "provenance": []
  },
  "kernelspec": {
   "display_name": "Python 3 (ipykernel)",
   "language": "python",
   "name": "python3"
  },
  "language_info": {
   "codemirror_mode": {
    "name": "ipython",
    "version": 3
   },
   "file_extension": ".py",
   "mimetype": "text/x-python",
   "name": "python",
   "nbconvert_exporter": "python",
   "pygments_lexer": "ipython3",
   "version": "3.10.12"
  }
 },
 "nbformat": 4,
 "nbformat_minor": 1
}
