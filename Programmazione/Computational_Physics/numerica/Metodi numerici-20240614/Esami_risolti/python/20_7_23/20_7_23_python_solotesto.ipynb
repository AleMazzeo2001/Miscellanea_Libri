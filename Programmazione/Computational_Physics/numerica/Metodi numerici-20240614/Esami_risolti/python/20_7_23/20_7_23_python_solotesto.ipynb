{
 "cells": [
  {
   "cell_type": "markdown",
   "metadata": {
    "id": "pLrL-zV62eo0"
   },
   "source": [
    "# **Esame del 20 Luglio 2023**\n",
    "\n",
    "- Non si possono consultare libri, note, ed ogni altro materiale o persone durante\n",
    "l’esame ad eccezione delle funzioni Python fornite.\n",
    "\n",
    "- Risolvere i seguenti esercizi con l’ausilio di Python.\n",
    "\n",
    "- La durata del compito è di 90 minuti.\n",
    "\n",
    "- Questo esame ha 3 domande, per un totale di 30/30 punti.\n",
    "\n",
    "- Svolgere gli esercizi marcati con [T] su fogli protocollo, indicando: nome, cognome, codice persona\n",
    "e data"
   ]
  },
  {
   "cell_type": "markdown",
   "metadata": {
    "id": "5gUDdF9P3VXS"
   },
   "source": [
    "# **Esercizio 1 (punti 10)**\n",
    "\n",
    "Si consideri il seguente problema di Cauchy\n",
    "\n",
    "$$\\begin{cases}\n",
    "mx^{\\prime \\prime}(t) + sx^\\prime(t) + kx = f(t)\\qquad 0 \\leq t \\leq 10\\\\\n",
    "x(0)=0\\\\\n",
    "x^\\prime (0)=1\n",
    "\\end{cases}\n",
    "$$\n",
    "\n",
    "dove $m = 1$, $s = 2$, $k = 10$ e $f (t) = \\sin(t)$.\n",
    "\n",
    "**(a) (2 punti) [P]**  Si scriva il problema di Cauchy (1) come un sistema del prim’ordine."
   ]
  },
  {
   "cell_type": "markdown",
   "metadata": {},
   "source": [
    "**(3 punti) [T]** Introdurre il $\\theta$-metodo per la discretizzazione per un sistema di equazioni\n",
    "differenziali ordinarie, compresa la formulazione matriciale associata. Quali metodi\n",
    "otteniamo variando $\\theta$? Che proprietà hanno questi metodi?"
   ]
  },
  {
   "cell_type": "markdown",
   "metadata": {},
   "source": [
    "**(3 punti) [P]** Risolvere il sistema precedente mediante il metodo di Eulero Esplicito (fornito nella function eulero_avanti) con i seguenti passi temporali $\\Delta t = [0.1, 0.01, 0.001]$. Rappresentare graficamente le soluzioni (in particolare $y_1 = x$) e quindi commentare quanto ottenuto sulla base della teoria. "
   ]
  },
  {
   "cell_type": "code",
   "execution_count": 3,
   "metadata": {
    "colab": {
     "base_uri": "https://localhost:8080/",
     "height": 430
    },
    "id": "p8OjwcSV2YZp",
    "outputId": "34bea318-dd3e-44b7-e605-9a7a53d13ff3"
   },
   "outputs": [
    {
     "name": "stdout",
     "output_type": "stream",
     "text": [
      "Help on function eulero_avanti in module utilities_ODE2:\n",
      "\n",
      "eulero_avanti(f, t0, t_max, y0, h)\n",
      "    Risolve il problema di Cauchy\n",
      "    \n",
      "    y'   = f(t,y)\n",
      "    y(0) = y0\n",
      "    \n",
      "    utilizzando il metodo di Eulero in avanti (esplicito):\n",
      "    u^(n+1) = u^n + h*f^n\n",
      "    \n",
      "    L'equazione differenziale ordinaria può essere in generale vettoriale\n",
      "    (y=f(t,y) in R^d)\n",
      "    per d=1 si ottiene il caso scalare.\n",
      "    \n",
      "    Input:\n",
      "          f: lambda function che descrive il problema di Cauchy.\n",
      "              Riceve in input due argomenti: f=f(t,y), con y vettore di lunghezza d\n",
      "          t0, t_max: estremi dell'intervallo temporale di soluzione\n",
      "          y0: dato iniziale del problema di Cauchy (vettore di lunghezza d)\n",
      "          h: ampiezza de passo di discretizzazione temporale\n",
      "    ATTENZIONE: controllare che l'output di f e il dato y0 siano vettori della stessa lunghezza!\n",
      "    \n",
      "    Output:\n",
      "          t_h = vettore degli istanti in cui viene calcolata la soluzione discreta (lunghezza N)\n",
      "          u_h = soluzione discreta calcolata nei nodi temporali t_h (matrice di dimensioni N x d)\n",
      "\n"
     ]
    }
   ],
   "source": [
    "import numpy as np\n",
    "import matplotlib.pyplot as plt\n",
    "from utilities_ODE2 import eulero_avanti\n",
    "\n",
    "help(eulero_avanti)"
   ]
  },
  {
   "cell_type": "markdown",
   "metadata": {},
   "source": [
    "**(2 punti) [P]** Risolvere lo stesso problema utilizzando il metodo RK45 disponibile in scipy.integrate. Rappresentare la soluzione ottenuta evidenziando l’ampiezza dei passi temporali utilizzati, e commentare il risultato."
   ]
  },
  {
   "cell_type": "code",
   "execution_count": 4,
   "metadata": {},
   "outputs": [
    {
     "name": "stdout",
     "output_type": "stream",
     "text": [
      "Help on class RK45 in module scipy.integrate._ivp.rk:\n",
      "\n",
      "class RK45(RungeKutta)\n",
      " |  RK45(fun, t0, y0, t_bound, max_step=inf, rtol=0.001, atol=1e-06, vectorized=False, first_step=None, **extraneous)\n",
      " |  \n",
      " |  Explicit Runge-Kutta method of order 5(4).\n",
      " |  \n",
      " |  This uses the Dormand-Prince pair of formulas [1]_. The error is controlled\n",
      " |  assuming accuracy of the fourth-order method accuracy, but steps are taken\n",
      " |  using the fifth-order accurate formula (local extrapolation is done).\n",
      " |  A quartic interpolation polynomial is used for the dense output [2]_.\n",
      " |  \n",
      " |  Can be applied in the complex domain.\n",
      " |  \n",
      " |  Parameters\n",
      " |  ----------\n",
      " |  fun : callable\n",
      " |      Right-hand side of the system. The calling signature is ``fun(t, y)``.\n",
      " |      Here ``t`` is a scalar, and there are two options for the ndarray ``y``:\n",
      " |      It can either have shape (n,); then ``fun`` must return array_like with\n",
      " |      shape (n,). Alternatively it can have shape (n, k); then ``fun``\n",
      " |      must return an array_like with shape (n, k), i.e., each column\n",
      " |      corresponds to a single column in ``y``. The choice between the two\n",
      " |      options is determined by `vectorized` argument (see below).\n",
      " |  t0 : float\n",
      " |      Initial time.\n",
      " |  y0 : array_like, shape (n,)\n",
      " |      Initial state.\n",
      " |  t_bound : float\n",
      " |      Boundary time - the integration won't continue beyond it. It also\n",
      " |      determines the direction of the integration.\n",
      " |  first_step : float or None, optional\n",
      " |      Initial step size. Default is ``None`` which means that the algorithm\n",
      " |      should choose.\n",
      " |  max_step : float, optional\n",
      " |      Maximum allowed step size. Default is np.inf, i.e., the step size is not\n",
      " |      bounded and determined solely by the solver.\n",
      " |  rtol, atol : float and array_like, optional\n",
      " |      Relative and absolute tolerances. The solver keeps the local error\n",
      " |      estimates less than ``atol + rtol * abs(y)``. Here `rtol` controls a\n",
      " |      relative accuracy (number of correct digits), while `atol` controls\n",
      " |      absolute accuracy (number of correct decimal places). To achieve the\n",
      " |      desired `rtol`, set `atol` to be lower than the lowest value that can\n",
      " |      be expected from ``rtol * abs(y)`` so that `rtol` dominates the\n",
      " |      allowable error. If `atol` is larger than ``rtol * abs(y)`` the\n",
      " |      number of correct digits is not guaranteed. Conversely, to achieve the\n",
      " |      desired `atol` set `rtol` such that ``rtol * abs(y)`` is always lower\n",
      " |      than `atol`. If components of y have different scales, it might be\n",
      " |      beneficial to set different `atol` values for different components by\n",
      " |      passing array_like with shape (n,) for `atol`. Default values are\n",
      " |      1e-3 for `rtol` and 1e-6 for `atol`.\n",
      " |  vectorized : bool, optional\n",
      " |      Whether `fun` is implemented in a vectorized fashion. Default is False.\n",
      " |  \n",
      " |  Attributes\n",
      " |  ----------\n",
      " |  n : int\n",
      " |      Number of equations.\n",
      " |  status : string\n",
      " |      Current status of the solver: 'running', 'finished' or 'failed'.\n",
      " |  t_bound : float\n",
      " |      Boundary time.\n",
      " |  direction : float\n",
      " |      Integration direction: +1 or -1.\n",
      " |  t : float\n",
      " |      Current time.\n",
      " |  y : ndarray\n",
      " |      Current state.\n",
      " |  t_old : float\n",
      " |      Previous time. None if no steps were made yet.\n",
      " |  step_size : float\n",
      " |      Size of the last successful step. None if no steps were made yet.\n",
      " |  nfev : int\n",
      " |      Number evaluations of the system's right-hand side.\n",
      " |  njev : int\n",
      " |      Number of evaluations of the Jacobian. Is always 0 for this solver as it does not use the Jacobian.\n",
      " |  nlu : int\n",
      " |      Number of LU decompositions. Is always 0 for this solver.\n",
      " |  \n",
      " |  References\n",
      " |  ----------\n",
      " |  .. [1] J. R. Dormand, P. J. Prince, \"A family of embedded Runge-Kutta\n",
      " |         formulae\", Journal of Computational and Applied Mathematics, Vol. 6,\n",
      " |         No. 1, pp. 19-26, 1980.\n",
      " |  .. [2] L. W. Shampine, \"Some Practical Runge-Kutta Formulas\", Mathematics\n",
      " |         of Computation,, Vol. 46, No. 173, pp. 135-150, 1986.\n",
      " |  \n",
      " |  Method resolution order:\n",
      " |      RK45\n",
      " |      RungeKutta\n",
      " |      scipy.integrate._ivp.base.OdeSolver\n",
      " |      builtins.object\n",
      " |  \n",
      " |  Data and other attributes defined here:\n",
      " |  \n",
      " |  A = array([[  0.        ,   0.        ,   0.        ...8.90642272,   0...\n",
      " |  \n",
      " |  B = array([ 0.09114583,  0.        ,  0.4492363 ,  0.65104167, -0.3223...\n",
      " |  \n",
      " |  C = array([0.        , 0.2       , 0.3       , 0.8       , 0.88888889,...\n",
      " |  \n",
      " |  E = array([-0.00123264,  0.        ,  0.00425277, -0...7,  0.0508638 ,...\n",
      " |  \n",
      " |  P = array([[ 1.        , -2.85358007,  3.07174346, -...       ,  1.382...\n",
      " |  \n",
      " |  __annotations__ = {}\n",
      " |  \n",
      " |  error_estimator_order = 4\n",
      " |  \n",
      " |  n_stages = 6\n",
      " |  \n",
      " |  order = 5\n",
      " |  \n",
      " |  ----------------------------------------------------------------------\n",
      " |  Methods inherited from RungeKutta:\n",
      " |  \n",
      " |  __init__(self, fun, t0, y0, t_bound, max_step=inf, rtol=0.001, atol=1e-06, vectorized=False, first_step=None, **extraneous)\n",
      " |      Initialize self.  See help(type(self)) for accurate signature.\n",
      " |  \n",
      " |  ----------------------------------------------------------------------\n",
      " |  Methods inherited from scipy.integrate._ivp.base.OdeSolver:\n",
      " |  \n",
      " |  dense_output(self)\n",
      " |      Compute a local interpolant over the last successful step.\n",
      " |      \n",
      " |      Returns\n",
      " |      -------\n",
      " |      sol : `DenseOutput`\n",
      " |          Local interpolant over the last successful step.\n",
      " |  \n",
      " |  step(self)\n",
      " |      Perform one integration step.\n",
      " |      \n",
      " |      Returns\n",
      " |      -------\n",
      " |      message : string or None\n",
      " |          Report from the solver. Typically a reason for a failure if\n",
      " |          `self.status` is 'failed' after the step was taken or None\n",
      " |          otherwise.\n",
      " |  \n",
      " |  ----------------------------------------------------------------------\n",
      " |  Readonly properties inherited from scipy.integrate._ivp.base.OdeSolver:\n",
      " |  \n",
      " |  step_size\n",
      " |  \n",
      " |  ----------------------------------------------------------------------\n",
      " |  Data descriptors inherited from scipy.integrate._ivp.base.OdeSolver:\n",
      " |  \n",
      " |  __dict__\n",
      " |      dictionary for instance variables (if defined)\n",
      " |  \n",
      " |  __weakref__\n",
      " |      list of weak references to the object (if defined)\n",
      " |  \n",
      " |  ----------------------------------------------------------------------\n",
      " |  Data and other attributes inherited from scipy.integrate._ivp.base.OdeSolver:\n",
      " |  \n",
      " |  TOO_SMALL_STEP = 'Required step size is less than spacing between numb...\n",
      "\n"
     ]
    }
   ],
   "source": [
    "from scipy.integrate import RK45\n",
    "help(RK45)\n"
   ]
  },
  {
   "cell_type": "markdown",
   "metadata": {
    "id": "NZelABde7vAg"
   },
   "source": [
    "# **Esercizio 2 (10 punti)**\n",
    "\n",
    "Si consideri il seguente integrale\n",
    "\n",
    "$$I=\\displaystyle\\int_0^{\\frac{3}{2}} f(x) dx$$\n",
    "\n",
    "con $f(x)=\\sec(x)$. La primitiva dell'integranda \\`e $F(x) = \\ln |\\tan(x) + \\sec(x)|$."
   ]
  },
  {
   "cell_type": "markdown",
   "metadata": {
    "id": "0GNWvdMG8gl7"
   },
   "source": [
    "**(a) (4 punti)** [T] Introdurre il metodo di quadratura del punto medio e di Simpson e\n",
    "la loro versione composita. Qualè l’ordine di accuratezza per tali metodi? E il loro\n",
    "grado di esattezza?"
   ]
  },
  {
   "cell_type": "markdown",
   "metadata": {
    "id": "k55ei8KPueSR"
   },
   "source": [
    "**(b) (4 punti) [P]** Usando le funzioni pmedcomp e simpcomp (fornite in functions.py) calcolare un’approssimazione di $I$ per le seguenti suddivisioni dell’intervallo di integrazione $N = [10, 20, 40, 80]$.\n",
    "Calcolare l’errore ottenuto e rappresentarlo in scala logaritmica. Commentare i\n",
    "risultati ottenuti alla luce della teoria. (Nota: usare la definizione di secante come $\\frac{1}{\\cos(x)}$ )."
   ]
  },
  {
   "cell_type": "code",
   "execution_count": 1,
   "metadata": {},
   "outputs": [],
   "source": [
    "from functions import pmedcomp\n",
    "from functions import simpcomp\n",
    "import numpy as np\n",
    "import matplotlib.pyplot as plt\n"
   ]
  },
  {
   "cell_type": "markdown",
   "metadata": {},
   "source": [
    "Possiamo osservare che, come previsto dalla teoria, l’errore decresce quadraticamente con il metodo del punto medio, e con ordine 4 nel caso del metodo di Simpson."
   ]
  },
  {
   "cell_type": "markdown",
   "metadata": {},
   "source": [
    "**(2 punti) [T+P]** Rappresentare graficamente l’integranda $f(x)$, proporre una strategia\n",
    "per di scomposizione dell’intervallo di integrazione in modo da aumentare l’accuratezza\n",
    "mantenendo lo stesso numero di divisioni."
   ]
  },
  {
   "cell_type": "markdown",
   "metadata": {},
   "source": [
    "# **Esercizio 3 (10 punti)**\n",
    "\n",
    "Assumendo $c > 0$, si consideri la seguente equazione di conservazione\n",
    "\n",
    "$$\\begin{cases}\n",
    "\\partial_t c + \\partial_x(0.5 c^2) = 0\\qquad x\\in(0,5),\\;t\\in(0,T]\\\\\n",
    "c(0,x) = e^{-(x-2)^2}\\qquad x\\in(0,5)\\\\\n",
    "c(t,0) = 0\\qquad t\\in(0,T]\n",
    "\\end{cases}$$\n",
    "\n",
    "dove il tempo finale è pari a $T = 1$."
   ]
  },
  {
   "cell_type": "markdown",
   "metadata": {},
   "source": [
    "**(a) (3 punti) [T]** Verificare se il flusso numerico Upwind è applicabile per la discretizzazione dell’equazione proposta con il metodo dei volumi finiti. Scegliere il valore $h = 0.125$ costante per l’ampiezza delle celle. Calcolare quindi il massimo $\\Delta t$ ammesso e chiamare $\\Delta t_{max}$ tale valore."
   ]
  },
  {
   "cell_type": "markdown",
   "metadata": {},
   "source": [
    "**(b) (3 punti) [P]** Sia $N = T /\\Delta t_{max}$, risolvere il problema utilizzando la function  𝚏𝚟𝚜𝚘𝚕𝚟𝚎\n",
    "  contenuta nel file  𝚏𝚞𝚗𝚣𝚒𝚘𝚗𝚒.𝚙𝚢 e selezionando il metodo di Upwind per N , N − 2 e 2N passi temporali\n",
    "(attenzione: calcolare i ∆t corrispondenti!) e rappresentare le soluzioni ottenute\n",
    "usando la function 𝚡𝚝𝚙𝚕𝚘𝚝 contenuta nel file  𝚞𝚝𝚒𝚕𝚒𝚜_𝚙𝚕𝚘𝚝_𝚌𝚕.𝚙𝚢. Commentare cosa si osserva."
   ]
  },
  {
   "cell_type": "code",
   "execution_count": 7,
   "metadata": {},
   "outputs": [
    {
     "name": "stdout",
     "output_type": "stream",
     "text": [
      "Help on function fvsolve in module functions:\n",
      "\n",
      "fvsolve(u0, f, df, L, T, h, dt, method)\n",
      "    Risolve un dato problema di trasporto utilizzando il metodo ai volumi finiti 1D.\n",
      "    \n",
      "    Input:\n",
      "     u0            (lambda function)        Dato al tempo t = 0 (profilo iniziale)\n",
      "     f             (lambda function)        Flusso dell'equazione,  f = f(u)\n",
      "     df            (lambda function)        Derivata del flusso, df = f'(u)\n",
      "     L             (float)                  Lunghezza dell'intervallo spaziale\n",
      "     T             (float)                  Tempo finale\n",
      "     h             (float)                  Grandezza delle celle\n",
      "     dt            (float)                  Passo temporale\n",
      "     method        (string)                 Metodo da utilizzare per i flussi\n",
      "    \n",
      "    Output:\n",
      "    xc     (numpy.ndarray)-> vector  Baricentri delle celle\n",
      "    t      (numpy.ndarray)-> vector  Tempi d'evoluzione\n",
      "    u      (numpy.ndarray)-> matrix  Approssimazione della soluzione. Vige la convenzione uij = u(xi,tj).\n",
      "\n"
     ]
    }
   ],
   "source": [
    "import numpy as np\n",
    "import matplotlib.pyplot as plt\n",
    "import functions\n",
    "from utilis_plot_cl import xtplot\n",
    "\n",
    "help(functions.fvsolve)"
   ]
  },
  {
   "cell_type": "markdown",
   "metadata": {},
   "source": [
    "**(c) (2 punti) [T]** Si descriva il flusso numerico di Godunov e se ne discutano le proprietà."
   ]
  },
  {
   "cell_type": "markdown",
   "metadata": {},
   "source": [
    "**(d) (2 punti) [P]** Si calcoli la soluzione del problema proposto utilizzando ora il flusso\n",
    "numerico di Godunov e un opportuno passo temporale."
   ]
  },
  {
   "cell_type": "code",
   "execution_count": null,
   "metadata": {},
   "outputs": [],
   "source": []
  }
 ],
 "metadata": {
  "colab": {
   "provenance": []
  },
  "kernelspec": {
   "display_name": "Python 3 (ipykernel)",
   "language": "python",
   "name": "python3"
  },
  "language_info": {
   "codemirror_mode": {
    "name": "ipython",
    "version": 3
   },
   "file_extension": ".py",
   "mimetype": "text/x-python",
   "name": "python",
   "nbconvert_exporter": "python",
   "pygments_lexer": "ipython3",
   "version": "3.10.12"
  }
 },
 "nbformat": 4,
 "nbformat_minor": 1
}
