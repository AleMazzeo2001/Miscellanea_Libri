{
  "nbformat": 4,
  "nbformat_minor": 0,
  "metadata": {
    "colab": {
      "provenance": []
    },
    "kernelspec": {
      "name": "python3",
      "display_name": "Python 3"
    },
    "language_info": {
      "name": "python"
    }
  },
  "cells": [
    {
      "cell_type": "markdown",
      "source": [
        "# **Lab 4 - Metodi iterativi**\n",
        "\n",
        "Consideriamo un sistema lineare nella forma\n",
        "\n",
        "$$\\mathbf{A}\\mathbf{x}=\\mathbf{b},$$\n",
        "\n",
        "dove $\\mathbf{A}\\in\\mathbb{R}^{n\\times n}$ e $\\mathbf{b}\\in\\mathbb{R}^{n}$ sono noti, mentre $\\mathbf{x}\\in\\mathbb{R}^{n}$ è il vettore incognito.\n",
        "\n",
        "I metodi iterativi si basano sulla seguente idea: se $\\mathbf{A}=\\mathbf{M}-\\mathbf{N}$, con $\\mathbf{M}$ invertibile, allora la soluzione del sistema soddisfa\n",
        "\n",
        "$$\\mathbf{x}=\\mathbf{M}^{-1}\\left(\\mathbf{N}\\mathbf{x}+\\mathbf{b}\\right).$$\n",
        "\n",
        "Visto che quest'ultima è un'equazione di punto fisso, la soluzione si può approssimare con lo schema iterativo\n",
        "\n",
        "$$\\mathbf{x}^{(k+1)}=\\mathbf{M}^{-1}\\left(\\mathbf{N}\\mathbf{x}^{(k)}+\\mathbf{b}\\right).$$\n",
        "\n",
        "La matrice $\\mathbf{B}:=\\mathbf{M}^{-1}\\mathbf{N}$ è detta *matrice di iterazione*. Se chiamiamo $\\mathbf{c}:=\\mathbf{M}^{-1}\\mathbf{b}$, abbiamo la scrittura equivalente\n",
        "\n",
        "$$\\mathbf{x}^{(k+1)}=\\mathbf{B}\\mathbf{x}^{(k)}+\\mathbf{c}.$$"
      ],
      "metadata": {
        "id": "uFSZGG-4Hseh"
      }
    },
    {
      "cell_type": "markdown",
      "source": [
        "I metodi di Jacobi e di Gauss-Seidel, costruiscono le matrici $\\mathbf{M}$ ed $\\mathbf{N}$ a partire da una decomposizione in matrici diagonali e tridiagonali. In particolare, se\n",
        "$$\\mathbf{A}=\\mathbf{D}-\\mathbf{E}-\\mathbf{F},$$\n",
        "con $\\mathbf{D}$ diagonale, $\\mathbf{E}$ e $\\mathbf{F}$ tridiagonali (inferiore e superiore, rispettivamente), allora abbiamo\n",
        "</br></br>\n",
        "**Metodo di Jacobi** $\\;\\mapsto\\;$ $\\mathbf{M}=\\mathbf{D},\\;\\;\\mathbf{N}=\\mathbf{E}+\\mathbf{F}$</br></br>\n",
        "**Metodo di Gauss-Seidel** $\\;\\mapsto\\;$ $\\mathbf{M}=\\mathbf{D}-\\mathbf{E},\\;\\;\\mathbf{N}=\\mathbf{F}$</br></br>"
      ],
      "metadata": {
        "id": "Lb_SbwtiN3PS"
      }
    },
    {
      "cell_type": "markdown",
      "source": [
        "## Parte 1 - Implementazione"
      ],
      "metadata": {
        "id": "ZtCA3S8dljDE"
      }
    },
    {
      "cell_type": "markdown",
      "source": [
        "<mark>**Esercizio 1**</mark></br>\n",
        "Scrivete una function, chiamata *DEFsplit* che, data $\\mathbf{A}$, restituisce le corrispondenti matrici $\\mathbf{D},\\mathbf{E},\\mathbf{F}$.\n",
        "\n",
        "Hint: sfruttate le funzioni *diag*, *tril* e *triu* di numpy (o, equivalentemente, di scipy.linalg)!"
      ],
      "metadata": {
        "id": "vH-QLTiMLJ-S"
      }
    },
    {
      "cell_type": "code",
      "execution_count": null,
      "metadata": {
        "id": "7GXYsnSmHkr-"
      },
      "outputs": [],
      "source": [
        "import numpy as np\n",
        "\n",
        "def DEFsplit(A):\n",
        "  D = np.diag(np.diag(A))\n",
        "  E = -np.tril(A, k = -1)\n",
        "  F = -np.triu(A, k = 1)\n",
        "  return D, E, F"
      ]
    },
    {
      "cell_type": "code",
      "source": [
        "## Per verificarne il funzionamento...\n",
        "\n",
        "A = np.array([[6,1,5,8],\n",
        "              [2,9,1,1],\n",
        "              [3,7,2,4],\n",
        "              [7,1,3,5]])\n",
        "\n",
        "D, E, F = DEFsplit(A)"
      ],
      "metadata": {
        "id": "YT05nMCyL20Q"
      },
      "execution_count": null,
      "outputs": []
    },
    {
      "cell_type": "markdown",
      "source": [
        "<mark>**Esercizio 2**</mark></br>\n",
        "Scrivete una function chiamata *Jacobi_Bc* che, dati $\\mathbf{A}$ e $\\mathbf{b}$, restituisce la matrice d'iterazione $\\mathbf{B}$ ed il vettore di shifting $\\mathbf{c}$ associati al metodo di Jacobi. Scrivete quindi una seconda funzione, *GS_Bc*, che faccia la stessa cosa ma per il metodo di Gauss-Seidel.\n",
        "\n",
        "Hint: per Jacobi, $\\mathbf{M}^{-1}$ è nota in forma chiusa. Per Gauss-Seidel, potete calcolare l'azione di $\\mathbf{M}^{-1}$ su $\\mathbf{N}$, piuttosto che $\\mathbf{M}^{-1}$ (sfruttate la funzione *solve_triangular* del pacchetto *scipy.linalg*)!"
      ],
      "metadata": {
        "id": "T7EBYauJOYCc"
      }
    },
    {
      "cell_type": "code",
      "source": [
        "def Jacobi_Bc(A, b = None):\n",
        "\n",
        "  D, E, F = DEFsplit(A)\n",
        "  M = D\n",
        "  N = E+F\n",
        "\n",
        "  Minv = np.diag(1.0/np.diag(M))\n",
        "  B = Minv @ N\n",
        "\n",
        "  if(b is None):\n",
        "    return B\n",
        "  else:\n",
        "    c = Minv @ b\n",
        "    return B, c"
      ],
      "metadata": {
        "id": "ElNw9T3CMXAm"
      },
      "execution_count": null,
      "outputs": []
    },
    {
      "cell_type": "code",
      "source": [
        "from scipy.linalg import solve_triangular\n",
        "\n",
        "def GS_Bc(A, b = None):\n",
        "\n",
        "  D, E, F = DEFsplit(A)\n",
        "  M = D-E\n",
        "  N = F\n",
        "\n",
        "  B = solve_triangular(M, N, lower = True)\n",
        "\n",
        "  if(b is None):\n",
        "    return B\n",
        "  else:\n",
        "    c = solve_triangular(M, b, lower = True)\n",
        "    return B, c"
      ],
      "metadata": {
        "id": "vmmcpNMFQoFQ"
      },
      "execution_count": null,
      "outputs": []
    },
    {
      "cell_type": "markdown",
      "source": [
        "<mark>**Esercizio 3**</mark></br>\n",
        "Scrivete una function chiamata *iterative_solve* che, dati\n",
        "\n",
        "- $\\mathbf{A}$ matrice del sistema\n",
        "- $\\mathbf{b}$ termine noto\n",
        "- $\\mathbf{x}_{0}$ guess iniziale\n",
        "- il nome del metodo (\"Jacobi\" o \"GS\")\n",
        "\n",
        "approssimi la soluzione $\\mathbf{x}$ con il metodo iterativo corrispondente. La function dovrà accettare anche altri due parametri: **nmax**, cioè il numero massimo di iterazioni, **rtoll**, la tolleranza relativa richiesta. Il particolare, il metodo iterativo va arrestato se\n",
        "\n",
        "$$\\frac{\\|\\mathbf{r}^{(k)}\\|}{\\|\\mathbf{b}\\|}<\\textbf{rtoll},$$\n",
        "\n",
        "dove $\\mathbf{r}^{(k)}:=\\mathbf{A}\\mathbf{x}^{(k)}-\\mathbf{b}$ è il residuo alla *k*-esima iterazione.\n",
        "\n",
        "*Nota*: costruite la function di modo che, in output, essa restituisca la lista delle iterate $[\\mathbf{x}_{1},\\dots,\\mathbf{x}_{N}]$."
      ],
      "metadata": {
        "id": "UB0R-mWBRYEJ"
      }
    },
    {
      "cell_type": "code",
      "source": [
        "def iterative_solve(A, b, x0, method, nmax, rtoll):\n",
        "\n",
        "  r = A @ x0 - b\n",
        "  bnorm = np.linalg.norm(b)\n",
        "\n",
        "  if(method == 'Jacobi'):\n",
        "    B, c = Jacobi_Bc(A, b)\n",
        "  elif(method == 'GS'):\n",
        "    B, c = GS_Bc(A, b)\n",
        "  else:\n",
        "    raise RuntimeError(\"Metodo sconosciuto.\")\n",
        "\n",
        "  k = 0\n",
        "  xiter = [x0]\n",
        "\n",
        "  while( (np.linalg.norm(r)/bnorm) > rtoll  and k < nmax):\n",
        "    xold = xiter[-1]\n",
        "    xnew = B @ xold + c\n",
        "    xiter.append(xnew)\n",
        "    r = A @ xnew - b\n",
        "    k = k+1\n",
        "\n",
        "  return xiter"
      ],
      "metadata": {
        "id": "-wnfV2isQ9yX"
      },
      "execution_count": null,
      "outputs": []
    },
    {
      "cell_type": "markdown",
      "source": [
        "## Parte 2 - Sperimentazione"
      ],
      "metadata": {
        "id": "COsQagSTlml0"
      }
    },
    {
      "cell_type": "markdown",
      "source": [
        "<mark>**Esercizio 4**</mark></br>\n",
        "Si consideri la seguente matrice quadrata\n",
        "\n",
        "\n",
        "$$\\mathbf{A}=\\left[\\begin{array}{cccccc}\n",
        "1 & 1 & 1 & 1 & \\dots & 1\\\\\n",
        "R_{1} & - R_{2} & 0 & 0 & \\dots & 0\\\\\n",
        "0 & R_{1} & - R_{2} & 0 &  \\dots & 0\\\\\n",
        "\\dots & 0 & \\ddots & \\ddots &   & \\dots\\\\\n",
        "\\dots & \\dots &  & \\ddots &  \\ddots & \\dots\\\\\n",
        "0 & 0 & 0 & \\dots & R_{1} & - R_{2} \\\\\n",
        "\\end{array}\\right]$$\n",
        "\n",
        "\n",
        "di dimensione $n=100$, avendo posto $R_{1}=1$ ed $R_{2}=2$.\n",
        "</br></br>\n",
        "a) Assemblare le matrici di iterazione $B_{\\text{J}}$ e $B_{\\text{GS}}$ dei metodi di Jacobi e Gauss-Seidel, quindi calcolarne i rispettivi raggi spettrali. La condizione\n",
        "necessaria e sufficiente per la convergenza del metodo iterativo è soddisfatta in entrambi i casi?\n",
        "\n",
        "*Hint: usate la function $\\texttt{eigvals}$ di $\\texttt{scipy.linalg}$.*\n",
        "</br></br>\n",
        "b) Sia $\\mathbf{b}=[2,1,1,\\dots,1]^{\\top}\\in\\mathbb{R}^{n}$. Approssimare la soluzione del sistema lineare $\\mathbf{A}\\mathbf{x}=\\mathbf{b}$ con il metodo di Jacobi. Si pongano $$\\mathbf{x}_{0}=[0,\\dots,0]^{\\top},\\quad\\texttt{rtoll}=10^{-6},\\quad\\texttt{nmax}=1000.$$ Il metodo converge? Se sì, in quante iterazioni?"
      ],
      "metadata": {
        "id": "taAutQPVl0RU"
      }
    },
    {
      "cell_type": "code",
      "source": [
        "# Costruzione della matrice A\n",
        "n = 100\n",
        "R1, R2 = 1, 2\n",
        "\n",
        "A = -R2*np.diag(np.ones(n))\n",
        "A[0,:] = 1\n",
        "A = A + R1*np.diag(np.ones(n-1), -1)"
      ],
      "metadata": {
        "id": "EUHC3lVQlg0g"
      },
      "execution_count": null,
      "outputs": []
    },
    {
      "cell_type": "code",
      "source": [
        "# a) Raggi spettrali\n",
        "\n",
        "from scipy.linalg import eigvals\n",
        "\n",
        "Bj = Jacobi_Bc(A)\n",
        "BGS = GS_Bc(A)\n",
        "\n",
        "rhoj = np.max(np.abs(eigvals(Bj)))\n",
        "rhoGS = np.max(np.abs(eigvals(BGS)))"
      ],
      "metadata": {
        "id": "qXLcljy-pQW8"
      },
      "execution_count": null,
      "outputs": []
    },
    {
      "cell_type": "code",
      "source": [
        "print(\"Raggio spettrale Jacobi: %.4f\" % rhoj)\n",
        "print(\"Raggio spettrale Gauss-Seidel: %.4f\" % rhoGS)"
      ],
      "metadata": {
        "colab": {
          "base_uri": "https://localhost:8080/"
        },
        "id": "qX_E3vSgpRVe",
        "outputId": "867b8e7a-3425-4a7d-8a95-e7d93059e6e8"
      },
      "execution_count": null,
      "outputs": [
        {
          "output_type": "stream",
          "name": "stdout",
          "text": [
            "Raggio spettrale Jacobi: 0.7071\n",
            "Raggio spettrale Gauss-Seidel: 1.0000\n"
          ]
        }
      ]
    },
    {
      "cell_type": "code",
      "source": [
        "# b) Applicazione di Jacobi\n",
        "\n",
        "b = np.ones(n)\n",
        "b[0] = 2\n",
        "\n",
        "x0 = np.zeros(n)\n",
        "\n",
        "xiter = iterative_solve(A, b, x0, method = 'Jacobi', nmax = 1000, rtoll = 1e-6)"
      ],
      "metadata": {
        "id": "kNEuWYh2p_Qd"
      },
      "execution_count": null,
      "outputs": []
    },
    {
      "cell_type": "code",
      "source": [
        "print(\"Numero iterazioni: %d.\\n\" % len(xiter))\n",
        "print(\"Soluzione approssimata:\")\n",
        "xiter[-1]"
      ],
      "metadata": {
        "colab": {
          "base_uri": "https://localhost:8080/"
        },
        "id": "oeNFZT7Hr2lI",
        "outputId": "edf545b8-d648-47c9-e72e-bf106aab05e5"
      },
      "execution_count": null,
      "outputs": [
        {
          "output_type": "stream",
          "name": "stdout",
          "text": [
            "Numero iterazioni: 48.\n",
            "\n",
            "Soluzione approssimata:\n"
          ]
        },
        {
          "output_type": "execute_result",
          "data": {
            "text/plain": [
              "array([49.99999456, 24.5000007 , 11.75000307,  5.37500118,  2.18749906,\n",
              "        0.59374894, -0.20312506, -0.601562  , -0.80078097, -0.90039074,\n",
              "       -0.95019551, -0.9750977 , -0.98754875, -0.99377435, -0.99688722,\n",
              "       -0.99844364, -0.99922181, -0.99961089, -0.99980544, -0.99990272,\n",
              "       -0.99995137, -0.99997568, -0.99998784, -0.99999392, -0.99999696,\n",
              "       -0.99999848, -0.99999924, -0.99999962, -0.99999981, -0.9999999 ,\n",
              "       -0.99999995, -0.99999998, -0.99999999, -0.99999999, -1.        ,\n",
              "       -1.        , -1.        , -1.        , -1.        , -1.        ,\n",
              "       -1.        , -1.        , -1.        , -1.        , -1.        ,\n",
              "       -1.        , -1.        , -1.        , -1.        , -1.        ,\n",
              "       -1.        , -1.        , -1.        , -1.        , -1.        ,\n",
              "       -1.        , -1.        , -1.        , -1.        , -1.        ,\n",
              "       -1.        , -1.        , -1.        , -1.        , -1.        ,\n",
              "       -1.        , -1.        , -1.        , -1.        , -1.        ,\n",
              "       -1.        , -1.        , -1.        , -1.        , -1.        ,\n",
              "       -1.        , -1.        , -1.        , -1.        , -1.        ,\n",
              "       -1.        , -1.        , -1.        , -1.        , -1.        ,\n",
              "       -1.        , -1.        , -1.        , -1.        , -1.        ,\n",
              "       -1.        , -1.        , -1.        , -1.        , -1.        ,\n",
              "       -1.        , -1.        , -1.        , -1.        , -1.        ])"
            ]
          },
          "metadata": {},
          "execution_count": 10
        }
      ]
    },
    {
      "cell_type": "markdown",
      "source": [
        "<mark>**Esercizio 5**</mark></br>\n",
        "Si considerino la matrice ed il termine noto\n",
        "\n",
        "\n",
        "$$\\mathbf{A}=\\left[\\begin{array}{rrrrrrr}\n",
        "9 & -3 & 1 &  &  & & \\\\\n",
        "-3 & 9 & -3 & 1 &  & & \\\\\n",
        "1 & -3 & 9 & -3 & 1 & & \\\\\n",
        "& 1 & -3 & 9 & -3 & 1 &\\\\\n",
        "& & 1 & -3 & 9 & -3 & 1 \\\\\n",
        "& & & 1 & -3 & 9 & -3  \\\\\n",
        "& & & & 1 & -3 & 9  \\\\\n",
        "\\end{array}\\right],\\quad\\quad \\mathbf{b}=\\left[\\begin{array}{c}7\\\\4\\\\5\\\\5\\\\5\\\\4\\\\7\\end{array}\\right].$$\n",
        "</br>\n",
        "a) Discutere le proprietà della matrice $\\mathbf{A}$ (è simmetrica? è definita positiva$^*$? è a dominanza diagonale per righe?)\n",
        "</br></br>\n",
        "b) Approssimare la soluzione del sistema lineare $\\mathbf{A}\\mathbf{x}=\\mathbf{b}$ con i metodi di Jacobi e di Gauss-Seidel, utilizzando il vettore nullo come guess iniziale. Si ponga $\\texttt{rtoll}=10^{-6}$ e $\\texttt{nmax}=1000$. Confrontare il numero\n",
        "di iterazioni necessarie per arrivare a convergenza per i due metodi e commentare i risultati\n",
        "ottenuti.\n",
        "</br>\n",
        "</br>\n",
        "$^*$*Hint: sfruttate la function $\\texttt{eigvalsh}$ del pacchetto $\\texttt{scipy.linalg} $ (perché??)*\n"
      ],
      "metadata": {
        "id": "Fk30wPKCsz6t"
      }
    },
    {
      "cell_type": "code",
      "source": [
        "# a) Assemblaggio di A e check delle proprietà\n",
        "\n",
        "n = 7\n",
        "A = - 3*np.diag(np.ones(n-1), 1) + np.diag(np.ones(n-2), 2)\n",
        "A = 9*np.diag(np.ones(n)) + A + A.T\n",
        "\n",
        "# Simmetrica: sì, si vede ad occhio! (oppure, vedasi Es. 7 per un check \"al calcolatore\")\n",
        "# Dominanza diagonale per righe: sì, si vede ad occhio! (oppure, vedasi Es. 7 per un check \"al calcolatore\")\n",
        "\n",
        "# Definita positiva? Guardiamo il più piccolo degli autovalori\n",
        "\n",
        "from scipy.linalg import eigvalsh\n",
        "\n",
        "np.min(eigvalsh(A))"
      ],
      "metadata": {
        "colab": {
          "base_uri": "https://localhost:8080/"
        },
        "id": "YJGNAL_9Blwm",
        "outputId": "09f9ea99-c597-41eb-f104-7013d1f57277"
      },
      "execution_count": null,
      "outputs": [
        {
          "output_type": "execute_result",
          "data": {
            "text/plain": [
              "4.904226454981309"
            ]
          },
          "metadata": {},
          "execution_count": 11
        }
      ]
    },
    {
      "cell_type": "code",
      "source": [
        "# b) Applicazione dei metodi e confronto\n",
        "b = np.array([7, 4, 5, 5, 5, 4, 7])\n",
        "\n",
        "x0 = np.zeros(n)\n",
        "\n",
        "xj = iterative_solve(A, b, x0, method = 'Jacobi', rtoll = 1e-6, nmax = 1000)\n",
        "xgs = iterative_solve(A, b, x0, method = 'GS', rtoll = 1e-6, nmax = 1000)"
      ],
      "metadata": {
        "id": "YTGSQOBLvfPU"
      },
      "execution_count": null,
      "outputs": []
    },
    {
      "cell_type": "code",
      "source": [
        "print(\"\\t\\t\\tJacobi\\tGauss-Seidel\\n\" + \"-\"*44)\n",
        "print(\"Convergenza:\\t\\t%s\\t%s\" % (len(xj)<1000, len(xgs)<1000))\n",
        "print(\"Numero di iterazioni:\\t%d\\t%d\" % (len(xj), len(xgs)))"
      ],
      "metadata": {
        "colab": {
          "base_uri": "https://localhost:8080/"
        },
        "id": "a5MO2osavy43",
        "outputId": "dd76d740-460e-4582-ac1b-842997fbc521"
      },
      "execution_count": null,
      "outputs": [
        {
          "output_type": "stream",
          "name": "stdout",
          "text": [
            "\t\t\tJacobi\tGauss-Seidel\n",
            "--------------------------------------------\n",
            "Convergenza:\t\tTrue\tTrue\n",
            "Numero di iterazioni:\t50\t13\n"
          ]
        }
      ]
    },
    {
      "cell_type": "markdown",
      "source": [
        "## Parte 3 - Metodi pre-implementati: gradiente coniugato"
      ],
      "metadata": {
        "id": "kamFQXNBySUW"
      }
    },
    {
      "cell_type": "markdown",
      "source": [
        "<mark>**Esercizio 6**</mark></br>\n",
        "La function $\\texttt{cg}$ del pacchetto $\\texttt{scipy.sparse.linalg}$ implementa il metodo del gradiente coniugato. Viceversa, la function $\\texttt{gdescent}$, disponibile nello script $\\texttt{utils.py}$, implementa il metodo del gradiente.\n",
        "\n",
        "Una volta appurato che entrambi i metodi sono applicabile al problema dell'esercizio 5,\n",
        "</br></br>\n",
        "a) Approssimare la soluzione del sistema con i metodi del gradiente e del gradiente coniugato. Si utilizzino gli stessi iperparametri usati all'es. 5 (guess iniziale, tolleranza relativa, numero massimo di iterazioni). I metodi convergono? Che soluzione si ottiene?\n",
        "</br></br>\n",
        "b) Nei due casi, quante iterazioni ci sono volute? *Hint: per $\\texttt{cg}$, sfruttate l'input opzionale $\\texttt{callback}$*!"
      ],
      "metadata": {
        "id": "v4S7Z7cFxGS6"
      }
    },
    {
      "cell_type": "code",
      "source": [
        "from scipy.sparse.linalg import cg\n",
        "\n",
        "x, info = cg(A, b, x0, tol = 1e-6, maxiter = 1000, callback = lambda xk: print(\"step!\"))\n",
        "\n",
        "print(\"\\nSoluzione approssimata (CG):\")\n",
        "print(x)"
      ],
      "metadata": {
        "id": "WrrLMh5YwLc9",
        "colab": {
          "base_uri": "https://localhost:8080/"
        },
        "outputId": "b696c32f-04da-4a97-a942-2f3bf960cd0c"
      },
      "execution_count": null,
      "outputs": [
        {
          "output_type": "stream",
          "name": "stdout",
          "text": [
            "step!\n",
            "step!\n",
            "step!\n",
            "step!\n",
            "\n",
            "Soluzione approssimata (CG):\n",
            "[1. 1. 1. 1. 1. 1. 1.]\n"
          ]
        }
      ]
    },
    {
      "cell_type": "code",
      "source": [
        "from utils import gdescent\n",
        "xg = gdescent(A, b, x0, nmax = 10000, rtoll = 1e-5)\n",
        "\n",
        "print(\"Soluzione approssimata (Gradient descent):\")\n",
        "print(xg[-1])"
      ],
      "metadata": {
        "colab": {
          "base_uri": "https://localhost:8080/"
        },
        "id": "71MfE7OLxOio",
        "outputId": "254d8db9-fe12-4511-a490-2b8652163b62"
      },
      "execution_count": null,
      "outputs": [
        {
          "output_type": "stream",
          "name": "stdout",
          "text": [
            "Soluzione approssimata (Gradient descent):\n",
            "[0.99999958 0.99999228 0.99999331 0.99998581 0.99999331 0.99999228\n",
            " 0.99999958]\n"
          ]
        }
      ]
    },
    {
      "cell_type": "code",
      "source": [
        "len(xg) # numero iterazioni metodo del gradiente"
      ],
      "metadata": {
        "colab": {
          "base_uri": "https://localhost:8080/"
        },
        "id": "u1Y7Kt5pSH-n",
        "outputId": "0ae6c96f-5d95-4dbe-fe7a-c9b15eb872fa"
      },
      "execution_count": null,
      "outputs": [
        {
          "output_type": "execute_result",
          "data": {
            "text/plain": [
              "18"
            ]
          },
          "metadata": {},
          "execution_count": 16
        }
      ]
    },
    {
      "cell_type": "markdown",
      "source": [
        "## Esercizi per casa"
      ],
      "metadata": {
        "id": "JUaVFqIM5eST"
      }
    },
    {
      "cell_type": "markdown",
      "source": [
        "<mark>**Esercizio 7**</mark></br>\n",
        "Scrivete le seguenti function a valori booleani (vero o falso):\n",
        "\n",
        "- **sym** che, data $\\mathbf{A}$, restituisce $\\texttt{True}$ se e solo se $\\mathbf{A}$ è simmetrica;\n",
        "\n",
        "- **sdp** che, data $\\mathbf{A}$, restituisce $\\texttt{True}$ se e solo se $\\mathbf{A}$ è simmetrica definita positiva;\n",
        "\n",
        "- **rowdom** che, data $\\mathbf{A}$, restituisce $\\texttt{True}$ se e solo se $\\mathbf{A}$ è a dominanza diagonale per righe."
      ],
      "metadata": {
        "id": "FXXcSazw8AsD"
      }
    },
    {
      "cell_type": "code",
      "source": [
        "def sym(A):\n",
        "  return np.min(np.abs(A-A.T))<1e-15\n",
        "\n",
        "def sdp(A):\n",
        "  if(sym(A)):\n",
        "    return np.min(eigvalsh(A))>0\n",
        "  else:\n",
        "    return False\n",
        "\n",
        "def rowdom(A):\n",
        "  d = np.diag(A)\n",
        "  Aoff = A-np.diag(d)\n",
        "  off_sums = np.sum(np.abs(Aoff), axis = 1)\n",
        "\n",
        "  return np.all(np.abs(d) >= off_sums)"
      ],
      "metadata": {
        "id": "xSTY3bzg7_uB"
      },
      "execution_count": null,
      "outputs": []
    },
    {
      "cell_type": "markdown",
      "source": [
        "<mark>**Esercizio 8**</mark></br>\n",
        "Si considerino la matrice pentadiagonale ed il termine noto\n",
        "\n",
        "\n",
        "$$\\mathbf{A}=\\left[\\begin{array}{rrrrrrr}\n",
        "5 & -1 & -1 &  &  & & \\\\\n",
        "-1 & 5 & -1 & -1 &  & & \\\\\n",
        "-1 & -1 & 5 & -1 & -1 & & \\\\\n",
        "& \\ddots  & \\ddots & \\ddots & \\ddots & \\ddots  &\\\\\n",
        "& & -1 & -1 & 5 & -1 & -1 \\\\\n",
        "& & &  -1 & -1 & 5 & -1 \\\\\n",
        "& & & & -1 & -1 & 5 \\\\\n",
        "\\end{array}\\right],\\quad\\quad \\mathbf{b}=\\left[\\begin{array}{c}0.2\\\\0.2\\\\0.2\\\\\\vdots\\\\0.2\\\\0.2\\\\0.2\\end{array}\\right].$$\n",
        "</br>\n",
        "a) La matrice $\\mathbf{A}$ è simmetrica definitiva positiva?\n",
        "</br></br>\n",
        "b) Approssimare la soluzione del sistema lineare con i metodi di Jacobi, Gauss-Seidel, Gradiente e Gradiente Coniugato (si utilizzi il vettore nullo come guess iniziale, $10^{-5}$ come tolleranza relativa, $10000$ come numero massimo di iterazioni).\n",
        "</br></br>\n",
        "c) Plottare l'andamento del residuo relativo $\\|\\mathbf{r}^{(k)}\\|/\\|\\mathbf{b}\\|$ in funzione delle iterate $k$, mettendo così a paragone i quattro metodi.\n"
      ],
      "metadata": {
        "id": "KtfMBiNM0T-b"
      }
    },
    {
      "cell_type": "code",
      "source": [
        "# a) Assemblaggio matrice e check proprietà\n",
        "n = 50\n",
        "A = -np.diag(np.ones(n-1), 1)-np.diag(np.ones(n-2), 2)\n",
        "A = 5*np.diag(np.ones(n)) + A + A.T\n",
        "\n",
        "sdp(A)"
      ],
      "metadata": {
        "colab": {
          "base_uri": "https://localhost:8080/"
        },
        "id": "gc_n5SMI-fLQ",
        "outputId": "d125f2ec-dd5f-4297-aff5-701eb5e103c7"
      },
      "execution_count": null,
      "outputs": [
        {
          "output_type": "execute_result",
          "data": {
            "text/plain": [
              "True"
            ]
          },
          "metadata": {},
          "execution_count": 18
        }
      ]
    },
    {
      "cell_type": "code",
      "source": [
        "# b) Applicazione dei metodi iterativi\n",
        "\n",
        "b = 0.2*np.ones(n)\n",
        "x0 = np.zeros(n)\n",
        "\n",
        "# Gradiente\n",
        "xgd = gdescent(A, b, x0 = x0, rtoll = 1e-5, nmax = 10000)\n",
        "\n",
        "# Gradiente coniugato (sfruttiamo il callback per salvare le iterate: ci servirà dopo)\n",
        "xcg = [x0]\n",
        "cg(A, b, x0 = x0, tol = 1e-5, maxiter = 10000, callback = lambda xk: xcg.append(xk+0.0))\n",
        "\n",
        "# Jacobi\n",
        "xj = iterative_solve(A, b, x0, method = 'Jacobi', rtoll = 1e-5, nmax = 10000)\n",
        "\n",
        "# Gauss-Seidel\n",
        "xgs = iterative_solve(A, b, x0, method = 'GS', rtoll = 1e-5, nmax = 10000)"
      ],
      "metadata": {
        "id": "Nb8DbabyxcOK"
      },
      "execution_count": null,
      "outputs": []
    },
    {
      "cell_type": "code",
      "source": [
        "# c) Calcolo dei residui e plot\n",
        "bnorm = np.linalg.norm(b)\n",
        "\n",
        "rj = [np.linalg.norm(A@xk-b)/bnorm for xk in xj]\n",
        "rgs = [np.linalg.norm(A@xk-b)/bnorm for xk in xgs]\n",
        "rgd = [np.linalg.norm(A@xk-b)/bnorm for xk in xgd]\n",
        "rcg = [np.linalg.norm(A@xk-b)/bnorm for xk in xcg]"
      ],
      "metadata": {
        "id": "0rMGQ4RT0fyj"
      },
      "execution_count": null,
      "outputs": []
    },
    {
      "cell_type": "code",
      "source": [
        "import matplotlib.pyplot as plt\n",
        "\n",
        "# Plot in scala logaritmica sulle y\n",
        "\n",
        "plt.figure(figsize = (6, 4))\n",
        "plt.semilogy(rj, 'o', label = 'Jacobi', markersize = 5)\n",
        "plt.semilogy(rgs, 's', label = 'Gauss-Seidel', markersize = 5)\n",
        "plt.semilogy(rgd, 'h', label = 'Gradient descent', markersize = 5)\n",
        "plt.semilogy(rcg, 'd', label = 'Conjugate Gradient', markersize = 5)\n",
        "plt.grid()\n",
        "plt.legend()\n",
        "plt.xlabel(\"Numero iterazioni\")\n",
        "plt.ylabel(\"Residuo relativo\")\n",
        "plt.show()"
      ],
      "metadata": {
        "colab": {
          "base_uri": "https://localhost:8080/",
          "height": 388
        },
        "id": "-YKNz2RK-IHU",
        "outputId": "31651296-8d31-4ad3-d7b6-ba1a34568253"
      },
      "execution_count": null,
      "outputs": [
        {
          "output_type": "display_data",
          "data": {
            "text/plain": [
              "<Figure size 600x400 with 1 Axes>"
            ],
            "image/png": "[encoded data removed]"
          },
          "metadata": {}
        }
      ]
    }
  ]
}