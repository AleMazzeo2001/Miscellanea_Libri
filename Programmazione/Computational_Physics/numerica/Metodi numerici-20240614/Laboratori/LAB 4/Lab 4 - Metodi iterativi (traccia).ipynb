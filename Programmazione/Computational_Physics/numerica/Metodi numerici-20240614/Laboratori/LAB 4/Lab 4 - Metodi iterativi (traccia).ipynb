{
  "nbformat": 4,
  "nbformat_minor": 0,
  "metadata": {
    "colab": {
      "provenance": []
    },
    "kernelspec": {
      "name": "python3",
      "display_name": "Python 3"
    },
    "language_info": {
      "name": "python"
    }
  },
  "cells": [
    {
      "cell_type": "markdown",
      "source": [
        "# **Lab 4 - Metodi iterativi**\n",
        "\n",
        "Consideriamo un sistema lineare nella forma\n",
        "\n",
        "$$\\mathbf{A}\\mathbf{x}=\\mathbf{b},$$\n",
        "\n",
        "dove $\\mathbf{A}\\in\\mathbb{R}^{n\\times n}$ e $\\mathbf{b}\\in\\mathbb{R}^{n}$ sono noti, mentre $\\mathbf{x}\\in\\mathbb{R}^{n}$ è il vettore incognito.\n",
        "\n",
        "I metodi iterativi si basano sulla seguente idea: se $\\mathbf{A}=\\mathbf{M}-\\mathbf{N}$, con $\\mathbf{M}$ invertibile, allora la soluzione del sistema soddisfa\n",
        "\n",
        "$$\\mathbf{x}=\\mathbf{M}^{-1}\\left(\\mathbf{N}\\mathbf{x}+\\mathbf{b}\\right).$$\n",
        "\n",
        "Visto che quest'ultima è un'equazione di punto fisso, la soluzione si può approssimare con lo schema iterativo\n",
        "\n",
        "$$\\mathbf{x}^{(k+1)}=\\mathbf{M}^{-1}\\left(\\mathbf{N}\\mathbf{x}^{(k)}+\\mathbf{b}\\right).$$\n",
        "\n",
        "La matrice $\\mathbf{B}:=\\mathbf{M}^{-1}\\mathbf{N}$ è detta *matrice di iterazione*. Se chiamiamo $\\mathbf{c}:=\\mathbf{M}^{-1}\\mathbf{b}$, abbiamo la scrittura equivalente\n",
        "\n",
        "$$\\mathbf{x}^{(k+1)}=\\mathbf{B}\\mathbf{x}^{(k)}+\\mathbf{c}.$$"
      ],
      "metadata": {
        "id": "uFSZGG-4Hseh"
      }
    },
    {
      "cell_type": "markdown",
      "source": [
        "I metodi di Jacobi e di Gauss-Seidel, costruiscono le matrici $\\mathbf{M}$ ed $\\mathbf{N}$ a partire da una decomposizione in matrici diagonali e tridiagonali. In particolare, se\n",
        "$$\\mathbf{A}=\\mathbf{D}-\\mathbf{E}-\\mathbf{F},$$\n",
        "con $\\mathbf{D}$ diagonale, $\\mathbf{E}$ e $\\mathbf{F}$ tridiagonali (inferiore e superiore, rispettivamente), allora abbiamo\n",
        "</br></br>\n",
        "**Metodo di Jacobi** $\\;\\mapsto\\;$ $\\mathbf{M}=\\mathbf{D},\\;\\;\\mathbf{N}=\\mathbf{E}+\\mathbf{F}$</br></br>\n",
        "**Metodo di Gauss-Seidel** $\\;\\mapsto\\;$ $\\mathbf{M}=\\mathbf{D}-\\mathbf{E},\\;\\;\\mathbf{N}=\\mathbf{F}$</br></br>"
      ],
      "metadata": {
        "id": "Lb_SbwtiN3PS"
      }
    },
    {
      "cell_type": "markdown",
      "source": [
        "## Parte 1 - Implementazione"
      ],
      "metadata": {
        "id": "ZtCA3S8dljDE"
      }
    },
    {
      "cell_type": "markdown",
      "source": [
        "<mark>**Esercizio 1**</mark></br>\n",
        "Scrivete una function, chiamata *DEFsplit* che, data $\\mathbf{A}$, restituisce le corrispondenti matrici $\\mathbf{D},\\mathbf{E},\\mathbf{F}$.\n",
        "\n",
        "Hint: sfruttate le funzioni *diag*, *tril* e *triu* di numpy (o, equivalentemente, di scipy.linalg)!"
      ],
      "metadata": {
        "id": "vH-QLTiMLJ-S"
      }
    },
    {
      "cell_type": "code",
      "execution_count": null,
      "metadata": {
        "id": "7GXYsnSmHkr-"
      },
      "outputs": [],
      "source": [
        "import numpy as np\n",
        "\n",
        "def DEFsplit(A):\n",
        "  ### Bla bla...\n",
        "  ### Bla bla...\n",
        "\n",
        "  return D, E, F"
      ]
    },
    {
      "cell_type": "code",
      "source": [
        "## Per verificarne il funzionamento...\n",
        "\n",
        "A = np.array([[6,1,5,8],\n",
        "              [2,9,1,1],\n",
        "              [3,7,2,4],\n",
        "              [7,1,3,5]])\n",
        "\n",
        "D, E, F = DEFsplit(A)"
      ],
      "metadata": {
        "id": "YT05nMCyL20Q"
      },
      "execution_count": null,
      "outputs": []
    },
    {
      "cell_type": "markdown",
      "source": [
        "<mark>**Esercizio 2**</mark></br>\n",
        "Scrivete una function chiamata *Jacobi_Bc* che, dati $\\mathbf{A}$ e $\\mathbf{b}$, restituisce la matrice d'iterazione $\\mathbf{B}$ ed il vettore di shifting $\\mathbf{c}$ associati al metodo di Jacobi. Scrivete quindi una seconda funzione, *GS_Bc*, che faccia la stessa cosa ma per il metodo di Gauss-Seidel.\n",
        "\n",
        "Hint: per Jacobi, $\\mathbf{M}^{-1}$ è nota in forma chiusa. Per Gauss-Seidel, potete calcolare l'azione di $\\mathbf{M}^{-1}$ su $\\mathbf{N}$, piuttosto che $\\mathbf{M}^{-1}$ (sfruttate la funzione *solve_triangular* del pacchetto *scipy.linalg*)!"
      ],
      "metadata": {
        "id": "T7EBYauJOYCc"
      }
    },
    {
      "cell_type": "code",
      "source": [
        "def Jacobi_Bc(A, b = None):\n",
        "\n",
        "  D, E, F = DEFsplit(A)\n",
        "  ### Bla bla...\n",
        "  ### Bla bla...\n",
        "\n",
        "  return B, c"
      ],
      "metadata": {
        "id": "ElNw9T3CMXAm"
      },
      "execution_count": null,
      "outputs": []
    },
    {
      "cell_type": "code",
      "source": [
        "from scipy.linalg import solve_triangular\n",
        "\n",
        "def GS_Bc(A, b = None):\n",
        "\n",
        "  D, E, F = DEFsplit(A)\n",
        "  ### Bla bla...\n",
        "  ### Bla bla...\n",
        "\n",
        "  return B, c"
      ],
      "metadata": {
        "id": "vmmcpNMFQoFQ"
      },
      "execution_count": null,
      "outputs": []
    },
    {
      "cell_type": "markdown",
      "source": [
        "<mark>**Esercizio 3**</mark></br>\n",
        "Scrivete una function chiamata *iterative_solve* che, dati\n",
        "\n",
        "- $\\mathbf{A}$ matrice del sistema\n",
        "- $\\mathbf{b}$ termine noto\n",
        "- $\\mathbf{x}_{0}$ guess iniziale\n",
        "- il nome del metodo (\"Jacobi\" o \"GS\")\n",
        "\n",
        "approssimi la soluzione $\\mathbf{x}$ con il metodo iterativo corrispondente. La function dovrà accettare anche altri due parametri: **nmax**, cioè il numero massimo di iterazioni, **rtoll**, la tolleranza relativa richiesta. Il particolare, il metodo iterativo va arrestato se\n",
        "\n",
        "$$\\frac{\\|\\mathbf{r}^{(k)}\\|}{\\|\\mathbf{b}\\|}<\\textbf{rtoll},$$\n",
        "\n",
        "dove $\\mathbf{r}^{(k)}:=\\mathbf{A}\\mathbf{x}^{(k)}-\\mathbf{b}$ è il residuo alla *k*-esima iterazione.\n",
        "\n",
        "*Nota*: costruite la function di modo che, in output, essa restituisca la lista delle iterate $[\\mathbf{x}_{1},\\dots,\\mathbf{x}_{N}]$."
      ],
      "metadata": {
        "id": "UB0R-mWBRYEJ"
      }
    },
    {
      "cell_type": "code",
      "source": [
        "def iterative_solve(A, b, x0, method, nmax, rtoll):\n",
        "\n",
        "  ### Bla bla...\n",
        "  ### Bla bla...\n",
        "  ### Bla bla...\n",
        "\n",
        "  return xiter"
      ],
      "metadata": {
        "id": "-wnfV2isQ9yX"
      },
      "execution_count": null,
      "outputs": []
    },
    {
      "cell_type": "markdown",
      "source": [
        "## Parte 2 - Sperimentazione"
      ],
      "metadata": {
        "id": "COsQagSTlml0"
      }
    },
    {
      "cell_type": "markdown",
      "source": [
        "<mark>**Esercizio 4**</mark></br>\n",
        "Si consideri la seguente matrice quadrata\n",
        "\n",
        "\n",
        "$$\\mathbf{A}=\\left[\\begin{array}{cccccc}\n",
        "1 & 1 & 1 & 1 & \\dots & 1\\\\\n",
        "R_{1} & - R_{2} & 0 & 0 & \\dots & 0\\\\\n",
        "0 & R_{1} & - R_{2} & 0 &  \\dots & 0\\\\\n",
        "\\dots & 0 & \\ddots & \\ddots &   & \\dots\\\\\n",
        "\\dots & \\dots &  & \\ddots &  \\ddots & \\dots\\\\\n",
        "0 & 0 & 0 & \\dots & R_{1} & - R_{2} \\\\\n",
        "\\end{array}\\right]$$\n",
        "\n",
        "\n",
        "di dimensione $n=100$, avendo posto $R_{1}=1$ ed $R_{2}=2$.\n",
        "</br></br>\n",
        "a) Assemblare le matrici di iterazione $B_{\\text{J}}$ e $B_{\\text{GS}}$ dei metodi di Jacobi e Gauss-Seidel, quindi calcolarne i rispettivi raggi spettrali. La condizione\n",
        "necessaria e sufficiente per la convergenza del metodo iterativo è soddisfatta in entrambi i casi?\n",
        "\n",
        "*Hint: usate la function $\\texttt{eigvals}$ di $\\texttt{scipy.linalg}$.*\n",
        "</br></br>\n",
        "b) Sia $\\mathbf{b}=[2,1,1,\\dots,1]^{\\top}\\in\\mathbb{R}^{n}$. Approssimare la soluzione del sistema lineare $\\mathbf{A}\\mathbf{x}=\\mathbf{b}$ con il metodo di Jacobi. Si pongano $$\\mathbf{x}_{0}=[0,\\dots,0]^{\\top},\\quad\\texttt{rtoll}=10^{-6},\\quad\\texttt{nmax}=1000.$$ Il metodo converge? Se sì, in quante iterazioni?"
      ],
      "metadata": {
        "id": "taAutQPVl0RU"
      }
    },
    {
      "cell_type": "code",
      "source": [
        "# Costruzione della matrice A\n",
        "n = 100\n",
        "R1, R2 = 1, 2\n",
        "\n",
        "A = -R2*np.diag(np.ones(n))\n",
        "A[0,:] = 1\n",
        "A = A + R1*np.diag(np.ones(n-1), -1)"
      ],
      "metadata": {
        "id": "EUHC3lVQlg0g"
      },
      "execution_count": null,
      "outputs": []
    },
    {
      "cell_type": "code",
      "source": [
        "# a) Raggi spettrali\n",
        "\n",
        "\n",
        "\n",
        "\n"
      ],
      "metadata": {
        "id": "qXLcljy-pQW8"
      },
      "execution_count": null,
      "outputs": []
    },
    {
      "cell_type": "code",
      "source": [
        "print(\"Raggio spettrale Jacobi: %.4f\" % rhoj)\n",
        "print(\"Raggio spettrale Gauss-Seidel: %.4f\" % rhoGS)"
      ],
      "metadata": {
        "id": "qX_E3vSgpRVe"
      },
      "execution_count": null,
      "outputs": []
    },
    {
      "cell_type": "code",
      "source": [
        "# b) Applicazione di Jacobi\n",
        "\n",
        "\n",
        "\n",
        "\n",
        "\n"
      ],
      "metadata": {
        "id": "kNEuWYh2p_Qd"
      },
      "execution_count": null,
      "outputs": []
    },
    {
      "cell_type": "markdown",
      "source": [
        "<mark>**Esercizio 5**</mark></br>\n",
        "Si considerino la matrice ed il termine noto\n",
        "\n",
        "\n",
        "$$\\mathbf{A}=\\left[\\begin{array}{rrrrrrr}\n",
        "9 & -3 & 1 &  &  & & \\\\\n",
        "-3 & 9 & -3 & 1 &  & & \\\\\n",
        "1 & -3 & 9 & -3 & 1 & & \\\\\n",
        "& 1 & -3 & 9 & -3 & 1 &\\\\\n",
        "& & 1 & -3 & 9 & -3 & 1 \\\\\n",
        "& & & 1 & -3 & 9 & -3  \\\\\n",
        "& & & & 1 & -3 & 9  \\\\\n",
        "\\end{array}\\right],\\quad\\quad \\mathbf{b}=\\left[\\begin{array}{c}7\\\\4\\\\5\\\\5\\\\5\\\\4\\\\7\\end{array}\\right].$$\n",
        "</br>\n",
        "a) Discutere le proprietà della matrice $\\mathbf{A}$ (è simmetrica? è definita positiva$^*$? è a dominanza diagonale per righe?)\n",
        "</br></br>\n",
        "b) Approssimare la soluzione del sistema lineare $\\mathbf{A}\\mathbf{x}=\\mathbf{b}$ con i metodi di Jacobi e di Gauss-Seidel, utilizzando il vettore nullo come guess iniziale. Si ponga $\\texttt{rtoll}=10^{-6}$ e $\\texttt{nmax}=1000$. Confrontare il numero\n",
        "di iterazioni necessarie per arrivare a convergenza per i due metodi e commentare i risultati\n",
        "ottenuti.\n",
        "</br>\n",
        "</br>\n",
        "$^*$*Hint: sfruttate la function $\\texttt{eigvalsh}$ del pacchetto $\\texttt{scipy.linalg} $ (perché??)*\n"
      ],
      "metadata": {
        "id": "Fk30wPKCsz6t"
      }
    },
    {
      "cell_type": "code",
      "source": [
        "# a) Assemblaggio di A e check delle proprietà\n",
        "\n",
        "\n",
        "\n",
        "\n",
        "\n",
        "\n"
      ],
      "metadata": {
        "id": "YJGNAL_9Blwm"
      },
      "execution_count": null,
      "outputs": []
    },
    {
      "cell_type": "code",
      "source": [
        "# b) Applicazione dei metodi e confronto\n",
        "\n",
        "\n",
        "\n",
        "\n",
        "\n",
        "\n"
      ],
      "metadata": {
        "id": "YTGSQOBLvfPU"
      },
      "execution_count": null,
      "outputs": []
    },
    {
      "cell_type": "code",
      "source": [
        "print(\"\\t\\t\\tJacobi\\tGauss-Seidel\\n\" + \"-\"*44)\n",
        "print(\"Convergenza:\\t\\t%s\\t%s\" % (len(xj)<1000, len(xgs)<1000))\n",
        "print(\"Numero di iterazioni:\\t%d\\t%d\" % (len(xj), len(xgs)))"
      ],
      "metadata": {
        "id": "a5MO2osavy43"
      },
      "execution_count": null,
      "outputs": []
    },
    {
      "cell_type": "markdown",
      "source": [
        "## Parte 3 - Metodi pre-implementati: gradiente coniugato"
      ],
      "metadata": {
        "id": "kamFQXNBySUW"
      }
    },
    {
      "cell_type": "markdown",
      "source": [
        "<mark>**Esercizio 6**</mark></br>\n",
        "La function $\\texttt{cg}$ del pacchetto $\\texttt{scipy.sparse.linalg}$ implementa il metodo del gradiente coniugato. Viceversa, la function $\\texttt{gdescent}$, disponibile nello script $\\texttt{utils.py}$, implementa il metodo del gradiente.\n",
        "\n",
        "Una volta appurato che entrambi i metodi sono applicabile al problema dell'esercizio 5,\n",
        "</br></br>\n",
        "a) Approssimare la soluzione del sistema con i metodi del gradiente e del gradiente coniugato. Si utilizzino gli stessi iperparametri usati all'es. 5 (guess iniziale, tolleranza relativa, numero massimo di iterazioni). I metodi convergono? Che soluzione si ottiene?\n",
        "</br></br>\n",
        "b) Nei due casi, quante iterazioni ci sono volute? *Hint: per $\\texttt{cg}$, sfruttate l'input opzionale $\\texttt{callback}$*!"
      ],
      "metadata": {
        "id": "v4S7Z7cFxGS6"
      }
    },
    {
      "cell_type": "code",
      "source": [
        "\n",
        "\n",
        "\n",
        "\n",
        "\n",
        "\n"
      ],
      "metadata": {
        "id": "WrrLMh5YwLc9"
      },
      "execution_count": null,
      "outputs": []
    },
    {
      "cell_type": "markdown",
      "source": [
        "## Esercizi per casa"
      ],
      "metadata": {
        "id": "JUaVFqIM5eST"
      }
    },
    {
      "cell_type": "markdown",
      "source": [
        "<mark>**Esercizio 7**</mark></br>\n",
        "Scrivete le seguenti function a valori booleani (vero o falso):\n",
        "\n",
        "- **sym** che, data $\\mathbf{A}$, restituisce $\\texttt{True}$ se e solo se $\\mathbf{A}$ è simmetrica;\n",
        "\n",
        "- **sdp** che, data $\\mathbf{A}$, restituisce $\\texttt{True}$ se e solo se $\\mathbf{A}$ è simmetrica definita positiva;\n",
        "\n",
        "- **rowdom** che, data $\\mathbf{A}$, restituisce $\\texttt{True}$ se e solo se $\\mathbf{A}$ è a dominanza diagonale per righe."
      ],
      "metadata": {
        "id": "FXXcSazw8AsD"
      }
    },
    {
      "cell_type": "code",
      "source": [
        "\n",
        "\n",
        "\n",
        "\n",
        "\n",
        "\n",
        "\n",
        "\n",
        "\n",
        "\n"
      ],
      "metadata": {
        "id": "Mc2LRSuEEX7O"
      },
      "execution_count": null,
      "outputs": []
    },
    {
      "cell_type": "markdown",
      "source": [
        "<mark>**Esercizio 8**</mark></br>\n",
        "Si considerino la matrice pentadiagonale ed il termine noto\n",
        "\n",
        "\n",
        "$$\\mathbf{A}=\\left[\\begin{array}{rrrrrrr}\n",
        "5 & -1 & -1 &  &  & & \\\\\n",
        "-1 & 5 & -1 & -1 &  & & \\\\\n",
        "-1 & -1 & 5 & -1 & -1 & & \\\\\n",
        "& \\ddots  & \\ddots & \\ddots & \\ddots & \\ddots  &\\\\\n",
        "& & -1 & -1 & 5 & -1 & -1 \\\\\n",
        "& & &  -1 & -1 & 5 & -1 \\\\\n",
        "& & & & -1 & -1 & 5 \\\\\n",
        "\\end{array}\\right],\\quad\\quad \\mathbf{b}=\\left[\\begin{array}{c}0.2\\\\0.2\\\\0.2\\\\\\vdots\\\\0.2\\\\0.2\\\\0.2\\end{array}\\right].$$\n",
        "</br>\n",
        "a) La matrice $\\mathbf{A}$ è simmetrica definitiva positiva?\n",
        "</br></br>\n",
        "b) Approssimare la soluzione del sistema lineare con i metodi di Jacobi, Gauss-Seidel, Gradiente e Gradiente Coniugato (si utilizzi il vettore nullo come guess iniziale, $10^{-5}$ come tolleranza relativa, $10000$ come numero massimo di iterazioni).\n",
        "</br></br>\n",
        "c) Plottare l'andamento del residuo relativo $\\|\\mathbf{r}^{(k)}\\|/\\|\\mathbf{b}\\|$ in funzione delle iterate $k$, mettendo così a paragone i quattro metodi."
      ],
      "metadata": {
        "id": "KtfMBiNM0T-b"
      }
    },
    {
      "cell_type": "code",
      "source": [
        "# a) Assemblaggio matrice e check proprietà\n",
        "\n",
        "\n",
        "\n",
        "\n",
        "\n",
        "\n"
      ],
      "metadata": {
        "id": "gc_n5SMI-fLQ"
      },
      "execution_count": null,
      "outputs": []
    },
    {
      "cell_type": "code",
      "source": [
        "# b) Applicazione dei metodi iterativi\n",
        "\n",
        "\n",
        "\n",
        "\n",
        "\n",
        "\n",
        "\n"
      ],
      "metadata": {
        "id": "Nb8DbabyxcOK"
      },
      "execution_count": null,
      "outputs": []
    },
    {
      "cell_type": "code",
      "source": [
        "# c) Calcolo dei residui e plot\n",
        "\n",
        "\n",
        "\n",
        "\n",
        "\n",
        "\n",
        "\n"
      ],
      "metadata": {
        "id": "0rMGQ4RT0fyj"
      },
      "execution_count": null,
      "outputs": []
    }
  ]
}