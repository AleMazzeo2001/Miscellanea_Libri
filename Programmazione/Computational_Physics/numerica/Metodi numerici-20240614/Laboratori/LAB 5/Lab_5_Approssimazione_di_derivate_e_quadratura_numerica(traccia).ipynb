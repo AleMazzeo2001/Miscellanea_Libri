{
  "nbformat": 4,
  "nbformat_minor": 0,
  "metadata": {
    "colab": {
      "provenance": []
    },
    "kernelspec": {
      "name": "python3",
      "display_name": "Python 3"
    },
    "language_info": {
      "name": "python"
    }
  },
  "cells": [
    {
      "cell_type": "markdown",
      "source": [
        "# **Esercizio 6.1**\n",
        "1. Si consideri la funzione $f(x) = e^{-x}$ e si calcoli il valore della sua derivata in $x_0 = 0.25$."
      ],
      "metadata": {
        "id": "LzWcI6z2nicp"
      }
    },
    {
      "cell_type": "markdown",
      "source": [
        "$f'(x) = -e^{-x}$\n",
        "\n",
        "$f'(x_0) = -e^{-0.25} \\simeq 0.7788007830714049 $"
      ],
      "metadata": {
        "id": "7_2LNsCxn-S_"
      }
    },
    {
      "cell_type": "markdown",
      "source": [
        "2. Calcolare un'approssimazione della derivata prima della funzione $f(x)$ nel punto $x_0=0.25$ utilizzando, con un passo pari a $h=0.05$, le formule alle differenze finite:\n",
        "\n",
        "* in avanti;\n",
        "* centrate;\n",
        "* all'indietro.\n",
        "\n",
        "Per ciascuno dei tre metodi proposti, si valuti l'errore e si verifichi che il metodo delle differenze finite centrate approssima meglio il valore della derivata."
      ],
      "metadata": {
        "id": "BW9U7x8EoTHC"
      }
    },
    {
      "cell_type": "code",
      "source": [],
      "metadata": {
        "id": "6co_rPrnozPP"
      },
      "execution_count": null,
      "outputs": []
    },
    {
      "cell_type": "markdown",
      "source": [
        "3. Ripetere ora quanto fatto nel punto precedente con un passo $h$ che varia nel seguente intervallo:\n",
        "\n",
        "$$ h\\in\\{ 0.2,0.1,0.05,0.025,0.0125 \\}. $$\n",
        "\n",
        "Verificare graficamente l'ordine di convergenza delle singole formule come previsto dalla teoria."
      ],
      "metadata": {
        "id": "rkY495ltsetm"
      }
    },
    {
      "cell_type": "code",
      "source": [
        "import matplotlib.pyplot as plt\n",
        "\n",
        "err_df_indietro = []\n",
        "err_df_centrato = []\n",
        "err_df_avanti   = []\n",
        "\n",
        "h_err = [0.2,0.1,0.05,0.025,0.0125]\n",
        "\n",
        "# Ciclo su h_err\n",
        "#......................................\n",
        "\n",
        "plt.loglog(h_err, err_df_indietro)\n",
        "plt.loglog(h_err, err_df_centrato)\n",
        "plt.loglog(h_err, err_df_avanti)\n",
        "plt.loglog(h_err, h_err,'k--')\n",
        "plt.loglog(h_err, [h**2 for h in h_err],'r--')\n",
        "plt.legend(['indietro','centrato','avanti','h','h^2'])\n",
        "plt.title('Grafico errori in scala logaritmica')\n",
        "plt.xlabel('h')\n",
        "plt.ylabel('err')\n",
        "plt.grid\n",
        "plt.show()\n"
      ],
      "metadata": {
        "id": "cmHTW9Eotjhw"
      },
      "execution_count": null,
      "outputs": []
    },
    {
      "cell_type": "markdown",
      "source": [
        "4. Si consideri ora una partizione uniforme dell'intervallo $[1,3]$ e si immagini di approssimare la derivata prima di $f$ in ciascun punto della partizione, secondo le formule proposte sopra. Cosa si può dire delle tre diverse formule per l'approssimazione della derivata negli estremi dell'intervallo?"
      ],
      "metadata": {
        "id": "iQ9gFxA1xnLW"
      }
    },
    {
      "cell_type": "markdown",
      "source": [
        "# **Esercizio 6.2**\n",
        "\n",
        "1. Scrivere le funzioni pmedcomp, trapcomp e simpcomp che implementano rispettivamente le formule di quadratura composite del punto medio, del trapezio e di Simpson su intervalli equispaziati.\n",
        "Tali funzioni dovranno ricevere in ingresso gli estremi di integrazione a,b, il numero di sottointervalli N in cui si vuole suddividere il dominio di integrazione e la funzione fun da integrare e restituiranno in uscita il valore approssimato dell'inegrale."
      ],
      "metadata": {
        "id": "QfeEd_4VyMEn"
      }
    },
    {
      "cell_type": "code",
      "source": [
        "def pmedcomp(a,b,N,fun):\n",
        "  # Formula del punto medio composita\n",
        "  # Input:\n",
        "  #         a,b: estremi di integrazione\n",
        "  #         N:   numero di sottointervalli (N=1 formula di integrazione semplice)\n",
        "  #         fun: funzione da integrare\n",
        "  # Output:\n",
        "  #         I: integrale approssimato\n",
        "\n",
        "\n",
        "\n",
        "  return I"
      ],
      "metadata": {
        "id": "ae5LQrje0LEk"
      },
      "execution_count": null,
      "outputs": []
    },
    {
      "cell_type": "code",
      "source": [
        "def trapcomp(a,b,N,fun):\n",
        "  # Formula del trapezio composita\n",
        "  # Input:\n",
        "  #         a,b: estremi di integrazione\n",
        "  #         N:   numero di sottointervalli (N=1 formula di integrazione semplice)\n",
        "  #         fun: funzione da integrare\n",
        "  # Output:\n",
        "  #         I: integrale approssimato\n",
        "\n",
        "\n",
        "  return I"
      ],
      "metadata": {
        "id": "fPQVpajhN3ak"
      },
      "execution_count": null,
      "outputs": []
    },
    {
      "cell_type": "code",
      "source": [
        "def simpcomp(a,b,N,fun):\n",
        "  # Formula di Simpson composita\n",
        "  # Input:\n",
        "  #         a,b: estremi di integrazione\n",
        "  #         N:   numero di sottointervalli (N=1 formula di integrazione semplice)\n",
        "  #         fun: funzione da integrare\n",
        "  # Output:\n",
        "  #         I: integrale approssimato\n",
        "\n",
        "\n",
        "\n",
        "  return I"
      ],
      "metadata": {
        "id": "93IPvRLjOR0I"
      },
      "execution_count": null,
      "outputs": []
    },
    {
      "cell_type": "markdown",
      "source": [
        "2. Si usino le function implementate per il calcolo dell'integrale\n",
        "\n",
        "$$ I = \\int_0^1 x^2 dx $$\n",
        "\n",
        "usando 20 sottointervalli. Si calcoli l'errore di approssimazione e si commenti il risultato ottenuto."
      ],
      "metadata": {
        "id": "-gXgXjmgOgw2"
      }
    },
    {
      "cell_type": "code",
      "source": [],
      "metadata": {
        "id": "D4fvJCysOyHg"
      },
      "execution_count": null,
      "outputs": []
    },
    {
      "cell_type": "markdown",
      "source": [
        "**Per casa**\n",
        "Al variare dell'ampiezza dei sottointervalli $h=2^{-k}$, $k=1,\\dots,10$, si calcolino gli errori associati alle tre formule di quadratura per il calcolo dell'integrale\n",
        "\n",
        "$$ I = \\int_0^1 x^5 dx. $$\n",
        "\n",
        "Si verifichino gli ordini di convergenza con l'utilizzo di un grafico in scala logaritmica."
      ],
      "metadata": {
        "id": "GXImmd6tS4Fz"
      }
    }
  ]
}