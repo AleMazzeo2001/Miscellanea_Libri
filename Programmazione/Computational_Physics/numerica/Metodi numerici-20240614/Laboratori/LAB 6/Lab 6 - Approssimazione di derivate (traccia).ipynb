{
 "cells": [
  {
   "cell_type": "markdown",
   "metadata": {
    "id": "uFSZGG-4Hseh"
   },
   "source": [
    "# **Lab 6 - Approssimazione numerica di derivate**"
   ]
  },
  {
   "cell_type": "markdown",
   "metadata": {
    "id": "QGJukam-Ozx8"
   },
   "source": [
    " <mark>**Formule alle differenze finite (approssimazione di derivate)**</mark></br>\n",
    "Data una funzione $f$ ed un punto $x_{0}$, la sua derivata nel punto $x_0$ si può approssimare attraverso le seguenti formule:</br></br>\n",
    "\n",
    "- $f'(x_{0})\\approx \\frac{1}{h}\\left[f(x_{0}+h)-f(x_{0})\\right]\\quad\\quad\\quad\\quad$ (differenza in avanti)\n",
    "</br></br>\n",
    "- $f'(x_{0})\\approx \\frac{1}{h}\\left[f(x_{0})-f(x_{0}-h)\\right]\\quad\\quad\\quad\\quad$ (differenza all'indietro)\n",
    "</br></br>\n",
    "- $f'(x_{0})\\approx \\frac{1}{2h}\\left[f(x_{0}+h)-f(x_{0}-h)\\right]\\quad\\quad$ (differenza centrata)\n",
    "\n",
    "</br>\n",
    "\n",
    "dove $h>0$ è il cosìdetto *passo*."
   ]
  },
  {
   "cell_type": "markdown",
   "metadata": {
    "id": "2peBcLsNjxPv"
   },
   "source": [
    " <mark>**Esercizio 1**</mark></br>\n",
    "Sia $f(x)=e^{-x}$. Si calcoli -a mano- il valore della derivata di $f$ nel punto $x_0=0.25$, quindi lo si confronti con la sua approssimazione alle differenze finite per $h=0.05$. In particolare, si calcoli l'errore ottenuto con tre metodi, evidenziando quello che restituisce la miglior approssimazione."
   ]
  },
  {
   "cell_type": "markdown",
   "metadata": {
    "id": "RSyHI7dclImg"
   },
   "source": [
    "<mark>**Esercizio 2**</mark></br>\n",
    "Ripetere l'analisi proposta all'Es. 1 facendo variare l'ampiezza del passo $h$. In particolare, si consideri\n",
    "\n",
    "$$ h\\in\\{ 0.2,0.1,0.05,0.025,0.0125 \\}. $$\n",
    "\n",
    "Verificare graficamente l'ordine di convergenza delle singole formule come previsto dalla teoria (per farlo, utilizzare un opportuno grafico in scala logaritmica)."
   ]
  },
  {
   "cell_type": "markdown",
   "metadata": {
    "id": "QON8ApF1qMbx"
   },
   "source": [
    "**Commento** (Perché usare una scala logaritmica?)\n",
    "\n",
    "Il motivo di questa scelta è legato alla forma in cui si presentano le stime dell'errore viste a teoria. Infatti, dalla teoria sappiamo che l'errore delle formule alle differenze finite è della forma:\n",
    "\n",
    "$$|f'(x_{0})-(D_{h}f)(x_0)|=Ch^p,$$\n",
    "\n",
    "dove $h$ è il passo di discretizzazione della formula, $D_{h}f$ è la discretizzazione alle differenzie finite (in avanti, all'indietro o centrate), mentre $C$ è una costante indpendente da $h$. Applicando il logaritmo ad ambo i membri dell'uguaglianza, possiamo riscrivere la stima come\n",
    "\n",
    "$$\\log{|f'(x_{0})-(D_{h}f)(x_0)|}= \\log{C}+p\\log{h}.$$\n",
    "\n",
    "Ne deduciamo quindi che, il logaritmo dell'errore dipende dal logaritmo del passo in maniera affine. In particolare, il grafico del logaritmo dell'errore, inteso come funzione di $\\log{h}$, è costituito da una retta con intercetta $\\log{C}$ e pendenza $p$. Questo ci dice che per confrontare agevolmente gli ordini di convergenza delle diverse formule è sufficiente confrontare le pendenze delle rette che si ottengono in un grafico a scala logaritmica (su entrambi gli assi)."
   ]
  },
  {
   "cell_type": "markdown",
   "metadata": {
    "id": "5Fb013uZa9g8"
   },
   "source": [
    "**Commento** (Dizionari in Python)\n",
    "\n",
    "La soluzione proposta fa uso dei cosìdetti *dizionari*, oggetti simili alle liste ma che si distinguono per l'utilizzo di etichette (dette *chiavi*), al posto dei classici indici posizionali. Ovviamente, non è necessario utilizzare i dizionari per risolvere l'esercizio, si tratta solo di una piccola aggiunta volta ad espandere la vostra conoscenza del linguaggio.\n",
    "\n",
    "La chiamata\n",
    "\n",
    "    carrello = {'banane':5, 'mele':4, 'pere':8}\n",
    "\n",
    "definisce un dizionario, le cui *chiavi* sono le stringhe 'banane', 'mele' e 'pere'. Queste etichette, si possono utilizzare per accedere agli elementi corrispondenti. Per esempio,\n",
    "\n",
    "    carrello['banane']\n",
    "\n",
    "restituisce 5, che è il valore corrispondente. In generale, il contenuto di un dizionario può essere qualsiasi: qui, gli elementi sono numeri interi, nell'esercizio, invece, gli elementi sono liste (liste di errori, una per ogni metodo).\n",
    "\n",
    "L'elenco delle chiavi in un dizionario si può estrarre con il metodo \".keys()\"\n",
    "\n",
    "    carrello.keys()\n",
    "\n",
    "che qui restituisce un iterabile (sostanzialmente una lista) contenente 'banane', 'mele' e 'pere'."
   ]
  },
  {
   "cell_type": "markdown",
   "metadata": {
    "id": "qM-wgs-HpyA_"
   },
   "source": [
    "<mark>**Esercizio 3**</mark></br>\n",
    "Si consideri ora una partizione uniforme dell'intervallo $[1,3]$ e si immagini di approssimare la derivata prima di $f$ in ciascun punto della partizione, secondo le formule proposte sopra. Cosa si può dire delle tre diverse formule per l'approssimazione della derivata negli estremi dell'intervallo?"
   ]
  },
  {
   "cell_type": "markdown",
   "metadata": {
    "id": "JUaVFqIM5eST"
   },
   "source": [
    "# Esercizi per casa"
   ]
  },
  {
   "cell_type": "markdown",
   "metadata": {
    "id": "Iri_KnWgnDKA"
   },
   "source": [
    "<mark>**Esercizio 4**</mark></br>\n",
    "Ripetere l'analisi proposta all'Es. 4, ma avendo posto $f(x)=4(x-0.25)|x-0.25|$, sapendo che tale funzione è derivabile in $x_{0}=0.25$, e che $f'(x_0)=0.0$. Cosa si osserva? Perché?"
   ]
  },
  {
   "cell_type": "markdown",
   "metadata": {
    "id": "noDDgAdJnsF3"
   },
   "source": [
    "**Commento**\n",
    "\n",
    "Questa volta, tutti metodi presentano ordine 1. Come mai? Perché la teoria prevede un determinato ordine di convergenza, solo se la funzione è abbastanza regolare. In particolare, affinché il metodo alle differenze finite centrate sia di ordine 2, $f$ deve essere almeno di classe $\\mathcal{C}^{2}$ (nella dimostrazione, si usa lo sviluppo di Taylor!). La funzione dell'esercizio, invece, è sì derivabile, ma la sua derivata seconda è discontinua."
   ]
  },
  {
   "cell_type": "code",
   "execution_count": null,
   "metadata": {
    "id": "x-SL8M7YfRGU"
   },
   "outputs": [],
   "source": []
  }
 ],
 "metadata": {
  "colab": {
   "provenance": []
  },
  "kernelspec": {
   "display_name": "Python 3 (ipykernel)",
   "language": "python",
   "name": "python3"
  },
  "language_info": {
   "codemirror_mode": {
    "name": "ipython",
    "version": 3
   },
   "file_extension": ".py",
   "mimetype": "text/x-python",
   "name": "python",
   "nbconvert_exporter": "python",
   "pygments_lexer": "ipython3",
   "version": "3.10.12"
  }
 },
 "nbformat": 4,
 "nbformat_minor": 1
}
