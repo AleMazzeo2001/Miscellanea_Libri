{
  "cells": [
    {
      "cell_type": "markdown",
      "metadata": {
        "id": "nEFGwbC3s9SN"
      },
      "source": [
        "#**Lab 12 - Metodo degli Elementi Finiti per problemi parabolici**\n",
        "\n",
        "Consideriamo il seguente problema tempo-dipendente nel caso monodimensionale, sul dominio $\\Omega_T=\\Omega\\times[0,T)$, con $\\Omega=(a,b)$:\n",
        "\n",
        "Dati $\\alpha:[0,T)\\longrightarrow\\mathbb{R}$, $\\beta:[0,T)\\longrightarrow\\mathbb{R}$ e $u_0:\\Omega\\longrightarrow\\mathbb{R}$, trovare $u:\\Omega_T\\longrightarrow\\mathbb{R}$ tale che:\n",
        "</br></br>\n",
        "$$\\begin{cases}\n",
        "\t\t\t\\partial_t u - \\partial_x(\\gamma\\partial_x u) = f, & \\text{in}\\ \\Omega_T, \\\\\n",
        "\t\t\tu(a,t) = \\alpha(t), & \\text{per}\\ t\\in[0,T), \\\\\n",
        "\t\t\tu(b,t) = \\beta(t), & \\text{per}\\ t\\in[0,T), \\\\\n",
        "\t\t\tu(x,t=0) = u_0, & \\text{in}\\ \\Omega\\times\\{0\\}.\n",
        "\\end{cases}$$\n",
        "</br>\n",
        "Date condizioni al bordo di Dirichlet omogenee, la forma debole di questo problema è:\n",
        "</br>\n",
        "\n",
        "Trovare, $\\forall t \\in [0,T), \\ u(t)\\in V= H_0^1(\\Omega)$ tale che\n",
        "</br></br>\n",
        "$$m(\\partial_t u,v) + a(u,v) = F(v), \\qquad \\forall v\\in V,$$\n",
        "</br>\n",
        "dove abbiamo definito:\n",
        "$$m(u,v) = \\int_a^b u v dx, \\quad a(u,v) =\\int_a^b \\gamma \\partial_x u \\partial_x v dx, \\quad F(v)=\\int_a^b f v dx.$$\n",
        "\n",
        "Fissato $t\\in(0,T)$, la semi-discretizzazione in spazio si ottiene applicando il **Metodo degli Elementi Finiti**, scegliendo un sottospazio $V_h\\subset V$ di dimensione $N_h$ finita e una sua base di funzioni linearmente indipendenti $\\{\\phi_j\\}_{j=1}^{N_h}$. Il problema semi-discreto può quindi essere scritto in forma matriciale come segue:\n",
        "\n",
        "Trovare, $\\forall t\\in [0,T), \\ \\mathbf{u}(t)\\in\\mathbb{R}^{N_h}$ tale che\n",
        "</br></br>\n",
        "$$\n",
        "\\mathbf{M}d_t\\mathbf{u}(t)+\\mathbf{A}\\mathbf{u}(t) = \\mathbf{f}(t),$$\n",
        "</br>\n",
        "dove\n",
        "* $\\mathbf{M}\\in\\mathbb{R}^{N_h\\times N_h}:\\ m_{ij}=m(\\phi_j,\\phi_i)$ è la matrice di massa degli Elementi Finiti;\n",
        "* $\\mathbf{A}\\in\\mathbb{R}^{N_h\\times N_h}:\\ a_{ij}=a(\\phi_j,\\phi_i)$ è la matrice di rigidezza;\n",
        "* $\\mathbf{f}(t)\\in\\mathbb{R}^{N_h}:\\ \\mathbf{F}(\\phi_i)=[\\mathbf{M}[f_{1}(t),\\dots,f_{N_{h}}(t)]^{T}]_{i}$ è il vettore termine noto;\n",
        "* $\\mathbf{u}(t)\\in\\mathbb{R}^{N_h}:\\ \\mathbf{u}(t)=[u_1(t),\\dots,u_{N_h}(t)]^T$.\n",
        "\n",
        "Per il calcolo di $\\mathbf{A}$ e $\\mathbf{M}$ utilizziamo lo spazio degli Elementi Finiti\n",
        "</br></br>\n",
        "$$X_{h,0}^r = \\{v_h\\in\\mathcal{C}([0,T]):\\ v_h\\big|_{[x_{i-1},x_i]}\\in\\mathbb{P}_r(x_{i-1},x_i)\\}\\cap\\mathcal{C}([0,L]).$$\n",
        "</br>\n",
        "\n",
        "Il problema in tempo è quindi una ODE e può essere riscritto come segue:\n",
        "</br></br>\n",
        "\\begin{cases}\n",
        "\td_t\\mathbf{u}(t) =\\tilde{\\mathbf{f}}(t,\\mathbf{u}(t))), & t\\in[0,T), \\\\\n",
        "\t\\mathbf{u}(0) =\\mathbf{u}_0,\n",
        "\\end{cases}\n",
        "</br>\n",
        "\n",
        "con termine noto $\\tilde{\\mathbf{f}}(t,\\mathbf{u}(t))=-\\mathbf{M}^{-1}\\mathbf{A}\\mathbf{u}(t)+\\mathbf{M}^{-1}\\mathbf{f}(t)$.\n",
        "\n",
        "Dividiamo quindi $[0,T]$ in $N_t$ sottointervalli $(t_n, t_{n+1})$ tali che $t_0=0$, $t_{N_h}=T$, $t_n=n\\Delta t$, con passo temporale $\\Delta t=T/N_t$ e definiamo $\\mathbf{u}^n=\\mathbf{u}(t_n), \\ n=0,\\dots,N_t$.\n",
        "\n",
        "Discretizziamo la derivata in tempo come:\n",
        "$$\t\td_t \\mathbf{u} \\simeq \\frac{\\mathbf{u}^{n+1}-\\mathbf{u}^n}{\\Delta t}$$\n",
        "e applichiamo il *$\\theta$-metodo* per discretizzare la ODE:\n",
        "</br></br>\n",
        "$$\t\t\\frac{\\mathbf{u}^{n+1}-\\mathbf{u}^n}{\\Delta t} = \\theta\\tilde{\\mathbf{f}}^{n+1} + (1-\\theta)\\tilde{\\mathbf{f}}^n, \\qquad \\theta\\in[0,1].\n",
        "$$\n",
        "</br>\n",
        "\n",
        "Sostituendo qui l'espressione di $\\tilde{\\mathbf{f}}$ otteniamo:\n",
        "$$\t\t\\mathbf{M}\\frac{\\mathbf{u}^{n+1}-\\mathbf{u}^n}{\\Delta t}+\\theta \\mathbf{A}\\mathbf{u}^{n+1} +(1-\\theta)\\mathbf{A}\\mathbf{u}^n = \\theta\\mathbf{f}^{n+1}+(1-\\theta)\\mathbf{f}^n, \\qquad \\theta\\in[0,1]. $$\n",
        "\n",
        "Infine, il problema discreto diventa:\n",
        "\n",
        "$\\forall n=1,\\dots,N_t$ trovare $\\mathbf{u}^n\\in\\mathbb{R}^{N_h}$ tale che\n",
        "</br></br>\n",
        "\\begin{cases}\n",
        "\t\t\\left(\\frac{\\mathbf{M}}{\\Delta t} +\\theta \\mathbf{A}\\right)\\mathbf{u}^{n+1} = \\left(\\frac{\\mathbf{M}}{\\Delta t} - (1-\\theta) \\mathbf{A}\\right)\\mathbf{u}^{n} + \\theta\\mathbf{f}^{n+1}+(1-\\theta)\\mathbf{f}^n, & \\forall n=1,\\dots,N_t, \\\\\n",
        "\t\t\t\\mathbf{u}^0 = \\mathbf{u}_0.\n",
        "\\end{cases}\n",
        "</br>\n",
        "A partire dall'istante $n=0$, possiamo ricavare iterativamente tutti i valori di $\\mathbf{u}$ al passo successivo attraverso la risoluzione di un sistema lineare:\n",
        "\n",
        "*Theta-metodo. Input: $\\{\\mathbf{f}^n\\}_{n=1}^{N_t}$, $\\mathbf{u}_0, \\ \\theta$. Output: $\\mathbf{U}$*\n",
        "\n",
        "1. Inizializzo $\\mathbf{u}_{n}=\\mathbf{u}_0$, $\\mathbf{U}=[\\mathbf{u}_n]$;\n",
        "2.  For $n=1,\\dots,N_t$\n",
        "\n",
        "  2.1.  Calcolo $\\mathbf{u}_{n+1}$ come soluzione del sistema lineare dato dal $theta$-metodo con parametro $\\theta$;\n",
        "\n",
        "\t2.2. Aggiorno $\\mathbf{u}_{n}=\\mathbf{u}_{n+1}$;\n",
        "\n",
        "\t2.3. $\\mathbf{U}=[\\mathbf{U},\\mathbf{u}_{n+1}]$.\n",
        "\n",
        "\n",
        "Il $\\theta$-metodo è incondizionatamente assolutamente stabile per $\\theta\\in[0.5,1]$ e condizionatamente assolutamente stabile per $\\theta\\in[0,0.5)$, con condizione di stabilità\n",
        "</br></br>\n",
        "$$\t\t\\Delta t\\leq \\frac{2}{\\max|\\lambda(\\mathbf{M}^{-1}\\mathbf{A})|}\\approx ch^2,\n",
        "$$\n",
        "</br>\n",
        "dove $\\lambda(\\mathbf{M}^{-1}\\mathbf{A})$ indica gli autovalori della matrice $\\mathbf{M}^{-1}\\mathbf{A}$, da cui dipende la costante $c>0$."
      ]
    },
    {
      "cell_type": "markdown",
      "metadata": {
        "id": "xEX0PlrUwwDN"
      },
      "source": [
        "#**Esercizio 1: problema del calore**\n",
        "\n",
        "Dato il problema\n",
        "</br></br>\n",
        "\\begin{cases}\n",
        "  \\partial_t u - \\partial_{x} D \\partial_x u = f(x), & \\text{in}\\ (0,L)\\times [0,T), \\\\\n",
        "  u(0,t)=u(L,t)=0, & \\text{per}\\ t\\in [0,T), \\\\\n",
        "  u(x,0)=u_0, & \\text{in}\\ (0,L),\n",
        "\\end{cases}\n",
        "</br>\n",
        "con $D=1$, $L=1$, $T=1$,\n",
        "</br></br>\n",
        "$$ u_0(x)= \\sin(\\pi x), \\qquad f(x,t)= (\\pi^2-2)\\sin(\\pi x)e^{-2t}.$$\n",
        "</br>\n",
        "Si consideri la function seguente funzione\n",
        "\n",
        "      heatSolve(D, f, L, h, u0, T, dt, theta)\n",
        "      ##\n",
        "      ##\n",
        "      return V,u,t\n",
        "\n",
        "dove in input abbiamo:\n",
        "\n",
        "  * $D$ il coefficiente di diffusione;\n",
        "  * $f$ termine noto;\n",
        "  * $L$ lunghezza dell'intervallo spaziale;\n",
        "  * $h$ passo della griglia spaziale;\n",
        "  * $u_0$ dato iniziale;\n",
        "  * $T$ istante di tempo finale;\n",
        "  * $dt$ passo temporale;\n",
        "  * theta, parametro del theta-metodo;\n",
        "\n",
        "ed in output\n",
        "\n",
        "  * $V$ spazio FEM;\n",
        "  * $u$ matrice contentente i corrispondenti valori della soluzione $u_{i,n}=u_i(t^n)$, $i=1,\\dots,N_h$, $n=1,\\dots,N_T$;\n",
        "  * $t$ vettore contenente gli istanti temporali: $t^n$, $n=0,\\dots,N_t$.\n",
        "\n"
      ]
    },
    {
      "cell_type": "markdown",
      "metadata": {
        "id": "Sxm77FUByKz9"
      },
      "source": [
        "<mark>**Esercizio 1.1**<mark><br>\n",
        "\n",
        "Si implementi il $\\theta$-metodo per la risoluzione del problema in tempo nella function heatSolve."
      ]
    },
    {
      "cell_type": "code",
      "execution_count": null,
      "metadata": {
        "id": "AhpfwtmFyhX-"
      },
      "outputs": [],
      "source": [
        "import matplotlib.pyplot as plt\n",
        "import numpy as np\n",
        "from fem import install\n",
        "\n",
        "install()"
      ]
    },
    {
      "cell_type": "code",
      "execution_count": null,
      "metadata": {
        "id": "Z5XCKRYHykDS"
      },
      "outputs": [],
      "source": [
        "from fem import Line, generate_mesh, FEspace, assemble, interpolate, deriv, dx, ds, DirichletBC, applyBCs, dof2fun, fun2dof, dofs, plot\n",
        "\n",
        "def heatSolve(D,f,u0,L,h,T,dt,theta):\n",
        "  \"\"\"\"\n",
        "  Input:\n",
        "     D      (float)                  Coefficiente di diffusione (positivo).\n",
        "     f      (lambda function)        Forzante. Si assume f = f(x,t).\n",
        "     u0     (lambda function)        Condizione iniziale.\n",
        "     L      (float)                  Lunghezza dell'intervallo spaziale.\n",
        "     h      (float)                  Passo della griglia spaziale.\n",
        "     T      (float)                  Tempo finale\n",
        "     dt     (float)                  Passo temporale.\n",
        "     theta  (float)                  Parametro del theta-metodo.\n",
        "\n",
        "  Output:\n",
        "    V                               spazio elementi finiti\n",
        "    u     (numpy.ndarray)-> matrix  Matrice contenente la soluzione\n",
        "                                    approssimata del problema. Uij\n",
        "                                    approssima u(dof_i, tj): ogni colonna è un\n",
        "                                    tempo fissato.\n",
        "    t      (numpy.ndarray)-> vector Griglia temporale.\n",
        "  \"\"\"\"\"\n",
        "  # costruisco il dominio\n",
        "  domain = Line(0, L)\n",
        "  # costruisco la mesh\n",
        "  mesh = generate_mesh(domain, stepsize = h)\n",
        "  # costruisco lo spazio FEM di grado 1\n",
        "  V = FEspace(mesh, 1)\n",
        "\n",
        "  # costruisco la griglia temporale\n",
        "  nt = ...\n",
        "  t = ...\n",
        "\n",
        "  # initializzo la soluzione\n",
        "  u = np.zeros((dofs(V).size, int(nt)))\n",
        "\n",
        "  # definisco la condizione iniziale\n",
        "  u0h = ...\n",
        "  u[:, 0] = u0h\n",
        "\n",
        "  # matrice di massa\n",
        "  def m(u, v):\n",
        "    return ...\n",
        "\n",
        "  # assemblaggio matrice di massa\n",
        "  M = ...\n",
        "\n",
        "  # matrice di diffusione\n",
        "  def a(u,v):\n",
        "    return deriv(u)*deriv(v)*dx\n",
        "  # assemblaggio matrice di diffusione\n",
        "  A = D*assemble(a,V)\n",
        "\n",
        "  # ciclo temporale\n",
        "  for n in range(int(nt)-1):\n",
        "    # costruzioni termini noti al tempo dt e dt+1\n",
        "    t_old = ...\n",
        "    t_new = ...\n",
        "\n",
        "    fold = lambda x: ...\n",
        "    fnew = lambda x: ...\n",
        "\n",
        "    fold_h = ...\n",
        "    def lold(v):\n",
        "      return ...\n",
        "    Fold = ...\n",
        "\n",
        "    fnew_h = ...\n",
        "    def lnew(v):\n",
        "      return ...\n",
        "    Fnew = ...\n",
        "\n",
        "    # condizioni al bordo omogenee di tipo dirichlet\n",
        "    def isLeftNode(x):\n",
        "      return x < 1e-12\n",
        "\n",
        "    def isRightNode(x):\n",
        "      return x > L - 1e-12\n",
        "\n",
        "    dbc1 = DirichletBC(isLeftNode,  0.0)\n",
        "    dbc2 = DirichletBC(isRightNode, 0.0)\n",
        "\n",
        "    # applico le condizioni al bordo alle matrici e ai termini noti\n",
        "    A = ...\n",
        "    M = ...\n",
        "    Fold = ...\n",
        "    Fnew = ...\n",
        "\n",
        "    # Costruzione del sistema lineare e sua risoluzione\n",
        "    # B*u = b\n",
        "    B = ...\n",
        "    b = ...\n",
        "\n",
        "    from scipy.sparse.linalg import spsolve\n",
        "\n",
        "    u[:,n+1] = ...\n",
        "    t[n+1] = t_new\n",
        "\n",
        "  return V,u,t\n"
      ]
    },
    {
      "cell_type": "markdown",
      "metadata": {
        "id": "k_Ro5_6dz02N"
      },
      "source": [
        "<mark>**Esercizio 1.2**<mark><br>\n",
        "\n",
        "Risolvere il problema con i seguenti dati: $h=0.1$, $\\Delta t = 0.01$ e $\\theta = 0.5$."
      ]
    },
    {
      "cell_type": "code",
      "execution_count": null,
      "metadata": {
        "id": "H1Z76FATz8sl",
        "collapsed": true
      },
      "outputs": [],
      "source": []
    },
    {
      "cell_type": "markdown",
      "metadata": {
        "id": "o1nHn3Hw0cl9"
      },
      "source": [
        "<mark>**Esercizio 1.3**<mark><br>\n",
        "\n",
        "Data la soluzione esatta\n",
        "</br></br>\n",
        "$$\n",
        "u_{\\text{ex}}(x,t)=\\sin(\\pi x)e^{-2t}\n",
        "$$\n",
        "</br>\n",
        "rappresentare su due grafici la soluzione esatta e la soluzione approssimata in $[0,T)$."
      ]
    },
    {
      "cell_type": "code",
      "execution_count": null,
      "metadata": {
        "id": "r7Tk1JCN0tiD",
        "collapsed": true
      },
      "outputs": [],
      "source": [
        "from fem import xtplot\n",
        "\n",
        "# definizione della soluzione esatta\n",
        "uex = ...\n",
        "\n",
        "uex_t = np.zeros(u.shape)\n",
        "k=0\n",
        "for i in t:\n",
        "  uext = lambda x: uex(x,i)\n",
        "  uext =interpolate(uext,V)\n",
        "  uex_t[:,k] = fun2dof(uext)\n",
        "  k=k+1;\n",
        "\n",
        "# soluzione approssimata\n",
        "\n",
        "\n",
        "# soluzione esatta\n",
        "\n"
      ]
    },
    {
      "cell_type": "markdown",
      "metadata": {
        "id": "P-J-WQAi3z9I"
      },
      "source": [
        "<mark>**Esercizio 1.4**<mark><br>\n",
        "\n",
        "Calcolare l'errore\n",
        "</br></br>\n",
        "$$\n",
        "e(h,\\Delta t):=\\max_{t^{n}}\\sqrt{\\int_{0}^{L}|u_{ex}(x,t^{n})-u_{h}(x,t^{n})|^{2}dx}\n",
        "$$\n",
        "</br>\n",
        "cioè il massimo, in tempo, degli errori in norma $L^2$, dove $u_{h}(x,t^{n}):=\\sum_{i=1}^{N_{h}}u_{i,n}\\phi_{i}(x)$."
      ]
    },
    {
      "cell_type": "code",
      "execution_count": null,
      "metadata": {
        "id": "BjC-q6Uz397j",
        "collapsed": true
      },
      "outputs": [],
      "source": [
        "from fem import L2error\n",
        "\n",
        "domain = Line(0, L)"
      ]
    },
    {
      "cell_type": "markdown",
      "metadata": {
        "id": "GS0k6u5y7c65"
      },
      "source": [
        "<mark>**Esercizio 1.5**<mark><br>\n",
        "\n",
        "Risolvere il problema con $h=0.01$ e $\\theta=1$ per $\\Delta t$ che assume i valori $\\{0.2,\\ 0.1,\\ 0.05,\\ 0.025\\}$ e rappresentare su un grafico l'andamento dell'errore $e(h,\\Delta t)$ al variare di $\\Delta t$. Cosa si osserva?"
      ]
    },
    {
      "cell_type": "code",
      "execution_count": null,
      "metadata": {
        "id": "-v4YEzXC7qjW",
        "collapsed": true
      },
      "outputs": [],
      "source": [
        "h = 0.01\n",
        "theta = 1\n",
        "\n",
        "errors = []\n",
        "\n",
        "dts = [0.2, 0.1, 0.05, 0.025]\n",
        "for dt in dts:\n",
        "  V,u,t = heatSolve(D,f,u0,L,h,T,dt,theta)\n",
        "\n",
        "  err_t = []\n",
        "\n",
        "  for i in range(len(t)):\n",
        "    uext = lambda x: uex(x,t[i])\n",
        "    uht = dof2fun(u[:,i], V)\n",
        "    err_t.append(L2error(uext, uht, domain))\n",
        "\n",
        "  err = max(err_t)\n",
        "\n",
        "  errors.append(err)\n",
        "\n",
        "plt.figure()\n",
        "plt.loglog(dts, errors, '*-')\n",
        "plt.loglog(dts,dts, '--')\n",
        "plt.grid()\n",
        "plt.xlabel('dt')\n",
        "plt.ylabel('Errore')\n",
        "plt.legend(['Errore con theta=1','y = dt'])\n",
        "plt.show()"
      ]
    },
    {
      "cell_type": "markdown",
      "source": [
        "Il grafico rappresenta l'andamento del massimo errore in norma $L^2$ sul ogni griglia temporale onsiderata, confrontato con la linea $y=dt$. Osserviamo che l'errore decresce per passi temporali ridotti e l'ordine di convergenza è pari a 1."
      ],
      "metadata": {
        "id": "FEk-c98ilzdx"
      }
    },
    {
      "cell_type": "markdown",
      "metadata": {
        "id": "FDx3Qt8C8vAH"
      },
      "source": [
        "<mark>**Esercizio 1.6**<mark><br>\n",
        "\n",
        "Risolvere il problema con $h=0.01$ e $\\theta=0$ per $\\Delta t$ che assume i valori $\\{0.2,\\ 0.1,\\ 0.05,\\ 0.025\\}$ e rappresentare su un grafico l'andamento dell'errore $e(h,\\Delta t)$ al variare di $\\Delta t$. Cosa si osserva?"
      ]
    },
    {
      "cell_type": "code",
      "execution_count": null,
      "metadata": {
        "id": "dgxCr6jW81fw",
        "collapsed": true
      },
      "outputs": [],
      "source": [
        "theta = 0\n",
        "\n",
        "errors = []\n",
        "\n",
        "dts = [0.2, 0.1, 0.05, 0.025]\n",
        "for dt in dts:\n",
        "  V,u,t = heatSolve(D,f,u0,L,h,T,dt,theta)\n",
        "\n",
        "  err_t = []\n",
        "\n",
        "  for i in range(len(t)):\n",
        "    uext = lambda x: uex(x,t[i])\n",
        "    uht = dof2fun(u[:,i], V)\n",
        "    err_t.append(L2error(uext, uht, domain))\n",
        "\n",
        "  err = max(err_t)\n",
        "\n",
        "  errors.append(err)\n",
        "\n",
        "plt.figure()\n",
        "plt.loglog(dts, errors)\n",
        "plt.grid()\n",
        "plt.xlabel('dt')\n",
        "plt.ylabel('Errore')\n",
        "plt.show()"
      ]
    },
    {
      "cell_type": "markdown",
      "source": [
        "L'errore esplode al decrescere del passo temporale scelto. Infatti il metodo è condizionatamente stabile per $\\theta\\in[0,0.5)$ e la condizione $\\Delta t \\leq c h^2$ sul rapporto tra i passi delle due griglie non è rispettata."
      ],
      "metadata": {
        "id": "W-22ephNl4Nn"
      }
    },
    {
      "cell_type": "markdown",
      "metadata": {
        "id": "76khLuEY9Fb9"
      },
      "source": [
        "#**Esercizio 2: problema diffusione-trasporto tempo dipendente**\n",
        "\n",
        "Si consideri il problema di diffusione-trasporto tempo dipendente\n",
        "</br></br>\n",
        "\\begin{cases}\n",
        "    \\partial_t u = a \\partial_{xx} u - b \\partial_x u + f(x), & \\text{in}\\ (0,L)\\times [0,T), \\\\\n",
        "    u(0,t)=0,\\ u(L,t)=0, & \\text{per}\\ t\\in [0,T), \\\\\n",
        "    u(x,0)=u_0, & \\text{in}\\ (0,L)\n",
        "\\end{cases}\n",
        "</br>\n",
        "con coefficienti costanti, $a=10^{-2}$, $b=1$, $L=1$, $T=0.25$, forzante nulla, $f(x,t) \\equiv 0$, e profilo iniziale\n",
        "</br></br>\n",
        "$$\n",
        "u_0(x)= \\begin{cases}\n",
        "\\cos^{4}(4\\pi x - 2\\pi) & 0.375\\le x \\le 0.625\\\\\n",
        "0 & \\text{altrimenti}.\n",
        "\\end{cases}\n",
        "$$\n",
        "</br>\n",
        "Si consideri la function\n",
        "  \n",
        "    parabolicSolve(a, b, f, L, h, u0, T, dt, theta)\n",
        "    ##\n",
        "    ##\n",
        "    return V,u,t\n",
        "\n",
        "dove in input abbiamo:\n",
        "\n",
        "  * $a$, $b$ coefficiente di diffusione e trasporto, rispettivamente;\n",
        "  * $f$ termine noto;\n",
        "  * $L$ lunghezza dell'intervallo spaziale;\n",
        "  * $h$ passo della griglia spaziale;\n",
        "  * $u_0$ dato iniziale;\n",
        "  * $T$ istante di tempo finale;\n",
        "  * $dt$ passo temporale;\n",
        "  * theta, parametro del theta-metodo;\n",
        "\n",
        "ed in output\n",
        "\n",
        "  * $V$ spazio FEM;\n",
        "  * $u$ matrice contentente i corrispondenti valori della soluzione $u_{i,n}=u_i(t^n)$, $i=1,\\dots,N_h$, $n=1,\\dots,N_T$;\n",
        "  * $t$ vettore contenente gli istanti temporali: $t^n$, $n=0,\\dots,N_t$.\n"
      ]
    },
    {
      "cell_type": "code",
      "execution_count": null,
      "metadata": {
        "id": "q9wSQ0cr-B2J"
      },
      "outputs": [],
      "source": [
        "from fem import Line, generate_mesh, FEspace, assemble, interpolate, deriv, dx, ds, DirichletBC, applyBCs, dof2fun, fun2dof, dofs, plot\n",
        "\n",
        "def parabolicSolve(a,b,f,u0,L,h,T,dt,theta):\n",
        "  \"\"\"\"\n",
        "  Input:\n",
        "     a      (float)                  Coefficiente di diffusione (positivo).\n",
        "     b      (float)                  Velocità di trasporto.\n",
        "     f      (lambda function)        Forzante. Si assume f = f(x,t).\n",
        "     u0     (lambda function)        Condizione iniziale.\n",
        "     L      (float)                  Lunghezza dell'intervallo spaziale.\n",
        "     h      (float)                  Passo della griglia spaziale.\n",
        "     T      (float)                  Tempo finale\n",
        "     dt     (float)                  Passo temporale.\n",
        "     theta  (float)                  Parametro del theta-metodo.\n",
        "\n",
        "  Output:\n",
        "    V                               spazio elementi finiti\n",
        "    u     (numpy.ndarray)-> matrix  Matrice contenente la soluzione\n",
        "                                    approssimata del problema. Uij\n",
        "                                    approssima u(dof_i, tj): ogni colonna è un\n",
        "                                    tempo fissato.\n",
        "    t      (numpy.ndarray)-> vector Griglia temporale.\n",
        "  \"\"\"\"\"\n",
        "  # costruisco il dominio\n",
        "  domain = Line(0, L)\n",
        "  # costruisco la mesh\n",
        "  mesh = generate_mesh(domain, stepsize = h)\n",
        "  # costruisco lo spazio FEM di grado 1\n",
        "  V = FEspace(mesh, 1)\n",
        "\n",
        "  # costruisco la griglia temporale\n",
        "  nt = np.ceil(T/dt)+1\n",
        "  t = np.zeros(int(nt))\n",
        "\n",
        "  # initializzo la soluzione\n",
        "  u = np.zeros((dofs(V).size, int(nt)))\n",
        "\n",
        "  # definisco la condizione iniziale\n",
        "  u0h = fun2dof(interpolate(u0,V))\n",
        "  u[:, 0] = u0h\n",
        "\n",
        "  # matrice di massa\n",
        "  def m(u, v):\n",
        "    return u*v*dx\n",
        "  # assemblaggio matrice di massa\n",
        "  M = assemble(m, V)\n",
        "\n",
        "  # matrice di diffusione\n",
        "  def a_diff(u,v):\n",
        "    return deriv(u)*deriv(v)*dx\n",
        "  # assemblaggio matrice di diffusione\n",
        "  A_diff = assemble(a_diff,V)\n",
        "\n",
        "  # matrice di trasporto\n",
        "  def a_trasp(u,v):\n",
        "    return deriv(u)*v*dx\n",
        "  # assemblaggio matrice di trasporto\n",
        "  A_trasp = assemble(a_trasp, V)\n",
        "\n",
        "  A = a*A_diff + b*A_trasp\n",
        "\n",
        "  # ciclo temporale\n",
        "  for n in range(int(nt)-1):\n",
        "    # costruzioni termini noti al tempo dt e dt+1\n",
        "    t_old = n*dt\n",
        "    t_new = (n+1)*dt\n",
        "\n",
        "    fold = lambda x: f(x,t_old)\n",
        "    fnew = lambda x: f(x,t_new)\n",
        "\n",
        "    fold_h = interpolate(fold, V)\n",
        "    def lold(v):\n",
        "      return fold_h*v*dx\n",
        "    Fold = assemble(lold, V)\n",
        "\n",
        "    fnew_h = interpolate(fnew, V)\n",
        "    def lnew(v):\n",
        "      return fnew_h*v*dx\n",
        "    Fnew = assemble(lnew, V)\n",
        "\n",
        "    # condizioni al bordo omogenee di tipo dirichlet\n",
        "    def isLeftNode(x):\n",
        "      return x < 1e-12\n",
        "\n",
        "    def isRightNode(x):\n",
        "      return x > L - 1e-12\n",
        "\n",
        "    dbc1 = DirichletBC(isLeftNode,  0.0)\n",
        "    dbc2 = DirichletBC(isRightNode, 0.0)\n",
        "\n",
        "    A = applyBCs(A, V, dbc1, dbc2)\n",
        "    M = applyBCs(M, V, dbc1, dbc2)\n",
        "    Fold = applyBCs(Fold, V, dbc1, dbc2)\n",
        "    Fnew = applyBCs(Fnew, V, dbc1, dbc2)\n",
        "\n",
        "    # Costruzione del sistema lineare e sua risoluzione\n",
        "    B = (M/dt+theta*A)\n",
        "    b = (M/dt-(1-theta)*A)@u[:,n] + theta*Fnew +(1-theta)*Fold\n",
        "\n",
        "    from scipy.sparse.linalg import spsolve\n",
        "\n",
        "    u[:,n+1] = spsolve(B, b)\n",
        "    t[n+1] = t_new\n",
        "\n",
        "  return V,u,t"
      ]
    },
    {
      "cell_type": "markdown",
      "source": [
        "<mark>**Esercizio 2.1**<mark><br>\n",
        "\n",
        "Si testi la funzione *parabolicSolve* con $h =0.005$, $\\Delta t = 0.001$."
      ],
      "metadata": {
        "id": "M_Ang3K7Om34"
      }
    },
    {
      "cell_type": "code",
      "execution_count": null,
      "metadata": {
        "id": "QI88mIwR_3rK"
      },
      "outputs": [],
      "source": [
        "# Dati del problema\n",
        "\n",
        "\n",
        "# termine noto\n",
        "f = lambda x,t : ...\n",
        "# dato iniziale\n",
        "u0 = lambda x : ..."
      ]
    },
    {
      "cell_type": "code",
      "source": [
        "# theta = 0\n"
      ],
      "metadata": {
        "id": "xCOp1PDPSBsa",
        "collapsed": true
      },
      "execution_count": null,
      "outputs": []
    },
    {
      "cell_type": "code",
      "execution_count": null,
      "metadata": {
        "id": "AAgMY2SbDU67",
        "collapsed": true
      },
      "outputs": [],
      "source": [
        "# theta = 0.5\n"
      ]
    },
    {
      "cell_type": "code",
      "execution_count": null,
      "metadata": {
        "id": "Oa-deRk3DYn1",
        "collapsed": true
      },
      "outputs": [],
      "source": [
        "# theta = 1\n"
      ]
    },
    {
      "cell_type": "markdown",
      "metadata": {
        "id": "fhV8cSwSC9gS"
      },
      "source": [
        "<mark>**Esercizio 2.2**<mark><rb>\n",
        "\n",
        "Si ripeta il punto precedente variando i valori di $a>0$ e $b\\in\\mathbb{R}$. Come cambia la soluzione numerica?"
      ]
    }
  ],
  "metadata": {
    "colab": {
      "provenance": []
    },
    "kernelspec": {
      "display_name": "Python 3",
      "name": "python3"
    },
    "language_info": {
      "name": "python"
    }
  },
  "nbformat": 4,
  "nbformat_minor": 0
}