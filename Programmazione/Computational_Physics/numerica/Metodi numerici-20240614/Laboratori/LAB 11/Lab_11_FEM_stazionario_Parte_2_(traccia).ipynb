{
  "cells": [
    {
      "cell_type": "code",
      "execution_count": null,
      "metadata": {
        "id": "Gk5OwNrUMJbc"
      },
      "outputs": [],
      "source": [
        "import matplotlib.pyplot as plt\n",
        "import numpy as np\n",
        "from fem import install\n",
        "\n",
        "install()"
      ]
    },
    {
      "cell_type": "markdown",
      "metadata": {
        "id": "ogUoqre0cHLW"
      },
      "source": [
        "# **Lab 11 - Metodo agli Elementi Finiti (stazionario) - Parte 2**"
      ]
    },
    {
      "cell_type": "markdown",
      "metadata": {
        "id": "DyOdhsTFCubb"
      },
      "source": [
        "# Equazioni di diffusione-trasporto-reazione\n",
        "\n",
        "Si consideri il seguente problema differenziale, descrivente un fenomeno di diffusione-trasporto-reazione (stazionario)\n",
        "\n",
        "$$\n",
        "\\begin{cases}\n",
        "-au''+bu'+cu = f & x\\in(0,1)\\\\\n",
        "u(0)=u(1)=0.\n",
        "\\end{cases}\n",
        "$$\n",
        "\n",
        "dove $a>0,b\\neq0,c>0$ sono opportuni coefficienti. La corrispondente formulazione debole è\n",
        "</br></br>\n",
        "$$a\\int_0^1u'v'dx+b\\int_0^1u'vdx+c\\int_0^1uvdx=\\int_0^1fvdx.$$"
      ]
    },
    {
      "cell_type": "markdown",
      "metadata": {
        "id": "5HwEICQ5D-oN"
      },
      "source": [
        "<mark>**Esercizio 2.1**</mark></br>\n",
        "\n",
        "Sia $V_h$ lo spazio elementi finiti di grado $r=1$ e passo $h=0.01$. Assemblare le matrici associate alle forme bilineari</br></br>\n",
        "$$a_{\\text{diff}}(u,v):=\\int u'v'dx,\\quad\\quad\n",
        "a_{\\text{trasp}}(u,v):=\\int u'vdx,\\quad\\quad\n",
        "a_{\\text{reac}}(u,v):=\\int uvdx,$$\n",
        "</br>\n",
        "(quindi, senza imporre alcuna condizione al bordo). Sono tutte matrici simmetriche? Se la risposta è negativa: quali non lo sono?"
      ]
    },
    {
      "cell_type": "code",
      "execution_count": null,
      "metadata": {
        "id": "pDit586BGNYr"
      },
      "outputs": [],
      "source": [
        "domain = Line(0, 1)\n",
        "mesh = generate_mesh(domain, stepsize = 0.01)\n",
        "V = FEspace(mesh, 1)\n",
        "\n",
        "...\n",
        "...\n"
      ]
    },
    {
      "cell_type": "markdown",
      "metadata": {
        "id": "5K7WgyXAFJec"
      },
      "source": [
        "<mark>**Esercizio 2.2**</mark></br>\n",
        "\n",
        "Sfruttando le matrici già assemblate all'Es. 2.1, risolvere numericamente l'equazione di diffusione-trasporto-reazione per $a=1$, $b=2$ e $c=3$. Si ponga $f\\equiv-1$. Confrontare la soluzione ottenuta con quella esatta, sapendo che quest'ultima è della forma\n",
        "\n",
        "$$u(x)=C_1 e^{-x}+C_2e^{3x}-\\frac{1}{3},$$\n",
        "\n",
        "dove $C_2=\\frac{1}{3}\\frac{e-1}{e^4-1}$ e $C_1=\\frac{1}{3}-C_2$."
      ]
    },
    {
      "cell_type": "code",
      "execution_count": null,
      "metadata": {
        "id": "lPxg3il7Uzh9"
      },
      "outputs": [],
      "source": [
        "# Assemblaggio RHS\n",
        "fh = interpolate(-1.0, V)\n",
        "l = lambda v: fh*v*dx\n",
        "F = assemble(l, V)\n",
        "\n",
        "# Assemblaggio matrice A (combinare opportunamente le matrici dell'Es. 2.1!)\n",
        "...\n",
        "...\n",
        "\n",
        "# Aggiustamento d.b.c.\n",
        "...\n",
        "...\n",
        "\n",
        "# Soluzione Au = F\n",
        "...\n",
        "..."
      ]
    },
    {
      "cell_type": "code",
      "execution_count": null,
      "metadata": {
        "id": "uRMrh6zjKBeN"
      },
      "outputs": [],
      "source": [
        "# Soluzione esatta per confronto\n",
        "e = np.exp(1)\n",
        "c2 = (e-1.0)/(e**4-1.0)/3.0\n",
        "c1 = 1.0/3.0 - c2\n",
        "uex = lambda x: c1*np.exp(-x) + c2*np.exp(3*x) - 1.0/3.0"
      ]
    },
    {
      "cell_type": "code",
      "execution_count": null,
      "metadata": {
        "id": "8H_ZjMQXKTG3"
      },
      "outputs": [],
      "source": [
        "# Confronto grafico\n",
        "...\n",
        "..."
      ]
    },
    {
      "cell_type": "markdown",
      "metadata": {
        "id": "JsoVEsJAGBnX"
      },
      "source": [
        "<mark>**Esercizio 2.3**</mark></br>\n",
        "\n",
        "Provate a ripetere l'Es. 2.2 per diversi valori di $b>0$. Come cambia la soluzione numerica?"
      ]
    },
    {
      "cell_type": "code",
      "execution_count": null,
      "metadata": {
        "id": "IZ4U0cvmLTcB"
      },
      "outputs": [],
      "source": [
        "\n",
        "\n",
        "\n",
        "\n",
        "\n"
      ]
    }
  ],
  "metadata": {
    "colab": {
      "provenance": []
    },
    "kernelspec": {
      "display_name": "Python 3 (ipykernel)",
      "language": "python",
      "name": "python3"
    },
    "language_info": {
      "codemirror_mode": {
        "name": "ipython",
        "version": 3
      },
      "file_extension": ".py",
      "mimetype": "text/x-python",
      "name": "python",
      "nbconvert_exporter": "python",
      "pygments_lexer": "ipython3",
      "version": "3.10.12"
    }
  },
  "nbformat": 4,
  "nbformat_minor": 0
}