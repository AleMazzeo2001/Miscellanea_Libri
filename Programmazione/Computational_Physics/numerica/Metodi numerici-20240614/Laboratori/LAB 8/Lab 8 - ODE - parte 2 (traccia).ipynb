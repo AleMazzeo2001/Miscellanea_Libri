{
  "cells": [
    {
      "cell_type": "markdown",
      "metadata": {
        "id": "ogUoqre0cHLW"
      },
      "source": [
        "# **Lab 8 - Equazioni Differenziali Ordinarie II**\n",
        "\n",
        "## Metodi di Runge-Kutta (RK)\n",
        "\n",
        "I metodi numerici utilizzati per risolvere il generico problema di Cauchy:\n",
        "\n",
        "$$\n",
        "\\begin{cases}\n",
        "y'(t) = f(t,y), \\quad t_0<t\\leq t_\\text{max}, \\\\\n",
        "y(t_0) = y_0,\n",
        "\\end{cases}\n",
        "$$\n",
        "\n",
        "si basano sulla seguente strategia:\n",
        "\n",
        "1. Stabilire un passo di avanzamento temporale $h$,\n",
        "2. Suddividere l'intervallo temporale $[t_0,t_\\text{max}]$ in un numero $N_h$ di sottointervalli\n",
        "$$ N_h = \\frac{t_\\text{max}-t_0}{h} $$\n",
        "di eguale ampiezza $h$,\n",
        "3. Per ogni istante temporale discreto $t_n$, con $t_0<t_n<t_\\text{max}$, si calcola il valore incognito $u_n$ che approssima la soluzione $y_n=y(t_n)$.\n",
        "\n",
        "L'insieme dei valori $\\{u_0 = y_0, \\ u_1,\\dots,u_{N_h}\\}$ rappresenta la soluzione numerica del problema di Cauchy.\n",
        "\n",
        "Il metodo di Runge-Kutta è un metodo a un passo, ma rispetto a Eulero in avanti consente di raggiungere un ordine di accuratezza più elevato. Ad ogni passo, la soluzione numerica è calcolata secondo la seguente formula:\n",
        "\n",
        "$$\n",
        "\\begin{cases}\n",
        "u_0     = y_0, \\\\\n",
        "u_{n+1} = u_n +\\dfrac{h}{6}(K_1 +2K_2 +2K_3 +K_4), \\quad n=0,\\dots,N_h,\n",
        "\\end{cases}\n",
        "$$\n",
        "\n",
        "dove\n",
        "\n",
        "$$\n",
        "\\begin{aligned}\n",
        "K_1 & = f(t_n,u_n),\\\\\n",
        "K_2 & = f\\left(t_n+\\dfrac{h}{2},u_n+\\dfrac{h}{2}K_1\\right), \\\\\n",
        "K_3 & = f\\left( t_n + \\dfrac{h}{2},u_n+\\dfrac{h}{2}K_2 \\right), \\\\\n",
        "K_4 & = f(t_{n+1},u_n+hK_3).\n",
        "\\end{aligned}\n",
        "$$\n",
        "\n",
        "In particolare, questo è un metodo esplicito di ordine 4 rispetto ad $h$ e, ad ogni passo temporale, richiede quattro valutazioni di $f$. Una variante di questo metodo, che utilizza anche un passo di integrazione variabile, è implementata nella function $\\texttt{RK45}\n",
        "$ della libreria Python $\\texttt{scipy.integrate}$."
      ]
    },
    {
      "cell_type": "markdown",
      "metadata": {
        "id": "WHcqk85rgnn7"
      },
      "source": [
        "## Esplorazione numerica\n",
        "\n",
        "Si consideri il problema di Cauchy\n",
        "\n",
        "$$\n",
        "\\begin{cases}\n",
        "y'(t) = -ty(t), \\quad t_0<t\\leq t_\\text{max}, \\\\\n",
        "y(t_0) = 1,\n",
        "\\end{cases}\n",
        "$$\n",
        "\n",
        "con $t_0 = 0$ e $t_\\text{max} = 5$."
      ]
    },
    {
      "cell_type": "markdown",
      "metadata": {
        "id": "KZ2K1bLjhJFT"
      },
      "source": [
        "<mark>**Esercizio 1.1**</mark></br>\n",
        "\n",
        "Si risolva il problema di Cauchy con il metodo di Eulero in avanti,utilizzando la function $\\verb|eulero_avanti|$ presente nello script $\\verb|utilities_ODE2.py|$, con passo $h=0.01$ e si calcoli l'errore assoluto\n",
        "\n",
        "$$\n",
        "e_h = \\max_{n=1,\\dots,N_h} |y(t_n)-u_n|.\n",
        "$$\n",
        "\n",
        "*NB: a differenza della scorsa implementazione, la function fornita, \"eulero_avanti\", si aspetta che il dato iniziale $y_0$ sia un vettore di lunghezza $d$, dove $d$ è la dimensione del problema (qui, $d=1$). Eventualmente, aiutatevi anche con l'help di Python.*"
      ]
    },
    {
      "cell_type": "code",
      "execution_count": null,
      "metadata": {
        "id": "eDA3-WFIQ6Oh"
      },
      "outputs": [],
      "source": [
        "import numpy as np\n",
        "f = lambda t, y : -t*y\n",
        "y0 = 1\n",
        "t0 = 0\n",
        "t_max = 5\n",
        "\n",
        "yex = lambda t : np.exp(-t**2/2)"
      ]
    },
    {
      "cell_type": "code",
      "execution_count": null,
      "metadata": {
        "id": "6wLmgVz8JdQ5"
      },
      "outputs": [],
      "source": [
        "from utilities_ODE2 import eulero_avanti\n",
        "\n",
        "\n",
        "\n",
        "\n"
      ]
    },
    {
      "cell_type": "markdown",
      "metadata": {
        "id": "TNLrhMgrhhzD"
      },
      "source": [
        "<mark>**Esercizio 1.2**</mark></br>\n",
        "\n",
        "Si risolva ora il problema con il meotodo di Runge-Kutta. Per farlo, si sfrutti la function\n",
        "$\\verb|RK23|\n",
        "$\n",
        "della libreria Python $\\verb|scipy.integrate|$ e si calcoli l'errore assoluto. (Si fissino tolleranza relativa ed assoluta a $10^{-8}$). Si confrontino quindi gli errori assoluti dei due metodi (RK23 ed EA) rispetto al numero di istanti temporali utilizzati.\n",
        "</br></br>\n",
        "*NB: la function RK23 implementa un metodo adattivo basato su due metodi di Runge-Kutta: uno di ordine 3 (per effettuare il passo) ed uno di ordine 2 (per scegliere, ad ogni step, il nuovo passo temporale $h_n$). Inoltre, diversamente dalle implementazioni che abbiamo visto finora, questa function non simula direttamente tutta la traiettoria: invece, ci restituisce un oggetto Python che può essere evoluto in tempo chiamando il metodo $\\verb|.step()|$. In sostanza, RK23 implementa l'iteratore dello schema numerico.*\n",
        "\n",
        "*In ultimo: in ogni momento potete accedere agli attributi $\\verb|.t|$\n",
        " e $\\verb|.y|$ dell'iteratore per conoscere, rispettivamente, il tempo corrente $t_n$ e lo stato corrente del sistema, $y_n$.*"
      ]
    },
    {
      "cell_type": "code",
      "execution_count": null,
      "metadata": {
        "id": "FBbndL-cHhbn"
      },
      "outputs": [],
      "source": [
        "from scipy.integrate import RK23\n",
        "\n",
        "integratore23 = RK23(f, t0, [y0], t_max, rtol=1e-8, atol=1e-8)\n",
        "print(integratore23.t)\n",
        "print(integratore23.y)"
      ]
    },
    {
      "cell_type": "code",
      "source": [
        "\n",
        "\n",
        "\n",
        "\n"
      ],
      "metadata": {
        "id": "zpK9JescKl5f"
      },
      "execution_count": null,
      "outputs": []
    },
    {
      "cell_type": "markdown",
      "metadata": {
        "id": "dUcZPiT9Z08S"
      },
      "source": [
        "Osserviamo che i due metodi hanno un numero di passi temporali confrontabili, ma che l'errore assoluto è significativamente inferiore per il metodo di RK23. Questo è dovuto sia all'ordine del metodo di Runge Kutta sia all'adattività."
      ]
    },
    {
      "cell_type": "markdown",
      "metadata": {
        "id": "LYIStOh_h7i3"
      },
      "source": [
        "<mark>**Esercizio 1.3**</mark></br>\n",
        "\n",
        "Si ripeta l'Esercizio 1.2 utilizzando un metodo di Runge-Kutta di ordine superiore, implementato nella function $\\verb|RK45|\n",
        ",$ della libreria Python $\\verb|scipy.integrate|$ e si calcoli l'errore assoluto. Cosa si può concludere?\n",
        "</br></br>\n",
        "*NB: tale function implementa un metodo adattivo basato su due metodi di Runge-Kutta: uno di ordine 5 (per effettuare il passo) ed uno di ordine 4 (per scegliere,ad ogni step, il nuovo passo temporale $h_n$). Come prima, l'output di RK45 consiste in un oggetto Python, il quale può essere evoluto in tempo chiamando il metodo $\\verb|.step()|$.*\n",
        "\n"
      ]
    },
    {
      "cell_type": "code",
      "source": [
        "\n",
        "\n",
        "\n",
        "\n"
      ],
      "metadata": {
        "id": "lyxD5vwXKquG"
      },
      "execution_count": null,
      "outputs": []
    },
    {
      "cell_type": "markdown",
      "metadata": {
        "id": "4NJZiEHaag2T"
      },
      "source": [
        "Osserviamo che il numero di passi è notevolmente diminuito rispetto al metodo RK23, poiché questo metodo è di ordine maggiore.\n",
        "\n",
        "Possiamo concludere che le stime teoriche sono pienamente soddisfatte, in quanto il metodo di Eulero in avanti è di ordine 1, mentre i metodi adattivi abbattono notevolmente l'errore mantenendo il numero di passi relativamente basso."
      ]
    },
    {
      "cell_type": "markdown",
      "metadata": {
        "id": "aVrH40FgLT5s"
      },
      "source": [
        "<mark>**Esercizio 1.4**</mark></br>\n",
        "\n",
        "Confrontate graficamente soluzione esatta e approssimazioni numeriche (utilizzate quelle ottenute ai punti 1.1, 1.2 ed 1.3).\n",
        "\n"
      ]
    },
    {
      "cell_type": "code",
      "source": [
        "import matplotlib.pyplot as plt\n",
        "\n",
        "\n",
        "\n",
        "\n"
      ],
      "metadata": {
        "id": "3gQCpk1pKuVU"
      },
      "execution_count": null,
      "outputs": []
    },
    {
      "cell_type": "markdown",
      "metadata": {
        "id": "7Jc3gV1viJYU"
      },
      "source": [
        "# ODE di ordine superiore al primo\n",
        "\n",
        "Tutto quello che abbiamo fatto finora si generalizza facilmente al contesto vettoriale, dove, in sostanza, non abbiamo più una singola quantità evolvente nel tempo, ma una collezione di $d$ variabili $\\mathbf{y}(t)\\in\\mathbb{R}^{d}$. Ciò è molto utile anche per modellizzare fenomeni scalari la cui dinamica sia descritta da equazioni di ordine superiore: ad esempio, una ODE del secondo ordine nella variabile $x$\n",
        "$$$$\n",
        "$$x''(t)=f(t,x(t),x'(t))$$\n",
        "$$$$\n",
        "si può riscrivere come\n",
        "$$$$\n",
        "$$\\mathbf{y}'(t)=\\mathbf{f}(t,\\mathbf{y}(t))$$\n",
        "$$$$\n",
        "avendo posto $\\mathbf{y}'(t):=[x(t),\\;x'(t)]^\\top$ il vettore di posizione e velocità, mentre $\\mathbf{f}(\\mathbf{y}):=[y_{2},\\;f(t, y_{1}, y_{2})]^\\top.$"
      ]
    },
    {
      "cell_type": "markdown",
      "metadata": {
        "id": "412hu3RuN3_Z"
      },
      "source": [
        "# Esempio numerico\n",
        "\n",
        "Si consideri l'equazione che descrive l'oscillatore armonico smorzato e forzato data da:\n",
        "\n",
        "$$\n",
        "\\begin{cases}\n",
        "m \\ddot x = -kx - \\gamma\\dot x + f_0 \\cos(\\Omega t), \\quad t_0<t\\leq t_\\text{max}, \\\\\n",
        "\\dot x(t_0) = v_0, \\\\\n",
        "x(t_0) = x_0,\n",
        "\\end{cases}\n",
        "$$\n",
        "\n",
        "dove $m$ è la massa dell'oggetto attaccato alla molla, $k$ la costante elastica della molla, $\\gamma$ il coefficiente di smorzamento e $f_0\\cos(\\Omega t)$ è un termine forzante di ampiezza $f_0$ e frequenza $\\Omega$.\n",
        "La pulsazione dell'oscillazione è definita come\n",
        "\n",
        "$$\n",
        "\\omega = \\sqrt{\\dfrac{k}{m}}.\n",
        "$$"
      ]
    },
    {
      "cell_type": "markdown",
      "metadata": {
        "id": "c7h5Mv3njWUO"
      },
      "source": [
        "<mark>**Esercizio 2.1**</mark></br>\n",
        "\n",
        "Si scriva l'equazione dell'oscillatore armonico come sistema di equazioni differenziali ordinarie del primo ordine."
      ]
    },
    {
      "cell_type": "markdown",
      "metadata": {
        "id": "oAfze8lS0_4C"
      },
      "source": [
        "*Soluzione*\n",
        "\n",
        "In questo caso abbiamo\n",
        "\n",
        "$$\n",
        "\\begin{cases}\n",
        "  \\mathbf{y}'(t) & = \\mathbf{f}(t,y), \\\\\n",
        "  \\mathbf{y}(0) & = \\mathbf{y}_0.\n",
        "\\end{cases}\n",
        "$$\n",
        "\n",
        "dove $\\mathbf{y} = [x(t),\\;\\dot{x}(t)]^\\top$ è un vettore colonna di due componenti, il dato iniziale è $\\mathbf{y}_0 = [x_0,\\;v_0]^\\top$, mentre la funzione $\\mathbf{f}$ è data da\n",
        "</br></br></br>\n",
        "$$\n",
        "\\mathbf{f}(t,\\mathbf{y}) = \\left[y_2,\\;\\;\\;\n",
        "  -\\dfrac{k}{m}y_1 -\\dfrac{\\gamma}{m} y_2 + \\dfrac{f_0}{m}\\cos(\\Omega t)\\right]^\\top\n",
        "$$\n",
        "</br>\n",
        "Equivalentemente,\n",
        "$$\\mathbf{f}(t,\\mathbf{y}) =\n",
        "\\left[\\begin{array}{cc}0 & 1\\\\ -\\displaystyle\\frac{k}{m} & -\\displaystyle\\frac{\\gamma}{m}\n",
        "\\end{array}\n",
        "\\right]\\cdot\\mathbf{y} +\n",
        "\\left[\\begin{array}{c}0 \\\\ \\displaystyle\\frac{f_0}{m}\\cos(\\Omega t)\n",
        "\\end{array}\n",
        "\\right]\n",
        "$$\n"
      ]
    },
    {
      "cell_type": "markdown",
      "metadata": {
        "id": "Q56BwNgpYQJn"
      },
      "source": [
        "<mark>**Esercizio 2.2**</mark></br>\n",
        "\n",
        "Si risolva il problema differenziale ottenuto con Eulero in avanti. A tale scopo, si utilizzi la funzione $\\verb|eulero_avanti|$ che è stata opportunamente modificata in modo da gestire correttamente anche il caso vettoriale. Si approssimi la soluzione per $t_0 = 0$, $t_\\text{max} = 1$, $m=1$, $k=100$, $v_0=0$, $x_0=1$, $\\gamma= 0$, $f_0=0$.\n",
        "\n",
        "Si confronti graficamente la soluzione esatta $x(t) = \\cos(10t)$ con quella ottenuta ponendo $h=0.001$, $h= 0.01$ e $h=0.1$. Si commentino i risultati."
      ]
    },
    {
      "cell_type": "code",
      "execution_count": null,
      "metadata": {
        "id": "urWJfaP-3VKx"
      },
      "outputs": [],
      "source": [
        "import numpy as np\n",
        "\n",
        "# Dati del problema\n",
        "t0 = 0\n",
        "t_max = 1\n",
        "x0 = 1\n",
        "v0 = 0\n",
        "m = 1\n",
        "k = 100\n",
        "\n",
        "# Soluzione esatta\n",
        "u_ex = lambda t : np.cos(10*t)"
      ]
    },
    {
      "cell_type": "markdown",
      "metadata": {
        "id": "n_1JmqaI3vqO"
      },
      "source": [
        "Poiché $f_0 = \\gamma = 0$, la funzione $\\mathbf{f}$ si semplifica e risulta essere\n",
        "\n",
        "$$\n",
        "\\mathbf{f}(t,\\mathbf{y}) =\n",
        "\\left[\n",
        "  y_2,\\;\\;\n",
        "  -\\dfrac{k}{m}y_1\n",
        "\\right]^\\top.\n",
        "$$\n",
        "\n",
        "In particolare, possiamo implementare $\\mathbf{f}$ attraverso un'opportuna lambda function: essa dovrà ricevere in input due variabili (una scalare, $t$, ed una vettoriale $\\mathbf{y}\\in\\mathbb{R}^{2}$), mentre dovrà restituire un vettore bi-dimensionale."
      ]
    },
    {
      "cell_type": "code",
      "execution_count": null,
      "metadata": {
        "id": "Ljc2eqYL4m-b"
      },
      "outputs": [],
      "source": [
        "f = lambda t, y : BLA_BLA_BLA"
      ]
    },
    {
      "cell_type": "code",
      "source": [
        "import matplotlib.pyplot as plt\n",
        "\n",
        "\n",
        "\n",
        "\n",
        "\n"
      ],
      "metadata": {
        "id": "4MhY3n1LLILi"
      },
      "execution_count": null,
      "outputs": []
    },
    {
      "cell_type": "markdown",
      "metadata": {
        "id": "X1mnLxdJ1iT0"
      },
      "source": [
        "<mark>**Esercizio 2.3**</mark></br>\n",
        "\n",
        "Si risolva il problema differenziale ottenuto con Eulero all'indietro. A tale scopo, si utilizzi la funzione $\\verb|eulero_indietro_sis_lineari|$ che è stata opportunamente modificata in modo da gestire correttamente anche il caso vettoriale, sotto l'ipotesi che $\\mathbf{f}$ sia rappresentabile attraverso una matrice. Si approssimi la soluzione per $t_0 = 0$, $t_\\text{max} = 1$, $m=1$, $k=100$, $v_0=0$, $x_0=1$, $\\gamma= 0$, $f_0=0$. Si confronti graficamente la soluzione esatta $x(t) = \\cos(10t)$ con quella ottenuta ponendo $h=0.001$, $h= 0.01$ e $h=0.1$. Si commentino i risultati."
      ]
    },
    {
      "cell_type": "code",
      "execution_count": null,
      "metadata": {
        "id": "6njFxQotJBXd"
      },
      "outputs": [],
      "source": [
        "from utilities_ODE2 import eulero_indietro_sis_lineari\n",
        "\n",
        "# Dati del problema\n",
        "t0 = 0\n",
        "t_max = 1\n",
        "x0 = 1\n",
        "v0 = 0\n",
        "m = 1\n",
        "k = 100\n",
        "gamma = 0\n",
        "\n",
        "# Soluzione esatta\n",
        "u_ex = lambda t : np.cos(10*t)"
      ]
    },
    {
      "cell_type": "code",
      "source": [
        "\n",
        "\n",
        "\n",
        "\n",
        "\n"
      ],
      "metadata": {
        "id": "cSHWkxXZLjtQ"
      },
      "execution_count": null,
      "outputs": []
    },
    {
      "cell_type": "markdown",
      "metadata": {
        "id": "TJCLhmo511WW"
      },
      "source": [
        "<mark>**Esercizio 2.4 (Per casa)**</mark></br>\n",
        "\n",
        "Si ponga $t_0 = 0$, $t_\\text{max} = 10$, $m=1$, $k=4$, $v_0=1$, $x_0=0$.\n",
        "</br></br>\n",
        "Mediante la funzione RK45 di Python si sperimentino i seguenti casi, visualizzandone la soluzione numerica e discutendo i risultati ottenuti alla luce dei risultati teorici.\n",
        "\n",
        "1. Oscillatore armonico semplice: $\\gamma = f_0 = 0$.\n",
        "La soluzione esatta è</br></br>\n",
        "$$\n",
        "x(t) = A\\cos(\\omega t+\\theta_0),\n",
        "$$\n",
        "dove\n",
        "$$\n",
        "A = -\\dfrac{v_0}{\\sin(\\theta_0)\\omega}, \\quad \\theta_0 = \\arctan\\left( \\dfrac{v_0}{\\omega x_0} \\right).\n",
        "$$</br>\n",
        "\n",
        "2. Oscillatore armonico sovra-smorzato: $f_0 = 0$, $\\gamma^2 >4mk$. Si assuma $\\gamma=5$.\n",
        "La soluzione esatta è</br></br>\n",
        "$$\n",
        "x(t) = c_0 e^{\\lambda_0 t} + c_1 e^{\\lambda_1 t},\n",
        "$$\n",
        "dove</br></br>\n",
        "$$\n",
        "\\lambda_{k}=\\frac{-\\gamma+(-1)^{k}\\sqrt{\\gamma^{2}-4mk}}{2m},\\quad\\quad c_{0}=x_{0}-c_{1},\\quad\\quad c_{1}=\\frac{v_{0}-x_{0}\\lambda_{0}}{\\lambda_{1}-\\lambda_{0}}\n",
        "$$\n",
        "</br>\n",
        "3. Oscillatore armonico sotto-smorzato: $f_0 = 0$, $\\gamma^2 < 4mk$. Si assuma $\\gamma = 1$.\n",
        "La soluzione esatta è</br></br>\n",
        "$$\n",
        "x(t) = e^{-\\frac{\\gamma}{2m}t}\\left(A\\cos(\\omega_1 t)+B\\sin(\\omega_1 t)\\right),\n",
        "$$</br>\n",
        "dove</br></br>\n",
        "$$\n",
        "\\omega_1 = \\dfrac{\\sqrt{4mk-\\gamma}}{2m}, \\quad A=x_0, \\quad B=\\dfrac{v_0}{\\omega_1} + \\dfrac{\\gamma x_0}{2m\\omega_1}.\n",
        "$$\n",
        "</br>\n",
        "4. Oscillatore armonico forzato: $\\gamma=1$, $f_0=1$, $\\Omega=0.5$. In questo caso si ponga $t_\\text{max}=30$."
      ]
    },
    {
      "cell_type": "code",
      "execution_count": null,
      "metadata": {
        "id": "lItBK6COf3WQ"
      },
      "outputs": [],
      "source": [
        "\n",
        "\n",
        "\n",
        "\n"
      ]
    },
    {
      "cell_type": "markdown",
      "metadata": {
        "id": "VGG_LuFmGA10"
      },
      "source": [
        "<mark>**Extra!**</mark></br>\n",
        "\n",
        "Confrontare le soluzioni numeriche ottenute nell'Esercizio 2.4, rappresentandole nel piano delle fasi, cioè nel piano posizione-velocità, $(x,\\dot{x})$."
      ]
    },
    {
      "cell_type": "code",
      "source": [
        "\n",
        "\n",
        "\n",
        "\n"
      ],
      "metadata": {
        "id": "iGgNFH9KxVTh"
      },
      "execution_count": null,
      "outputs": []
    }
  ],
  "metadata": {
    "colab": {
      "provenance": []
    },
    "kernelspec": {
      "display_name": "Python 3",
      "name": "python3"
    },
    "language_info": {
      "name": "python"
    }
  },
  "nbformat": 4,
  "nbformat_minor": 0
}