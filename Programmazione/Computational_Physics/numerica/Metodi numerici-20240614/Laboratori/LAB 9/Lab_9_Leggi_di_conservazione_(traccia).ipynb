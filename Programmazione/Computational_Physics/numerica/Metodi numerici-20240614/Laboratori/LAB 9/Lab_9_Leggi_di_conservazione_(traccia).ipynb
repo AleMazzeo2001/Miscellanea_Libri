{
  "cells": [
    {
      "cell_type": "markdown",
      "metadata": {
        "id": "EaSBS_oUolPA"
      },
      "source": [
        "# **Lab 9 - leggi di conservazione: esercizi**\n",
        "\n",
        "Si consideri il seguente problema di trasporto lineare\n",
        "</br></br>\n",
        "$$\n",
        "\\dfrac{\\partial u}{\\partial t} + \\dfrac{\\partial (v\\,u)}{\\partial x} = 0\n",
        "$$\n",
        "</br>\n",
        "sul dominio $\\Omega=[0,5]$ e nell'intervallo temporale $(0,5]$.\n",
        "Scegliamo $v=1$ e dato che la velocità è positiva il bordo di inflow è $x=0$, dove imponiamo la condizione $u=0$. Al bordo destro, $x=5$, non prescriviamo alcuna condizione.\n",
        "\n",
        "Il dato iniziale è\n",
        "</br></br>\n",
        "$$\n",
        "u_0(x) =\n",
        "\t\\begin{cases}\n",
        "\t\t1 & \\text{per}\\ 1\\le x\\le2, \\\\\n",
        "\t\t0 & \\text{altrimenti}.\n",
        "\t\\end{cases}\n",
        "$$\n",
        "</br>\n",
        "Si consideri la seguente $\\verb|function|$ che risolve il problema di trasporto con il metodo dei Volumi Finiti:\n",
        "\n",
        "      def fvsolve(u0, f, df, L, T, h, dt, flux_function)\n",
        "        #\n",
        "        return xc, t, u\n",
        "\n",
        "Questa function prende in **input**: il dato iniziale $u_0$, la funzione di flusso $\\verb|f|$, la sua derivata prima $\\verb|df|$, la lunghezza $L$ di $\\Omega=[0, L]$, il tempo finale $T$, la spaziatura della griglia spaziale: $\\verb|h|$, la spaziatura della griglia temporale: $\\verb|dt|$, il parametro $\\verb|flux_function|$ corrisponde ad una funzione flusso (nel nostro caso sarà quella che implementarà il flusso di *upwind* e *Godunov*). L'**output** consiste in un vettore $\\verb|xc|$ dei punti medi delle celle, un vettore degli istanti di tempo discreti $\\verb|t|$, una matrice $\\verb|u|$ le cui colonne corrispondono ai valori che la soluzione assume ad ogni istante temporale in ogni intervallo di discretizzazione."
      ]
    },
    {
      "cell_type": "code",
      "execution_count": 1,
      "metadata": {
        "id": "ltzSsBZjCw8c"
      },
      "outputs": [],
      "source": [
        "from utilis_solver_cl import fvsolve\n",
        "\n",
        "# Dati del problema 1: trasporto lineare\n",
        "# velocità\n",
        "v = 1;\n",
        "# definire la u_0\n",
        "\n",
        "# definire la f\n",
        "\n",
        "# definire la df\n",
        "\n",
        "# lunghezza di Omega\n",
        "L=5\n",
        "# Istante di tempo finale\n",
        "T=5"
      ]
    },
    {
      "cell_type": "markdown",
      "metadata": {
        "id": "eEBYkPkftw0Q"
      },
      "source": [
        "<mark>**Esercizio 1.1**</mark></br>\n",
        "Calcolare il passo temporale massimo che soddisfa la **condizione CFL** con i dati forniti e il corrispondente numero di passi temporali $N_t$, quando il numero di sottointervalli in cui è suddiviso il dominio spaziale è $N=40$."
      ]
    },
    {
      "cell_type": "code",
      "execution_count": 2,
      "metadata": {
        "id": "vRQe5q-Korfq"
      },
      "outputs": [],
      "source": [
        "# N suddivisione spazio\n",
        "N = 40\n",
        "# passo spaziale\n",
        "h=L/N\n",
        "# Nt suddivisione temporale\n",
        "\n",
        "# passo temporale\n"
      ]
    },
    {
      "cell_type": "markdown",
      "metadata": {
        "id": "g7jP4RiStylD"
      },
      "source": [
        "<mark>**Esercizio 1.2**</mark></br>\n",
        "Implementare una *funzione* che calcoli il flusso numerico per il metodo **upwind** in un dato intervallo. Utilizzare la seguente intestazione:\n",
        "\n",
        "    def upwind_flux(f, df, uL, uR)\n",
        "      #\n",
        "      # implementazione\n",
        "      #\n",
        "      return F\n",
        "\n",
        "dove:\n",
        "\n",
        "*  $\\verb|f|$ e $\\verb|df|$ sono due lambda function corrispondenti alla funzione di flusso e alla sua derivata prima\n",
        "\n",
        "* $\\verb|uL|$ e $\\verb|uR|$ due vettori contenenti tutti i valori della soluzione all'estremo sinistro e destro, rispettivamente, di ogni cella.\n",
        "\n",
        "L'output $\\verb|F|$ consiste in un vettore contenente tutti i valori del flusso numerico nelle celle della griglia spaziale."
      ]
    },
    {
      "cell_type": "code",
      "execution_count": 3,
      "metadata": {
        "id": "X-GaXNPHupmn"
      },
      "outputs": [],
      "source": [
        "# Implementazione del flusso \"alla upwind\"\n",
        "def upwind_flux(f, df, uL, uR):\n",
        "  \"\"\"\n",
        "  Input:\n",
        "    f  (lambda function)\n",
        "    df (lambda function)\n",
        "    uL (numpy.ndarray)\n",
        "    uR (numpy.ndarray)\n",
        "  Output:\n",
        "    F (numpy.ndarray)\n",
        "  \"\"\"\n",
        "\n",
        "\n"
      ]
    },
    {
      "cell_type": "markdown",
      "metadata": {
        "id": "tplMyDRtBNRc"
      },
      "source": [
        "<mark>**Esercizio 1.3**</mark></br>\n",
        "Risolvere il problema dato scegliendo $N_t$, $N_t-1$, $2N_t$ passi temporali.\n",
        "\n",
        "Plottare i grafici delle soluzioni approssimate utilizzando la function $\\verb|xtplot|$ in **utilis_plot_cl.py** e commentare i risultati ottenuti.\n"
      ]
    },
    {
      "cell_type": "code",
      "execution_count": 4,
      "metadata": {
        "id": "aTpwLZlw3ytp"
      },
      "outputs": [],
      "source": [
        "from utilis_plot_cl import xtplot\n",
        "import numpy as np\n",
        "# rappresentazione grafica per Nt\n"
      ]
    },
    {
      "cell_type": "code",
      "execution_count": 5,
      "metadata": {
        "id": "rKQqROUGO4pX"
      },
      "outputs": [],
      "source": [
        "# rappresentazione grafica per Nt-1\n"
      ]
    },
    {
      "cell_type": "code",
      "execution_count": 6,
      "metadata": {
        "id": "sLru5fYCO6DD"
      },
      "outputs": [],
      "source": [
        "# rappresentazione grafica per 2*Nt\n"
      ]
    },
    {
      "cell_type": "markdown",
      "metadata": {
        "id": "1k3lqo29xFAx"
      },
      "source": [
        "<mark>**Esercizio 2**</mark></br>\n",
        "Si consideri ora l'equazione di Burgers:\n",
        "</br></br>\n",
        "$$\n",
        "\\dfrac{\\partial u}{\\partial t} + \\dfrac{\\partial}{\\partial x} \\left(\\dfrac{u^2}{2}\\right)= 0\n",
        "$$\n",
        "sul dominio $\\Omega=[0,5]$ e nell'intervallo temporale $(0,10]$, con condizione iniziale\n",
        "</br></br>\n",
        "$$\n",
        "\tu_0(x) =\n",
        "\t\\begin{cases}\n",
        "\t\t4(x-1)(2-x) & \\text{per}\\ 1\\le x\\le2, \\\\\n",
        "\t\t0 & \\text{altrimenti}.\n",
        "\t\\end{cases}\n",
        "$$\n",
        "</br>\n",
        "Anche in questo caso imponiamo la condizione di Dirichlet sul bordo sinistro, $u(0,t)\\equiv u(0,0)$ per ogni $t\\in(0,10]$. Osserviamo quindi che, più in generale, se $u\\ge0$, anche in questo caso il bordo sinistro è di inflow.\n"
      ]
    },
    {
      "cell_type": "markdown",
      "metadata": {
        "id": "YY8t4XLHxFPo"
      },
      "source": [
        "<mark>**Esercizio 2.1**</mark></br>\n",
        "Rappresentare in un grafico l'andamento della funzione flusso $f(u)$ e della sua derivata prima $f^\\prime(u)$ per $0\\leq u\\leq 1$.\n"
      ]
    },
    {
      "cell_type": "code",
      "execution_count": 7,
      "metadata": {
        "id": "ddhbW_0qcUfJ"
      },
      "outputs": [],
      "source": [
        "import numpy as np\n",
        "import matplotlib.pyplot as plt\n",
        "\n",
        "# Dati del problema\n",
        "# definire la u_0\n",
        "\n",
        "# definire la f\n",
        "f =  lambda u: 0.5*u*u\n",
        "# definire la df\n",
        "df = lambda u: u\n",
        "# lunghezza di Omega\n",
        "L=5\n",
        "# Istante di tempo finale\n",
        "T=10\n",
        "\n"
      ]
    },
    {
      "cell_type": "markdown",
      "metadata": {
        "id": "QcgA0rxinUlb"
      },
      "source": [
        "*Soluzione*\n",
        "\n",
        "La funzione di flusso $f(u) = u^2/2$ rappresenta un arco di parabola nell'intervallo $[0,1]$, monotona crescente. La derivata è rappresentata dalla retta $f'(u)=u$."
      ]
    },
    {
      "cell_type": "markdown",
      "metadata": {
        "id": "MSO_rvw7x8-t"
      },
      "source": [
        "<mark>**Esercizio 2.2**</mark></br>\n",
        "In base ai risultati del punto precedente, il metodo Upwind è applicabile? Risolvere il problema prendendo $N=40$ e $Nt=80$."
      ]
    },
    {
      "cell_type": "code",
      "execution_count": 8,
      "metadata": {
        "id": "Xs_aXwq9oOXx"
      },
      "outputs": [],
      "source": [
        "# N suddivisione spazio\n",
        "N=40\n",
        "# passo spaziale\n",
        "h=L/N\n",
        "# Nt suddivisione temprale\n",
        "Nt = 80\n",
        "\n",
        "# rappresentazione grafica per Nt\n",
        "\n"
      ]
    },
    {
      "cell_type": "markdown",
      "metadata": {
        "id": "3waZPM2OvseF"
      },
      "source": [
        "<mark>**Esercizio 3**</mark></br>\n",
        "Si consideri ora l'equazione del traffico\n",
        "</br></br>\n",
        "$$\n",
        "\\dfrac{\\partial u}{\\partial t} + \\dfrac{\\partial }{\\partial x}f(u)=0\n",
        "$$\n",
        "</br>\n",
        "sul dominio $\\Omega=[0, 5]$ e nell'intervallo temporale $(0,10]$.\n",
        "Qui la funzione f è la seguente:\n",
        "</br></br>\n",
        "$$f(u)=v\\,u\\left(1-\\dfrac{u}{u_{max}}\\right).$$\n",
        "</br>\n",
        "$v$ indica una velocità che viene modulata in funzione della densità di auto $u$. In particolare quando $u$ raggiunge il valore massimo $u_{max}$ il flusso si annulla (traffico bloccato).\n"
      ]
    },
    {
      "cell_type": "markdown",
      "metadata": {
        "id": "E60FoUzCwkZT"
      },
      "source": [
        "<mark>**Esercizio 3.1**</mark></br>\n",
        "Dopo aver scelto $v=1$ e $u_{max}=1$, rappresentare la funzione flusso e la sua derivata per $0\\leq u \\leq 1$.\n"
      ]
    },
    {
      "cell_type": "code",
      "execution_count": 9,
      "metadata": {
        "id": "6qDWXE9PqBqQ"
      },
      "outputs": [],
      "source": [
        "# Dati del problema\n",
        "v = 1;\n",
        "umax = 1;\n",
        "# definire la f\n",
        "f =  lambda u: v*u*(1-u/umax);\n",
        "# definire la df\n",
        "df = lambda u: v*(1-2*u/umax);\n",
        "\n",
        "\n"
      ]
    },
    {
      "cell_type": "markdown",
      "metadata": {
        "id": "HbG67sbHwm8k"
      },
      "source": [
        "<mark>**Esercizio 3.2**</mark></br> In base al punto precedente, il metodo Upwind è applicabile?\n"
      ]
    },
    {
      "cell_type": "markdown",
      "metadata": {
        "id": "U0Bg3huLwnIM"
      },
      "source": [
        "<mark>**Flusso di Godunov**</mark></br>\n",
        "\n",
        "Si consideri la funzione $\\verb|godunov_flux|$ che implementa il calcolo del flusso numerico *Godunov*."
      ]
    },
    {
      "cell_type": "code",
      "execution_count": 10,
      "metadata": {
        "id": "Ai59Qo87mSTr"
      },
      "outputs": [],
      "source": [
        "# Implementazione del flusso di Godunov\n",
        "def godunov_flux(f, df, uL, uR):\n",
        "\n",
        "  iL, iR = [], []\n",
        "  for i in range(len(uL)):\n",
        "      iL.append(min(uL[i],uR[i]))\n",
        "      iR.append(max(uL[i],uR[i]))\n",
        "\n",
        "  iL = np.array([iL])\n",
        "  iR = np.array([iR])\n",
        "\n",
        "  g = np.linspace(0, 1, 1000)\n",
        "  g=np.array([g])\n",
        "  itot = f(iL.T@g + iR.T@(1-g))\n",
        "  imins = np.min(itot, axis=1)\n",
        "  imaxs = np.max(itot, axis=1)\n",
        "  candidates = imins\n",
        "  dir = np.sign(uR-uL)\n",
        "  candidates[np.where(dir<0)] = imaxs[np.where(dir<0)]\n",
        "  F = candidates\n",
        "\n",
        "  return F"
      ]
    },
    {
      "cell_type": "markdown",
      "metadata": {
        "id": "AijJbIb1pSim"
      },
      "source": [
        "<mark>**Esercizio 3.3**</mark></br>\n",
        "\n",
        "Applicando il flusso numerico di *Godunov*, risolvere il problema del traffico con coda al semaforo, descritto dalla condizione iniziale\n",
        "</br></br>\n",
        "$$\n",
        "\tu_0(x) =\n",
        "\t\\begin{cases}\n",
        "\t\tu_{max} & \\text{per}\\ x\\le2, \\\\\n",
        "\t\t\\frac{1}{8}u_{max} & \\text{per}\\ x>2\n",
        "\t\\end{cases}\n",
        "$$\n",
        "</br>\n",
        "e prendendo $N=40$ e $N_t=80$. Cosa si osserva?"
      ]
    },
    {
      "cell_type": "code",
      "execution_count": 11,
      "metadata": {
        "id": "uww9LNukqKQq"
      },
      "outputs": [],
      "source": [
        "# definire la u_0\n",
        "u0 = lambda x: 1.0*(x<=2)+1/8*(x>2);\n",
        "L=5\n",
        "# N suddivisione spazio\n",
        "N=40\n",
        "# passo spaziale\n",
        "h=L/N\n",
        "# tempo finale\n",
        "T=10\n",
        "# scelta de Nt\n",
        "Nt=80\n",
        "# scelta di dt\n",
        "dt=T/Nt\n",
        "\n",
        "\n",
        "\n"
      ]
    },
    {
      "cell_type": "markdown",
      "metadata": {
        "id": "jXbBywXmwsE1"
      },
      "source": [
        "<mark>**Esercizio 3.4**</mark></br>\n",
        "Risolvere il problema del traffico con condizione iniziale\n",
        "</br></br>\n",
        "$$\n",
        "\tu_0(x) =\n",
        "\t\\begin{cases}\n",
        "\t\t\\frac{1}{8}u_{max} & \\text{per}\\ x\\le2, \\\\\n",
        "\t\tu_{max} & \\text{per}\\ x>2\n",
        "\t\\end{cases}\n",
        "$$\n",
        "</br>\n",
        "con gli stessi dati di prima. Cosa si osserva?"
      ]
    },
    {
      "cell_type": "code",
      "execution_count": 12,
      "metadata": {
        "id": "4F3SEA_4CAEy"
      },
      "outputs": [],
      "source": [
        "# definire la u_0\n",
        "u0 = lambda x: 1.0*(x>2)+1/8*(x<=2);\n",
        "\n"
      ]
    }
  ],
  "metadata": {
    "colab": {
      "provenance": []
    },
    "kernelspec": {
      "display_name": "Python 3",
      "name": "python3"
    },
    "language_info": {
      "name": "python"
    }
  },
  "nbformat": 4,
  "nbformat_minor": 0
}