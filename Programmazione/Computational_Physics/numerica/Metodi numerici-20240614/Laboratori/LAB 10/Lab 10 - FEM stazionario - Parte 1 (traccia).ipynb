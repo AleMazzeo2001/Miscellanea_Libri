{
  "cells": [
    {
      "cell_type": "code",
      "execution_count": null,
      "metadata": {
        "id": "Gk5OwNrUMJbc"
      },
      "outputs": [],
      "source": [
        "import matplotlib.pyplot as plt\n",
        "import numpy as np\n",
        "from fem import install\n",
        "\n",
        "install()"
      ]
    },
    {
      "cell_type": "markdown",
      "metadata": {
        "id": "ogUoqre0cHLW"
      },
      "source": [
        "# **Lab 10 - Metodo agli Elementi Finiti (stazionario) - Parte 1**\n",
        "\n",
        "Il metodo agli elementi finiti (FEM) è una tecnica di risoluzione numerica per equazioni alle derivate parziali, basata sulla discretizzazione di domini spaziali attraverso mesh poligonali (spesso e volentieri triangolari). Nel caso mono-dimensionale, in particolare, ciò si riduce all'introduzione di griglie spaziali.\n",
        "\n",
        "La peculiarità del FEM è quella di risolvere il problema differenziali in *forma debole*, cioè passando da un'equazione puntuale (definita per ogni $x$ nel dominio), ad una variazionale (definita per ogni funzione test $v$). Per fare ciò, si fa leva su alcuni concetti di Analisi Funzionale, quali: spazi funzionali (Sobolev e Lebesgue), norme integrali, prodotti interni, forme bilineari, funzionali lineari, etc."
      ]
    },
    {
      "cell_type": "markdown",
      "metadata": {
        "id": "NXZRYnrDWxaj"
      },
      "source": [
        "## Discretizzazione agli elementi finiti - **Mesh**\n",
        "\n",
        "L'idea alla base del FEM è quella di discretizzare il dominio spaziale $\\Omega$ introducendo una mesh $\\mathcal{M}$ partizionata in *elementi*. Scelto un grado polinomiale $r$, quest'ultima viene utilizzata per costruire uno spazio elementi finiti\n",
        "\n",
        "$$V_{h}\\subset L^{2}(\\Omega),$$\n",
        "\n",
        "caratterizzato da tutte quelle funzioni $v_h:\\Omega\\to\\mathbb{R}$ che sono polinomiali a tratti (di grado $r$), cioè, limitatamente ad ogni elemento della mesh, si possono scrivere come polinomi di grado $r$.\n",
        "\n",
        "Nel caso Lagrangiano, questa costruzione è automaticamente associata, ad una collezione di nodi, $x_{1},\\dots,x_{N_h}$, detti *gradi di libertà* (dofs). Questi ultimi, infatti, servono per l'interpolazione locale, che avviene elemento per elemento (similmente alle spline)."
      ]
    },
    {
      "cell_type": "code",
      "execution_count": null,
      "metadata": {
        "id": "lY1kynR_7Eja"
      },
      "outputs": [],
      "source": [
        "from fem import Line, generate_mesh, FEspace, plot\n",
        "\n",
        "\n",
        "\n",
        "\n",
        "\n"
      ]
    },
    {
      "cell_type": "code",
      "execution_count": null,
      "metadata": {
        "id": "UCS-xIKyYUj6"
      },
      "outputs": [],
      "source": [
        "from fem import dofs\n",
        "\n"
      ]
    },
    {
      "cell_type": "markdown",
      "metadata": {
        "id": "19PWMRR0AqS8"
      },
      "source": [
        "## Discretizzazione agli elementi finiti - **Funzioni**\n",
        "\n",
        "Il vantaggio principale è che ogni funzione $f_h\\in V_h$ si può rappresentare **univocamente** attraverso il vettore dei suoi valori nodali $\\mathbf{f}_h$. Cioè, esiste una corrispondenza 1-a-1\n",
        "\n",
        "$$V_h\\ni f_h\\;\\;\\longleftrightarrow\\;\\;\\mathbf{f}_{h}\\in \\mathbb{R}^{N_h}$$\n",
        "\n",
        "dove $\\mathbf{f}_{h}=[f_h(x_1),\\dots,f_h(x_{N_h})]$ è il vettore di valori nodali.\n",
        "</br></br>\n",
        "La corrispondenza è biunivoca perché: data $f_h$, il vettore $\\mathbf{f}_h$ si calcola facilmente valutando $f_h$ nei nodi; viceversa, dato il vettore di valori nodali, basta interpolare localmente per ottenere $f_h$."
      ]
    },
    {
      "cell_type": "code",
      "execution_count": null,
      "metadata": {
        "id": "hE11M765XOVK"
      },
      "outputs": [],
      "source": [
        "from fem import interpolate\n",
        "\n",
        "\n"
      ]
    },
    {
      "cell_type": "code",
      "execution_count": null,
      "metadata": {
        "id": "KiNwABDvB9RW"
      },
      "outputs": [],
      "source": [
        "plt.figure(figsize = (4, 3))\n",
        "plot(fh, marker = '.', label = '$f_h$')\n",
        "\n",
        "xplot = np.linspace(0, 1, 1000)\n",
        "plt.plot(xplot, f(xplot), '--r', label = '$f$', alpha = 0.25)\n",
        "plt.legend()\n",
        "plt.show()"
      ]
    },
    {
      "cell_type": "code",
      "execution_count": null,
      "metadata": {
        "id": "Vyahs2g9X6MO"
      },
      "outputs": [],
      "source": [
        "from fem import dof2fun, fun2dof\n",
        "\n",
        "\n"
      ]
    },
    {
      "cell_type": "markdown",
      "metadata": {
        "id": "qiDMcNXvYxv5"
      },
      "source": [
        "<mark>**Esercizio 1**</mark></br>\n",
        "\n",
        "Le funzioni di base $\\varphi_{j}\\in V_{h}$ sono quelle funzioni la cui rappresentazione in vettore dof corrisponde ai vettori della base canonica $\\mathbf{e}_{j}=[0,0,\\dots,1,\\dots,0,0]$, dove \"l'1\" è in posizione $j$.\n",
        "\n",
        "Si consideri la terza funzione di base, $j=3$, secondo l'ordinamento proposto da FEniCS.\n",
        "\n",
        "1. Rappresentare graficamente $\\varphi_j$,\n",
        "2. Determinare $x$ tale che $\\varphi_{j}(x)=1$.\n",
        "\n",
        "NB: non fate confusione con l'indicizzazione, ricordate che in Python partiamo a contare da zero!"
      ]
    },
    {
      "cell_type": "code",
      "execution_count": null,
      "metadata": {
        "id": "51z4PpC3Yycr"
      },
      "outputs": [],
      "source": [
        "\n",
        "\n",
        "\n",
        "\n"
      ]
    },
    {
      "cell_type": "markdown",
      "metadata": {
        "id": "A-8X_v2KCrkx"
      },
      "source": [
        "# Discretizzazione agli elementi finiti - **Funzionali lineari**\n",
        "\n",
        "Poiché ogni funzione in $V_h$ si rappresenta univocamente con un vettore in $\\mathbb{R}^{N_h}$, questo ci permette di rappresentare facilmente anche altri oggetti, tra cui i *funzionali lineari*. Infatti, si dimostra che ad ogni $\\ell:V_h\\to\\mathbb{R}$ lineare corrisponde un $\\mathbf{F}\\in\\mathbb{R}^{N_h}$ tale che</br></br>\n",
        "\n",
        "$$\\ell(v_h)=\\mathbf{v}_h^\\top\\mathbf{F}\\quad\\quad\\forall v_h\\in V_h$$\n",
        "\n",
        "dove $v_h\\leftrightarrow\\mathbf{v}_h$ come prima.\n",
        "</br>\n",
        "</br>\n",
        "Di seguito un esempio per il funzionale lineare $\\ell:\\;v_h\\mapsto \\int x^2 v_h(x)dx$."
      ]
    },
    {
      "cell_type": "code",
      "execution_count": null,
      "metadata": {
        "id": "wNvKa4uxD-8p"
      },
      "outputs": [],
      "source": [
        "from fem import assemble, dx\n",
        "\n",
        "\n",
        "\n",
        "\n"
      ]
    },
    {
      "cell_type": "code",
      "execution_count": null,
      "metadata": {
        "id": "mIy8dKGoEdZX"
      },
      "outputs": [],
      "source": [
        "vh = interpolate(lambda x: 1-x, V)\n",
        "vh = fun2dof(vh) # passaggio a rappresentazione vettoriale\n",
        "\n",
        "vh.T @ F # Equivalente a calcolare l(vh)!"
      ]
    },
    {
      "cell_type": "markdown",
      "metadata": {
        "id": "DMTTPzioE4xK"
      },
      "source": [
        "# Discretizzazione agli elementi finiti - **Forme bilineari**\n",
        "\n",
        "Analogamente a prima, si dimostra che per ogni forma bilineare $a:V_h\\times V_h\\to\\mathbb{R}$ esiste una matrice $\\mathbf{A}\\in\\mathbb{R}^{N_h\\times N_h}$ tale che</br></br>\n",
        "\n",
        "$$a(u_h,v_h)=\\mathbf{v}_h^\\top\\mathbf{A}\\mathbf{u}_h\\quad\\quad\\forall u_h,v_h\\in V_h.$$\n",
        "</br>\n",
        "</br>\n",
        "Di seguito un esempio per la forma bilineare $a:\\;(u_h,v_h)\\mapsto\\int u'_h(x)v_h(x)dx$."
      ]
    },
    {
      "cell_type": "code",
      "execution_count": null,
      "metadata": {
        "id": "ddhWqgMpFuxJ"
      },
      "outputs": [],
      "source": [
        "from fem import deriv\n",
        "\n",
        "\n",
        "\n",
        "\n"
      ]
    },
    {
      "cell_type": "code",
      "execution_count": null,
      "metadata": {
        "id": "GYlSuD9qGAMY"
      },
      "outputs": [],
      "source": [
        "uh = interpolate(lambda x: x**2, V)\n",
        "vh = interpolate(lambda x: (1-x), V)\n",
        "\n",
        "uh = fun2dof(uh)\n",
        "vh = fun2dof(vh)\n",
        "\n",
        "vh.T @ A @ uh # Equivalente a calcolare a(uh, vh)!"
      ]
    },
    {
      "cell_type": "markdown",
      "metadata": {
        "id": "MuCL6AVLG4eE"
      },
      "source": [
        "<mark>**Esercizio 2**</mark></br>\n",
        "\n",
        "Usando lo spazio elementi finiti già costruito, assemblate la forma bilineare\n",
        "\n",
        "$$m:\\;(u,v)\\mapsto \\int uv dx$$\n",
        "\n",
        "la cui matrice corrispondente, $\\mathbf{M}$,  è detta *matrice di massa*.\n",
        "\n",
        "Visualizzate la matrice $\\mathbf{M}$: è simmetrica? è a dominanza diagonale per righe/colonne? è definita positiva?\n",
        "</br>\n",
        "</br>\n",
        "NB: sfruttate il comando $\\texttt{.todense()}$ per passare dal formato sparso a quello \"pieno\"."
      ]
    },
    {
      "cell_type": "code",
      "execution_count": null,
      "metadata": {
        "id": "nWQtbedRHkU4"
      },
      "outputs": [],
      "source": [
        "\n",
        "\n",
        "\n",
        "\n",
        "\n"
      ]
    },
    {
      "cell_type": "markdown",
      "metadata": {
        "id": "vA4ji9AsaMP4"
      },
      "source": [
        "## Applicazione ai problemi ellittici\n",
        "\n",
        "Grazie a queste rappresentazioni così efficaci, il FEM ci permette di risolvere equazioni differenziali (lineari) trasformandole in problemi algebrici (sistemi lineari). Vediamolo con un esempio.\n",
        "</br>\n",
        "</br>\n",
        "Sia $\\Omega=(a,b)$. Vogliamo risolvere il problema\n",
        "\n",
        "$$-u'' = f \\quad \\text{in}\\;\\Omega,$$\n",
        "\n",
        "complementato da condizioni di Dirichlet (dbc), $u(a)=\\alpha$, $u(b)=\\beta$, ai bordi del dominio. Abbiamo\n",
        "\n",
        "- **Formulazione forte**: trovare $u\\in \\mathcal{C}^{2}(\\Omega)$ soddisfacente le dbc e tale che</br></br>\n",
        "$$-u''(x)=f(x)\\quad\\forall x\\in\\Omega.$$</br>\n",
        "\n",
        "- **Formulazione debole**: trovare $u\\in H^{1}(\\Omega)$ soddisfacente le dbc e tale che</br></br>\n",
        "$$\\int_a^bu'v'dx=\\int_a^bfvdx\\quad\\forall v\\in H_0^1(\\Omega).$$</br>\n",
        "\n",
        "- **Problema di Galerkin**: trovare $u_h\\in V_h$ soddisfacente le dbc e tale che</br></br>\n",
        "$$\\int_a^bu_h'v_h'dx=\\int_a^bfv_hdx\\quad\\forall v_h\\in V_h\\cap H_0^1(\\Omega).$$</br>\n",
        "\n",
        "\n",
        "- **Formulazione algebrica**: trovare $\\mathbf{u}_h\\in\\mathbb{R}^{N_h}$ soddisfacente le dbc e tale che</br></br>\n",
        "$$\\mathbf{A}\\mathbf{u}_h = \\mathbf{F}.$$</br>\n",
        "\n",
        "\n",
        "- **Formulazione algebrica (con dbc)**: trovare $\\mathbf{u}_h\\in\\mathbb{R}^{N_h}$ tale che</br></br>\n",
        "$$\\tilde{\\mathbf{A}}\\mathbf{u}_h = \\tilde{\\mathbf{F}}.$$</br>\n",
        "\n",
        "L'ultimo step si ottiene modificando $\\mathbf{A}$ e $\\mathbf{F}$ in maniera opportuna, così da includere le condizioni al bordo. Ad es., se $j$ è la componente che fa riferimento al nodo $x_j=a$, si impone $F_j=\\alpha$ e si sovrascrive la riga $j$-esima di $\\mathbf{A}$ ponendo tutti 0 fuorché in posizione $j$ (dove si mette un 1).\n",
        "</br>\n",
        "</br>\n",
        "Tutto ciò ci permette di trovare $\\mathbf{u}_h$, e quindi $u_h$, risolvendo un sistema lineare.\n"
      ]
    },
    {
      "cell_type": "markdown",
      "metadata": {
        "id": "UdHTtmuKM6R7"
      },
      "source": [
        "<mark>**Esercizio 3**</mark></br>\n",
        "\n",
        "Si consideri il seguente problema ellittico,</br></br>\n",
        "\n",
        "$$\\begin{cases}-u'' = e^{2x}\\left(3\\sin x + 4\\cos x\\right) & x\\in(0,2\\pi)\\\\\n",
        "\\\\u(0)=u(2\\pi)=0,\n",
        "\\end{cases}$$\n",
        "</br>\n",
        "Si risolva numericamente il problema differenziale implementando il metodo agli elementi finiti con $h=0.01$ ed $r=1$."
      ]
    },
    {
      "cell_type": "code",
      "execution_count": null,
      "metadata": {
        "id": "Y6Sk6Fr8afcA"
      },
      "outputs": [],
      "source": [
        "# Mesh e spazio elementi finiti\n",
        "\n",
        "\n",
        "\n",
        "\n",
        "\n",
        "# Assemblaggio del termine noto\n",
        "f = lambda x: np.exp(2*x)*(3*np.sin(x) + 4*np.cos(x))\n",
        "\n",
        "\n",
        "\n",
        "\n",
        "\n",
        "# Assemblaggio della matrice del sistema\n",
        "\n",
        "\n",
        "\n"
      ]
    },
    {
      "cell_type": "code",
      "execution_count": null,
      "metadata": {
        "id": "z10_7cuhOs5f"
      },
      "outputs": [],
      "source": [
        "# Aggiustamento delle condizioni al bordo\n",
        "from fem import DirichletBC\n",
        "\n",
        "def isLeftNode(x):\n",
        "  return x < 1e-12\n",
        "\n",
        "def isRightNode(x):\n",
        "  return x > 2*np.pi - 1e-12\n",
        "\n",
        "dbc1 = DirichletBC(isLeftNode,  0.0)\n",
        "dbc2 = DirichletBC(isRightNode, 0.0)\n",
        "\n",
        "from fem import applyBCs\n",
        "A = applyBCs(A, V, dbc1, dbc2)\n",
        "F = applyBCs(F, V, dbc1, dbc2)"
      ]
    },
    {
      "cell_type": "code",
      "execution_count": null,
      "metadata": {
        "id": "caQQF0aXAx9p"
      },
      "outputs": [],
      "source": [
        "# Risoluzione del sistema lineare\n",
        "from scipy.sparse.linalg import spsolve\n",
        "\n",
        "\n",
        "\n",
        "\n"
      ]
    },
    {
      "cell_type": "markdown",
      "metadata": {
        "id": "-T6QzJ09QGbL"
      },
      "source": [
        "<mark>**Esercizio 4**</mark></br>\n",
        "\n",
        "Si consideri il problema alle derivate parziali descritto precedentemente. La soluzione esatta di tale problema è\n",
        "\n",
        "$$u(x)=-e^{2x}\\sin(x).$$\n",
        "\n",
        "Se $u_h$ è la soluzione elementi finiti (come funzione, non come vettore!), il seguente pezzo di codice\n",
        "\n",
        "    from fem import L2error\n",
        "    uex = lambda x: -np.exp(2*x)*np.sin(x)\n",
        "    L2error(uex, uh, domain)\n",
        "\n",
        "vi permette di calcolare l'errore in norma $L^{2}$, definito dalla formula $\\sqrt{\\int_a^b|u(x)-u_h(x)|^2dx}$.\n",
        "</br></br>\n",
        "Avendo fissato il grado polinomiale della discretizzazione agli elementi finiti, $r=1$, si calcoli l'errore in norma $L^{2}$ tra la soluzione FEM e la soluzione esatta al variare del passo di discretizzazione $h=0.2,0.1,0.05,0.025$. Plottare graficamente l'andamento dell'errore: i risultati sono coerenti con la teoria?"
      ]
    },
    {
      "cell_type": "code",
      "execution_count": null,
      "metadata": {
        "id": "idq4ohFmLTCf"
      },
      "outputs": [],
      "source": [
        "from fem import L2error\n",
        "\n",
        "uex = lambda x: -np.exp(2*x)*np.sin(x)\n",
        "L2error(uex, uh, domain)"
      ]
    },
    {
      "cell_type": "code",
      "execution_count": null,
      "metadata": {
        "id": "mdx5UcoLL3xt"
      },
      "outputs": [],
      "source": [
        "r = 1\n",
        "h = np.array([0.2, 0.1, 0.05, 0.025])\n",
        "\n",
        "\n",
        "\n",
        "\n",
        "\n",
        "\n",
        "\n"
      ]
    },
    {
      "cell_type": "markdown",
      "metadata": {
        "id": "axYceTZUch8P"
      },
      "source": [
        "# **Extra** - FEM in 2D\n",
        "\n",
        "In realtà, tutto quello che abbiamo visto si adatta istantaneamente al caso multi-dimensionale! Le grigle diventano mesh, i sotto-intervalli diventano elementi (spesso triangolari), ed i vari operatori differenziali trovano la loro controparte (gradiente, divergenza, rotore... etc.). Di seguito, un esempio di problema ellittico in 2D, per i più curiosi."
      ]
    },
    {
      "cell_type": "code",
      "execution_count": null,
      "metadata": {
        "id": "g7ndfFMSeyx1"
      },
      "outputs": [],
      "source": [
        "from fem import Rectangle, Circle\n",
        "domain = Rectangle((-1, -1), (1, 1)) - Circle((0, 0), 0.5)\n",
        "mesh = generate_mesh(domain, stepsize = 0.1, structured = True)\n",
        "V = FEspace(mesh, 1)\n",
        "\n",
        "plt.figure(figsize = (8, 4))\n",
        "plt.subplot(1, 2, 1)\n",
        "plot(mesh, title = \"Mesh\")\n",
        "plt.subplot(1, 2, 2)\n",
        "plot(V, title = \"Posizione dei dofs\")"
      ]
    },
    {
      "cell_type": "code",
      "execution_count": null,
      "metadata": {
        "id": "-SgJ3sQ9dalw"
      },
      "outputs": [],
      "source": [
        "from fem import inner, grad\n",
        "\n",
        "f = lambda x, y: 1.0\n",
        "fh = interpolate(f, V)\n",
        "l = lambda v: fh*v*dx\n",
        "\n",
        "isOnCircle = lambda x, y: (x**2 + y**2)**0.5 < 0.5 + 1e-12\n",
        "isOnSquare = lambda x, y: not isOnCircle(x, y)\n",
        "\n",
        "dbc1 = DirichletBC(isOnCircle, 0.0)\n",
        "dbc2 = DirichletBC(isOnSquare, lambda x, y: np.sin(np.pi*x)-y+1)\n",
        "\n",
        "a = lambda u, v: inner(grad(u), grad(v))*dx\n",
        "\n",
        "F = applyBCs(assemble(l, V), V, dbc1, dbc2)\n",
        "A = applyBCs(assemble(a, V), V, dbc1, dbc2)\n",
        "\n",
        "uh = spsolve(A, F)\n",
        "uh = dof2fun(uh, V)\n",
        "\n",
        "plt.figure(figsize = (4, 4))\n",
        "plot(uh, title = \"Soluzione elementi finiti\")"
      ]
    },
    {
      "cell_type": "code",
      "execution_count": null,
      "metadata": {
        "id": "lPxg3il7Uzh9"
      },
      "outputs": [],
      "source": []
    }
  ],
  "metadata": {
    "colab": {
      "provenance": []
    },
    "kernelspec": {
      "display_name": "Python 3 (ipykernel)",
      "language": "python",
      "name": "python3"
    },
    "language_info": {
      "codemirror_mode": {
        "name": "ipython",
        "version": 3
      },
      "file_extension": ".py",
      "mimetype": "text/x-python",
      "name": "python",
      "nbconvert_exporter": "python",
      "pygments_lexer": "ipython3",
      "version": "3.10.12"
    }
  },
  "nbformat": 4,
  "nbformat_minor": 0
}