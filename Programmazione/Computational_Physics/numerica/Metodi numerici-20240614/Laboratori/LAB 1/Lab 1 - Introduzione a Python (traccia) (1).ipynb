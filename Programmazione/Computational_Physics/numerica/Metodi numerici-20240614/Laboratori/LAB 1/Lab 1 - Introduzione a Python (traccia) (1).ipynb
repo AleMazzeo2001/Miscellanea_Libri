{
  "nbformat": 4,
  "nbformat_minor": 0,
  "metadata": {
    "colab": {
      "provenance": []
    },
    "kernelspec": {
      "name": "python3",
      "display_name": "Python 3"
    },
    "language_info": {
      "name": "python"
    }
  },
  "cells": [
    {
      "cell_type": "markdown",
      "source": [
        "# **Lab 1 - Introduzione a Python**\n",
        "\n",
        "Python è un linguaggio di programmazione *dinamico* ed *interpretato*. Questo significa che si possono creare variabili di ogni genere, senza che sia necessario specificarne il tipo (numeri, caratteri, liste, etc.), e che la tipologia di un oggetto può *mutare* nel corso delle varie operazioni.\n",
        "\n",
        "Come in altri linguaggi di programmazione, un codice scritto in Python è composto da una sequenza di istruzioni. Per convenzione, **ogni riga di codice è un'istruzione**.\n",
        "</br>\n",
        "</br>\n",
        "Ci sono due possibili ambienti di lavoro dove scrivere (e poi eseguire) istruzioni Python:\n",
        "\n",
        "1. Gli **script** Python (file \".py\"). Sono l'ambiente di lavoro standard. Lanciando uno script, vengono eseguite tutte le istruzioni al suo interno (in sequenza). Ne vedremo degli esempi più avanti.\n",
        "\n",
        "2. I Python **notebook** (file \".ipynb\"). Utili per scopi didattici ed illustrativi, i notebook permettono di avviare una sessione di lavoro durante la quale l'utente può eseguire varie istruzioni, solitamente raggruppate in *celle*. L'ordine di esecuzione è stabilito dall'utente.\n",
        "In particolare, diversamente dagli script, i notebook permettono all'utente di *interagire* con il software. La sessione resta attiva finché l'utente non interrompe o riavvia il runtime.\n",
        "\n",
        "Questo che stiamo usando ora, è un notebook. Ci sono *celle di testo* (come questa) e *celle di codice*, come quella sottostante. Le celle di codice si possono eseguire con un click del mouse, oppure premendo \"shift+invio\"."
      ],
      "metadata": {
        "id": "llsANXkdoywy"
      }
    },
    {
      "cell_type": "code",
      "execution_count": null,
      "metadata": {
        "id": "IW12vkiSixlX"
      },
      "outputs": [],
      "source": []
    },
    {
      "cell_type": "markdown",
      "source": [
        "All'interno del codice, usando il simbolo \"#\" possiamo anche inserire delle **righe di commento**. Esse non costituiscono istruzioni da eseguire, ma sono utili per chi legge il codice."
      ],
      "metadata": {
        "id": "nRZn3JlPtq1D"
      }
    },
    {
      "cell_type": "markdown",
      "source": [
        "# **Variabili semplici e composite, funzioni**\n",
        "### Variabili numeriche"
      ],
      "metadata": {
        "id": "ApQhYj5zyAUT"
      }
    },
    {
      "cell_type": "code",
      "source": [
        "# Dichiarazione di variabili, operazioni di base e stampe a schermo\n",
        "\n",
        "\n",
        "\n",
        "\n"
      ],
      "metadata": {
        "id": "PKbcc2ajW9r-"
      },
      "execution_count": null,
      "outputs": []
    },
    {
      "cell_type": "markdown",
      "source": [
        "<mark>**ATTENZIONE!** (Floating point)</mark></br>\n",
        "Non dobbiamo dimenticare che tutte le operazioni vengono svolte all'interno di un calcolatore il quale, inevitabilmente, utilizza un' *aritmetica finita*. Questo significa che:\n",
        "- ogni numero può essere rappresentato fino ad un certo livello di precisione; oltre tale livello, numeri distinti possono risultare indistinguibili\n",
        "- ogni operazione, per semplice che possa apparire, può generare piccoli errori di calcolo, i quali possono propagarsi all'interno del codice."
      ],
      "metadata": {
        "id": "7az6N-AT2Gru"
      }
    },
    {
      "cell_type": "code",
      "source": [
        "x = 1\n",
        "y = 1.0000000000000000000000000000000001\n",
        "\n",
        "x == y"
      ],
      "metadata": {
        "id": "lMrPq18F2gIO"
      },
      "execution_count": null,
      "outputs": []
    },
    {
      "cell_type": "code",
      "source": [
        "y = 10.05\n",
        "(x+y)**2 - x**2 -y**2 -2*x*y # dovrebbe fare 0"
      ],
      "metadata": {
        "id": "pgHoigQxwL4k"
      },
      "execution_count": null,
      "outputs": []
    },
    {
      "cell_type": "markdown",
      "source": [
        "### Stringhe\n",
        "\n",
        "Oltre alle variabili numeriche, un altro oggetto molto utile sono le **stringhe**, cioè sequenze di caratteri."
      ],
      "metadata": {
        "id": "7q27fiqd06E3"
      }
    },
    {
      "cell_type": "code",
      "source": [
        "z = \"ciao\"\n",
        "print(z)"
      ],
      "metadata": {
        "id": "AGW2lC4_jGt2"
      },
      "execution_count": null,
      "outputs": []
    },
    {
      "cell_type": "code",
      "source": [
        "u = \"ooo!\"\n",
        "print(z+u)"
      ],
      "metadata": {
        "id": "nGs0NR8mjM82"
      },
      "execution_count": null,
      "outputs": []
    },
    {
      "cell_type": "markdown",
      "source": [
        "Utilizzando l'operatore di formattazione **%** insieme ai place-holder **%d** (interi), **%f** (float), **%e** (notazione esponenziale), possiamo anche costruire delle stringhe contenenti i valori delle variabili numeriche."
      ],
      "metadata": {
        "id": "eU4TyMH4xNvC"
      }
    },
    {
      "cell_type": "code",
      "source": [
        "# Formattazione di stringhe\n",
        "\n",
        "\n",
        "\n"
      ],
      "metadata": {
        "id": "dsm0_mYDlpiN"
      },
      "execution_count": null,
      "outputs": []
    },
    {
      "cell_type": "markdown",
      "source": [
        "## Liste e tuple\n",
        "\n",
        "Altri concetti utili sono quelli di lista e tupla. Entrambi sono degli oggetti compositi, cioè *oggetti che contengono altri oggetti*.\n",
        "In generale, sia le liste che le tuple possono contenere oggetti di tipologie diverse.\n",
        "\n",
        "Iniziamo vedendo il caso delle **liste**."
      ],
      "metadata": {
        "id": "HCqkGcS5yOEK"
      }
    },
    {
      "cell_type": "code",
      "source": [
        "# Dichiarare una lista, accedere ai suoi elementi, conoscerne la lunghezza\n",
        "\n",
        "\n",
        "\n"
      ],
      "metadata": {
        "id": "-9iCHvN7jUKB"
      },
      "execution_count": null,
      "outputs": []
    },
    {
      "cell_type": "code",
      "source": [
        "# Volendo, è possibile concatenare due liste usando l'operatore \"+\"\n",
        "L = [5, \"bla bla\", 3, 8, \"oggetto\", -2]\n",
        "P = [3, 7]\n",
        "\n",
        "L + P"
      ],
      "metadata": {
        "id": "OIzNIS2Hkcmk"
      },
      "execution_count": null,
      "outputs": []
    },
    {
      "cell_type": "code",
      "source": [
        "# Anche la moltiplicazione per interi è supportata\n",
        "2*L"
      ],
      "metadata": {
        "id": "FxjBaWktkgaD"
      },
      "execution_count": null,
      "outputs": []
    },
    {
      "cell_type": "code",
      "source": [
        "# Una volta dichiarata, una lista resta un oggetto mutevole: possiamo quindi\n",
        "# modificarla riassegnando i valori che ci interessano\n",
        "L[2] = 1000\n",
        "L"
      ],
      "metadata": {
        "id": "ugbFhGU4kxxK"
      },
      "execution_count": null,
      "outputs": []
    },
    {
      "cell_type": "code",
      "source": [
        "# Possiamo 'appendere' nuovi valori alla lista usando il metodo 'append'\n",
        "L.append(-5)\n",
        "L"
      ],
      "metadata": {
        "id": "2mkRIsABKLgx"
      },
      "execution_count": null,
      "outputs": []
    },
    {
      "cell_type": "markdown",
      "source": [
        "Le **tuple** sono analoghe alle liste ma sono *immutabili*. Pertanto, una volta create non possono più essere modificate."
      ],
      "metadata": {
        "id": "gLcNVOJ70g1s"
      }
    },
    {
      "cell_type": "code",
      "source": [
        "# Dichiarazione di una tupla\n",
        "\n",
        "\n"
      ],
      "metadata": {
        "id": "tVYQHN7mkk5k"
      },
      "execution_count": null,
      "outputs": []
    },
    {
      "cell_type": "code",
      "source": [
        "# Utilizzo delle tuple per lo smistamento di valori\n",
        "\n",
        "\n"
      ],
      "metadata": {
        "id": "ZUY62hj404Oj"
      },
      "execution_count": null,
      "outputs": []
    },
    {
      "cell_type": "markdown",
      "source": [
        "## Funzioni\n",
        "\n",
        "Altro concetto molto utile è quello di **funzione**. In Python, una funzione è un oggetto che produce degli output sulla base di determinati input.\n",
        "</br></br>\n",
        "Per creare una funzione si usa il comando **def**, seguito dall'elenco degli input richiesti (in parentesi) e dalla sequenza di operazioni che la definiscono."
      ],
      "metadata": {
        "id": "Q8wGKAiy2OCo"
      }
    },
    {
      "cell_type": "code",
      "source": [
        "# Definire una funzione in Python\n",
        "\n",
        "\n"
      ],
      "metadata": {
        "id": "jM0R78-j4m_R"
      },
      "execution_count": null,
      "outputs": []
    },
    {
      "cell_type": "markdown",
      "source": [
        "NB: tutte le istruzioni che fanno parte del *corpo* della funzione vanno scritte **sotto** la definizione della funzione stessa e seguite da un opportuna **indentazione**.\n",
        "\n",
        "Una funzione può eseguire diversi calcoli all'interno del proprio corpo: gli unici risultati che verranno restituiti (e saranno visibili) sono quelli preceduti dal comando **return**."
      ],
      "metadata": {
        "id": "k4Bl78Ed4frM"
      }
    },
    {
      "cell_type": "code",
      "source": [
        "# Corpo di una funzione: l'indentazione del codice è fondamentale!\n",
        "\n",
        "\n"
      ],
      "metadata": {
        "id": "gAeCP6U-4qEu"
      },
      "execution_count": null,
      "outputs": []
    },
    {
      "cell_type": "markdown",
      "source": [
        "**Nota**: sfruttando il concetto di tupla, si possono costruire funzioni che restituiscono più output contemporaneamente."
      ],
      "metadata": {
        "id": "_tCybvfQ5UOJ"
      }
    },
    {
      "cell_type": "code",
      "source": [
        "def sommaEprodotto(a, b):\n",
        "  return a+b, a*b\n",
        "\n",
        "x, y = sommaEprodotto(3, 5)\n",
        "print(x)\n",
        "print(y)"
      ],
      "metadata": {
        "id": "1MqezIPznfRZ"
      },
      "execution_count": null,
      "outputs": []
    },
    {
      "cell_type": "markdown",
      "source": [
        "In ultimo, nel definire una funzione, possiamo anche decidere che alcuni input sono *opzionali*: l'utente può passare un valore, ma non è obbligato. Se non lo fa, verrà utilizzato un valore di default. La sintassi è la seguente:"
      ],
      "metadata": {
        "id": "2IEmICvmHYM-"
      }
    },
    {
      "cell_type": "code",
      "source": [
        "def somma(a, b, c = 0):\n",
        "  return a + b + c"
      ],
      "metadata": {
        "id": "svEIX8ZUH4EM"
      },
      "execution_count": null,
      "outputs": []
    },
    {
      "cell_type": "markdown",
      "source": [
        "In futuro vedremo che è anche possibile definire funzioni con un numero imprecisato di input. Ma, per adesso, è ancora presto!"
      ],
      "metadata": {
        "id": "Gs02d_bdINeG"
      }
    },
    {
      "cell_type": "markdown",
      "source": [
        "<mark>**Esercizio 1**</mark></br>\n",
        "Create una funzione chiamata *padding* che, dati una lista L ed un intero n, restituisca un versione \"augmentata\" di L con n zeri aggiuntivi. Cioè, la funzione deve operare in questo modo:\n",
        "\n",
        "    padding([3,4,'ciao'], 5) --> [3,4,'ciao',0,0,0,0,0]\n",
        "    padding(['u,1], 3) --> ['u',1,0,0,0]\n",
        "\n",
        "Hint: evitate l'utilizzo del metodo *append*. Sfruttate invece gli operatori + e *."
      ],
      "metadata": {
        "id": "4HG-o1se5iqN"
      }
    },
    {
      "cell_type": "code",
      "source": [
        "## Esercizio 1\n",
        "\n",
        "\n",
        "\n"
      ],
      "metadata": {
        "id": "DFatd37h6nEr"
      },
      "execution_count": null,
      "outputs": []
    },
    {
      "cell_type": "markdown",
      "source": [
        "# **Gestione del flusso di istruzioni**\n",
        "\n",
        "## Ciclo *for*\n",
        "Il ciclo for è un modo per far sì che determinate istruzioni vengano ripetute per un numero prefissato di volte. Ogni iterazione viene scandita da un *contatore*, che varia all'interno di un range di valori prefissato.\n",
        "\n",
        "Come nel caso delle funzioni, tutto il corpo del ciclo for va scritto **sotto** la dichiarazione del ciclo e **indentato**."
      ],
      "metadata": {
        "id": "QO5mIRpR1FIJ"
      }
    },
    {
      "cell_type": "code",
      "source": [
        "# Definizione di un ciclo FOR\n",
        "\n",
        "\n",
        "\n",
        "\n"
      ],
      "metadata": {
        "id": "zw_hJoc9k8GJ"
      },
      "execution_count": null,
      "outputs": []
    },
    {
      "cell_type": "markdown",
      "source": [
        "In generale, il contatore di un ciclo for può variare all'interno di un qualsiasi oggetto *iterabile*: una lista, una tupla, etc. In particolare, esiste un modo per costruire un'iteratore standard, basato sul comando **range**."
      ],
      "metadata": {
        "id": "5ScuasMyIiwL"
      }
    },
    {
      "cell_type": "code",
      "source": [
        "z = 1\n",
        "\n",
        "for i in range(5): # <-- fa iterare le istruzioni 5 volte.\n",
        "                   #     ATTENZIONE: il contatore \"i\" partirà a contare da \"0\" (fermandosi quindi a 4).\n",
        "  z = 2*z\n",
        "  print(\"Contatore i = %d, valore di z = %d.\" % (i, z))\n",
        "\n",
        "print(\"\\nAbbiamo finito. Ora z = %d.\" % z)"
      ],
      "metadata": {
        "id": "NrZOA26jI4GK"
      },
      "execution_count": null,
      "outputs": []
    },
    {
      "cell_type": "markdown",
      "source": [
        "## Ciclo *while*\n",
        "A volte, è utile **ripetere un insieme di istruzioni fintanto che una certa condizione viene soddisfatta**. In particolare, vogliamo ripetere determinate operazioni, ma non sappiamo a priori per quante volte vogliamo farlo (altrimenti useremmo un ciclo for!).\n",
        "\n",
        "Per fare ciò, esiste il ciclo *while*. Nella sua dichiarazione, va indicata la condizione che determina l'esecuzione del ciclo."
      ],
      "metadata": {
        "id": "R09lkn_q7umr"
      }
    },
    {
      "cell_type": "code",
      "source": [
        "# Definizione di un ciclo WHILE\n",
        "\n",
        "\n",
        "\n"
      ],
      "metadata": {
        "id": "PvjfPQCemHub"
      },
      "execution_count": null,
      "outputs": []
    },
    {
      "cell_type": "markdown",
      "source": [
        "## Istruzioni condizionali: i comandi *if* ed *else*\n",
        " Altre volte, vogliamo che il codice esegua determinate istruzioni solamente sotto certe circostanze. In particolare, se si verifica una condizione (if) vogliamo che faccia una cosa, altrimenti (else), vogliamo che ne faccia un'altra.\n",
        "\n",
        " Anche qui, è importante **fare attenzione all'indentazione del codice**, in quanto questa determina quali istruzioni cadono in un ramo e quali no."
      ],
      "metadata": {
        "id": "haKj5WVH9G2k"
      }
    },
    {
      "cell_type": "code",
      "source": [
        "# Definizione di un blocco ipotetico IF - ELSE\n",
        "\n",
        "\n",
        "\n"
      ],
      "metadata": {
        "id": "SIaCuHD1mTcF"
      },
      "execution_count": null,
      "outputs": []
    },
    {
      "cell_type": "markdown",
      "source": [
        "Per gestire più condizioni simultaneamente, si possono utilizzare le keyword **and** ed **or**."
      ],
      "metadata": {
        "id": "JdoxY59cCgB2"
      }
    },
    {
      "cell_type": "code",
      "source": [
        "x, y = 4, 9\n",
        "\n",
        "if(x>0 and y>0):\n",
        "  print(\"Sia x che y sono positivi.\")\n",
        "else:\n",
        "  print(\"Almeno uno tra x ed y è negativo.\")"
      ],
      "metadata": {
        "id": "-D2-YqL4Ceom"
      },
      "execution_count": null,
      "outputs": []
    },
    {
      "cell_type": "code",
      "source": [
        "if(x>0 or y>0):\n",
        "  print(\"Almeno uno tra x ed y è positivo.\")\n",
        "else:\n",
        "  print(\"Sia x che y sono negativi.\")"
      ],
      "metadata": {
        "id": "F61vp0hKC3sR"
      },
      "execution_count": null,
      "outputs": []
    },
    {
      "cell_type": "markdown",
      "source": [
        "<mark>**Esercizio 2**</mark></br>\n",
        "Scrivete una funzione che, dato un valore numerico $x$, restituisca $x$ se $x\\ge0$, e 0 altrimenti.\n",
        "\n",
        "*Curiosità*: nel mondo del machine learning questa funzione è molto famosa, tanto che si è deciso di darle un nome. Essa è comunemente nota come ReLU (Rectified Linear Unit)."
      ],
      "metadata": {
        "id": "qLbnC1s9-CwU"
      }
    },
    {
      "cell_type": "code",
      "source": [
        "# Esercizio 2\n",
        "\n",
        "\n",
        "\n",
        "\n"
      ],
      "metadata": {
        "id": "mUQkaYRdnM4C"
      },
      "execution_count": null,
      "outputs": []
    },
    {
      "cell_type": "markdown",
      "source": [
        "<mark>**Esercizio 3**</mark></br>\n",
        "Scrivete una funzione che, data una lista di numeri, ne restituisca la media aritmetica."
      ],
      "metadata": {
        "id": "plsnVyAGIZ5N"
      }
    },
    {
      "cell_type": "code",
      "source": [
        "# Esercizio 3\n",
        "\n",
        "\n",
        "\n",
        "\n"
      ],
      "metadata": {
        "id": "HuF0H4bYJi7k"
      },
      "execution_count": null,
      "outputs": []
    },
    {
      "cell_type": "markdown",
      "source": [
        "<mark>**Esercizio 4**</mark></br>\n",
        "Cercate di determinare il più piccolo valore $\\epsilon>0$ tale per cui, in aritmetica finita, $1+\\epsilon$ risultati diverso da $\\epsilon$.\n",
        "\n",
        "Hint: usate un ciclo while!"
      ],
      "metadata": {
        "id": "oM6-nVBNUGRy"
      }
    },
    {
      "cell_type": "code",
      "source": [
        "# Esercizio 4\n",
        "\n",
        "\n",
        "\n",
        "\n"
      ],
      "metadata": {
        "id": "curwxj_eUe2d"
      },
      "execution_count": null,
      "outputs": []
    },
    {
      "cell_type": "markdown",
      "source": [
        "## **Pacchetti Python**: numpy e matplotlib\n",
        "Fortunatamente, in rete esistono già moltissime funzioni Python che possiamo dirattamente **importare** ed **utilizzare**. Generalmente, tali funzioni sono collezionate all'interno di *pacchetti*, i quali possono essere importati con il comando **import**.\n",
        "</br></br>\n",
        "Oggi daremo uno sguardo veloce a 2 pacchetti:\n",
        "\n",
        "- **numpy**, per la gestione di array (vettori, matrici, etc.);\n",
        "- **matplotlib**, per la visualizzazione di grafici."
      ],
      "metadata": {
        "id": "0SDuZrhSDj7k"
      }
    },
    {
      "cell_type": "markdown",
      "source": [
        "## Analisi numerica in **numpy**\n",
        "Numpy è un pacchetto che permette di costruire e lavorare con array numerici (e non solo).\n",
        "</br></br>\n",
        "In generale, gli array sono simili alle liste, ma, avendo molta più struttura, supportano molte più operazioni."
      ],
      "metadata": {
        "id": "euoedZCfEtBA"
      }
    },
    {
      "cell_type": "code",
      "source": [
        "# Importare una libreria ed accedere ai suoi metodi\n",
        "\n",
        "\n",
        "\n",
        "\n"
      ],
      "metadata": {
        "id": "ljzNTdnKD12Y"
      },
      "execution_count": null,
      "outputs": []
    },
    {
      "cell_type": "code",
      "source": [
        "# La funzione 'linspace' vuole due argomenti principali: l'estremo inferiore della griglia (start)\n",
        "# e l'estremo superiore (stop). Il terzo argomento, opzionale, precisa il numero di nodi nella griglia.\n",
        "\n",
        "numpy.linspace(0, 1, 5)"
      ],
      "metadata": {
        "id": "0rTKfPeuGNlF"
      },
      "execution_count": null,
      "outputs": []
    },
    {
      "cell_type": "code",
      "source": [
        "# L'output è un array, concettualmente simile ad una 'lista'\n",
        "g = numpy.linspace(0, 1, 5)\n",
        "print(g[0])\n",
        "print(g[2])"
      ],
      "metadata": {
        "id": "0m-DETfvGkFP"
      },
      "execution_count": null,
      "outputs": []
    },
    {
      "cell_type": "code",
      "source": [
        "# Estrazione di sotto-array\n",
        "\n",
        "\n",
        "\n",
        "\n"
      ],
      "metadata": {
        "id": "aAzaazfnfur2"
      },
      "execution_count": null,
      "outputs": []
    },
    {
      "cell_type": "markdown",
      "source": [
        "**Nota**: se vogliamo saperne di più su di una determinata funzione (come agisce, quali input accetta, cosa restituisce, etc.), possiamo utilizzare il comando *help*."
      ],
      "metadata": {
        "id": "PvcQy299G9NO"
      }
    },
    {
      "cell_type": "code",
      "source": [
        "help(numpy.linspace)"
      ],
      "metadata": {
        "id": "HuAe8uR7G5Qg"
      },
      "execution_count": null,
      "outputs": []
    },
    {
      "cell_type": "markdown",
      "source": [
        "Le differenze principali tra array, liste e tuple sono:\n",
        "- gli array hanno una dimensione prefissata (le liste no)\n",
        "- i valori all'interno di un array possono essere modificati (non vale per le tuple)\n",
        "- gli array possono diventare specializzati se i loro elementi sono tutti dello stesso tipo\n",
        "\n",
        "Riguardo all'ultimo punto: a noi interesseranno gli **array numerici**, i quali godono di moltissime proprietà. Vediamone un po'."
      ],
      "metadata": {
        "id": "1Sy4LwgoKAgb"
      }
    },
    {
      "cell_type": "code",
      "source": [
        "x = numpy.array([1, 4, 5, -2, 1, 0]) # <--- creaiamo un array a partire da una lista con la funzione 'array'\n",
        "y = numpy.linspace(-1, 1, 6)\n",
        "z = numpy.array([1, -2])"
      ],
      "metadata": {
        "id": "9RwTadyJJ_ok"
      },
      "execution_count": null,
      "outputs": []
    },
    {
      "cell_type": "code",
      "source": [
        "# Operazioni con gli array\n",
        "\n",
        "\n",
        "\n",
        "\n"
      ],
      "metadata": {
        "id": "UyEZUqGKHQ4O"
      },
      "execution_count": null,
      "outputs": []
    },
    {
      "cell_type": "markdown",
      "source": [
        "In generale, la convenzione è quella di scaricare le operazioni **componente a componente**. Ciò può essere fatto finché gli array in questione hanno dimensioni compatibili."
      ],
      "metadata": {
        "id": "2lQDz4tkLxEI"
      }
    },
    {
      "cell_type": "code",
      "source": [
        "# Primo esempio di errore: dimensioni incompatibili\n",
        "\n",
        "\n",
        "\n"
      ],
      "metadata": {
        "id": "WutYicYFLk6I"
      },
      "execution_count": null,
      "outputs": []
    },
    {
      "cell_type": "markdown",
      "source": [
        "La dimensione di un array si può controllare nell'attributo *shape*."
      ],
      "metadata": {
        "id": "2ZdK8cn8MFtt"
      }
    },
    {
      "cell_type": "code",
      "source": [
        "# Shape di un array\n",
        "x.shape"
      ],
      "metadata": {
        "id": "LyMl3GA2MC5I"
      },
      "execution_count": null,
      "outputs": []
    },
    {
      "cell_type": "markdown",
      "source": [
        "In generale, la *shape* di un array è una tupla, in quanto un array può avere più dimensioni."
      ],
      "metadata": {
        "id": "ws47w1UPMQ_1"
      }
    },
    {
      "cell_type": "code",
      "source": [
        "x = numpy.array([1, 2, -4]) # <-- array 1D (vettore)\n",
        "A = numpy.array([[5, 6], [1, 0], [8, 3]]) # <-- array 2D (matrice)\n",
        "T = numpy.array([[[1,2,3,5], [7,8,9,10]], [[0,0,0,0], [3,1,-1,1]]]) # <-- array 3D"
      ],
      "metadata": {
        "id": "sxLwtIJJMN2E"
      },
      "execution_count": null,
      "outputs": []
    },
    {
      "cell_type": "code",
      "source": [
        "print(\"x = \")\n",
        "print(x)\n",
        "print(\"\\nA =\")\n",
        "print(A)\n",
        "print(\"\\nT =\")\n",
        "print(T)"
      ],
      "metadata": {
        "id": "rmGYmfJXM0BN"
      },
      "execution_count": null,
      "outputs": []
    },
    {
      "cell_type": "code",
      "source": [
        "print(\"shape di x = \")\n",
        "print(x.shape)\n",
        "print(\"\\nshape di A = \")\n",
        "print(A.shape)\n",
        "print(\"\\nshape di T = \")\n",
        "print(T.shape)"
      ],
      "metadata": {
        "id": "9phb5-WuM14G"
      },
      "execution_count": null,
      "outputs": []
    },
    {
      "cell_type": "markdown",
      "source": [
        "A noi interesseranno principalmente array 1D (vettori) e array 2D (matrici). Con questi, infatti, possiamo svolgere le classiche operazioni dell'algebra lineare. Vediamone alcune."
      ],
      "metadata": {
        "id": "zvi8E8LANTP5"
      }
    },
    {
      "cell_type": "code",
      "source": [
        "A"
      ],
      "metadata": {
        "id": "oTn7QB9vNFDD"
      },
      "execution_count": null,
      "outputs": []
    },
    {
      "cell_type": "code",
      "source": [
        "A.T # <-- matrice trasposta"
      ],
      "metadata": {
        "id": "hcriWAgLNq0i"
      },
      "execution_count": null,
      "outputs": []
    },
    {
      "cell_type": "code",
      "source": [
        "B = numpy.array([[1,  5],     # <-- usiamo la spaziatura a nostro favore per semplificare la comprensione del codice!\n",
        "                 [-1, 8],\n",
        "                 [0,  0]])\n",
        "\n",
        "B"
      ],
      "metadata": {
        "id": "wOu0TzWaNuWC"
      },
      "execution_count": null,
      "outputs": []
    },
    {
      "cell_type": "code",
      "source": [
        "A+B"
      ],
      "metadata": {
        "id": "7YrH0KEWN7q4"
      },
      "execution_count": null,
      "outputs": []
    },
    {
      "cell_type": "code",
      "source": [
        "# Moltiplicazione: COMPONENTE A COMPONENTE oppure MATRICE x MATRICE (nel senso dell'algebra lineare)\n",
        "\n",
        "\n",
        "\n",
        "\n"
      ],
      "metadata": {
        "id": "aU8zTZH8akto"
      },
      "execution_count": null,
      "outputs": []
    },
    {
      "cell_type": "markdown",
      "source": [
        "Nel corso dei laboratori vedremo moltissime funzioni di numpy. Per oggi, conosciamone giusto un paio:"
      ],
      "metadata": {
        "id": "ejmujcM8Opcw"
      }
    },
    {
      "cell_type": "code",
      "source": [
        "numpy.zeros((2, 3)) # <-- array pieno di zeri"
      ],
      "metadata": {
        "id": "TJAtC34_OiJ0"
      },
      "execution_count": null,
      "outputs": []
    },
    {
      "cell_type": "code",
      "source": [
        "numpy.ones((2, 3)) # <-- array pieno di uni"
      ],
      "metadata": {
        "id": "axMd7xPDRN_H"
      },
      "execution_count": null,
      "outputs": []
    },
    {
      "cell_type": "code",
      "source": [
        "numpy.arange(3, 8) # <-- sequenza discreta da 3 ad 8 (estremo superiore ESCLUSO!)"
      ],
      "metadata": {
        "id": "dG7eY08tTqKn"
      },
      "execution_count": null,
      "outputs": []
    },
    {
      "cell_type": "code",
      "source": [
        "numpy.diag([1, 2, 5]) # <-- crea una matrice con una diagonale prefissata"
      ],
      "metadata": {
        "id": "5_bDDxKnO134"
      },
      "execution_count": null,
      "outputs": []
    },
    {
      "cell_type": "code",
      "source": [
        "C = numpy.array([[1, 1],\n",
        "                 [4, 5]])\n",
        "\n",
        "numpy.diag(C) # <-- oppure estrae la diagonale da una matrice!"
      ],
      "metadata": {
        "id": "ory990vtO72n"
      },
      "execution_count": null,
      "outputs": []
    },
    {
      "cell_type": "code",
      "source": [
        "numpy.eye(3) # <-- matrice identità di data dimensione"
      ],
      "metadata": {
        "id": "fzYCid3EhX7x"
      },
      "execution_count": null,
      "outputs": []
    },
    {
      "cell_type": "code",
      "source": [
        "A.reshape((1, 6)) # <-- ri-organizza gli elementi all'interno dell'array in una configurazione prefissata"
      ],
      "metadata": {
        "id": "1YbZmCXaPeSK"
      },
      "execution_count": null,
      "outputs": []
    },
    {
      "cell_type": "code",
      "source": [
        "A.reshape((2, 3))"
      ],
      "metadata": {
        "id": "opBIvasPPklD"
      },
      "execution_count": null,
      "outputs": []
    },
    {
      "cell_type": "code",
      "source": [
        "# Gli array si possono anche costruire a blocchi, cosa molto utile nel caso delle matrici.\n",
        "# A questo scopo, si può utilizzare la funzione numpy.block\n",
        "\n",
        "\n",
        "\n",
        "\n",
        "\n",
        "\n"
      ],
      "metadata": {
        "id": "LleBKDpAPMnc"
      },
      "execution_count": null,
      "outputs": []
    },
    {
      "cell_type": "markdown",
      "source": [
        "Gli array numpy supportano anche la valutazione *componente-a-componente* delle classichi funzioni matematiche, quali, seno, coseno, esponenziale etc."
      ],
      "metadata": {
        "id": "5ZJ_Mno3D9P-"
      }
    },
    {
      "cell_type": "code",
      "source": [
        "x = numpy.array([1.0, 3.0])\n",
        "numpy.sin(x)"
      ],
      "metadata": {
        "id": "p9mPtciOPvs-"
      },
      "execution_count": null,
      "outputs": []
    },
    {
      "cell_type": "code",
      "source": [
        "numpy.cos(x)"
      ],
      "metadata": {
        "id": "E-k96pGsP8d7"
      },
      "execution_count": null,
      "outputs": []
    },
    {
      "cell_type": "code",
      "source": [
        "numpy.exp(x)"
      ],
      "metadata": {
        "id": "pwmHvsU5P-e0"
      },
      "execution_count": null,
      "outputs": []
    },
    {
      "cell_type": "code",
      "source": [
        "numpy.log(x)"
      ],
      "metadata": {
        "id": "fKW5_YC6P_Sg"
      },
      "execution_count": null,
      "outputs": []
    },
    {
      "cell_type": "markdown",
      "source": [
        "In ultimo, oltre alle funzioni, numpy contiene anche altri oggetti, quali alcune costanti numeriche: ad esempio, il pi-greco."
      ],
      "metadata": {
        "id": "1bfH__crQQm6"
      }
    },
    {
      "cell_type": "code",
      "source": [
        "numpy.pi"
      ],
      "metadata": {
        "id": "7mNblg2qQOZk"
      },
      "execution_count": null,
      "outputs": []
    },
    {
      "cell_type": "markdown",
      "source": [
        "<mark>**Esercizio 5**</mark></br>\n",
        "Utilizzando le funzioni di numpy, create la seguente matrice:\n",
        "$$A = \\left[\\begin{array}{cccccc}\n",
        "1 & 0 & 0 & 0 & 0 & 0\\\\\n",
        "0 & 2 & 0 & 8 & 8 & 8\\\\\n",
        "0 & 0 & 5 & 8 & 8 & 8\\\\\n",
        "\\end{array}\\right]$$\n",
        "</br>\n",
        "*Hint: il blocco di \"8\" si può ottenere moltiplicando per 8 un blocco di \"1\" (sfruttate la funzione numpy.ones!).</br> Se necessario, usate numpy.block più volte.*"
      ],
      "metadata": {
        "id": "Fr23mrCbQrk_"
      }
    },
    {
      "cell_type": "code",
      "source": [
        "# Esercizio 5\n",
        "\n",
        "\n",
        "\n",
        "\n",
        "\n",
        "\n"
      ],
      "metadata": {
        "id": "3V3cPC1OQfM8"
      },
      "execution_count": null,
      "outputs": []
    },
    {
      "cell_type": "markdown",
      "source": [
        "<mark>**Esercizio 6**</mark></br>\n",
        "Utilizzando le funzioni di numpy, create una funzione che, dato un intero $n$, crei la matrice quadrata $n\\times n$ così definita:</br></br>\n",
        "\n",
        "$$H = \\left[\\begin{array}{ccccc}\n",
        "1 & 2 & ... & ... & n\\\\\n",
        "n+1 & n+2 & ... & ... & 2n\\\\\n",
        "... & ... & ... & ... & 3n\\\\\n",
        "... & ... & ... & ... & ..\\\\\n",
        "... & ... & ... & ... & n(n-1)\\\\\n",
        "... & ... & ... & ... & n^2\\\\\n",
        "\\end{array}\\right]$$\n",
        "</br>\n",
        "Hint: sperimentate con le funzioni arange e reshape!"
      ],
      "metadata": {
        "id": "p-o3Ut8BSPAK"
      }
    },
    {
      "cell_type": "code",
      "source": [
        "# Esercizio 6\n",
        "\n",
        "\n",
        "\n",
        "\n",
        "\n"
      ],
      "metadata": {
        "id": "SoKYJq-wSA3a"
      },
      "execution_count": null,
      "outputs": []
    },
    {
      "cell_type": "markdown",
      "source": [
        "<mark>**Esercizio 7**</mark></br>\n",
        "Create una funzione che, data una matrice $A$ ed un intero $n\\ge0$, calcoli la potenza $n$-esima di $A$ *in senso matriciale*."
      ],
      "metadata": {
        "id": "4mn7S3Mdg6Rt"
      }
    },
    {
      "cell_type": "code",
      "source": [
        "# Esercizio 7\n",
        "\n",
        "\n",
        "\n",
        "\n",
        "\n",
        "\n"
      ],
      "metadata": {
        "id": "ufnzuB-dhHpV"
      },
      "execution_count": null,
      "outputs": []
    },
    {
      "cell_type": "markdown",
      "source": [
        "## Disegnare grafici con **matplotlib**\n",
        "\n",
        "Una libreria molto nota per la visualizzazione di grafici è **matplotlib**. In particolare, il suo sottomodulo **matplotlib.pyplot**.\n",
        "\n",
        "Visto che il nome è particolarmente lungo, per comodità, è molto comune importarla con uno pseudonimo (solitamente **plt**). NB: anche numpy viene spesso importato con uno pseudonimo più breve: **np**."
      ],
      "metadata": {
        "id": "NDIXYxNuU8Xf"
      }
    },
    {
      "cell_type": "code",
      "source": [
        "import matplotlib.pyplot as plt"
      ],
      "metadata": {
        "id": "KBXCqPAiTjwo"
      },
      "execution_count": null,
      "outputs": []
    },
    {
      "cell_type": "markdown",
      "source": [
        "Le funzioni principali che ci interessano sono\n",
        "- **figure**: crea una figura vuota (non è obbligatorio, ma permette di scegliere la dimensione della figura);\n",
        "- **plot**: disegna linee / punti con determinate coordinate;\n",
        "- **legend**: aggiunge una legenda;\n",
        "- **title**: aggiunge un titolo;\n",
        "- **show**: mostra il grafico (non è obbligatorio, ma sopprime output indesiderati).\n",
        "\n",
        "Ovviamente ce ne sono molte altre, ma le vedremo durante il corso."
      ],
      "metadata": {
        "id": "G8EDOQKzb134"
      }
    },
    {
      "cell_type": "code",
      "source": [
        "# Esempio: disegnare il grafico di una funzione (punti isolati, spezzate, etc.)\n",
        "\n",
        "\n",
        "\n",
        "\n"
      ],
      "metadata": {
        "id": "Okx-Ch0ibzuL"
      },
      "execution_count": null,
      "outputs": []
    },
    {
      "cell_type": "code",
      "source": [
        "# Possiamo anche sovrapporre più grafici chiamando \"plot\" più volte.\n",
        "\n",
        "plt.figure(figsize = (5, 3.5))\n",
        "plt.plot(x, y, '.')\n",
        "plt.plot(x, y)\n",
        "plt.title(\"Grafico di $y=\\sin(x)$\")\n",
        "plt.show()\n",
        "\n",
        "# In questo caso, è buona pratica aggiungere un etichetta ad ogni \"plot\",\n",
        "# così da poter corredare la figura con una legenda."
      ],
      "metadata": {
        "id": "6iXp4hs7dihk"
      },
      "execution_count": null,
      "outputs": []
    },
    {
      "cell_type": "markdown",
      "source": [
        "<mark>**Esercizio 8**</mark></br>\n",
        "Disegnate il grafico di $f(x) = \\cos(x)$ per $x\\in[-\\pi, \\pi]$, utilizzando le opzioni di default (linea continua). In particolare, nella stessa figura, sovrapponete tre plot della stessa funzione, ottenuti al variare della griglia spaziale: prima prendete una griglia $\\mathbf{x}$ con 5 punti, poi con 10, ed infine con 100.\n",
        "\n",
        "Provate poi a ripetere il grafico usando il marcatore \"-o\" per la curva più grezza (5 nodi)."
      ],
      "metadata": {
        "id": "C0W0xLJAeLXG"
      }
    },
    {
      "cell_type": "code",
      "source": [
        "# Esercizio 8\n",
        "\n",
        "\n",
        "\n",
        "\n",
        "\n"
      ],
      "metadata": {
        "id": "wL-X4hhUd4Rm"
      },
      "execution_count": null,
      "outputs": []
    },
    {
      "cell_type": "code",
      "source": [],
      "metadata": {
        "id": "keas_osvVRiq"
      },
      "execution_count": null,
      "outputs": []
    }
  ]
}