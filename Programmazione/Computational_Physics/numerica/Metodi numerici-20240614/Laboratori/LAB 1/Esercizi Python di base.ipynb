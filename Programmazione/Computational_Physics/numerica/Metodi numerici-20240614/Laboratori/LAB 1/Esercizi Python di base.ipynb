{
  "nbformat": 4,
  "nbformat_minor": 0,
  "metadata": {
    "colab": {
      "provenance": []
    },
    "kernelspec": {
      "name": "python3",
      "display_name": "Python 3"
    },
    "language_info": {
      "name": "python"
    }
  },
  "cells": [
    {
      "cell_type": "markdown",
      "source": [
        "# **Esercizi per impratichirsi**"
      ],
      "metadata": {
        "id": "N9aRQD7nQJ3t"
      }
    },
    {
      "cell_type": "markdown",
      "source": [
        "<mark>**Esercizio 1**</mark></br>\n",
        "Rappresentate il grafico della funzione $y=\\sin(x^2)$ per $x\\in[0,2\\pi]$."
      ],
      "metadata": {
        "id": "I_Rb67LqTk-G"
      }
    },
    {
      "cell_type": "code",
      "source": [],
      "metadata": {
        "id": "XW1PlU-o0FNR"
      },
      "execution_count": null,
      "outputs": []
    },
    {
      "cell_type": "markdown",
      "source": [
        "<mark>**Esercizio 2**</mark></br>\n",
        "Scrivete una funzione chiamata $\\texttt{num2p}$ che, dato un valore numerico $x$, restituisca una stringa con la sua rappresentazione in percentuale. Cioè:\n",
        "\n",
        "    num2p(0.57) --> '57.00%'\n",
        "    num2p(0.011) --> '1.10%'"
      ],
      "metadata": {
        "id": "6RoXe4LWs7fM"
      }
    },
    {
      "cell_type": "code",
      "source": [],
      "metadata": {
        "id": "fkuv0FQF0Foj"
      },
      "execution_count": null,
      "outputs": []
    },
    {
      "cell_type": "markdown",
      "source": [
        "<mark>**Esercizio 3**</mark></br>\n",
        "Scrivete una funzione chiamata $\\texttt{Jacobian}$ che, dati due valori $x$ ed $y$, restituisca la matrice\n",
        "\n",
        "$$J = \\left[\\begin{array}{cc}\\sin(y)e^x & \\cos(y)e^x \\\\ 2x-1 & 0\\end{array}\\right].$$"
      ],
      "metadata": {
        "id": "U8mwQsjYUDcu"
      }
    },
    {
      "cell_type": "code",
      "source": [],
      "metadata": {
        "id": "mVxet_sd0GCn"
      },
      "execution_count": null,
      "outputs": []
    },
    {
      "cell_type": "markdown",
      "source": [
        "<mark>**Esercizio 4**</mark></br>\n",
        "Definite una funzione chiamata $\\texttt{passoRandom}$ che, dato un valore $x$, restituisca $x+\\delta$, essendo $\\delta$ un numero casuale tra -1 ed 1. Provate quindi a chiamare più volte \"passoRandom(0)\", verificando che l'output cambia ogni volta.\n",
        "\n",
        "*Hint: si sfrutti la funzione numpy.random.rand*, che genera un valore casuale in [0,1]."
      ],
      "metadata": {
        "id": "kU_IjSJH7rKL"
      }
    },
    {
      "cell_type": "code",
      "source": [],
      "metadata": {
        "id": "Pokg7H030GlI"
      },
      "execution_count": null,
      "outputs": []
    },
    {
      "cell_type": "markdown",
      "source": [
        "<mark>**Esercizio 5**</mark></br>\n",
        "Immaginiamo di utilizzare la funzione dell'esercizio 4 per costruire una *passeggiata aleatoria*, cioè: partendo da un certo $x_{0}\\in\\mathbb{R}$, definiamo\n",
        "\n",
        "<p align=\"center\">\n",
        "$x_{1}=\\texttt{passoRandom}(x_{0}),$\n",
        "</p>\n",
        "\n",
        " poi $x_{2}=$ passoRandom($x_{1}$) e così via. In generale, si può dimostrare che, prima o poi $|x_{n}|\\ge10$ per qualche $n$. Vista l'alatorietà del sistema, questo evento può capitare subito o dopo un po' di tempo.\n",
        " </br>\n",
        " </br>\n",
        " Scrivete una funzione chiamata $\\texttt{tempoAttesa}$ che, dato $x_{0}$, restituisce il primo $n$ per cui $|x_{n}|\\ge10.$ Verificate poi che, pur partendo dallo stesso $x_{0}$, tale valore di $n$ resta aleatorio."
      ],
      "metadata": {
        "id": "kmiHRA33HqpV"
      }
    },
    {
      "cell_type": "code",
      "source": [],
      "metadata": {
        "id": "I7n9jw2Q0Im_"
      },
      "execution_count": null,
      "outputs": []
    },
    {
      "cell_type": "markdown",
      "source": [
        "<mark>**Esercizio 6**</mark></br>\n",
        "Create una funzione chiamata $\\texttt{find}$ che, dato un vettore $\\mathbf{v}$ (numpy.array 1D) ed un valore $x$, restituisca l'indice della prima componente di $\\mathbf{v}$ uguale ad $x$. Se il valore non è presente, la funzione dovrà restituire riportare un messaggio d'errore. Cioè:\n",
        "\n",
        "    v = np.array([1,2,0,4,-1,0,8])\n",
        "    find(v, 0) ---> 2\n",
        "   \n",
        "    v = np.array([3,-2,5,4])\n",
        "    find(v, 0) ---> ERRORE: il vettore non contiene il valore richiesto.\n",
        "\n",
        "*Hint 1: attenzione all'epsilon macchina! Per fare le cose \"fatte bene\", invece di usare \"==\", provate a sfruttare la funzione numpy.isclose (con parametri di default).*\n",
        "\n",
        "*Hint 2: per lanciare il messaggio d'errore, invece di una banale stampa a schermo, potete usare l'istruzione*\n",
        "\n",
        "    raise RuntimeError('ERRORE: il vettore non contiene il valore richiesto.')"
      ],
      "metadata": {
        "id": "muR_aO41QYXs"
      }
    },
    {
      "cell_type": "code",
      "source": [],
      "metadata": {
        "id": "jfSGK5Rs0Kuv"
      },
      "execution_count": null,
      "outputs": []
    },
    {
      "cell_type": "markdown",
      "source": [
        "<mark>**Esercizio 7**</mark></br>\n",
        "Disegnate il cerchio unitario."
      ],
      "metadata": {
        "id": "1fVElpfibYAJ"
      }
    },
    {
      "cell_type": "code",
      "source": [],
      "metadata": {
        "id": "Dl7M43fC0TzL"
      },
      "execution_count": null,
      "outputs": []
    },
    {
      "cell_type": "markdown",
      "source": [
        "<mark>**Esercizio 8**</mark></br>\n",
        "Scrivete una funzione chiamata $\\texttt{minij}$ che, data una matrice\n",
        "\n",
        "$$\\mathbf{A}=\\left[\\begin{array}{cccc}a_{1,1} & ... & a_{1,p}\\\\.. & ... & ...\\\\a_{d,1} & ... & a_{d,p}\\end{array}\\right]$$\n",
        "\n",
        "restituisca gli indici $i,j$ corrispondenti al più piccolo valore in $\\mathbf{A}$.\n",
        "\n",
        "*Hint: potete agire in almeno due modi. Il primo, è facendo un doppio ciclo FOR sugli elementi della matrice. Il secondo, più \"numpy-style\" è facendo uso delle funzioni **numpy.argmin** e **numpy.unravel_index** (aiutatevi con l'help e sperimentando a mano). In generale, il secondo approccio è molto più rapido ed efficiente (inoltre, basta appena una riga di codice per implementarlo!).*"
      ],
      "metadata": {
        "id": "WF5Vyh2Xf7RQ"
      }
    },
    {
      "cell_type": "code",
      "source": [],
      "metadata": {
        "id": "tpkWbnPz0TLH"
      },
      "execution_count": null,
      "outputs": []
    },
    {
      "cell_type": "markdown",
      "source": [
        "<mark>**Esercizio 9**</mark></br>\n",
        "Scrivete una funzione chiamata $\\texttt{piuSimili}$ che, dati due array $\\mathbf{x}=[x_{1},\\dots,x_{d}],\\;\\mathbf{y}=[y_{1},\\dots,y_{p}]$, restituisce i due valori $x_{i}$ ed $y_{j}$ più simili. Cioè:\n",
        "\n",
        "     piuSimili([5.0, 7.0, -2.3, 1.4], [4.1, 0.0]) --> 5.0, 4.1\n",
        "     piuSimili([0.0, 1.9, 3.0, 8.3], [9.0, 5.0, -1.7]) --> 8.3, 9.0\n",
        "\n",
        "*Hint: se x ed y sono due numpy.array 1D, provate a fare x.reshape(-1,1) - y.reshape(1,-1). Cosa osservate? Come può tornarvi utile (sfruttate anche la function dell'Esercizio 8!)?*"
      ],
      "metadata": {
        "id": "ami4NKHZcDsf"
      }
    },
    {
      "cell_type": "code",
      "source": [],
      "metadata": {
        "id": "G3UE9JJZ0S0z"
      },
      "execution_count": null,
      "outputs": []
    },
    {
      "cell_type": "markdown",
      "source": [
        "<mark>**Esercizio 10**</mark></br>\n",
        "Scrivete una funzione chiamata $\\texttt{plotSquare}$ che, dati $x,y,h$ ed una stringa $c$, disegni un quadrato di vertici\n",
        "\n",
        "$$\\begin{array}{lll}A=(x,y), & & B = (x+h, y)\\\\\n",
        "C=(x+h,y+h),&& D = (x, y+h),\\end{array}$$\n",
        "\n",
        "colorandone l'interno del colore $c$. Ad esempio, la chiamata:\n",
        "\n",
        "    plt.figure(figsize = (3,3))\n",
        "    plotSquare(0, 0, 1, c = 'red')\n",
        "    plt.show()\n",
        "\n",
        "dovrà disegnare un quadrato di lato unitario, con vertice inferiore sinistro nell'origine, di colore rosso.\n",
        "\n",
        "*Hint 1: sfruttate la funzione **fill** del pacchetto matplotlib.pyplot.*\n",
        "\n",
        "*Hint 2: evitate di chiamare plt.figure(), plt.title() e plt.show() nel corpo della funzione \"plotSquare\". Queste verranno, eventualmente, chiamate esternamente dall'utente, come nell'esempio.*"
      ],
      "metadata": {
        "id": "evUJ60ftv-b3"
      }
    },
    {
      "cell_type": "code",
      "source": [],
      "metadata": {
        "id": "ktE00C3h0V66"
      },
      "execution_count": null,
      "outputs": []
    },
    {
      "cell_type": "markdown",
      "source": [
        "<mark>**Esercizio 11**</mark></br>\n",
        "Sfruttando la funzione dell'esercizio precedente, disegnate una scacchiera 8x8.\n",
        "\n",
        "*Hint 1: usate un doppio ciclo FOR!*\n",
        "\n",
        "*Hint 2: potete usare i colori 'saddlebrown' e 'tan'. Infine, se volete, potete nascondere gli assi cartesiani con plt.axis(\"off\").*"
      ],
      "metadata": {
        "id": "uNOUz8boxxv_"
      }
    },
    {
      "cell_type": "code",
      "source": [],
      "metadata": {
        "id": "vqhPpKCVybWw"
      },
      "execution_count": null,
      "outputs": []
    }
  ]
}