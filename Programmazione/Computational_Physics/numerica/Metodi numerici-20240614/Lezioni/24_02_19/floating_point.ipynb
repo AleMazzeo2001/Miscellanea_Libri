{
  "nbformat": 4,
  "nbformat_minor": 0,
  "metadata": {
    "colab": {
      "provenance": []
    },
    "kernelspec": {
      "name": "python3",
      "display_name": "Python 3"
    },
    "language_info": {
      "name": "python"
    }
  },
  "cells": [
    {
      "cell_type": "markdown",
      "source": [
        "Epsilon macchina"
      ],
      "metadata": {
        "id": "NqMvLfRRlD7d"
      }
    },
    {
      "cell_type": "code",
      "source": [
        "a=1e-16\n",
        "print(1==1+a)"
      ],
      "metadata": {
        "colab": {
          "base_uri": "https://localhost:8080/"
        },
        "id": "SeMSo4ZNlGAD",
        "outputId": "e1a7a238-7be7-4961-b4f8-082a66b3b21c"
      },
      "execution_count": 1,
      "outputs": [
        {
          "output_type": "stream",
          "name": "stdout",
          "text": [
            "True\n"
          ]
        }
      ]
    },
    {
      "cell_type": "code",
      "source": [
        "b=2e-16\n",
        "print(1==1+b)"
      ],
      "metadata": {
        "colab": {
          "base_uri": "https://localhost:8080/"
        },
        "id": "Znmy1BRrlaqu",
        "outputId": "ba804bc4-a8a5-439d-f5b6-99af18fcba1f"
      },
      "execution_count": 2,
      "outputs": [
        {
          "output_type": "stream",
          "name": "stdout",
          "text": [
            "False\n"
          ]
        }
      ]
    },
    {
      "cell_type": "markdown",
      "source": [
        "Cancellazione di cifre significative"
      ],
      "metadata": {
        "id": "-N9YJ_ywlgg5"
      }
    },
    {
      "cell_type": "code",
      "source": [
        "x=1.0e-15\n",
        "l=((1+x)-1)/x\n",
        "print(l)"
      ],
      "metadata": {
        "colab": {
          "base_uri": "https://localhost:8080/"
        },
        "id": "VPCe13h1ljTq",
        "outputId": "e724cc13-f685-4806-8535-f047aec4f2b6"
      },
      "execution_count": 3,
      "outputs": [
        {
          "output_type": "stream",
          "name": "stdout",
          "text": [
            "1.1102230246251565\n"
          ]
        }
      ]
    }
  ]
}