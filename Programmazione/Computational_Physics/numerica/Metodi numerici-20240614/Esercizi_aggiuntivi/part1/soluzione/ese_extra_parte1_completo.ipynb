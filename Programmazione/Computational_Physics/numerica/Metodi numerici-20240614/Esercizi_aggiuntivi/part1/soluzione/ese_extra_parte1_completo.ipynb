{
 "cells": [
  {
   "cell_type": "markdown",
   "metadata": {
    "id": "llsANXkdoywy"
   },
   "source": [
    "# **Esercizi extra - parte 1**\n",
    "\n",
    "In questo notebook troviamo esercizi relativi alla prima parte del programma di numerica, di vario grado di difficoltà (indicato nel testo)."
   ]
  },
  {
   "cell_type": "markdown",
   "metadata": {
    "id": "ApQhYj5zyAUT"
   },
   "source": [
    "# **Zeri di funzioni**"
   ]
  },
  {
   "cell_type": "markdown",
   "metadata": {
    "id": "-XCwkkqB9CIA"
   },
   "source": [
    "### Esercizio 1\n",
    "\n",
    "*Difficoltà: facile.*\n",
    "Secondo l’equazione dei gas perfetti il volume specifico v dell’aria è dato da\n",
    "\n",
    "$v=\\dfrac{T R^\\star}{p}$\n",
    "\n",
    "dove $R^\\star = 287.78\\, J\\, kg^{−1}\\, K^{−1}$ . Per $T = 288\\, K$, $p = 101325\\, Pa$ si ottiene $v = 0.8180$ ossia densitá $\\rho = 1.225\\, kg m^{−3}$. Consideriamo ora la legge dei gas reali\n",
    "\n",
    "$f(v)=\\left(p+\\dfrac{a}{v^2}\\right)(vb-c)-dR^\\star T=0$.\n",
    "\n",
    "con $a = 1.2425e03$, $b = 2.8890e − 05$, $c = 3.8700e − 05$, $d = 1.0e − 5$ (dati non realistici).\n",
    "Risolvere l’equazione dei gas reali con il metodo di bisezione partendo da un intervallo iniziale\n",
    "adeguato. Che densità si ottiene? Calcolare il risultato con un errore massimo di $ϵ = 1.0e − 5$\n",
    "stabilendo a priori il numero di iterazioni necessarie dato l’intervallo scelto.\n"
   ]
  },
  {
   "cell_type": "code",
   "execution_count": 37,
   "metadata": {
    "id": "PKbcc2ajW9r-"
   },
   "outputs": [],
   "source": [
    "# step 0 -> ricordarsi di importare i pacchetti numpy and matplotlib\n",
    "\n",
    "import numpy as np\n",
    "import scipy.linalg\n",
    "import matplotlib.pyplot as plt"
   ]
  },
  {
   "cell_type": "markdown",
   "metadata": {
    "id": "M0MHzFKo9CIB"
   },
   "source": [
    "Definiamo la funzione e plottiamo il suo andamento."
   ]
  },
  {
   "cell_type": "code",
   "execution_count": 38,
   "metadata": {
    "colab": {
     "base_uri": "https://localhost:8080/",
     "height": 474
    },
    "id": "OKrh0gg99CIB",
    "outputId": "071ce0bf-9608-4697-f4d8-05c9877ec6bc"
   },
   "outputs": [
    {
     "data": {
      "image/png": "[encoded data removed]",
      "text/plain": [
       "<Figure size 640x480 with 1 Axes>"
      ]
     },
     "metadata": {},
     "output_type": "display_data"
    }
   ],
   "source": [
    "a = 1.2425e+03\n",
    "b = 2.8890e-05\n",
    "c = 3.8700e-05\n",
    "d = 1.0e-5\n",
    "R = 287.78\n",
    "T = 288\n",
    "p = 101325\n",
    "f=lambda v: ( p + a / ( v *v ) ) * ( v * b - c) - d * R * T\n",
    "\n",
    "# rappresentazione grafica\n",
    "# discretizzazione dell'intervallo [-2 2]\n",
    "xgrid=np.linspace(0.5,2,1000)\n",
    "# plot di f\n",
    "plt.plot(xgrid, f(xgrid),'b-',linewidth=2.0)\n",
    "# plot asse y=0\n",
    "plt.plot(xgrid,np.zeros(np.shape(xgrid)),'r-') # o semplicemente plt.plot([-2,2],[0,0],'r-')\n",
    "# specifiche grafiche titolo, legenda, grid,\n",
    "plt.title(\"Grafico di $f(v)$\")\n",
    "plt.xlabel('x')\n",
    "plt.ylabel('y')\n",
    "plt.grid()\n",
    "plt.show()"
   ]
  },
  {
   "cell_type": "markdown",
   "metadata": {
    "id": "7az6N-AT2Gru"
   },
   "source": [
    "Implementiamo il metodo di bisezione:"
   ]
  },
  {
   "cell_type": "code",
   "execution_count": 39,
   "metadata": {
    "id": "YhuXT_zy9CIC"
   },
   "outputs": [],
   "source": [
    "# definizione del metodo di bisezione\n",
    "def bisez(f, a, b, toll = 1e-6):\n",
    "\n",
    "  # controllo se gli estremi sono una bracket (opzionale)\n",
    "  if (f(a)*f(b)>=0):\n",
    "   raise RuntimeError('ERRORE: l''intervallo [a,b] non è una bracket')\n",
    "\n",
    "  # inizializzazione\n",
    "  xvect = []\n",
    "\n",
    "  while (abs(b-a)>toll):\n",
    "    x = 0.5*(a+b)\n",
    "\n",
    "    # primo controllo se x è uno zero (opzionale)\n",
    "    if (f(x)==0):\n",
    "      xvect.append(x)\n",
    "      print(\"x è esattamente uno zero della funzione\")\n",
    "      break\n",
    "\n",
    "    # metodo di bisezione\n",
    "    if (f(a)*f(x)>0):\n",
    "        a = x\n",
    "    else:\n",
    "        b = x\n",
    "\n",
    "    xvect.append(x)\n",
    "\n",
    "  return  np.array(xvect)"
   ]
  },
  {
   "cell_type": "markdown",
   "metadata": {
    "id": "xjIsdWNK9CIC"
   },
   "source": [
    "Dal grafico ottenuto osserviamo che possiamo scegliere come estremi iniziali $a_0 = 1$, $b_0 = 2$\n",
    "ottenendo un intervallo iniziale di lunghezza $|I_0 | = |b_0 − a_0 | = 1$. Ricaviamo il numero di iterazioni necessarie come:\n",
    "\n",
    "\\begin{gather}\n",
    "|e_k|\\leq \\dfrac{|I_0|}{2^{k+1}}=\\epsilon\\\\\n",
    "2^{k+1}=\\epsilon^{-1} |I_0|\\\\\n",
    "k=log_2 (\\epsilon^{-1} |I_0|)-1\n",
    "\\end{gather}"
   ]
  },
  {
   "cell_type": "code",
   "execution_count": 40,
   "metadata": {
    "colab": {
     "base_uri": "https://localhost:8080/"
    },
    "id": "lMrPq18F2gIO",
    "outputId": "c8783e90-8142-4498-9626-5733cc446804"
   },
   "outputs": [
    {
     "name": "stdout",
     "output_type": "stream",
     "text": [
      "Numero minimo di iterazioni 16.0\n"
     ]
    }
   ],
   "source": [
    "N_it= np.log2(1.0e5)-1\n",
    "print(\"Numero minimo di iterazioni\", np.ceil(N_it))"
   ]
  },
  {
   "cell_type": "code",
   "execution_count": 41,
   "metadata": {
    "colab": {
     "base_uri": "https://localhost:8080/"
    },
    "id": "pgHoigQxwL4k",
    "outputId": "13a67aa1-5967-479e-976f-4be989e10913"
   },
   "outputs": [
    {
     "name": "stdout",
     "output_type": "stream",
     "text": [
      "Numero iterazioni: 17.\n",
      "Ultimo valore di x: 1.621376\n"
     ]
    }
   ],
   "source": [
    "xvect = bisez(f, 1, 2, 1e-5)\n",
    "print(\"Numero iterazioni: %d.\" % len(xvect))\n",
    "print(\"Ultimo valore di x: %f\" % xvect[-1])\n"
   ]
  },
  {
   "cell_type": "markdown",
   "metadata": {
    "id": "jozf0Flx9CID"
   },
   "source": [
    "Nota: otteniamo 17 e non 16 perché subito dopo il calcolo del punto medio il contatore it nella\n",
    "function viene incrementato. Al valore $v = 1.622368$ corrisponde una densità $\\rho = 0.6164$."
   ]
  },
  {
   "cell_type": "markdown",
   "metadata": {
    "id": "7q27fiqd06E3"
   },
   "source": [
    "### Esercizio 2\n",
    "\n"
   ]
  },
  {
   "cell_type": "markdown",
   "metadata": {
    "id": "RhfoEGPA9CID"
   },
   "source": [
    "*Difficoltà: difficile.*\n",
    "Si consideri il cinematismo in figura e si descriva la posizione del punto finale $P$ utilizzando i due\n",
    "angoli e il sistema di riferimento indicati.\n",
    "\n",
    "![kin.png](kin.png)\n",
    "\n",
    "Imponendo $P = (2.5, 0)$, $L_1 = 2$, $L_2 = 1$, che angoli $\\theta$ e $\\beta$ si ottengono? Risolvere il sistema non-lineare con il metodo di Newton per sistemi per diversi valori della guess iniziale, con tolleranza\n",
    "$\\epsilon= 10^{-6}$. La soluzione è unica? Abbiamo sempre convergenza? Perché?"
   ]
  },
  {
   "cell_type": "markdown",
   "metadata": {
    "id": "7-0FzA9E9CID"
   },
   "source": [
    "La posizione del punto $P$ é descritta dalla seguente legge:\n",
    "\n",
    "\\begin{equation}\n",
    "\\begin{cases}\n",
    "x=L_1\\cos\\theta + L_2\\cos \\beta\\\\\n",
    "y=L_1 \\sin\\theta - L_2 \\sin \\beta\n",
    "\\end{cases}\n",
    "\\end{equation}\n",
    "\n",
    "Se imponiamo valori dati alle coordinate di $P$ otteniamo un sistema nonlineare di due equazioni\n",
    "per le incognite $\\theta$ e $\\beta$, i due gradi di libertà del sistema:\n",
    "\n",
    "\\begin{equation}\n",
    "\\begin{cases}\n",
    "f_1(\\theta, \\beta)=L_1\\cos\\theta + L_2\\cos \\beta-x_P\\\\\n",
    "f_2(\\theta,\\beta)=L_1 \\sin\\theta - L_2 \\sin \\beta - y_P\n",
    "\\end{cases}\n",
    "\\end{equation}\n",
    "\n",
    "Calcoliamo lo Jacobiano:\n",
    "\n",
    "\\begin{equation}\n",
    "J=\\left(\\begin{array}{cc}  -L_1 \\sin\\theta & -L_2\\sin\\beta \\\\ L_1\\cos\\theta & -L_2 \\cos\\beta    \\end{array}\\right)\n",
    "\\end{equation}\n",
    "\n",
    "Definiamo i dati, raggruppando le incognite nel vettore $\\mathbf{x}$:"
   ]
  },
  {
   "cell_type": "code",
   "execution_count": 42,
   "metadata": {
    "id": "TuQ2mFAX9CID"
   },
   "outputs": [],
   "source": [
    "L1 = 2\n",
    "L2 = 1\n",
    "xp = 2.5\n",
    "yp = 0\n",
    "f=lambda x: np.array([L1*np.cos(x[0])+ L2*np.cos(x[1]) - xp , L1*np.sin(x[0])-L2*np.sin(x[1]) - yp])\n",
    "\n",
    "J=lambda x: np.array([[-L1*np.sin(x[0]), -L2*np.sin(x[1])],\n",
    "                    [L1*np.cos(x[0]), -L2*np.cos(x[1]) ] ]  )"
   ]
  },
  {
   "cell_type": "markdown",
   "metadata": {
    "id": "aRBc-L6y9CID"
   },
   "source": [
    "Adattiamo il metodo di Newton al caso di sistemi di equazioni nonlineari:"
   ]
  },
  {
   "cell_type": "code",
   "execution_count": 43,
   "metadata": {
    "id": "EoD7j_yA9CIE"
   },
   "outputs": [],
   "source": [
    "# Definizione del metodo di Newton (questa è già la versione modificata)\n",
    "def newton (f,J,x0,nmax=100,toll=1e-6) :\n",
    "\n",
    "  xold = x0\n",
    "\n",
    "  for nit in range(nmax) :\n",
    "    dx=scipy.linalg.solve(J(xold),f(xold))\n",
    "    # calcolo il nuovo punto\n",
    "    xnew=xold-dx\n",
    "    # criterio di arresto e aggiorno\n",
    "    if (np.linalg.norm(dx) < toll) :\n",
    "        break\n",
    "    else :\n",
    "        xold=xnew\n",
    "\n",
    "  return xold,nit\n"
   ]
  },
  {
   "cell_type": "code",
   "execution_count": 44,
   "metadata": {
    "colab": {
     "base_uri": "https://localhost:8080/"
    },
    "id": "HRzDOvJJ9CIE",
    "outputId": "0fc48e9b-cc74-4ff3-b25c-161991a33818"
   },
   "outputs": [
    {
     "name": "stdout",
     "output_type": "stream",
     "text": [
      "convergo a [0.38976075 0.86321194] in  6  iterazioni\n"
     ]
    }
   ],
   "source": [
    "sol,it=newton (f,J,np.array([0.1,0.1]),100,1.0e-6)\n",
    "print(\"convergo a\",sol, \"in \",it, \" iterazioni\")"
   ]
  },
  {
   "cell_type": "markdown",
   "metadata": {
    "id": "7jiuNJ8h9CIE"
   },
   "source": [
    "Notiamo che con questa scelta dei dati iniziali convergiamo in 6 iterazioni e gli angoli corrispondenti, convertiti in gradi, sono $\\theta=22.2^\\circ$, $\\beta=49.5^\\circ$, mentre, ad esempio, partendo da $\\theta=0$, $\\beta=0$ il metodo si arresta perch\\'e lo jacobiano diventa singolare. Infine, proviamo a partire da una guess iniziale opposta:"
   ]
  },
  {
   "cell_type": "code",
   "execution_count": 45,
   "metadata": {
    "colab": {
     "base_uri": "https://localhost:8080/"
    },
    "id": "OoKm4JtQ9CIE",
    "outputId": "57b68bd7-35fd-4332-8f28-acab2cda7c2b"
   },
   "outputs": [
    {
     "name": "stdout",
     "output_type": "stream",
     "text": [
      "convergo a [-0.38976075 -0.86321194] in  6  iterazioni\n"
     ]
    }
   ],
   "source": [
    "sol,it=newton (f,J,np.array([-0.1,-0.1]),100,1.0e-6)\n",
    "print(\"convergo a\",sol, \"in \",it, \" iterazioni\")"
   ]
  },
  {
   "cell_type": "markdown",
   "metadata": {
    "id": "vK90csA09CIE"
   },
   "source": [
    "Notiamo che la soluzione non \\`e unica, infatti in questo caso otteniamo angoli opposti."
   ]
  },
  {
   "cell_type": "markdown",
   "metadata": {
    "id": "HCqkGcS5yOEK"
   },
   "source": [
    "## Sistemi lineari\n",
    "\n",
    "### Esercizio 3\n",
    "\n",
    "*Difficoltà: media.*\n",
    "\n",
    "Si costruisca la matrice di Vandermonde di dimensione 10 × 10 con il comando np.vander. L’elemento vij di tale matrice è costruito come $v_{ij} = x_i^{n−j−1}$ il numero di righe e xi sono gli elementi del vettore dato in input. La matrice di Vandermonde può essere usata nella costruzione dei polinomi interpolanti su nodi $x_i$ ed è  notoriamente malcondizionata."
   ]
  },
  {
   "cell_type": "code",
   "execution_count": 46,
   "metadata": {
    "id": "-9iCHvN7jUKB"
   },
   "outputs": [],
   "source": [
    "V=np.vander(np.linspace(1,10,10))"
   ]
  },
  {
   "cell_type": "markdown",
   "metadata": {
    "id": "-QeXHEY49CIE"
   },
   "source": [
    "Si costruisca un termine noto $\\mathbf{b}$ tale che la soluzione esatta sia $x_e =(1, 1, 1, 1, \\ldots, 1)^T$ ."
   ]
  },
  {
   "cell_type": "code",
   "execution_count": 47,
   "metadata": {
    "id": "i5vbjef39CIE"
   },
   "outputs": [],
   "source": [
    "xe = np.ones(10).T\n",
    "b=V@xe"
   ]
  },
  {
   "cell_type": "markdown",
   "metadata": {
    "id": "rsWQuQlJ9CIE"
   },
   "source": [
    "Si costruisca ora un termine noto perturbato $\\mathbf{b} + \\delta\\mathbf{b}$ dove la perturbazione $\\delta\\mathbf{b}$ è un vettore di numeri random compresi fra 0 e 0.1. Suggerimento: usare il comando numpy.random.rand(nrows,ncols) e riscalare il vettore ottenuto."
   ]
  },
  {
   "cell_type": "code",
   "execution_count": 48,
   "metadata": {
    "colab": {
     "base_uri": "https://localhost:8080/"
    },
    "id": "L5dHdUUJ9CIE",
    "outputId": "45e21d02-df38-49b6-b24a-fdbd99f5318e"
   },
   "outputs": [
    {
     "name": "stdout",
     "output_type": "stream",
     "text": [
      "[0.02660417 0.02588424 0.08960441 0.0665684  0.04616058 0.0869962\n",
      " 0.06197872 0.05752185 0.07912997 0.01825655]\n"
     ]
    }
   ],
   "source": [
    "db=0.1*np.random.rand(10)\n",
    "print(db)"
   ]
  },
  {
   "cell_type": "markdown",
   "metadata": {
    "id": "tMEtFPoE9CIF"
   },
   "source": [
    "Si risolva il sistema perturbato con la fattorizzazione LU, verificando se è stato eseguito il\n",
    "pivoting. Si calcoli la soluzione $\\mathbf{x} + \\delta\\mathbf{x}$ utilizzando i metodi di sostituzione opportuni."
   ]
  },
  {
   "cell_type": "code",
   "execution_count": 49,
   "metadata": {
    "colab": {
     "base_uri": "https://localhost:8080/"
    },
    "id": "QJ7zXW7b9CIF",
    "outputId": "da1da579-7ecf-46b7-bfcd-6f906534d014"
   },
   "outputs": [
    {
     "name": "stdout",
     "output_type": "stream",
     "text": [
      "Pivoting effettuato\n"
     ]
    }
   ],
   "source": [
    "P, L, U = scipy.linalg.lu(V)\n",
    "# verifica che la matrice è la matrice identità\n",
    "if (P == np.eye(10)).all():\n",
    "    print(\"P=I, no pivoting\")\n",
    "else:\n",
    "    print('Pivoting effettuato')"
   ]
  },
  {
   "cell_type": "markdown",
   "metadata": {
    "id": "00ubTuu99CIF"
   },
   "source": [
    "Copiamo le function per la sostituzione avanti/indietro:"
   ]
  },
  {
   "cell_type": "code",
   "execution_count": 50,
   "metadata": {
    "id": "dF_orI_79CIF"
   },
   "outputs": [],
   "source": [
    "def fwsub(A,b):\n",
    "    n = b.shape[0]\n",
    "    # inizializzo il vettore\n",
    "    x = np.zeros(n)\n",
    "    # costruzione forward substitution\n",
    "    x[0] = b[0]/A[0,0]\n",
    "    for i in range(1,n):\n",
    "        x[i] = (b[i] - A[i,0:i] @ x[0:i]) / A[i,i]\n",
    "    return x\n",
    "\n",
    "def bksub(A,b):\n",
    "    n = b.shape[0]\n",
    "    # inizializzo il vettore\n",
    "    x = np.zeros(n)\n",
    "    # costruzione forward substitution\n",
    "    x[-1] = b[-1]/A[-1,-1]\n",
    "    for i in range(n-2,-1,-1):\n",
    "        x[i] = (b[i] - A[i,i+1:n] @ x[i+1:n]) / A[i,i]\n",
    "    return x"
   ]
  },
  {
   "cell_type": "code",
   "execution_count": 51,
   "metadata": {
    "colab": {
     "base_uri": "https://localhost:8080/"
    },
    "id": "eG_yAUXC9CIF",
    "outputId": "b25e8143-7270-477c-fbbc-290cb644101a"
   },
   "outputs": [
    {
     "name": "stdout",
     "output_type": "stream",
     "text": [
      "[  1.00001072   0.99947602   1.01091395   0.87364681   1.88991274\n",
      "  -2.92231512  11.71852851 -16.3387054   15.93544827  -4.14031232]\n"
     ]
    }
   ],
   "source": [
    "y = fwsub(L, P.T@(b+db))\n",
    "x_pert = bksub(U, y)\n",
    "print(x_pert)"
   ]
  },
  {
   "cell_type": "markdown",
   "metadata": {
    "id": "JeGdVF_J9CIF"
   },
   "source": [
    "Si verifichi se è soddisfatta la stima teorica relativa alla stabilità del metodo di eliminazione\n",
    "di Gauss che prevede che\n",
    "\n",
    "$$\\dfrac{\\|\\delta \\mathbf{x}\\|}{\\|\\mathbf{x}\\|}\\leq K(V) \\dfrac{\\|\\delta \\mathbf{b}\\|}{\\|\\mathbf{b}\\|}$$\n",
    "\n",
    "dove K(V) è il condizionamento della matrice e $\\delta \\mathbf{x}$ si ottiene per differenza con la soluzione\n",
    "esatta (nota)."
   ]
  },
  {
   "cell_type": "code",
   "execution_count": 52,
   "metadata": {
    "colab": {
     "base_uri": "https://localhost:8080/"
    },
    "id": "dIc9XAk-9CIF",
    "outputId": "89eb7ccb-8129-4039-ad2b-00f2b3f74c01"
   },
   "outputs": [
    {
     "name": "stdout",
     "output_type": "stream",
     "text": [
      "la stima è verificata\n",
      "errore relativo= 8.253487560826173\n",
      "KV= 2.1063e+12\n",
      "perturbazione termine noto (normalizzata)= 1.6032544926721194e-10\n"
     ]
    }
   ],
   "source": [
    "rel_err=np.linalg.norm(xe-x_pert)/np.linalg.norm(xe)\n",
    "KV=np.linalg.cond(V)\n",
    "if (rel_err<KV*np.linalg.norm(db)/np.linalg.norm(b)):\n",
    "    print(\"la stima è verificata\")\n",
    "    print(\"errore relativo=\",rel_err)\n",
    "    print(\"KV= %.4e\" %KV)\n",
    "    print(\"perturbazione termine noto (normalizzata)=\",np.linalg.norm(db)/np.linalg.norm(b))\n"
   ]
  },
  {
   "cell_type": "markdown",
   "metadata": {
    "id": "ZaC2PkHh9CIF"
   },
   "source": [
    "### Esercizio 4\n",
    "\n",
    "*Difficoltà: dfficile.*\n",
    "\n",
    "Si consideri la matrice A allegata, da importare con il comando"
   ]
  },
  {
   "cell_type": "code",
   "execution_count": 53,
   "metadata": {
    "id": "v_g6aa2F9CIF"
   },
   "outputs": [],
   "source": [
    "matrix = np.loadtxt('matrice.txt')\n",
    "A=scipy.sparse.coo_matrix((matrix[:,2], (matrix[:,0].T.astype(int),matrix[:,1].T.astype(int)))).toarray()"
   ]
  },
  {
   "cell_type": "markdown",
   "metadata": {
    "id": "9h5s5kBB_7bX"
   },
   "source": [
    "Si costruisca il termine noto b del sistema lineare $A\\mathbf{x} = \\mathbf{b}$ tale che la soluzione esatta sia $\\mathbf{x}_e = [1, 1, ...]^T$ . (Nota: determinare le dimensioni della matrice $A$ con il comando shape."
   ]
  },
  {
   "cell_type": "code",
   "execution_count": 54,
   "metadata": {
    "colab": {
     "base_uri": "https://localhost:8080/"
    },
    "id": "NhiMaNP1AJi-",
    "outputId": "a08922d8-10e9-485e-c782-1b6e00cc741b"
   },
   "outputs": [
    {
     "name": "stdout",
     "output_type": "stream",
     "text": [
      "725\n"
     ]
    }
   ],
   "source": [
    "n,m=np.shape(A)\n",
    "print(n)\n",
    "xe=np.ones(n).T\n",
    "b=A@xe"
   ]
  },
  {
   "cell_type": "markdown",
   "metadata": {
    "id": "TifjqS5kBJqs"
   },
   "source": [
    "Calcolare il numero di condizionamento della matrice."
   ]
  },
  {
   "cell_type": "code",
   "execution_count": 55,
   "metadata": {
    "colab": {
     "base_uri": "https://localhost:8080/"
    },
    "id": "eKuPHqKiBPP-",
    "outputId": "7e9386a7-2f85-4fb0-f0e9-663141755de7"
   },
   "outputs": [
    {
     "name": "stdout",
     "output_type": "stream",
     "text": [
      "12176.579615307353\n"
     ]
    }
   ],
   "source": [
    "K=np.linalg.cond(A)\n",
    "print(K)"
   ]
  },
  {
   "cell_type": "markdown",
   "metadata": {
    "id": "e-txQ53mBMxo"
   },
   "source": [
    "Vogliamo risolvere il sistema lineare con il metodo di Richardson statico. Calcolare il parametro $\\alpha_{max}$ massimo per avere convergenza, e il parametro $\\alpha_{opt}$ che garantisce il raggio spettrale minimo per la matrice di convergenza considerando come precondizionatore la matrice identità."
   ]
  },
  {
   "cell_type": "code",
   "execution_count": 56,
   "metadata": {
    "colab": {
     "base_uri": "https://localhost:8080/"
    },
    "id": "ZGfKbf6XCDzk",
    "outputId": "4ee46aa4-1acc-4f4c-d425-7c711c2be6cb"
   },
   "outputs": [
    {
     "name": "stdout",
     "output_type": "stream",
     "text": [
      "0.32778809021714816 0.32776117287391804\n"
     ]
    }
   ],
   "source": [
    "from scipy.linalg import eigvals\n",
    "lambda_max = np.max(np.abs(eigvals(A)))\n",
    "lambda_min = np.min(np.abs(eigvals(A)))\n",
    "alpha_max = 2/(lambda_max)\n",
    "alpha_opt = 2/(lambda_max+lambda_min)\n",
    "print(alpha_max, alpha_opt)"
   ]
  },
  {
   "cell_type": "markdown",
   "metadata": {
    "id": "rT3495zcCqHX"
   },
   "source": [
    "Implementare una function per risolvere il sistema lineare con il metodo di Richardson. La funzione riceve in input la matrice, il termine noto, la guess iniziale $x_0$ , il precondizionatore $P$, il parametro $\\alpha$, la tolleranza tol e il numero massimo di iterazioni nmax, e restituisce in output il vettore soluzione e il numero di iterazioni effettuate."
   ]
  },
  {
   "cell_type": "code",
   "execution_count": 57,
   "metadata": {
    "id": "xNBhGQu7C3ng"
   },
   "outputs": [],
   "source": [
    "def richardson_solve(A, b, x0, P, alpha, nmax, rtoll):\n",
    "    r = A @ x0 - b\n",
    "    bnorm = np.linalg.norm(b)\n",
    "    k = 0\n",
    "    xiter = [x0]\n",
    "    while( (np.linalg.norm(r)/bnorm) > rtoll and k<nmax):\n",
    "        xold = xiter[-1]\n",
    "        dx = np.linalg.solve(P,alpha*r)\n",
    "        xnew = xold +dx\n",
    "        xiter.append(xnew)\n",
    "        r = b-A @ xnew\n",
    "        k = k+1\n",
    "    return xiter,k"
   ]
  },
  {
   "cell_type": "markdown",
   "metadata": {
    "id": "z-nT63FmD25l"
   },
   "source": [
    "Risolvere il sistema con la function scritta e i seguenti dati: il vettore nullo come guess iniziale, precondizionatore pari alla matrice identità, $\\alpha=\\alpha_{opt}$, nmax=1000 e tol=1.0e-6. Cosa si osserva?\n"
   ]
  },
  {
   "cell_type": "code",
   "execution_count": 58,
   "metadata": {
    "colab": {
     "base_uri": "https://localhost:8080/"
    },
    "id": "19VbdPToEJDV",
    "outputId": "9159475e-19df-49b0-b953-801e61674561"
   },
   "outputs": [
    {
     "name": "stdout",
     "output_type": "stream",
     "text": [
      "1000\n"
     ]
    }
   ],
   "source": [
    "xiter,k = richardson_solve(A,b,np.zeros(n), np.eye(n), alpha_opt, 1000, 1.0e-6)\n",
    "print(k)"
   ]
  },
  {
   "cell_type": "markdown",
   "metadata": {
    "id": "AMr_S_vIH1aE"
   },
   "source": [
    "Osserviamo che il metodo non converge nel numero di iterazioni prescritto. Infatti l'errore relativo è ancora molto alto:"
   ]
  },
  {
   "cell_type": "code",
   "execution_count": 59,
   "metadata": {
    "colab": {
     "base_uri": "https://localhost:8080/"
    },
    "id": "nqZcmarYNFV9",
    "outputId": "9deffad5-544e-48b6-b2a5-092417ba9515"
   },
   "outputs": [
    {
     "name": "stdout",
     "output_type": "stream",
     "text": [
      "0.8445671774800815\n"
     ]
    }
   ],
   "source": [
    "print(np.linalg.norm(xiter[-1]-xe)/np.linalg.norm(xe))"
   ]
  },
  {
   "cell_type": "markdown",
   "metadata": {
    "id": "8qLZHbbrG5Sb"
   },
   "source": [
    "Eseguire la fattorizzazione LU della matrice A e ripetere il punto precedente usando come precondizionatore P = L. Cosa si osserva? Come si spiega questo risultato? (Calcolare il numero di condizionamento di $L^{−1} A$).\n",
    "\n"
   ]
  },
  {
   "cell_type": "code",
   "execution_count": 60,
   "metadata": {
    "colab": {
     "base_uri": "https://localhost:8080/"
    },
    "id": "tIYmAchPHBRI",
    "outputId": "c50f01f7-0fc4-41ae-b537-2fa3bad8da08"
   },
   "outputs": [
    {
     "name": "stdout",
     "output_type": "stream",
     "text": [
      "123\n",
      "372.8575696506422\n"
     ]
    }
   ],
   "source": [
    "PIV, L, U = scipy.linalg.lu(A)\n",
    "P=L\n",
    "P_A=scipy.linalg.solve(P,A)   #calcolo P^-1A sfruttando il fatto che è triangolare\n",
    "lambda_max = np.max(np.abs(eigvals(P_A)))  #ricalcolo gli autovalori e gli alpha\n",
    "lambda_min = np.min(np.abs(eigvals(P_A)))\n",
    "alpha_opt = 2/(lambda_max+lambda_min)\n",
    "xiter,k = richardson_solve(A,b,np.zeros(n), P, alpha_opt, 1000, 1.0e-6)\n",
    "print(k)\n",
    "print(np.linalg.cond(P_A))"
   ]
  },
  {
   "cell_type": "markdown",
   "metadata": {
    "id": "Odbw-KauOhLD"
   },
   "source": [
    "Osserviamo anche che la matrice $P$ non è simmetrica, infatti il condizionamento trovato NON corrisponde al rapporto fra il massimo e minimo autovalore che risulterebbe"
   ]
  },
  {
   "cell_type": "code",
   "execution_count": 61,
   "metadata": {
    "colab": {
     "base_uri": "https://localhost:8080/"
    },
    "id": "QEi7t3-JPBnh",
    "outputId": "1fd5ef48-7d92-426b-dde3-a481c90138dd"
   },
   "outputs": [
    {
     "name": "stdout",
     "output_type": "stream",
     "text": [
      "14.127263857180967\n"
     ]
    }
   ],
   "source": [
    "print(lambda_max/lambda_min)"
   ]
  },
  {
   "cell_type": "markdown",
   "metadata": {
    "id": "cDvzYx3QPRK1"
   },
   "source": [
    "### Esercizio 5\n",
    "\n",
    "*Difficoltà: media.*\n",
    "\n",
    "Si consideri la matrice A allegata, da importare con il comando"
   ]
  },
  {
   "cell_type": "code",
   "execution_count": 62,
   "metadata": {
    "id": "V7TKxm-DPWw8"
   },
   "outputs": [],
   "source": [
    "matrix = np.loadtxt('matrice.txt')\n",
    "A=scipy.sparse.coo_matrix((matrix[:,2], (matrix[:,0].T.astype(int),matrix[:,1].T.astype(int)))).toarray()"
   ]
  },
  {
   "cell_type": "markdown",
   "metadata": {
    "id": "DJGASAaMPb4s"
   },
   "source": [
    "Si costruisca il termine noto $\\mathbf{b}$ del sistema lineare $A\\mathbf{x} = \\mathbf{b}$ tale che la  soluzione esatta sia $\\mathbf{x}_e = [1, 1, ...]^T$. (Nota: determinare le dimensioni della matrice A con il comando shape)."
   ]
  },
  {
   "cell_type": "code",
   "execution_count": 63,
   "metadata": {
    "colab": {
     "base_uri": "https://localhost:8080/"
    },
    "id": "h1gAUif3VA9d",
    "outputId": "084bea41-ddf5-40e9-d3bb-e5f22aebd6ce"
   },
   "outputs": [
    {
     "name": "stdout",
     "output_type": "stream",
     "text": [
      "725\n"
     ]
    }
   ],
   "source": [
    "n,m=np.shape(A)\n",
    "print(n)\n",
    "xe=np.ones(n).T\n",
    "b=A@xe"
   ]
  },
  {
   "cell_type": "markdown",
   "metadata": {
    "id": "kjLUMfThVB6c"
   },
   "source": [
    "Calcolare il numero di condizionamento della matrice."
   ]
  },
  {
   "cell_type": "code",
   "execution_count": 64,
   "metadata": {
    "colab": {
     "base_uri": "https://localhost:8080/"
    },
    "id": "1SJ9PhXgVExk",
    "outputId": "db951a6b-cd8e-47ec-f924-e1565743e1a6"
   },
   "outputs": [
    {
     "name": "stdout",
     "output_type": "stream",
     "text": [
      "12176.579615307353\n"
     ]
    }
   ],
   "source": [
    "K=np.linalg.cond(A)\n",
    "print(K)"
   ]
  },
  {
   "cell_type": "markdown",
   "metadata": {
    "id": "_2ZZNYW6VJ_k"
   },
   "source": [
    "Verificare che la matrice è simmetrica e definita positiva."
   ]
  },
  {
   "cell_type": "code",
   "execution_count": 65,
   "metadata": {
    "colab": {
     "base_uri": "https://localhost:8080/"
    },
    "id": "uMCHCl5BVNV_",
    "outputId": "665b1ce0-872b-458f-e981-cbae188df28f"
   },
   "outputs": [
    {
     "name": "stdout",
     "output_type": "stream",
     "text": [
      "simmetrica? True\n",
      "definita positiva? True\n"
     ]
    }
   ],
   "source": [
    "print(\"simmetrica?\",np.min(np.abs(A-A.T))<1e-15)\n",
    "lambda_min=np.min(eigvals(A))\n",
    "print(\"definita positiva?\",lambda_min>0)\n"
   ]
  },
  {
   "cell_type": "markdown",
   "metadata": {
    "id": "eu75ho6wVvs7"
   },
   "source": [
    "Risolvere il sistema con il metodo del gradiente (gdescent) e i seguenti dati: il vettore nullo come guess iniziale, nmax=1000 e tol=1.0e-6. Cosa si osserva?"
   ]
  },
  {
   "cell_type": "code",
   "execution_count": 66,
   "metadata": {
    "colab": {
     "base_uri": "https://localhost:8080/"
    },
    "id": "39gVxCr-V2Mj",
    "outputId": "1243f735-f07b-4a53-9909-105e4c36cedf"
   },
   "outputs": [
    {
     "name": "stdout",
     "output_type": "stream",
     "text": [
      "Soluzione approssimata (Gradient descent):\n",
      "[1.         0.15643625 0.12177743 0.15636829 0.63682208 0.51241335\n",
      " 0.43707034 0.38426187 0.34397654 0.31163152 0.28448519 0.2619033\n",
      " 0.24271719 0.22599495 0.21177653 0.19944253 0.18898463 0.18028577\n",
      " 0.17303055 0.16712251 0.16243244 0.15934452 0.15731083 0.15653224\n",
      " 0.15603581 0.15506617 0.15372212 0.15200754 0.14991954 0.14761738\n",
      " 0.14514975 0.1425329  0.13975374 0.13702938 0.13438213 0.13188849\n",
      " 0.12957742 0.12746655 0.12560624 0.12402744 0.12302237 0.12226988\n",
      " 0.12229336 0.1230817  0.12419419 0.12569924 0.12751804 0.12955976\n",
      " 0.13183001 0.13434964 0.13700441 0.13961763 0.14226461 0.14483446\n",
      " 0.14731826 0.1496911  0.1517864  0.15350046 0.15483963 0.15589037\n",
      " 0.15644752 0.15728009 0.159338   0.16259271 0.16719239 0.17311709\n",
      " 0.18043622 0.189161   0.19964427 0.21194477 0.22604233 0.24266421\n",
      " 0.26189228 0.28454157 0.3114605  0.34392756 0.38444554 0.43621047\n",
      " 0.51287168 0.63664891 0.17382334 0.40088708 0.16002488 0.12538674\n",
      " 0.15948416 0.15688847 0.12230871 0.15694666 0.65652284 0.24686745\n",
      " 0.17679672 0.13977295 0.16198154 0.16438117 0.12554731 0.15577314\n",
      " 0.39460085 0.15825522 0.12347509 0.1577985  0.49178675 0.15045861\n",
      " 0.19825709 0.14284109 0.22830109 0.30662398 0.13078753 0.15589822\n",
      " 0.17332318 0.16244417 0.12467821 0.1559671  0.42077223 0.44420897\n",
      " 0.16028957 0.12427944 0.1573028  0.16936685 0.12673517 0.15363558\n",
      " 0.36391705 0.53726389 0.15689786 0.12299136 0.15826341 0.15680189\n",
      " 0.12280531 0.15798693 0.55679123 0.17202763 0.15897422 0.29227231\n",
      " 0.13255899 0.19313607 0.15861872 0.15686824 0.19887173 0.24120171\n",
      " 0.13885065 0.20251315 0.14685477 0.20411036 0.13746021 0.14565828\n",
      " 0.24646009 0.1271182  0.15439595 0.16892879 0.3550105  0.47908756\n",
      " 0.12356004 0.15646858 0.15977935 0.43179149 0.15559339 0.12445651\n",
      " 0.16251033 0.15754799 0.12551485 0.16229247 0.39647883 0.15463301\n",
      " 0.16510314 0.12520553 0.40220978 0.15789792 0.12434845 0.15976799\n",
      " 0.44011116 0.17384594 0.17046711 0.21106311 0.14928668 0.19892509\n",
      " 0.14691218 0.1524581  0.21647592 0.18233983 0.15132849 0.1317202\n",
      " 0.29275444 0.34618654 0.16356105 0.16018542 0.12792388 0.27860074\n",
      " 0.1489182  0.13303061 0.18872284 0.22682179 0.14031392 0.14106971\n",
      " 0.22218045 0.28173904 0.13396484 0.16923987 0.16288701 0.37209911\n",
      " 0.12638478 0.16391902 0.15743163 0.20588099 0.13624214 0.14423071\n",
      " 0.25025657 0.12572546 0.16626345 0.15440846 0.38537845 0.12367504\n",
      " 0.1605014  0.15603388 0.47364381 0.45234909 0.12386396 0.16145344\n",
      " 0.1554486  0.24332936 0.14024219 0.17614127 0.16270273 0.19153225\n",
      " 0.17049285 0.17795549 0.16065003 0.18792733 0.13678047 0.25741424\n",
      " 0.15165152 0.26659637 0.15442655 0.13568942 0.18293648 0.2104129\n",
      " 0.15367096 0.14782042 0.16343415 0.14945596 0.21695554 0.18145251\n",
      " 0.19745321 0.14401596 0.21701898 0.14351896 0.21945593 0.20380238\n",
      " 0.24901844 0.13663175 0.14480283 0.32456855 0.12930008 0.1555397\n",
      " 0.17147783 0.15200417 0.17734553 0.12978897 0.31317155 0.15908919\n",
      " 0.16584179 0.12860908 0.3347961  0.19008162 0.14793601 0.13251906\n",
      " 0.28008067 0.13163184 0.16363138 0.16543617 0.30211059 0.15091315\n",
      " 0.30996786 0.1299587  0.17967468 0.13877693 0.14135518 0.21913871\n",
      " 0.23282995 0.37121111 0.16262554 0.15889591 0.12654137 0.12708071\n",
      " 0.15286162 0.17088117 0.35375034 0.12549504 0.1576711  0.16208298\n",
      " 0.39579187 0.37951472 0.12601661 0.15597939 0.1649287  0.12465688\n",
      " 0.41608818 0.15470378 0.16383107 0.16875223 0.16205465 0.18095442\n",
      " 0.20083165 0.1527342  0.14150482 0.23516105 0.19305388 0.18443609\n",
      " 0.17058312 0.1626034  0.16950073 0.14283661 0.1532538  0.2309119\n",
      " 0.20402992 0.22965416 0.18464098 0.14368388 0.15922466 0.16412617\n",
      " 0.17071412 0.13661337 0.26239635 0.19978293 0.2365591  0.14856343\n",
      " 0.1403142  0.27262144 0.14652504 0.19331118 0.13333977 0.19856031\n",
      " 0.15183844 0.21613239 0.20940885 0.15439459 0.20559328 0.1456558\n",
      " 0.14718526 0.16814677 0.15529598 0.12724451 0.35583795 0.19423854\n",
      " 0.15455706 0.13533119 0.14882814 0.13186408 0.26181201 0.17723936\n",
      " 0.29567931 0.26605262 0.15939706 0.13611432 0.17618695 0.30917267\n",
      " 0.15993801 0.16833571 0.13082598 0.25689821 0.13600064 0.14749519\n",
      " 0.28810529 0.19644207 0.13262225 0.15380233 0.17934209 0.21205272\n",
      " 0.24020733 0.14264098 0.13771493 0.184787   0.13097143 0.14907517\n",
      " 0.29535716 0.32120752 0.12904186 0.17746845 0.15097207 0.3213377\n",
      " 0.1297443  0.15927822 0.16750421 0.22856141 0.14063993 0.21624828\n",
      " 0.14312772 0.14048409 0.2138962  0.2299867  0.14365539 0.12747135\n",
      " 0.16661037 0.15675273 0.35101714 0.17675481 0.15295549 0.1301514\n",
      " 0.31118281 0.12697942 0.36215488 0.15981278 0.16238586 0.19609289\n",
      " 0.26792871 0.14625186 0.13378695 0.12833719 0.33225169 0.17504398\n",
      " 0.15182755 0.18696233 0.15789216 0.17923392 0.25784765 0.13716688\n",
      " 0.15985998 0.14390886 0.22961877 0.18353695 0.17759504 0.15226534\n",
      " 0.16846173 0.2532958  0.1383514  0.16758259 0.16876312 0.20789813\n",
      " 0.14724995 0.14371065 0.22208956 0.14634133 0.16269931 0.22179214\n",
      " 0.18292438 0.29434386 0.14862646 0.18520621 0.13115693 0.13322315\n",
      " 0.28618812 0.15760643 0.17475184 0.1748203  0.1766184  0.16541449\n",
      " 0.13817349 0.25328675 0.15688651 0.18222241 0.13727952 0.25331931\n",
      " 0.19273236 0.15024416 0.18956253 0.18749081 0.20166266 0.16952727\n",
      " 0.16283574 0.15428609 0.17679391 0.16205494 0.19258857 0.13935708\n",
      " 0.15130597 0.24329612 0.23591932 0.13872273 0.14284128 0.21426018\n",
      " 0.20927796 0.16101346 0.18735951 0.15216569 0.20855763 0.25466545\n",
      " 0.14447788 0.13552556 0.20253245 0.15449802 0.17207492 0.32683797\n",
      " 0.12892009 0.14712926 0.20610084 0.22695336 0.14237151 0.20282677\n",
      " 0.15343419 0.15734879 0.19377219 0.26374157 0.14691395 0.13463806\n",
      " 0.19641496 0.14936123 0.20773871 0.14925031 0.21695922 0.20745548\n",
      " 0.14638776 0.15086637 0.19927961 0.20547582 0.14512441 0.13798948\n",
      " 0.24271602 0.33282736 0.12849887 0.15321663 0.17331107 0.16374772\n",
      " 0.13423245 0.16854403 0.27925278 0.27205501 0.15171578 0.18653875\n",
      " 0.13437915 0.14656226 0.26227132 0.19557083 0.13478995 0.34837413\n",
      " 0.12774424 0.15756906 0.16621087 0.25016206 0.13754881 0.1485395\n",
      " 0.19577906 0.16464424 0.12640426 0.15688542 0.37316495 0.32884338\n",
      " 0.16241241 0.16317141 0.1291586  0.13077152 0.15697644 0.17198752\n",
      " 0.30823657 0.14606969 0.20636537 0.14017652 0.23449469 0.12827171\n",
      " 0.15280733 0.17325873 0.33396604 0.15339441 0.13175762 0.17671104\n",
      " 0.29263354 0.14074625 0.13910673 0.23085663 0.22089799 0.18507736\n",
      " 0.14958102 0.29092476 0.13156247 0.16917803 0.15708605 0.12920557\n",
      " 0.32540623 0.18124619 0.15864536 0.13991018 0.24416714 0.18382132\n",
      " 0.23213753 0.17673397 0.14337929 0.16467626 0.14769161 0.17493071\n",
      " 0.16859463 0.1660886  0.23059268 0.14397837 0.17532881 0.1685484\n",
      " 0.16769442 0.27071534 0.13506653 0.15553818 0.18024609 0.2198628\n",
      " 0.13427691 0.18692047 0.27265629 0.15090067 0.20446426 0.15749548\n",
      " 0.14764957 0.21733708 0.19021526 0.19374999 0.17162753 0.17626966\n",
      " 0.15784662 0.16357684 0.17158877 0.26283259 0.13669023 0.16508242\n",
      " 0.1840783  0.15727099 0.19446486 0.18830835 0.15912246 0.14861863\n",
      " 0.21460898 0.18056578 0.23761129 0.13851566 0.1433428  0.21139819\n",
      " 0.19896216 0.19941531 0.14943658 0.13891853 0.14063674 0.15319453\n",
      " 0.15075072 0.22551357 0.24724132 0.14364566 0.23608369 0.18923989\n",
      " 0.16455081 0.17220039 0.13863746 0.25096976 0.18318116 0.1306663\n",
      " 0.14985629 0.30517892 0.26938121 0.13546844 0.17432904 0.16008452\n",
      " 0.13084005 0.29963869 0.16517666 0.18065914 0.16498216 0.16082652\n",
      " 0.14968349 0.197064   0.21223909 0.1568159  0.19662487 0.15735286\n",
      " 0.18236379 0.20326041 0.23990101 0.18603619 0.15638439 0.14093619\n",
      " 0.22264144 0.19231292 0.15445272 0.14526627 0.20843036 0.14600725\n",
      " 0.14143293 0.22918566 0.14924475 0.18904729 0.27699037 0.13322604\n",
      " 0.13585533 0.26769079 0.16654666 0.16739599 0.18444992 0.2405902\n",
      " 0.14102864 0.17134885 0.1674462  0.17204056 0.17007428 0.14556964\n",
      " 0.16678412 0.17161088 0.14063264 0.24172141 0.25449431 0.16116495\n",
      " 0.13788156 0.17553584 0.18378793 0.15478995 0.18497101 0.25139236\n",
      " 0.13813874 0.23647716 0.14141324 0.1546201  0.18891937 0.20594\n",
      " 0.14894668 0.2161512  0.14601905 0.16166633 0.17618273 0.17389594\n",
      " 0.22726801 0.14397269 0.15477049 0.19180496 0.18194861 0.15135058\n",
      " 0.2211452  0.19076214 0.14170272 0.17955408 0.23719599 0.16099859\n",
      " 0.18908478 0.14798511 0.1467782  0.1664769  0.17707586]\n"
     ]
    }
   ],
   "source": [
    "from utils import gdescent\n",
    "xg = gdescent(A, b, np.zeros(n), nmax = 1000, rtoll = 1e-6)\n",
    "print(\"Soluzione approssimata (Gradient descent):\")\n",
    "print(xg[-1])"
   ]
  },
  {
   "cell_type": "markdown",
   "metadata": {
    "id": "lizikZO9XDeH"
   },
   "source": [
    "Notiamo che la soluzione è molto lontana da quella esatta, la convergenza è estremamente lenta."
   ]
  },
  {
   "cell_type": "markdown",
   "metadata": {
    "id": "0lOUKONDXK0V"
   },
   "source": [
    "Verificare la stima teorica per l'abbattimento dell'errore con il metodo del gradiente."
   ]
  },
  {
   "cell_type": "markdown",
   "metadata": {
    "id": "lQWRS7vQXbyY"
   },
   "source": [
    "Sappiamo, dalla teoria, che l’errore all’iterazione n-sima soddisfa la seguente stima:\n",
    "\n",
    "$$\\|\\mathbf{e}^k\\|_A<C^k\\|\\mathbf{e}^0\\|_A$$\n",
    "\n",
    "con $C=\\dfrac{K(A)-1}{K(A)+1}$."
   ]
  },
  {
   "cell_type": "code",
   "execution_count": 67,
   "metadata": {
    "colab": {
     "base_uri": "https://localhost:8080/"
    },
    "id": "NNCnsxNQWbis",
    "outputId": "2e094947-e34d-4d26-962d-fa9e3ec28c88"
   },
   "outputs": [
    {
     "name": "stdout",
     "output_type": "stream",
     "text": [
      "la stima è soddisfatta? True\n"
     ]
    }
   ],
   "source": [
    "e0=xg[0]-xe\n",
    "ek=xg[-1]-xe\n",
    "norm_e0=(e0.T@A@e0)**0.5\n",
    "norm_ek=(ek.T@A@ek)**0.5\n",
    "C=(K-1)/(K+1)\n",
    "nit=len(xg)\n",
    "print(\"la stima è soddisfatta?\", norm_ek<C**nit*norm_e0)\n"
   ]
  },
  {
   "cell_type": "markdown",
   "metadata": {
    "id": "osJnSmycZE6s"
   },
   "source": [
    "Ora, risolvere lo stesso problema, con gli stessi dati, utilizzando il metodo del gradiente coniugato allegato di seguito. Il metodo raggiunge la tolleranza desiderata? In quante iterazioni? Verificare che la convergenza soddisfa la stima teorica."
   ]
  },
  {
   "cell_type": "code",
   "execution_count": 85,
   "metadata": {
    "id": "xocRRvpxgynL"
   },
   "outputs": [],
   "source": [
    "def cgdescent(A, b, x0, nmax = 1000, rtoll = 1e-6):\n",
    "  \"\"\"\n",
    "  Metodo del gradiente a parametro dinamico per sistemi lineari.\n",
    "\n",
    "  Input:\n",
    "   A      Matrice del sistema\n",
    "   b      Termine noto (vettore)\n",
    "   x0     Guess iniziale (vettore)\n",
    "   nmax   Numero massimo di iterazioni\n",
    "   toll   Tolleranza sul test d'arresto (sul residuo relativo)\n",
    "\n",
    "  Output:\n",
    "   xiter  Lista delle iterate\n",
    "\n",
    "  \"\"\"\n",
    "  norm = np.linalg.norm\n",
    "\n",
    "  bnorm = norm(b)\n",
    "\n",
    "  r = b - A@x0\n",
    "\n",
    "  xiter = [x0]\n",
    "  iter = 0\n",
    "  z = r\n",
    "\n",
    "  while((norm(r) / bnorm)>rtoll  and iter < nmax):\n",
    "      xold = xiter[-1]\n",
    "\n",
    "      rho = np.dot(r, z)\n",
    "      q = A @ z;\n",
    "      alpha = rho / np.dot(z, q)\n",
    "      xnew = xold + alpha * z\n",
    "      r = r - alpha*q\n",
    "      beta = (r.T @ A @ z)/(z.T @ A @ z)\n",
    "      z = r - beta*z\n",
    "      xiter.append(xnew)\n",
    "      iter = iter + 1\n",
    "\n",
    "  return xiter"
   ]
  },
  {
   "cell_type": "code",
   "execution_count": 86,
   "metadata": {
    "colab": {
     "base_uri": "https://localhost:8080/"
    },
    "id": "WgQ-_MpPZMt0",
    "outputId": "59b6a44e-a4d5-47ef-e203-4043408030ab"
   },
   "outputs": [
    {
     "name": "stdout",
     "output_type": "stream",
     "text": [
      "Soluzione approssimata (Gradient descent):\n",
      "121\n"
     ]
    }
   ],
   "source": [
    "xcg = cgdescent(A, b, np.zeros(n), nmax = 1000, rtoll = 1e-6)\n",
    "print(\"numero di iterazioni:\")\n",
    "print(len(xcg))\n"
   ]
  },
  {
   "cell_type": "markdown",
   "metadata": {
    "id": "HDf-Ac6OhZgP"
   },
   "source": [
    "Il metodo converge in 121 iterazioni. Verifichiamo che il metodo soddisfa:\n",
    "\n",
    "$$\\|\\mathbf{e}^k\\|_A<\\dfrac{2c^k}{1+c^{2k}}\\|\\mathbf{e}^0\\|_A$$\n",
    "\n",
    "con $c=\\dfrac{\\sqrt{K(A)}-1}{\\sqrt{K(A)}+1}$."
   ]
  },
  {
   "cell_type": "code",
   "execution_count": 89,
   "metadata": {
    "colab": {
     "base_uri": "https://localhost:8080/"
    },
    "id": "KBMdc7c9hwCR",
    "outputId": "b000e82d-e8ee-4bf2-b3ea-1f3ec178ec36"
   },
   "outputs": [
    {
     "name": "stdout",
     "output_type": "stream",
     "text": [
      "la stima è soddisfatta? True\n"
     ]
    }
   ],
   "source": [
    "e0=xcg[0]-xe\n",
    "ek=xcg[-1]-xe\n",
    "norm_e0=(e0.T@A@e0)**0.5\n",
    "norm_ek=(ek.T@A@ek)**0.5\n",
    "c=(K**0.5-1)/(K**0.5+1)\n",
    "nit=len(xcg)\n",
    "cost=(c**nit)/(1+c**(2*nit))\n",
    "print(\"la stima è soddisfatta?\", norm_ek<cost*norm_e0)\n"
   ]
  }
 ],
 "metadata": {
  "colab": {
   "provenance": []
  },
  "kernelspec": {
   "display_name": "Python 3 (ipykernel)",
   "language": "python",
   "name": "python3"
  },
  "language_info": {
   "codemirror_mode": {
    "name": "ipython",
    "version": 3
   },
   "file_extension": ".py",
   "mimetype": "text/x-python",
   "name": "python",
   "nbconvert_exporter": "python",
   "pygments_lexer": "ipython3",
   "version": "3.10.12"
  }
 },
 "nbformat": 4,
 "nbformat_minor": 1
}
