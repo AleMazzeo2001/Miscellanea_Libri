{
 "cells": [
  {
   "cell_type": "markdown",
   "metadata": {
    "id": "llsANXkdoywy"
   },
   "source": [
    "# **Esercizi extra - parte 1**\n",
    "\n",
    "In questo notebook troviamo esercizi relativi alla prima parte del programma di numerica, di vario grado di difficoltà (indicato nel testo)."
   ]
  },
  {
   "cell_type": "markdown",
   "metadata": {
    "id": "ApQhYj5zyAUT"
   },
   "source": [
    "# **Zeri di funzioni**"
   ]
  },
  {
   "cell_type": "markdown",
   "metadata": {
    "id": "-XCwkkqB9CIA"
   },
   "source": [
    "### Esercizio 1\n",
    "\n",
    "*Difficoltà: facile.*\n",
    "Secondo l’equazione dei gas perfetti il volume specifico v dell’aria è dato da\n",
    "\n",
    "$v=\\dfrac{T R^\\star}{p}$\n",
    "\n",
    "dove $R^\\star = 287.78\\, J\\, kg^{−1}\\, K^{−1}$ . Per $T = 288\\, K$, $p = 101325\\, Pa$ si ottiene $v = 0.8180$ ossia densitá $\\rho = 1.225\\, kg m^{−3}$. Consideriamo ora la legge dei gas reali\n",
    "\n",
    "$f(v)=\\left(p+\\dfrac{a}{v^2}\\right)(vb-c)-dR^\\star T=0$.\n",
    "\n",
    "con $a = 1.2425e03$, $b = 2.8890e − 05$, $c = 3.8700e − 05$, $d = 1.0e − 5$ (dati non realistici).\n",
    "Risolvere l’equazione dei gas reali con il metodo di bisezione partendo da un intervallo iniziale\n",
    "adeguato. Che densità si ottiene? Calcolare il risultato con un errore massimo di $ϵ = 1.0e − 5$\n",
    "stabilendo a priori il numero di iterazioni necessarie dato l’intervallo scelto.\n"
   ]
  },
  {
   "cell_type": "markdown",
   "metadata": {
    "id": "7q27fiqd06E3"
   },
   "source": [
    "### Esercizio 2\n",
    "\n"
   ]
  },
  {
   "cell_type": "markdown",
   "metadata": {
    "id": "RhfoEGPA9CID"
   },
   "source": [
    "*Difficoltà: difficile.*\n",
    "Si consideri il cinematismo in figura e si descriva la posizione del punto finale $P$ utilizzando i due\n",
    "angoli e il sistema di riferimento indicati.\n",
    "\n",
    "![kin.png](kin.png)\n",
    "\n",
    "Imponendo $P = (2.5, 0)$, $L_1 = 2$, $L_2 = 1$, che angoli $\\theta$ e $\\beta$ si ottengono? Risolvere il sistema non-lineare con il metodo di Newton per sistemi per diversi valori della guess iniziale, con tolleranza\n",
    "$\\epsilon= 10^{-6}$. La soluzione è unica? Abbiamo sempre convergenza? Perché?"
   ]
  },
  {
   "cell_type": "markdown",
   "metadata": {
    "id": "HCqkGcS5yOEK"
   },
   "source": [
    "## Sistemi lineari\n",
    "\n",
    "### Esercizio 3\n",
    "\n",
    "*Difficoltà: media.*\n",
    "\n",
    "Si costruisca la matrice di Vandermonde di dimensione 10 × 10 con il comando np.vander. L’elemento vij di tale matrice è costruito come $v_{ij} = x_i^{n−j−1}$ il numero di righe e xi sono gli elementi del vettore dato in input. La matrice di Vandermonde può essere usata nella costruzione dei polinomi interpolanti su nodi $x_i$ ed è  notoriamente malcondizionata."
   ]
  },
  {
   "cell_type": "code",
   "execution_count": 46,
   "metadata": {
    "id": "-9iCHvN7jUKB"
   },
   "outputs": [],
   "source": [
    "V=np.vander(np.linspace(1,10,10))"
   ]
  },
  {
   "cell_type": "markdown",
   "metadata": {
    "id": "-QeXHEY49CIE"
   },
   "source": [
    "Si costruisca un termine noto $\\mathbf{b}$ tale che la soluzione esatta sia $x_e =(1, 1, 1, 1, \\ldots, 1)^T$ ."
   ]
  },
  {
   "cell_type": "markdown",
   "metadata": {
    "id": "rsWQuQlJ9CIE"
   },
   "source": [
    "Si costruisca ora un termine noto perturbato $\\mathbf{b} + \\delta\\mathbf{b}$ dove la perturbazione $\\delta\\mathbf{b}$ è un vettore di numeri random compresi fra 0 e 0.1. Suggerimento: usare il comando numpy.random.rand(nrows,ncols) e riscalare il vettore ottenuto."
   ]
  },
  {
   "cell_type": "markdown",
   "metadata": {
    "id": "tMEtFPoE9CIF"
   },
   "source": [
    "Si risolva il sistema perturbato con la fattorizzazione LU, verificando se è stato eseguito il\n",
    "pivoting. Si calcoli la soluzione $\\mathbf{x} + \\delta\\mathbf{x}$ utilizzando i metodi di sostituzione opportuni."
   ]
  },
  {
   "cell_type": "markdown",
   "metadata": {
    "id": "JeGdVF_J9CIF"
   },
   "source": [
    "Si verifichi se è soddisfatta la stima teorica relativa alla stabilità del metodo di eliminazione\n",
    "di Gauss che prevede che\n",
    "\n",
    "$$\\dfrac{\\|\\delta \\mathbf{x}\\|}{\\|\\mathbf{x}\\|}\\leq K(V) \\dfrac{\\|\\delta \\mathbf{b}\\|}{\\|\\mathbf{b}\\|}$$\n",
    "\n",
    "dove K(V) è il condizionamento della matrice e $\\delta \\mathbf{x}$ si ottiene per differenza con la soluzione\n",
    "esatta (nota)."
   ]
  },
  {
   "cell_type": "markdown",
   "metadata": {
    "id": "ZaC2PkHh9CIF"
   },
   "source": [
    "### Esercizio 4\n",
    "\n",
    "*Difficoltà: dfficile.*\n",
    "\n",
    "Si consideri la matrice A allegata, da importare con il comando"
   ]
  },
  {
   "cell_type": "code",
   "execution_count": 53,
   "metadata": {
    "id": "v_g6aa2F9CIF"
   },
   "outputs": [],
   "source": [
    "matrix = np.loadtxt('matrice.txt')\n",
    "A=scipy.sparse.coo_matrix((matrix[:,2], (matrix[:,0].T.astype(int),matrix[:,1].T.astype(int)))).toarray()"
   ]
  },
  {
   "cell_type": "markdown",
   "metadata": {
    "id": "9h5s5kBB_7bX"
   },
   "source": [
    "Si costruisca il termine noto b del sistema lineare $A\\mathbf{x} = \\mathbf{b}$ tale che la soluzione esatta sia $\\mathbf{x}_e = [1, 1, ...]^T$ . (Nota: determinare le dimensioni della matrice $A$ con il comando shape."
   ]
  },
  {
   "cell_type": "markdown",
   "metadata": {
    "id": "TifjqS5kBJqs"
   },
   "source": [
    "Calcolare il numero di condizionamento della matrice."
   ]
  },
  {
   "cell_type": "markdown",
   "metadata": {
    "id": "e-txQ53mBMxo"
   },
   "source": [
    "Vogliamo risolvere il sistema lineare con il metodo di Richardson statico. Calcolare il parametro $\\alpha_{max}$ massimo per avere convergenza, e il parametro $\\alpha_{opt}$ che garantisce il raggio spettrale minimo per la matrice di convergenza considerando come precondizionatore la matrice identità."
   ]
  },
  {
   "cell_type": "markdown",
   "metadata": {
    "id": "rT3495zcCqHX"
   },
   "source": [
    "Implementare una function per risolvere il sistema lineare con il metodo di Richardson. La funzione riceve in input la matrice, il termine noto, la guess iniziale $x_0$ , il precondizionatore $P$, il parametro $\\alpha$, la tolleranza tol e il numero massimo di iterazioni nmax, e restituisce in output il vettore soluzione e il numero di iterazioni effettuate."
   ]
  },
  {
   "cell_type": "markdown",
   "metadata": {
    "id": "z-nT63FmD25l"
   },
   "source": [
    "Risolvere il sistema con la function scritta e i seguenti dati: il vettore nullo come guess iniziale, precondizionatore pari alla matrice identità, $\\alpha=\\alpha_{opt}$, nmax=1000 e tol=1.0e-6. Cosa si osserva?\n"
   ]
  },
  {
   "cell_type": "markdown",
   "metadata": {
    "id": "8qLZHbbrG5Sb"
   },
   "source": [
    "Eseguire la fattorizzazione LU della matrice A e ripetere il punto precedente usando come precondizionatore P = L. Cosa si osserva? Come si spiega questo risultato? (Calcolare il numero di condizionamento di $L^{−1} A$).\n",
    "\n"
   ]
  },
  {
   "cell_type": "markdown",
   "metadata": {
    "id": "cDvzYx3QPRK1"
   },
   "source": [
    "### Esercizio 5\n",
    "\n",
    "*Difficoltà: media.*\n",
    "\n",
    "Si consideri la matrice A allegata, da importare con il comando"
   ]
  },
  {
   "cell_type": "code",
   "execution_count": 62,
   "metadata": {
    "id": "V7TKxm-DPWw8"
   },
   "outputs": [],
   "source": [
    "matrix = np.loadtxt('matrice.txt')\n",
    "A=scipy.sparse.coo_matrix((matrix[:,2], (matrix[:,0].T.astype(int),matrix[:,1].T.astype(int)))).toarray()"
   ]
  },
  {
   "cell_type": "markdown",
   "metadata": {
    "id": "DJGASAaMPb4s"
   },
   "source": [
    "Si costruisca il termine noto $\\mathbf{b}$ del sistema lineare $A\\mathbf{x} = \\mathbf{b}$ tale che la  soluzione esatta sia $\\mathbf{x}_e = [1, 1, ...]^T$. (Nota: determinare le dimensioni della matrice A con il comando shape)."
   ]
  },
  {
   "cell_type": "markdown",
   "metadata": {
    "id": "kjLUMfThVB6c"
   },
   "source": [
    "Calcolare il numero di condizionamento della matrice."
   ]
  },
  {
   "cell_type": "markdown",
   "metadata": {
    "id": "_2ZZNYW6VJ_k"
   },
   "source": [
    "Verificare che la matrice è simmetrica e definita positiva."
   ]
  },
  {
   "cell_type": "markdown",
   "metadata": {
    "id": "eu75ho6wVvs7"
   },
   "source": [
    "Risolvere il sistema con il metodo del gradiente (gdescent) e i seguenti dati: il vettore nullo come guess iniziale, nmax=1000 e tol=1.0e-6. Cosa si osserva?"
   ]
  },
  {
   "cell_type": "markdown",
   "metadata": {
    "id": "lizikZO9XDeH"
   },
   "source": [
    "Notiamo che la soluzione è molto lontana da quella esatta, la convergenza è estremamente lenta."
   ]
  },
  {
   "cell_type": "markdown",
   "metadata": {
    "id": "0lOUKONDXK0V"
   },
   "source": [
    "Verificare la stima teorica per l'abbattimento dell'errore con il metodo del gradiente."
   ]
  },
  {
   "cell_type": "markdown",
   "metadata": {
    "id": "osJnSmycZE6s"
   },
   "source": [
    "Ora, risolvere lo stesso problema, con gli stessi dati, utilizzando il metodo del gradiente coniugato allegato di seguito. Il metodo raggiunge la tolleranza desiderata? In quante iterazioni? Verificare che la convergenza soddisfa la stima teorica."
   ]
  },
  {
   "cell_type": "code",
   "execution_count": 85,
   "metadata": {
    "id": "xocRRvpxgynL"
   },
   "outputs": [],
   "source": [
    "def cgdescent(A, b, x0, nmax = 1000, rtoll = 1e-6):\n",
    "  \"\"\"\n",
    "  Metodo del gradiente a parametro dinamico per sistemi lineari.\n",
    "\n",
    "  Input:\n",
    "   A      Matrice del sistema\n",
    "   b      Termine noto (vettore)\n",
    "   x0     Guess iniziale (vettore)\n",
    "   nmax   Numero massimo di iterazioni\n",
    "   toll   Tolleranza sul test d'arresto (sul residuo relativo)\n",
    "\n",
    "  Output:\n",
    "   xiter  Lista delle iterate\n",
    "\n",
    "  \"\"\"\n",
    "  norm = np.linalg.norm\n",
    "\n",
    "  bnorm = norm(b)\n",
    "\n",
    "  r = b - A@x0\n",
    "\n",
    "  xiter = [x0]\n",
    "  iter = 0\n",
    "  z = r\n",
    "\n",
    "  while((norm(r) / bnorm)>rtoll  and iter < nmax):\n",
    "      xold = xiter[-1]\n",
    "\n",
    "      rho = np.dot(r, z)\n",
    "      q = A @ z;\n",
    "      alpha = rho / np.dot(z, q)\n",
    "      xnew = xold + alpha * z\n",
    "      r = r - alpha*q\n",
    "      beta = (r.T @ A @ z)/(z.T @ A @ z)\n",
    "      z = r - beta*z\n",
    "      xiter.append(xnew)\n",
    "      iter = iter + 1\n",
    "\n",
    "  return xiter"
   ]
  }
 ],
 "metadata": {
  "colab": {
   "provenance": []
  },
  "kernelspec": {
   "display_name": "Python 3 (ipykernel)",
   "language": "python",
   "name": "python3"
  },
  "language_info": {
   "codemirror_mode": {
    "name": "ipython",
    "version": 3
   },
   "file_extension": ".py",
   "mimetype": "text/x-python",
   "name": "python",
   "nbconvert_exporter": "python",
   "pygments_lexer": "ipython3",
   "version": "3.10.12"
  }
 },
 "nbformat": 4,
 "nbformat_minor": 1
}
