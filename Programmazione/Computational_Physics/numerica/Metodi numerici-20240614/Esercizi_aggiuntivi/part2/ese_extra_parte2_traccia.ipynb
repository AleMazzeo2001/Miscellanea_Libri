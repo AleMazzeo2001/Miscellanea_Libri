{
 "cells": [
  {
   "cell_type": "markdown",
   "metadata": {
    "id": "llsANXkdoywy"
   },
   "source": [
    "# **Esercizi extra - parte 2**\n",
    "\n",
    "In questo notebook troviamo esercizi relativi alla prima parte del programma di numerica, di vario grado di difficoltà (indicato nel testo)."
   ]
  },
  {
   "cell_type": "markdown",
   "metadata": {
    "id": "ApQhYj5zyAUT"
   },
   "source": [
    "# **Interpolazione**"
   ]
  },
  {
   "cell_type": "markdown",
   "metadata": {
    "id": "-XCwkkqB9CIA"
   },
   "source": [
    "### Esercizio 1\n",
    "\n",
    "*Difficoltà: facile.*\n",
    "\n",
    "Abbiamo a disposizione il valore della resistenza aerodinamica (drag) di un veicolo per diversi\n",
    "valori della velocità. I dati sono salvati come v e D nel file drag.txt e possono essere caricati\n",
    "con il comando numpy.loadtxt. "
   ]
  },
  {
   "cell_type": "code",
   "execution_count": 1,
   "metadata": {
    "id": "PKbcc2ajW9r-"
   },
   "outputs": [
    {
     "data": {
      "image/png": "[encoded data removed]",
      "text/plain": [
       "<Figure size 432x288 with 1 Axes>"
      ]
     },
     "metadata": {
      "needs_background": "light"
     },
     "output_type": "display_data"
    }
   ],
   "source": [
    "# step 0 -> ricordarsi di importare i pacchetti numpy and matplotlib\n",
    "\n",
    "import numpy as np\n",
    "import scipy.linalg\n",
    "import matplotlib.pyplot as plt\n",
    "data = np.loadtxt('drag.txt')\n",
    "\n",
    "# rappresentazione grafica\n",
    "plt.plot(data[:,0], data[:,1],'bo',linewidth=2.0)\n",
    "# specifiche grafiche titolo, legenda, grid,\n",
    "plt.title(\"Drag\")\n",
    "plt.xlabel('v')\n",
    "plt.ylabel('D')\n",
    "plt.grid()\n",
    "plt.show()"
   ]
  },
  {
   "cell_type": "markdown",
   "metadata": {
    "id": "M0MHzFKo9CIB"
   },
   "source": [
    "Calcolare il polinomio ai minimi quadrati che approssima i dati forniti, scegliendo il grado\n",
    "polinomiale pari a 1, 2 e 3."
   ]
  },
  {
   "cell_type": "code",
   "execution_count": null,
   "metadata": {},
   "outputs": [],
   "source": []
  },
  {
   "cell_type": "markdown",
   "metadata": {},
   "source": [
    "Rappresentare i dati forniti e le tre curve approssimanti calcolate al punto precedente sulla\n",
    "stessa figura. Cosa si osserva?"
   ]
  },
  {
   "cell_type": "code",
   "execution_count": null,
   "metadata": {},
   "outputs": [],
   "source": []
  },
  {
   "cell_type": "markdown",
   "metadata": {},
   "source": [
    "Per un’analisi più quantitativa, per i tre casi considerati calcolare la quantità\n",
    "$$e^2= \\displaystyle \\sum_{i=0}^N (D_i - \\pi_m(v_i))^2$$\n",
    "dove $\\pi_m$ indica l'approssimante ai minimi quadrati di grado $m$, nel nostro caso $m=1,2,3$, e $N+1$ \\`e il numero di punti. "
   ]
  },
  {
   "cell_type": "code",
   "execution_count": null,
   "metadata": {},
   "outputs": [],
   "source": []
  },
  {
   "cell_type": "markdown",
   "metadata": {},
   "source": [
    "Notiamo che passando da $m=1$ a $m=2$ si ottieneun netto miglioramento, mentre non si notano grandi miglioramenti passando al grado 3. Infatti, il grado 2 rispecchia la dipendenza \"reale\" della resistenza dalla velocità. "
   ]
  },
  {
   "cell_type": "markdown",
   "metadata": {},
   "source": [
    "# **Interpolazione**"
   ]
  },
  {
   "cell_type": "markdown",
   "metadata": {},
   "source": [
    "### Esercizio 2\n",
    "\n",
    "*Difficoltà: facile.*\n",
    "\n",
    "Si consideri la seguente funzione:\n",
    "\n",
    "$$r(x) = \\dfrac{1}{2}+  \\dfrac{1}{2} \\sin(2\\pi x)(1-x)$$\n",
    "\n",
    "che descrive, per $a\\leq x\\leq b$, il raggio di un solido di rotazione il cui asse coincide con l'asse $x$ (si veda la figura)\n",
    "\n",
    "![vaso.png](vaso.png)\n",
    "\n",
    "Fissati $a=0$, $b=1$, vogliamo calcolarne il volume."
   ]
  },
  {
   "cell_type": "markdown",
   "metadata": {},
   "source": [
    "Definire la funzione da integrare."
   ]
  },
  {
   "cell_type": "code",
   "execution_count": null,
   "metadata": {},
   "outputs": [],
   "source": []
  },
  {
   "cell_type": "markdown",
   "metadata": {},
   "source": [
    "Calcolare il volume del solido con un metodo numerico a scelta, utilizzando $N = 10$ intervalli."
   ]
  },
  {
   "cell_type": "code",
   "execution_count": null,
   "metadata": {},
   "outputs": [],
   "source": []
  },
  {
   "cell_type": "markdown",
   "metadata": {},
   "source": [
    "Ripetere il calcolo con N = 20, N = 40, N = 80. Si commenti il risultato ottenuto."
   ]
  },
  {
   "cell_type": "markdown",
   "metadata": {},
   "source": [
    "### Esercizio 3\n",
    "\n",
    "*Difficoltà: facile.*\n",
    "\n",
    "Abbiamo a disposizione il valore della velocità di un veicolo in funzione del tempo. I dati sono salvati come t (tempo) e v (velocità) nel file speed.txt e possono essere caricati con il comando numpy.loadtxt. "
   ]
  },
  {
   "cell_type": "code",
   "execution_count": 2,
   "metadata": {
    "scrolled": true
   },
   "outputs": [
    {
     "data": {
      "image/png": "[encoded data removed]",
      "text/plain": [
       "<Figure size 432x288 with 1 Axes>"
      ]
     },
     "metadata": {
      "needs_background": "light"
     },
     "output_type": "display_data"
    }
   ],
   "source": [
    "# step 0 -> ricordarsi di importare i pacchetti numpy and matplotlib\n",
    "\n",
    "import numpy as np\n",
    "import scipy.linalg\n",
    "import matplotlib.pyplot as plt\n",
    "data = np.loadtxt('speed.txt')\n",
    "\n",
    "# rappresentazione grafica\n",
    "plt.plot(data[:,0], data[:,1],'bo',linewidth=2.0)\n",
    "# specifiche grafiche titolo, legenda, grid,\n",
    "plt.title(\"Velocità\")\n",
    "plt.xlabel('t')\n",
    "plt.ylabel('v')\n",
    "plt.grid()\n",
    "plt.show()"
   ]
  },
  {
   "cell_type": "markdown",
   "metadata": {},
   "source": [
    "Vogliamo calcolare lo spazio percorso integrando numericamente la velocità istantanea. \n",
    "Determinare, a partire dal vettore di tempi $t$, l’intervallo $t ∈ [t_{min} , t_{max} ]$ e il numero di\n",
    "sottointervalli."
   ]
  },
  {
   "cell_type": "code",
   "execution_count": null,
   "metadata": {},
   "outputs": [],
   "source": []
  },
  {
   "cell_type": "markdown",
   "metadata": {},
   "source": [
    "Dato che la velocità istantanea non è fornita come funzione, ma solo attraverso i suoi valori in alcuni istanti discreti, implementare una versione modificata del metodo dei trapezi (composito) che possa ricevere in ingresso tale input."
   ]
  },
  {
   "cell_type": "code",
   "execution_count": null,
   "metadata": {},
   "outputs": [],
   "source": []
  },
  {
   "cell_type": "markdown",
   "metadata": {},
   "source": [
    "Chiamiamo la function fornendo in input i dati caricati."
   ]
  },
  {
   "cell_type": "code",
   "execution_count": null,
   "metadata": {},
   "outputs": [],
   "source": []
  },
  {
   "cell_type": "markdown",
   "metadata": {},
   "source": [
    "Approssimare i dati forniti con un polinomio ai minimi quadrati di grado 4."
   ]
  },
  {
   "cell_type": "code",
   "execution_count": null,
   "metadata": {},
   "outputs": [],
   "source": []
  },
  {
   "cell_type": "markdown",
   "metadata": {},
   "source": [
    "Costruire la corrisponente funzione e integrarla con la function trapcomp fornita a lezione. Confrontare il risultato ottenuto con quello del punto precedente."
   ]
  },
  {
   "cell_type": "code",
   "execution_count": null,
   "metadata": {},
   "outputs": [],
   "source": []
  },
  {
   "cell_type": "markdown",
   "metadata": {},
   "source": [
    "# **Approssimazione di derivate**"
   ]
  },
  {
   "cell_type": "markdown",
   "metadata": {},
   "source": [
    "### Esercizio 4\n",
    "\n",
    "*Difficoltà: facile.*\n",
    "\n",
    "Consideriamo la seguente legge del moto\n",
    "\n",
    "$$s(t) = \\exp\\left(-\\frac{t}{10}\\right)\\cos(t)$$\n",
    "\n",
    "dove s rappresenta la posizione di un corpo lungo una linea in funzione del tempo. Consideriamo\n",
    "l’intervallo di tempo $t \\in [0, 10]$.\n",
    "\n",
    "Suddividere l’intervallo di tempo con un passo $h = 0.5$ e calcolare la derivata prima approssimata $\\delta s$ in tutti i punti $t_i = ih$. Utilizzare una differenza finita centrata dove è possibile.\n"
   ]
  },
  {
   "cell_type": "code",
   "execution_count": null,
   "metadata": {},
   "outputs": [],
   "source": []
  },
  {
   "cell_type": "markdown",
   "metadata": {},
   "source": [
    "Rappresentare il risultato ottenuto in funzione del tempo e confrontarlo con l’espressione analitica $s^\\prime(t)$ della derivata."
   ]
  },
  {
   "cell_type": "code",
   "execution_count": null,
   "metadata": {},
   "outputs": [],
   "source": []
  },
  {
   "cell_type": "markdown",
   "metadata": {},
   "source": [
    "Calcolare l'errore come \n",
    "$$e=\\displaystyle\\max_{i=0}^{N_{step}}|s^\\prime(t_i)-\\delta s(t_i)|$$"
   ]
  },
  {
   "cell_type": "code",
   "execution_count": null,
   "metadata": {},
   "outputs": [],
   "source": []
  },
  {
   "cell_type": "markdown",
   "metadata": {},
   "source": [
    "Ripetere il punto precedente utilizzando h = 0.25 (pari a metà del passo usato\n",
    "precedetemente). Cosa si osserva? Perché?"
   ]
  },
  {
   "cell_type": "code",
   "execution_count": null,
   "metadata": {},
   "outputs": [],
   "source": []
  },
  {
   "cell_type": "markdown",
   "metadata": {},
   "source": [
    "# **Equazioni differenziali ordinarie**"
   ]
  },
  {
   "cell_type": "markdown",
   "metadata": {},
   "source": [
    "### Esercizio 5\n",
    "\n",
    "*Difficoltà: media.*\n",
    "\n",
    "Si considerino le equazioni di Lotka-Volterra che rappresentano la dinamica delle popolazioni di\n",
    "preda e predatore.\n",
    "\n",
    "$$\\begin{cases}\n",
    "y_1^\\prime = A y_1 -B y_1y_2\\\\\n",
    "y_2^\\prime = C y_1y_2 - D y_2 \n",
    "\\end{cases}$$\n",
    "\n",
    "dove $y_1$ rappresenta il numero di individui della specie ”prede” (es. conigli) mentre $y_2$ rappresenta i predatori (es. volpi) in un ecosistema. I coefficienti A, B, C, D sono numeri reali positivi.\n",
    "Nella prima equazione il termine $Ay_1$ indica la crescita dovuta alla riproduzione, mentre il termine $By_1 y_2$ rappresenta la riduzione dovuta alla predazione; nella seconda equazione il termine $Cy_1 y_2$ rappresenta la predazione, ed è un termine che per i predatori determina una crescita (disponibilità di cibo), mentre il termine $Dy_2$ rappresenta la competizione fra predatori. Per semplicità, prendiamo A = D = 1, B = C = 0.1."
   ]
  },
  {
   "cell_type": "markdown",
   "metadata": {},
   "source": [
    "Scegliendo come condizioni iniziali $y_0 = [50, 5]^T$ e come tempo finale $T_{end} = 20$, risolvere\n",
    "il sistema di ODE utilizzando il metodo ode45 di Matlab e rappresentare la soluzione."
   ]
  },
  {
   "cell_type": "markdown",
   "metadata": {},
   "source": [
    "Notiamo che in questo caso abbiamo un sistema, quindi la forzante $f$ dovrà essere definita come un vettore."
   ]
  },
  {
   "cell_type": "code",
   "execution_count": 3,
   "metadata": {},
   "outputs": [],
   "source": [
    "import numpy as np\n",
    "from scipy.integrate import RK45\n"
   ]
  },
  {
   "cell_type": "markdown",
   "metadata": {},
   "source": [
    "Risolvere lo stesso sistema, con gli stessi dati, utilizzando il metodo di Eulero esplicito\n",
    "utilizzando un passo temporale pari a 0.1, 0.01 e 0.001. Commentare qualitativamente i\n",
    "risultati ottenuti."
   ]
  },
  {
   "cell_type": "code",
   "execution_count": null,
   "metadata": {
    "scrolled": true
   },
   "outputs": [],
   "source": [
    "\n",
    "            \n"
   ]
  },
  {
   "cell_type": "markdown",
   "metadata": {},
   "source": [
    "### Esercizio 6\n",
    "\n",
    "*Difficoltà: difficile.*\n",
    "\n",
    "Si consideri il problema dell’esercizio precedente. Vogliamo risolvere il sistema di equazioni\n",
    "differenziali non-lineari usando il metodo di Eulero Implicito, utilizzando il metodo di Newton\n",
    "per risolvere il sistema nonlineare che corrisponde a ogni step temporale."
   ]
  },
  {
   "cell_type": "markdown",
   "metadata": {},
   "source": [
    "Definire la funzione df che contiene le derivate del termine forzante rispetto alle componenti\n",
    "di $y$. Osserviamo che si tratta di una matrice 2 × 2."
   ]
  },
  {
   "cell_type": "code",
   "execution_count": null,
   "metadata": {},
   "outputs": [],
   "source": [
    "import numpy as np\n",
    "import scipy as sp\n",
    "from scipy.integrate import RK45\n",
    "import matplotlib.pyplot as plt\n",
    "\n",
    "# Dati del problema\n",
    "t0 = 0\n",
    "t_max = 20\n",
    "y_ini = [50.,5.]\n",
    "A = 1\n",
    "B = 0.1\n",
    "C = 0.1\n",
    "D = 1\n",
    "\n",
    "#forzante\n",
    "#f = lambda t,y: "
   ]
  },
  {
   "cell_type": "markdown",
   "metadata": {},
   "source": [
    "Partendo dal codice utilizzato al punto precedente, implementare il metodo di Newton per la soluzione di ogni step temporale (introducendo un ciclo while all’interno del ciclo temporale). Suggerimento: lo jacobiano dipende anche, ma non solo, dalla funzione definita al punto 1."
   ]
  },
  {
   "cell_type": "code",
   "execution_count": null,
   "metadata": {},
   "outputs": [],
   "source": [
    "#df = lambda t,y:"
   ]
  },
  {
   "cell_type": "markdown",
   "metadata": {},
   "source": [
    "Ad ogni istante di tempo dobbiamo impostare un ciclo while e risolvere il seguente sistema lineare a ogni iterazione k fino a convergenza:\n",
    "$$J(\\mathbf{y}^{n+1,k+1} − \\mathbf{y}^{n+1,k} ) = −\\mathbf{r}(t^{n+1} , \\mathbf{y}^{n+1,k })$$\n",
    "dove il residuo $\\mathbf{r}$ è\n",
    "$$\\mathbf{r}^{n+1,k} = \\mathbf{y}^{n+1,k} − \\mathbf{y}^n −\\Delta t \\mathbf{f} (t^{n+1} , \\mathbf{y}^{n+1,k} ).$$\n",
    "Per verificare la convergenza possiamo confrontare la norma del residuo con una tolleranza,\n",
    "$$\\|\\mathbf{r}^{n+1,k}\\|< \\epsilon$$"
   ]
  },
  {
   "cell_type": "code",
   "execution_count": null,
   "metadata": {},
   "outputs": [],
   "source": [
    "def newton_for_sys(x0,t,f,J,toll, maxit):\n",
    "    "
   ]
  },
  {
   "cell_type": "markdown",
   "metadata": {},
   "source": [
    "Dopo avere implementato il metodo di Newton per sistemi impostiamo un ciclo per ripetere il calcolo per tre valori di $\\Delta t=[0.1, 0.01, 0.001]$. Per ognuno ricaviamo il corrispondente numero di intervalli temporali e impostiamo il ciclo in tempo: ad ogni istante temporale e invochiamo il metodo di Newton implementato per risolvere il problema nonlineare. Attenzione: la funzione di cui cerchiamo lo zero con Newton non è $\\mathbf{f}$, ma il residuo, che dipende anche da $\\mathbf{y}^{n}$ e dalla lunghezza del passo $\\Delta t$.\n",
    "Per ogni caso salviamo e rappresentiamo anche le iterazioni di Newton."
   ]
  },
  {
   "cell_type": "code",
   "execution_count": null,
   "metadata": {},
   "outputs": [],
   "source": [
    "for dt in [0.1, 0.01, 0.001]:\n",
    "    \n"
   ]
  },
  {
   "cell_type": "code",
   "execution_count": null,
   "metadata": {},
   "outputs": [],
   "source": []
  },
  {
   "cell_type": "code",
   "execution_count": null,
   "metadata": {},
   "outputs": [],
   "source": []
  }
 ],
 "metadata": {
  "colab": {
   "provenance": []
  },
  "kernelspec": {
   "display_name": "Python 3 (ipykernel)",
   "language": "python",
   "name": "python3"
  },
  "language_info": {
   "codemirror_mode": {
    "name": "ipython",
    "version": 3
   },
   "file_extension": ".py",
   "mimetype": "text/x-python",
   "name": "python",
   "nbconvert_exporter": "python",
   "pygments_lexer": "ipython3",
   "version": "3.10.12"
  }
 },
 "nbformat": 4,
 "nbformat_minor": 1
}
